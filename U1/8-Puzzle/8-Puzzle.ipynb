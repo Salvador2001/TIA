{
 "cells": [
  {
   "cell_type": "markdown",
   "metadata": {},
   "source": [
    "# 8-Puzzle\n",
    "\n",
    "Estructura del nodo:\n",
    "\n",
    "[1,2,3,4,5,6,7,8,0] <-- Ejemplo de meta\n",
    "\n",
    "meta[n-1] donde n es el elemento de la lista, tiene que coincidir con el índice de la lista.<br>\n",
    "Por ejemplo, if meta[n-1] and n=3 -> meta[x,x,n,x,x,x,x,...] debería ser correcto, ya que n=3 y está en la posición 3."
   ]
  },
  {
   "cell_type": "code",
   "execution_count": 1,
   "metadata": {},
   "outputs": [],
   "source": [
    "#Función para verificar si se cumple la condición de llegar a meta\n",
    "def criterioAceptacion(posicion, meta):\n",
    "  return posicion == meta"
   ]
  },
  {
   "cell_type": "code",
   "execution_count": 2,
   "metadata": {},
   "outputs": [
    {
     "name": "stdout",
     "output_type": "stream",
     "text": [
      "False\n",
      "True\n"
     ]
    }
   ],
   "source": [
    "print(criterioAceptacion([1,0,3,4,5,6,7,8,2], [1,2,3,4,5,6,7,8,0]))\n",
    "print(criterioAceptacion([1,2,3,4,5,6,7,8,0], [1,2,3,4,5,6,7,8,0]))"
   ]
  },
  {
   "cell_type": "markdown",
   "metadata": {},
   "source": [
    "Para generar soluciones, en este caso se revisará cada posición de la lista (9 checks), y cada check puede tener 2 o 3 if, ya que de momento no se me ocurre otra manera más optimizada."
   ]
  },
  {
   "cell_type": "code",
   "execution_count": 3,
   "metadata": {},
   "outputs": [],
   "source": [
    "#Función que permite generar todas las posibles soluciones\n",
    "#En este caso genera todos los posibles movimientos del estado actual\n",
    "def generarSoluciones(actual):\n",
    "    soluciones = []\n",
    "    # Encuentra la posición del espacio vacío (0)\n",
    "    pos_vacio = actual.index(0)\n",
    "    fila, col = divmod(pos_vacio, 3)  # Calcula fila y columna\n",
    "\n",
    "    # Definir los posibles movimientos (derecha, izquierda, abajo, arriba)\n",
    "    movimientos = {\n",
    "        'derecha': (0, 1),\n",
    "        'izquierda': (0, -1),\n",
    "        'abajo': (1, 0),\n",
    "        'arriba': (-1, 0)\n",
    "    }\n",
    "\n",
    "    for direccion, (df, dc) in movimientos.items():\n",
    "        nueva_fila = fila + df\n",
    "        nueva_col = col + dc\n",
    "\n",
    "        # Comprobar si el movimiento es válido\n",
    "        if 0 <= nueva_fila < 3 and 0 <= nueva_col < 3:\n",
    "            # Crear un nuevo estado al mover el espacio vacío\n",
    "            nuevo_pos_vacio = nueva_fila * 3 + nueva_col\n",
    "            # Copiar el estado actual\n",
    "            sol = actual[:]\n",
    "            # Intercambiar el espacio vacío con la ficha adyacente\n",
    "            sol[pos_vacio], sol[nuevo_pos_vacio] = sol[nuevo_pos_vacio], sol[pos_vacio]\n",
    "            soluciones.append(sol)\n",
    "\n",
    "    return soluciones"
   ]
  },
  {
   "cell_type": "code",
   "execution_count": 4,
   "metadata": {},
   "outputs": [
    {
     "data": {
      "text/plain": [
       "[[1, 2, 3, 4, 5, 6, 7, 0, 8], [1, 2, 3, 4, 5, 0, 7, 8, 6]]"
      ]
     },
     "execution_count": 4,
     "metadata": {},
     "output_type": "execute_result"
    }
   ],
   "source": [
    "generarSoluciones([1,2,3,4,5,6,7,8,0])"
   ]
  },
  {
   "cell_type": "code",
   "execution_count": 5,
   "metadata": {},
   "outputs": [],
   "source": [
    "def BFS(frontera_act, visitados, meta):\n",
    "    n_iteraciones = 0\n",
    "    frontera = frontera_act[:]\n",
    "    \n",
    "    while frontera:\n",
    "        n_iteraciones += 1\n",
    "        cabeza = frontera.pop(0)\n",
    "\n",
    "        if tuple(cabeza) in visitados:\n",
    "            visitados.add(tuple(cabeza))  # Usamos un conjunto para los visitados\n",
    "            \n",
    "            # Si cumple con el criterio de aceptación, se ha llegado a la meta\n",
    "        if criterioAceptacion(cabeza, meta):\n",
    "            print(\"Se ha llegado a la meta: {}\".format(cabeza))\n",
    "            print(\"Número de iteraciones: {}\".format(n_iteraciones))\n",
    "            return cabeza\n",
    "\n",
    "        print(\"Recorriendo, actualmente en: {}\".format(cabeza))\n",
    "        nuevas_soluciones = [sol for sol in generarSoluciones(cabeza) if tuple(sol) not in visitados]\n",
    "        print(\"Nuevas soluciones: {}\".format(nuevas_soluciones))\n",
    "        frontera.extend(nuevas_soluciones)  # Agregamos nuevas soluciones al final\n",
    "\n",
    "    print(\"No se encontró solución.\")\n",
    "    print(\"Número de iteraciones: {}\".format(n_iteraciones))\n",
    "    return []"
   ]
  },
  {
   "cell_type": "code",
   "execution_count": 6,
   "metadata": {},
   "outputs": [],
   "source": [
    "#Función que utiliza todos las funciones creadas para hacer la simulación\n",
    "def play_bfs():\n",
    "  inicio = [1,2,3,4,5,7,6,8,0]\n",
    "  meta = [1,2,3,4,5,6,7,8,0]\n",
    "  visitados, solucion = set(), []\n",
    "  solBFS = BFS([inicio], visitados, meta)\n",
    "  print(\"Cantidad recorrida con BFS: {}\".format(len(solBFS)))\n",
    "  print(\"Recorrido: {}\".format(solBFS))\n",
    "  if len(solBFS) == 0:\n",
    "    print(\"No se encontro solucion\")\n",
    "    return"
   ]
  },
  {
   "cell_type": "code",
   "execution_count": 2,
   "metadata": {},
   "outputs": [
    {
     "ename": "NameError",
     "evalue": "name 'BFS' is not defined",
     "output_type": "error",
     "traceback": [
      "\u001b[0;31m---------------------------------------------------------------------------\u001b[0m",
      "\u001b[0;31mNameError\u001b[0m                                 Traceback (most recent call last)",
      "Cell \u001b[0;32mIn[2], line 2\u001b[0m\n\u001b[1;32m      1\u001b[0m \u001b[38;5;66;03m#no ejecutar\u001b[39;00m\n\u001b[0;32m----> 2\u001b[0m \u001b[43mplay_bfs\u001b[49m\u001b[43m(\u001b[49m\u001b[43m)\u001b[49m\n",
      "Cell \u001b[0;32mIn[1], line 6\u001b[0m, in \u001b[0;36mplay_bfs\u001b[0;34m()\u001b[0m\n\u001b[1;32m      4\u001b[0m meta \u001b[38;5;241m=\u001b[39m [\u001b[38;5;241m1\u001b[39m,\u001b[38;5;241m2\u001b[39m,\u001b[38;5;241m3\u001b[39m,\u001b[38;5;241m4\u001b[39m,\u001b[38;5;241m5\u001b[39m,\u001b[38;5;241m6\u001b[39m,\u001b[38;5;241m7\u001b[39m,\u001b[38;5;241m8\u001b[39m,\u001b[38;5;241m0\u001b[39m]\n\u001b[1;32m      5\u001b[0m visitados, solucion \u001b[38;5;241m=\u001b[39m \u001b[38;5;28mset\u001b[39m(), []\n\u001b[0;32m----> 6\u001b[0m solBFS \u001b[38;5;241m=\u001b[39m \u001b[43mBFS\u001b[49m([inicio], visitados, meta)\n\u001b[1;32m      7\u001b[0m \u001b[38;5;28mprint\u001b[39m(\u001b[38;5;124m\"\u001b[39m\u001b[38;5;124mCantidad recorrida con BFS: \u001b[39m\u001b[38;5;132;01m{}\u001b[39;00m\u001b[38;5;124m\"\u001b[39m\u001b[38;5;241m.\u001b[39mformat(\u001b[38;5;28mlen\u001b[39m(solBFS)))\n\u001b[1;32m      8\u001b[0m \u001b[38;5;28mprint\u001b[39m(\u001b[38;5;124m\"\u001b[39m\u001b[38;5;124mRecorrido: \u001b[39m\u001b[38;5;132;01m{}\u001b[39;00m\u001b[38;5;124m\"\u001b[39m\u001b[38;5;241m.\u001b[39mformat(solBFS))\n",
      "\u001b[0;31mNameError\u001b[0m: name 'BFS' is not defined"
     ]
    }
   ],
   "source": [
    "#no ejecutar\n",
    "play_bfs()"
   ]
  },
  {
   "cell_type": "code",
   "execution_count": 56,
   "metadata": {},
   "outputs": [],
   "source": [
    "#Implementación del algoritmo de búsqueda DFS\n",
    "def DFS(frontera_act, visitados, solucion, meta, n_iteraciones):\n",
    "  n_iteraciones = n_iteraciones + 1\n",
    "  frontera = frontera_act[:]\n",
    "  #Si ya no hay posibles caminos, entonces no se encontro solución\n",
    "  if len(frontera) == 0:\n",
    "    print(\"Número de iteraciones: {}\".format(n_iteraciones))\n",
    "    return []\n",
    "  #Se toma el primer elemento de la lista y se elimina de la misma\n",
    "  cabeza = frontera.pop(0)\n",
    "  #Si el elemento no ha sido anteriormente visitado o generado,\n",
    "  #entonces no se generan más soluciones, para evitar enciclarse\n",
    "  # y también valida el nodo actual usando las reglas de juego.\n",
    "  if cabeza not in visitados and validar(cabeza, visitados):\n",
    "  #if cabeza not in visitados:\n",
    "    #Se agrega el elemento a la lista de soluciones, es decir el camino recorrido hasta ahora\n",
    "    solucion.append(cabeza)\n",
    "    #Si cumple con el criterio de aceptación entonces llega a la meta\n",
    "    if criterioAceptacion(cabeza, meta):\n",
    "      print(\"Se ha llegado a la meta: {}\".format(cabeza))\n",
    "      print(\"Número de iteraciones: {}\".format(n_iteraciones))\n",
    "      return solucion\n",
    "    #Se agrega a la lista de visitados para evitar enciclamientos\n",
    "    print(\"Recorriendo, actualmente en: {}\".format(cabeza))\n",
    "    visitados.append(cabeza)\n",
    "    #Se generan las nuevas posibilidades a partir de la posición actual\n",
    "    nuevas_soluciones = generarSoluciones(cabeza, meta)\n",
    "    print(\"Nuevas soluciones: {}\".format(nuevas_soluciones))\n",
    "    #Se agregan los elementos nuevos al inicio de la lista para simular una pila\n",
    "    frontera = nuevas_soluciones + frontera\n",
    "  #Se hace un llamado recursivo\n",
    "  return DFS(frontera, visitados, solucion, meta, n_iteraciones)"
   ]
  },
  {
   "cell_type": "code",
   "execution_count": 57,
   "metadata": {},
   "outputs": [],
   "source": [
    "#Función que utiliza todos las funciones creadas para hacer la simulación\n",
    "def play_dfs():\n",
    "  inicio = (\"Arad\",\"Arad\",0)\n",
    "  meta = (\"Bucharest\",\"Bucharest\",0)\n",
    "  visitados, solucion = [], []\n",
    "  solDFS = DFS([inicio], visitados, solucion, meta, 0)\n",
    "  print(\"Cantidad recorrida con DFS: {}\".format(len(solDFS)))\n",
    "  print(\"Recorrido: {}\".format(solDFS))\n",
    "  if len(solDFS) == 0:\n",
    "    print(\"No se encontro solucion\")\n",
    "    return"
   ]
  },
  {
   "cell_type": "code",
   "execution_count": 58,
   "metadata": {},
   "outputs": [
    {
     "name": "stdout",
     "output_type": "stream",
     "text": [
      "Recorriendo, actualmente en: ('Arad', 'Arad', 0)\n",
      "Nuevas soluciones: [('Arad', 'Zerind', 75), ('Arad', 'Sibiu', 140), ('Arad', 'Timisoara', 118)]\n",
      "Recorriendo, actualmente en: ('Arad', 'Zerind', 75)\n",
      "Nuevas soluciones: [('Zerind', 'Oradea', 71)]\n",
      "Recorriendo, actualmente en: ('Zerind', 'Oradea', 71)\n",
      "Nuevas soluciones: [('Oradea', 'Sibiu', 151)]\n",
      "Recorriendo, actualmente en: ('Oradea', 'Sibiu', 151)\n",
      "Nuevas soluciones: [('Sibiu', 'Fagaras', 99), ('Sibiu', 'Rimnicu Vilcea', 80)]\n",
      "Recorriendo, actualmente en: ('Sibiu', 'Fagaras', 99)\n",
      "Nuevas soluciones: [('Fagaras', 'Bucharest', 211)]\n",
      "Recorriendo, actualmente en: ('Fagaras', 'Bucharest', 211)\n",
      "Nuevas soluciones: [('Bucharest', 'Bucharest', 0), ('Bucharest', 'Giurgiu', 90), ('Bucharest', 'Urziceni', 85)]\n",
      "Se ha llegado a la meta: ('Bucharest', 'Bucharest', 0)\n",
      "Número de iteraciones: 7\n",
      "Cantidad recorrida con DFS: 7\n",
      "Recorrido: [('Arad', 'Arad', 0), ('Arad', 'Zerind', 75), ('Zerind', 'Oradea', 71), ('Oradea', 'Sibiu', 151), ('Sibiu', 'Fagaras', 99), ('Fagaras', 'Bucharest', 211), ('Bucharest', 'Bucharest', 0)]\n"
     ]
    }
   ],
   "source": [
    "play_dfs()"
   ]
  },
  {
   "cell_type": "code",
   "execution_count": 60,
   "metadata": {},
   "outputs": [],
   "source": [
    "#import numpy as np\n",
    "def profundidad(inicio, actual):\n",
    "  #Inicio = (x1, y1); actual (x2, y2)\n",
    "  #Se calcula el límite de la profundidad, mediante la diferencia mayor de los puntos\n",
    "  #res = abs(np.array(inicio) - np.array(actual))\n",
    "  #return max(res)\n",
    "  res = abs(inicio[1] - actual[1])\n",
    "  return res"
   ]
  },
  {
   "cell_type": "code",
   "execution_count": 61,
   "metadata": {},
   "outputs": [
    {
     "data": {
      "text/plain": [
       "2"
      ]
     },
     "execution_count": 61,
     "metadata": {},
     "output_type": "execute_result"
    }
   ],
   "source": [
    "#profundidad((2,2), (4,1))\n",
    "profundidad(((\"Arad\",\"Arad\",0),1), (('Arad', 'Zerind', 75),3))"
   ]
  },
  {
   "cell_type": "code",
   "execution_count": 63,
   "metadata": {},
   "outputs": [],
   "source": [
    "#Función DFS limitada a un valor de profundidad\n",
    "def LDFS(frontera_act, visitados, solucion, meta, n_iteraciones, inicio, limite):\n",
    "  n_iteraciones = n_iteraciones + 1\n",
    "  frontera = frontera_act[:]\n",
    "  #Si ya no hay posibles caminos, entonces no se encontro solución\n",
    "  if len(frontera) == 0:\n",
    "    print(\"Número de iteraciones: {}\".format(n_iteraciones))\n",
    "    return []\n",
    "  #Se toma el primer elemento de la lista y se elimina de la misma\n",
    "  cabeza = frontera.pop(0)\n",
    "  #Si el elemento no ha sido anteriormente visitado o generado,\n",
    "  #entonces no se generan más soluciones, para evitar enciclarse\n",
    "  # y también valida el nodo actual usando las reglas de juego.\n",
    "  if cabeza[0] not in visitados and validar(cabeza[0], visitados):\n",
    "  #if cabeza not in visitados:\n",
    "    #Se agrega el elemento a la lista de soluciones, es decir el camino recorrido hasta ahora\n",
    "    solucion.append(cabeza[0])\n",
    "    #Si cumple con el criterio de aceptación entonces llega a la meta\n",
    "    if criterioAceptacion(cabeza[0], meta):\n",
    "      print(\"Se ha llegado a la meta: {}\".format(cabeza))\n",
    "      print(\"Número de iteraciones: {}\".format(n_iteraciones))\n",
    "      return solucion\n",
    "    #Se agrega a la lista de visitados para evitar enciclamientos\n",
    "    print(\"Recorriendo, actualmente en: {}\".format(cabeza))\n",
    "    visitados.append(cabeza[0])\n",
    "    #Se establece una condición sobre si la generación de profundidad de las posibilidades es menor al limite establecido\n",
    "    if profundidad(inicio, cabeza) <= limite:\n",
    "      #Se generan las nuevas posibilidades a partir de la posición actual\n",
    "      nuevas_soluciones = generarSoluciones(cabeza[0], meta)\n",
    "      nuevas_soluciones_nivel = []\n",
    "      for sol in nuevas_soluciones:\n",
    "        nuevas_soluciones_nivel.append((sol, cabeza[1] + 1))\n",
    "      print(\"Nuevas soluciones + nivel: {}\".format(nuevas_soluciones_nivel))\n",
    "      frontera = frontera + nuevas_soluciones_nivel\n",
    "  #Se hace un llamado recursivo\n",
    "  return LDFS(frontera, visitados, solucion, meta, n_iteraciones, inicio, limite)"
   ]
  },
  {
   "cell_type": "code",
   "execution_count": 81,
   "metadata": {},
   "outputs": [],
   "source": [
    "#Función que utiliza todos las funciones creadas para hacer la simulación\n",
    "def play_ldfs():\n",
    "  # Se establece un limite para evitar que recorra todo el espacio de soluciones\n",
    "  limite = 4\n",
    "  inicio = (\"Arad\",\"Arad\",0)\n",
    "  meta = (\"Bucharest\",\"Bucharest\",0)\n",
    "  visitados, solucion = [], []\n",
    "  solLDFS = LDFS([(inicio,0)], visitados, solucion, meta, 0, (inicio, 0), limite)\n",
    "  print(\"Cantidad recorrida con LDFS: {}\".format(len(solLDFS)))\n",
    "  # El recorrido no se imprimirá si no llega a la solución, pero se puede ver mientras recorre nodos.\n",
    "  print(\"Recorrido: {}\".format(solLDFS))\n",
    "  if len(solLDFS) == 0:\n",
    "    print(\"No se encontro solucion\")\n",
    "    return"
   ]
  },
  {
   "cell_type": "code",
   "execution_count": 83,
   "metadata": {},
   "outputs": [
    {
     "name": "stdout",
     "output_type": "stream",
     "text": [
      "Recorriendo, actualmente en: (('Arad', 'Arad', 0), 0)\n",
      "Nuevas soluciones + nivel: [(('Arad', 'Zerind', 75), 1), (('Arad', 'Sibiu', 140), 1), (('Arad', 'Timisoara', 118), 1)]\n",
      "Recorriendo, actualmente en: (('Arad', 'Zerind', 75), 1)\n",
      "Nuevas soluciones + nivel: [(('Zerind', 'Oradea', 71), 2)]\n",
      "Recorriendo, actualmente en: (('Zerind', 'Oradea', 71), 2)\n",
      "Nuevas soluciones + nivel: [(('Oradea', 'Sibiu', 151), 3)]\n",
      "Recorriendo, actualmente en: (('Oradea', 'Sibiu', 151), 3)\n",
      "Nuevas soluciones + nivel: [(('Sibiu', 'Fagaras', 99), 4), (('Sibiu', 'Rimnicu Vilcea', 80), 4)]\n",
      "Recorriendo, actualmente en: (('Sibiu', 'Fagaras', 99), 4)\n",
      "Nuevas soluciones + nivel: [(('Fagaras', 'Bucharest', 211), 5)]\n",
      "Recorriendo, actualmente en: (('Fagaras', 'Bucharest', 211), 5)\n",
      "Número de iteraciones: 10\n",
      "Cantidad recorrida con LDFS: 0\n",
      "Recorrido: []\n",
      "No se encontro solucion\n"
     ]
    }
   ],
   "source": [
    "play_ldfs()"
   ]
  },
  {
   "cell_type": "code",
   "execution_count": 84,
   "metadata": {},
   "outputs": [],
   "source": [
    "#Función que implementa la variación del DFS limitado con una estructura iterativa\n",
    "def ILDFS(frontera, limite_inicial, inicio, meta, n_iteraciones):\n",
    "  #Se guarda el limite inicial para que altere solo el valor de la variable local\n",
    "  limite_actual = limite_inicial\n",
    "  #Ciclo infinito\n",
    "  while True:\n",
    "    #Si el limite es mayor a uno establecido\n",
    "    if limite_actual >= 100:\n",
    "      #entonces no encontro una solición (Evita enciclarse por siempre)\n",
    "      print(\"No se encontro solución\")\n",
    "      return []\n",
    "    solucion = []\n",
    "    visitados = []\n",
    "    #Se llama al algoritmo LDFS creado anteriormente con el limite actual\n",
    "    sol = LDFS(frontera, visitados, solucion, meta, n_iteraciones, (inicio,0), limite_actual)\n",
    "    #Si encuentra una solción, la lista debe tener más de un elemento\n",
    "    if len(sol) > 0:\n",
    "      print(\"Se encontro la solución en el nivel: {}\".format(limite_actual))\n",
    "      #Se retorna la solución encontrada\n",
    "      return sol\n",
    "    #Si no encuentra aun la solución, entonces aumenta el limite establecido, para aumentar el rango de posibilidades\n",
    "    limite_actual += 1\n",
    "    print(\"No se encontro solución en el nivel: {}\".format(limite_actual))"
   ]
  },
  {
   "cell_type": "code",
   "execution_count": 85,
   "metadata": {},
   "outputs": [],
   "source": [
    "#Función que utiliza todos las funciones creadas para hacer la simulación\n",
    "def play_ildfs():\n",
    "  limite = 1\n",
    "  inicio = (\"Arad\",\"Arad\",0)\n",
    "  meta = (\"Bucharest\",\"Bucharest\",0)\n",
    "  solILDFS = ILDFS([(inicio,0)], limite, inicio, meta, 0)\n",
    "  print(\"Cantidad recorrida con ILDFS: {}\".format(len(solILDFS)))\n",
    "  # El recorrido no se imprimirá si no llega a la solución, pero se puede ver mientras recorre nodos.\n",
    "  print(\"Recorrido: {}\".format(solILDFS))\n",
    "  if len(solILDFS) == 0:\n",
    "    print(\"No se encontro solucion\")\n",
    "    return"
   ]
  },
  {
   "cell_type": "code",
   "execution_count": 86,
   "metadata": {},
   "outputs": [
    {
     "name": "stdout",
     "output_type": "stream",
     "text": [
      "Recorriendo, actualmente en: (('Arad', 'Arad', 0), 0)\n",
      "Nuevas soluciones + nivel: [(('Arad', 'Zerind', 75), 1), (('Arad', 'Sibiu', 140), 1), (('Arad', 'Timisoara', 118), 1)]\n",
      "Recorriendo, actualmente en: (('Arad', 'Zerind', 75), 1)\n",
      "Nuevas soluciones + nivel: [(('Zerind', 'Oradea', 71), 2)]\n",
      "Recorriendo, actualmente en: (('Zerind', 'Oradea', 71), 2)\n",
      "Número de iteraciones: 6\n",
      "No se encontro solución en el nivel: 2\n",
      "Recorriendo, actualmente en: (('Arad', 'Arad', 0), 0)\n",
      "Nuevas soluciones + nivel: [(('Arad', 'Zerind', 75), 1), (('Arad', 'Sibiu', 140), 1), (('Arad', 'Timisoara', 118), 1)]\n",
      "Recorriendo, actualmente en: (('Arad', 'Zerind', 75), 1)\n",
      "Nuevas soluciones + nivel: [(('Zerind', 'Oradea', 71), 2)]\n",
      "Recorriendo, actualmente en: (('Zerind', 'Oradea', 71), 2)\n",
      "Nuevas soluciones + nivel: [(('Oradea', 'Sibiu', 151), 3)]\n",
      "Recorriendo, actualmente en: (('Oradea', 'Sibiu', 151), 3)\n",
      "Número de iteraciones: 7\n",
      "No se encontro solución en el nivel: 3\n",
      "Recorriendo, actualmente en: (('Arad', 'Arad', 0), 0)\n",
      "Nuevas soluciones + nivel: [(('Arad', 'Zerind', 75), 1), (('Arad', 'Sibiu', 140), 1), (('Arad', 'Timisoara', 118), 1)]\n",
      "Recorriendo, actualmente en: (('Arad', 'Zerind', 75), 1)\n",
      "Nuevas soluciones + nivel: [(('Zerind', 'Oradea', 71), 2)]\n",
      "Recorriendo, actualmente en: (('Zerind', 'Oradea', 71), 2)\n",
      "Nuevas soluciones + nivel: [(('Oradea', 'Sibiu', 151), 3)]\n",
      "Recorriendo, actualmente en: (('Oradea', 'Sibiu', 151), 3)\n",
      "Nuevas soluciones + nivel: [(('Sibiu', 'Fagaras', 99), 4), (('Sibiu', 'Rimnicu Vilcea', 80), 4)]\n",
      "Recorriendo, actualmente en: (('Sibiu', 'Fagaras', 99), 4)\n",
      "Número de iteraciones: 9\n",
      "No se encontro solución en el nivel: 4\n",
      "Recorriendo, actualmente en: (('Arad', 'Arad', 0), 0)\n",
      "Nuevas soluciones + nivel: [(('Arad', 'Zerind', 75), 1), (('Arad', 'Sibiu', 140), 1), (('Arad', 'Timisoara', 118), 1)]\n",
      "Recorriendo, actualmente en: (('Arad', 'Zerind', 75), 1)\n",
      "Nuevas soluciones + nivel: [(('Zerind', 'Oradea', 71), 2)]\n",
      "Recorriendo, actualmente en: (('Zerind', 'Oradea', 71), 2)\n",
      "Nuevas soluciones + nivel: [(('Oradea', 'Sibiu', 151), 3)]\n",
      "Recorriendo, actualmente en: (('Oradea', 'Sibiu', 151), 3)\n",
      "Nuevas soluciones + nivel: [(('Sibiu', 'Fagaras', 99), 4), (('Sibiu', 'Rimnicu Vilcea', 80), 4)]\n",
      "Recorriendo, actualmente en: (('Sibiu', 'Fagaras', 99), 4)\n",
      "Nuevas soluciones + nivel: [(('Fagaras', 'Bucharest', 211), 5)]\n",
      "Recorriendo, actualmente en: (('Fagaras', 'Bucharest', 211), 5)\n",
      "Número de iteraciones: 10\n",
      "No se encontro solución en el nivel: 5\n",
      "Recorriendo, actualmente en: (('Arad', 'Arad', 0), 0)\n",
      "Nuevas soluciones + nivel: [(('Arad', 'Zerind', 75), 1), (('Arad', 'Sibiu', 140), 1), (('Arad', 'Timisoara', 118), 1)]\n",
      "Recorriendo, actualmente en: (('Arad', 'Zerind', 75), 1)\n",
      "Nuevas soluciones + nivel: [(('Zerind', 'Oradea', 71), 2)]\n",
      "Recorriendo, actualmente en: (('Zerind', 'Oradea', 71), 2)\n",
      "Nuevas soluciones + nivel: [(('Oradea', 'Sibiu', 151), 3)]\n",
      "Recorriendo, actualmente en: (('Oradea', 'Sibiu', 151), 3)\n",
      "Nuevas soluciones + nivel: [(('Sibiu', 'Fagaras', 99), 4), (('Sibiu', 'Rimnicu Vilcea', 80), 4)]\n",
      "Recorriendo, actualmente en: (('Sibiu', 'Fagaras', 99), 4)\n",
      "Nuevas soluciones + nivel: [(('Fagaras', 'Bucharest', 211), 5)]\n",
      "Recorriendo, actualmente en: (('Fagaras', 'Bucharest', 211), 5)\n",
      "Nuevas soluciones + nivel: [(('Bucharest', 'Bucharest', 0), 6), (('Bucharest', 'Giurgiu', 90), 6), (('Bucharest', 'Urziceni', 85), 6)]\n",
      "Se ha llegado a la meta: (('Bucharest', 'Bucharest', 0), 6)\n",
      "Número de iteraciones: 10\n",
      "Se encontro la solución en el nivel: 5\n",
      "Cantidad recorrida con ILDFS: 7\n",
      "Recorrido: [('Arad', 'Arad', 0), ('Arad', 'Zerind', 75), ('Zerind', 'Oradea', 71), ('Oradea', 'Sibiu', 151), ('Sibiu', 'Fagaras', 99), ('Fagaras', 'Bucharest', 211), ('Bucharest', 'Bucharest', 0)]\n"
     ]
    }
   ],
   "source": [
    "play_ildfs()"
   ]
  },
  {
   "cell_type": "code",
   "execution_count": 94,
   "metadata": {},
   "outputs": [],
   "source": [
    "def evaluacionVoraz(posibilidades):\n",
    "  best_val = 100000\n",
    "  best = None\n",
    "  for posible in posibilidades:\n",
    "    #val = distanciaEuclidiana(posible, meta)\n",
    "    val = posible[2]\n",
    "    if val < best_val:\n",
    "      best = posible\n",
    "      best_val = val\n",
    "  return best"
   ]
  },
  {
   "cell_type": "code",
   "execution_count": 88,
   "metadata": {},
   "outputs": [],
   "source": [
    "def eliminaPosibilidadeIguales(posibilidades, lista):\n",
    "  nueva_lista = []\n",
    "  for posible in posibilidades:\n",
    "    if posible in lista:\n",
    "      continue\n",
    "    nueva_lista.append(posible)\n",
    "  return nueva_lista"
   ]
  },
  {
   "cell_type": "code",
   "execution_count": 90,
   "metadata": {},
   "outputs": [],
   "source": [
    "def voraz(nodo, visitados, solucion, meta, n_iteraciones):\n",
    "  n_iteraciones = n_iteraciones + 1\n",
    "  if nodo == None:\n",
    "    return []\n",
    "  print(\"Recorriendo, actualmente en: {}\".format(nodo))\n",
    "  solucion.append(nodo)\n",
    "  if criterioAceptacion(nodo, meta):\n",
    "    print(\"Se ha llegado a la meta: {}\".format(nodo))\n",
    "    print(\"Número de iteraciones: {}\".format(n_iteraciones))\n",
    "    return solucion\n",
    "  print(\"nodo: {}\".format(nodo))\n",
    "  nuevas_soluciones = generarSoluciones(nodo, meta)\n",
    "  print(\"Nuevas soluciones: {}\".format(nuevas_soluciones))\n",
    "  #print(nuevas_soluciones)\n",
    "  nuevas_soluciones = eliminaPosibilidadeIguales(nuevas_soluciones, visitados)\n",
    "  #print(nuevas_soluciones)\n",
    "  mejor = evaluacionVoraz(nuevas_soluciones)\n",
    "  #print(mejor)\n",
    "  visitados.append(nodo)\n",
    "  return voraz(mejor, visitados, solucion, meta, n_iteraciones)"
   ]
  },
  {
   "cell_type": "code",
   "execution_count": 92,
   "metadata": {},
   "outputs": [],
   "source": [
    "def play_voraz():\n",
    "  inicio = (\"Arad\",\"Arad\",0)\n",
    "  meta = (\"Bucharest\",\"Bucharest\",0)\n",
    "  visitados, solucion = [], []\n",
    "  solVoraz = voraz(inicio, visitados, solucion, meta, 0)\n",
    "  print(\"Cantidad recorrida con voraz: {}\".format(len(solVoraz)))\n",
    "  # El recorrido no se imprimirá si no llega a la solución, pero se puede ver mientras recorre nodos.\n",
    "  print(\"Recorrido: {}\".format(solVoraz))\n",
    "  if len(solVoraz) == 0:\n",
    "    print(\"No se encontro solucion\")\n",
    "    return"
   ]
  },
  {
   "cell_type": "code",
   "execution_count": 95,
   "metadata": {},
   "outputs": [
    {
     "name": "stdout",
     "output_type": "stream",
     "text": [
      "Recorriendo, actualmente en: ('Arad', 'Arad', 0)\n",
      "nodo: ('Arad', 'Arad', 0)\n",
      "Nuevas soluciones: [('Arad', 'Zerind', 75), ('Arad', 'Sibiu', 140), ('Arad', 'Timisoara', 118)]\n",
      "Recorriendo, actualmente en: ('Arad', 'Zerind', 75)\n",
      "nodo: ('Arad', 'Zerind', 75)\n",
      "Nuevas soluciones: [('Zerind', 'Oradea', 71)]\n",
      "Recorriendo, actualmente en: ('Zerind', 'Oradea', 71)\n",
      "nodo: ('Zerind', 'Oradea', 71)\n",
      "Nuevas soluciones: [('Oradea', 'Sibiu', 151)]\n",
      "Recorriendo, actualmente en: ('Oradea', 'Sibiu', 151)\n",
      "nodo: ('Oradea', 'Sibiu', 151)\n",
      "Nuevas soluciones: [('Sibiu', 'Fagaras', 99), ('Sibiu', 'Rimnicu Vilcea', 80)]\n",
      "Recorriendo, actualmente en: ('Sibiu', 'Rimnicu Vilcea', 80)\n",
      "nodo: ('Sibiu', 'Rimnicu Vilcea', 80)\n",
      "Nuevas soluciones: [('Rimnicu Vilcea', 'Pitesti', 97), ('Rimnicu Vilcea', 'Craiova', 146)]\n",
      "Recorriendo, actualmente en: ('Rimnicu Vilcea', 'Pitesti', 97)\n",
      "nodo: ('Rimnicu Vilcea', 'Pitesti', 97)\n",
      "Nuevas soluciones: [('Pitesti', 'Bucharest', 101)]\n",
      "Recorriendo, actualmente en: ('Pitesti', 'Bucharest', 101)\n",
      "nodo: ('Pitesti', 'Bucharest', 101)\n",
      "Nuevas soluciones: [('Bucharest', 'Bucharest', 0), ('Bucharest', 'Giurgiu', 90), ('Bucharest', 'Urziceni', 85)]\n",
      "Recorriendo, actualmente en: ('Bucharest', 'Bucharest', 0)\n",
      "Se ha llegado a la meta: ('Bucharest', 'Bucharest', 0)\n",
      "Número de iteraciones: 8\n",
      "Cantidad recorrida con voraz: 8\n",
      "Recorrido: [('Arad', 'Arad', 0), ('Arad', 'Zerind', 75), ('Zerind', 'Oradea', 71), ('Oradea', 'Sibiu', 151), ('Sibiu', 'Rimnicu Vilcea', 80), ('Rimnicu Vilcea', 'Pitesti', 97), ('Pitesti', 'Bucharest', 101), ('Bucharest', 'Bucharest', 0)]\n"
     ]
    }
   ],
   "source": [
    "play_voraz()"
   ]
  }
 ],
 "metadata": {
  "kernelspec": {
   "display_name": "Python 3",
   "language": "python",
   "name": "python3"
  },
  "language_info": {
   "codemirror_mode": {
    "name": "ipython",
    "version": 3
   },
   "file_extension": ".py",
   "mimetype": "text/x-python",
   "name": "python",
   "nbconvert_exporter": "python",
   "pygments_lexer": "ipython3",
   "version": "3.12.1"
  }
 },
 "nbformat": 4,
 "nbformat_minor": 2
}
