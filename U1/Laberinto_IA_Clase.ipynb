{
  "nbformat": 4,
  "nbformat_minor": 0,
  "metadata": {
    "colab": {
      "provenance": []
    },
    "kernelspec": {
      "name": "python3",
      "display_name": "Python 3"
    },
    "language_info": {
      "name": "python"
    }
  },
  "cells": [
    {
      "cell_type": "code",
      "execution_count": null,
      "metadata": {
        "id": "wYMhZeTrwJWW"
      },
      "outputs": [],
      "source": [
        "#Función para verificar si se cumple la condición de llegar a meta\n",
        "def criterioAceptacion(posicion, meta):\n",
        "  return posicion == meta"
      ]
    },
    {
      "cell_type": "code",
      "source": [
        "print(criterioAceptacion((1,2), (1,2)))\n",
        "print(criterioAceptacion((1,2), (2,2)))"
      ],
      "metadata": {
        "colab": {
          "base_uri": "https://localhost:8080/"
        },
        "id": "81yCJGMJw23z",
        "outputId": "29cb1559-87f7-48f1-d074-daeac0b83e40"
      },
      "execution_count": null,
      "outputs": [
        {
          "output_type": "stream",
          "name": "stdout",
          "text": [
            "True\n",
            "False\n"
          ]
        }
      ]
    },
    {
      "cell_type": "code",
      "source": [
        "# Función que de manera automática imprime un tablero con obstaculos y caminos recorridos.\n",
        "# parametros (Lista con los caminos recorridos, n, m, inicio, meta, obstaculos)\n",
        "def imprimeTab(soluciones, n, m, inicio, meta, obstaculos):\n",
        "  #For aninado para imprimir una matriz\n",
        "  for i in range(n):\n",
        "    for j in range(m):\n",
        "      #Si la posición actual es un obstaculo\n",
        "      if (i, j) in obstaculos:\n",
        "        print(\"| X |\", end= '')\n",
        "      #Si la posición actual es el inicio\n",
        "      elif (i, j) == inicio:\n",
        "        print(\"| I |\", end= '')\n",
        "      #Si la posición actual es la meta\n",
        "      elif (i, j) == meta:\n",
        "        print(\"| M |\", end= '')\n",
        "      #Si la posición actual es un camino recorrido\n",
        "      elif (i, j) in soluciones:\n",
        "        print(\"| 0 |\", end= '')\n",
        "      #Si no es ninguna de las anteriores\n",
        "      else:\n",
        "        print(\"|   |\", end= '')\n",
        "    print()"
      ],
      "metadata": {
        "id": "8UZ9VhvIxMAp"
      },
      "execution_count": null,
      "outputs": []
    },
    {
      "cell_type": "code",
      "source": [
        "n = 10\n",
        "m = 10\n",
        "imprimeTab([(2,2),(2,3)], n, m, (1,2), (2,4), [(3,3),(4,5),(6,2)])"
      ],
      "metadata": {
        "colab": {
          "base_uri": "https://localhost:8080/"
        },
        "id": "a1ythgvixY87",
        "outputId": "ef57730e-4086-40e3-acbc-f15876ca9a7a"
      },
      "execution_count": null,
      "outputs": [
        {
          "output_type": "stream",
          "name": "stdout",
          "text": [
            "|   ||   ||   ||   ||   ||   ||   ||   ||   ||   |\n",
            "|   ||   || I ||   ||   ||   ||   ||   ||   ||   |\n",
            "|   ||   || 0 || 0 || M ||   ||   ||   ||   ||   |\n",
            "|   ||   ||   || X ||   ||   ||   ||   ||   ||   |\n",
            "|   ||   ||   ||   ||   || X ||   ||   ||   ||   |\n",
            "|   ||   ||   ||   ||   ||   ||   ||   ||   ||   |\n",
            "|   ||   || X ||   ||   ||   ||   ||   ||   ||   |\n",
            "|   ||   ||   ||   ||   ||   ||   ||   ||   ||   |\n",
            "|   ||   ||   ||   ||   ||   ||   ||   ||   ||   |\n",
            "|   ||   ||   ||   ||   ||   ||   ||   ||   ||   |\n"
          ]
        }
      ]
    },
    {
      "cell_type": "code",
      "source": [
        "#Libreria que permie generar números enteros aleatorios\n",
        "import random\n",
        "#Genera de manera aleatoria una posición para el inicio y la meta\n",
        "def generarInicioMeta(n, m):\n",
        "  #Posición Inicial\n",
        "  #El randint es una función que retorna un valor entero pseudoaleatorio entre el rango especifico\n",
        "  #Se utiliza de 0 - (n-1) por los indices de las listas\n",
        "  x, y = random.randint(0, n-1), random.randint(0, m-1)\n",
        "  inicio = (x, y)\n",
        "  #Meta\n",
        "  x, y = random.randint(0, n-1), random.randint(0, m-1)\n",
        "  meta = (x, y)\n",
        "  return inicio, meta"
      ],
      "metadata": {
        "id": "S24DjV7IyVVT"
      },
      "execution_count": null,
      "outputs": []
    },
    {
      "cell_type": "code",
      "source": [
        "inicio, meta = generarInicioMeta(n, m)\n",
        "inicio, meta"
      ],
      "metadata": {
        "colab": {
          "base_uri": "https://localhost:8080/"
        },
        "id": "y__3iucH0ab3",
        "outputId": "c4d4a756-25b8-4429-b6c1-243f604c55d8"
      },
      "execution_count": null,
      "outputs": [
        {
          "output_type": "execute_result",
          "data": {
            "text/plain": [
              "((8, 9), (5, 1))"
            ]
          },
          "metadata": {},
          "execution_count": 6
        }
      ]
    },
    {
      "cell_type": "code",
      "source": [
        "#Función para generar obstaculos de manera aleatoria dependiendo del tamaño del trablero\n",
        "def generarObstaculos(n, m, inicio, meta):\n",
        "  #Generación porcentual de los obstaculos (20%)\n",
        "  n_obstaculos = int((n * m) * .20)\n",
        "  obstaculos = []\n",
        "  #Por cada obstaculo a generar\n",
        "  for i in range(n_obstaculos):\n",
        "    #Genera una posición (x, y) aleatoria en el rango establecido\n",
        "    obs = (random.randint(0, n-1), random.randint(0, m-1))\n",
        "    #Si el obstaculo generado es el punto inicial, la meta, o ya ha sido generado antes, se descarta\n",
        "    if obs == inicio or obs == meta or obs in obstaculos:\n",
        "      #Se mueve el indice para volver a generarlo\n",
        "      i -= 1\n",
        "      continue\n",
        "    #Si no ha sido generado entonces se agrega a la lista\n",
        "    obstaculos.append(obs)\n",
        "  return obstaculos"
      ],
      "metadata": {
        "id": "cDTNVfnm0gRZ"
      },
      "execution_count": null,
      "outputs": []
    },
    {
      "cell_type": "code",
      "source": [
        "obstaculos = generarObstaculos(n, m, inicio, meta)\n",
        "obstaculos"
      ],
      "metadata": {
        "colab": {
          "base_uri": "https://localhost:8080/"
        },
        "id": "lNou9bAC1inW",
        "outputId": "384db9b0-fef5-4b72-9761-7302e64039fd"
      },
      "execution_count": null,
      "outputs": [
        {
          "output_type": "execute_result",
          "data": {
            "text/plain": [
              "[(4, 3),\n",
              " (2, 7),\n",
              " (2, 3),\n",
              " (6, 2),\n",
              " (9, 7),\n",
              " (5, 2),\n",
              " (6, 7),\n",
              " (8, 7),\n",
              " (3, 0),\n",
              " (0, 2),\n",
              " (2, 9),\n",
              " (6, 5),\n",
              " (7, 4),\n",
              " (2, 1),\n",
              " (8, 3),\n",
              " (1, 7),\n",
              " (9, 1),\n",
              " (3, 8),\n",
              " (4, 7)]"
            ]
          },
          "metadata": {},
          "execution_count": 8
        }
      ]
    },
    {
      "cell_type": "code",
      "source": [
        "imprimeTab([], n, m, inicio, meta, obstaculos)"
      ],
      "metadata": {
        "colab": {
          "base_uri": "https://localhost:8080/"
        },
        "id": "UjYv65Ll1nv1",
        "outputId": "6893568e-7925-451d-9832-c96796147d2b"
      },
      "execution_count": null,
      "outputs": [
        {
          "output_type": "stream",
          "name": "stdout",
          "text": [
            "|   ||   || X ||   ||   ||   ||   ||   ||   ||   |\n",
            "|   ||   ||   ||   ||   ||   ||   || X ||   ||   |\n",
            "|   || X ||   || X ||   ||   ||   || X ||   || X |\n",
            "| X ||   ||   ||   ||   ||   ||   ||   || X ||   |\n",
            "|   ||   ||   || X ||   ||   ||   || X ||   ||   |\n",
            "|   || M || X ||   ||   ||   ||   ||   ||   ||   |\n",
            "|   ||   || X ||   ||   || X ||   || X ||   ||   |\n",
            "|   ||   ||   ||   || X ||   ||   ||   ||   ||   |\n",
            "|   ||   ||   || X ||   ||   ||   || X ||   || I |\n",
            "|   || X ||   ||   ||   ||   ||   || X ||   ||   |\n"
          ]
        }
      ]
    },
    {
      "cell_type": "code",
      "source": [
        "#Función que permite generar todas las posibles soluciones\n",
        "#En este caso genera todos los posibles movimientos del estado actual\n",
        "def generarSoluciones(actual, tablero):\n",
        "  n = tablero[0]\n",
        "  m = tablero[1]\n",
        "  soluciones = []\n",
        "  dato = actual\n",
        "  #Generar posibles soluciones\n",
        "  #Generación hacia los lados\n",
        "  #Movimiento a la izquierda\n",
        "  x, y = dato[0] - 1, dato[1]\n",
        "  if x >= 0:\n",
        "    soluciones.append((x, y))\n",
        "  #Movimiento a la derecha\n",
        "  x, y = dato[0] + 1, dato[1]\n",
        "  if x < n:\n",
        "    soluciones.append((x, y))\n",
        "  #Movimiento hacia abajo\n",
        "  x, y = dato[0], dato[1] - 1\n",
        "  if y >= 0:\n",
        "    soluciones.append((x, y))\n",
        "  #Movimiento hacia arriba\n",
        "  x, y = dato[0], dato[1] + 1\n",
        "  if y < m:\n",
        "    soluciones.append((x, y))\n",
        "  return soluciones"
      ],
      "metadata": {
        "id": "6e7G5PWy3r-I"
      },
      "execution_count": null,
      "outputs": []
    },
    {
      "cell_type": "code",
      "source": [
        "generarSoluciones((4,1), (n,m))"
      ],
      "metadata": {
        "colab": {
          "base_uri": "https://localhost:8080/"
        },
        "id": "WNDrKzqw48-W",
        "outputId": "e003886c-04aa-4938-b926-ff20bf361620"
      },
      "execution_count": null,
      "outputs": [
        {
          "output_type": "execute_result",
          "data": {
            "text/plain": [
              "[(3, 1), (5, 1), (4, 0), (4, 2)]"
            ]
          },
          "metadata": {},
          "execution_count": 113
        }
      ]
    },
    {
      "cell_type": "code",
      "source": [
        "#Implementación del algoritmo de búsqueda BFS\n",
        "def BFS(frontera_act, visitados, solucion, meta, tablero, obstaculos):\n",
        "  frontera = frontera_act[:]\n",
        "  #Si ya no hay posibles caminos, entonces no se encontro solución\n",
        "  if len(frontera) == 0:\n",
        "    return []\n",
        "  #Se toma el primer elemento de la lista y se elimina de la misma\n",
        "  cabeza = frontera.pop(0)\n",
        "  #Si el elemento no ha sido anteriormente visitado o generado, o si es un obstaculo,\n",
        "  #entonces no se generan más soluciones, para evitar enciclarse\n",
        "  if cabeza not in visitados and cabeza not in obstaculos:\n",
        "    #Se agrega el elemento a la lista de soluciones, es decir el camino recorrido hasta ahora\n",
        "    solucion.append(cabeza)\n",
        "    #Si cumple con el criterio de aceptación entonces llega a la meta\n",
        "    if criterioAceptacion(cabeza, meta):\n",
        "      return solucion\n",
        "    #Se agrega a la lista de visitados para evitar enciclamientos\n",
        "    visitados.append(cabeza)\n",
        "    #Se generan las nuevas posibilidades a partir de la posición actual\n",
        "    nuevas_soluciones = generarSoluciones(cabeza, tablero)\n",
        "    #Se agregan los elementos nuevos al final de la lista para simular una cola\n",
        "    frontera = frontera + nuevas_soluciones\n",
        "  #Se hace un llamado recursivo\n",
        "  return BFS(frontera, visitados, solucion, meta, tablero, obstaculos)"
      ],
      "metadata": {
        "id": "-_VBPqy51xGZ"
      },
      "execution_count": null,
      "outputs": []
    },
    {
      "cell_type": "code",
      "source": [
        "#Función que utiliza todos las funciones creadas para hacer la simulación\n",
        "def play_bfs():\n",
        "  n, m = 10, 10\n",
        "  inicio, meta = generarInicioMeta(n, m)\n",
        "  print(\"El inicio se encuentra en la posición \", inicio)\n",
        "  print(\"La meta se encuentra en la posición \", meta)\n",
        "  obstaculos = generarObstaculos(n, m, inicio, meta)\n",
        "  print(\"Número de obstaculos: {}\".format(len(obstaculos)))\n",
        "  visitados, solucion = [], []\n",
        "  solBFS = BFS([inicio], visitados, solucion, meta, (n,m), obstaculos)\n",
        "  print(\"Cantidad recorrida con BFS: {}\".format(len(solBFS)))\n",
        "  if len(solBFS) == 0:\n",
        "    print(\"No se encontro solucion\")\n",
        "    return\n",
        "  imprimeTab(solBFS, n, m, inicio, meta, obstaculos)"
      ],
      "metadata": {
        "id": "XCDCgzDB5Op7"
      },
      "execution_count": null,
      "outputs": []
    },
    {
      "cell_type": "code",
      "source": [
        "play_bfs()"
      ],
      "metadata": {
        "colab": {
          "base_uri": "https://localhost:8080/"
        },
        "id": "CB1-HsOg6Fzv",
        "outputId": "03c35694-7bd1-45c2-c9e8-5806d4eb321b"
      },
      "execution_count": null,
      "outputs": [
        {
          "output_type": "stream",
          "name": "stdout",
          "text": [
            "El inicio se encuentra en la posición  (7, 8)\n",
            "La meta se encuentra en la posición  (5, 3)\n",
            "Número de obstaculos: 19\n",
            "Cantidad recorrida con BFS: 31\n",
            "|   || X || X || X ||   ||   ||   ||   ||   ||   |\n",
            "|   ||   || X ||   ||   ||   ||   ||   ||   ||   |\n",
            "|   ||   ||   ||   ||   ||   ||   ||   ||   || X |\n",
            "|   ||   ||   ||   ||   ||   ||   || X ||   || X |\n",
            "| X ||   ||   ||   || X ||   || X || 0 || X || 0 |\n",
            "|   ||   ||   || M || 0 || X || 0 || 0 || 0 || 0 |\n",
            "|   ||   ||   || 0 || 0 || 0 || 0 || 0 || 0 || 0 |\n",
            "|   ||   || X || 0 || 0 || 0 || X || 0 || I || X |\n",
            "|   ||   ||   || X || 0 || 0 || 0 || 0 || 0 || 0 |\n",
            "|   || X || X ||   || 0 || 0 || X || 0 || 0 || 0 |\n"
          ]
        }
      ]
    },
    {
      "cell_type": "code",
      "source": [
        "#Implementación del algoritmo de búsqueda DFS\n",
        "def DFS(frontera_act, visitados, solucion, meta, tablero, obstaculos):\n",
        "  frontera = frontera_act[:]\n",
        "  #Si ya no hay posibles caminos, entonces no se encontro solución\n",
        "  if len(frontera) == 0:\n",
        "    return []\n",
        "  #Se toma el primer elemento de la lista y se elimina de la misma\n",
        "  cabeza = frontera.pop(0)\n",
        "  #Si el elemento no ha sido anteriormente visitado o generado, o si es un obstaculo,\n",
        "  #entonces no se generan más soluciones, para evitar enciclarse\n",
        "  if cabeza not in visitados and cabeza not in obstaculos:\n",
        "    #Se agrega el elemento a la lista de soluciones, es decir el camino recorrido hasta ahora\n",
        "    solucion.append(cabeza)\n",
        "    #Si cumple con el criterio de aceptación entonces llega a la meta\n",
        "    if criterioAceptacion(cabeza, meta):\n",
        "      return solucion\n",
        "    #Se agrega a la lista de visitados para evitar enciclamientos\n",
        "    visitados.append(cabeza)\n",
        "    #Se generan las nuevas posibilidades a partir de la posición actual\n",
        "    nuevas_soluciones = generarSoluciones(cabeza, tablero)\n",
        "    #Se agregan los elementos nuevos al inicio de la lista para simular una pila\n",
        "    frontera = nuevas_soluciones + frontera\n",
        "  #Se hace un llamado recursivo\n",
        "  return DFS(frontera, visitados, solucion, meta, tablero, obstaculos)"
      ],
      "metadata": {
        "id": "9GepbbRs6HMY"
      },
      "execution_count": null,
      "outputs": []
    },
    {
      "cell_type": "code",
      "source": [
        "#Función que utiliza todos las funciones creadas para hacer la simulación\n",
        "def play_dfs():\n",
        "  n, m = 10, 10\n",
        "  inicio, meta = generarInicioMeta(n, m)\n",
        "  print(\"El inicio se encuentra en la posición \", inicio)\n",
        "  print(\"La meta se encuentra en la posición \", meta)\n",
        "  obstaculos = generarObstaculos(n, m, inicio, meta)\n",
        "  print(\"Número de obstaculos: {}\".format(len(obstaculos)))\n",
        "  visitados, solucion = [], []\n",
        "  solDFS = DFS([inicio], visitados, solucion, meta, (n,m), obstaculos)\n",
        "  print(\"Cantidad recorrida con BFS: {}\".format(len(solDFS)))\n",
        "  if len(solDFS) == 0:\n",
        "    print(\"No se encontro solucion\")\n",
        "    return\n",
        "  imprimeTab(solDFS, n, m, inicio, meta, obstaculos)"
      ],
      "metadata": {
        "id": "otPetvu7i1l0"
      },
      "execution_count": null,
      "outputs": []
    },
    {
      "cell_type": "code",
      "source": [
        "play_dfs()"
      ],
      "metadata": {
        "id": "fQTZIIYOi7uc",
        "outputId": "43428186-e72c-426c-c698-ce755763301b",
        "colab": {
          "base_uri": "https://localhost:8080/"
        }
      },
      "execution_count": null,
      "outputs": [
        {
          "output_type": "stream",
          "name": "stdout",
          "text": [
            "El inicio se encuentra en la posición  (3, 6)\n",
            "La meta se encuentra en la posición  (6, 7)\n",
            "Número de obstaculos: 18\n",
            "Cantidad recorrida con BFS: 46\n",
            "|   ||   || X || 0 || 0 || 0 || 0 ||   ||   ||   |\n",
            "|   || X ||   || 0 || 0 || 0 || 0 ||   ||   || X |\n",
            "|   ||   || X || 0 || 0 || X || 0 ||   ||   || X |\n",
            "|   ||   ||   || X || 0 ||   || I ||   ||   ||   |\n",
            "|   ||   || X || X || 0 || X || X ||   ||   ||   |\n",
            "| X || X || X || 0 || 0 || 0 || 0 ||   ||   ||   |\n",
            "| 0 || 0 || 0 || 0 || 0 || 0 || 0 || M ||   ||   |\n",
            "| 0 || 0 || X || X || 0 || 0 || 0 || 0 ||   ||   |\n",
            "| 0 || 0 || 0 || 0 || 0 || 0 || 0 || 0 ||   ||   |\n",
            "| 0 || 0 || 0 || 0 || X || X || 0 || 0 ||   ||   |\n"
          ]
        }
      ]
    },
    {
      "cell_type": "code",
      "source": [
        "import numpy as np\n",
        "def profundidad(inicio, actual):\n",
        "  #Inicio = (x1, y1); actual (x2, y2)\n",
        "  #Se calcula el límite de la profundidad, mediante la diferencia mayor de los puntos\n",
        "  res = abs(np.array(inicio) - np.array(actual))\n",
        "  return max(res)"
      ],
      "metadata": {
        "id": "K53IWC45i995"
      },
      "execution_count": null,
      "outputs": []
    },
    {
      "cell_type": "code",
      "source": [
        "profundidad((2,2), (4,1))"
      ],
      "metadata": {
        "colab": {
          "base_uri": "https://localhost:8080/"
        },
        "id": "Z5hnY5ErrnxU",
        "outputId": "c491bc8a-74e6-46cd-8633-751d333c3955"
      },
      "execution_count": null,
      "outputs": [
        {
          "output_type": "execute_result",
          "data": {
            "text/plain": [
              "2"
            ]
          },
          "metadata": {},
          "execution_count": 19
        }
      ]
    },
    {
      "cell_type": "code",
      "source": [
        "#Función DFS limitada a un valor de profundidad\n",
        "def LDFS(frontera_act, visitados, solucion, meta, tablero, obstaculos, inicio, limite):\n",
        "  frontera = frontera_act[:]\n",
        "  #Si ya no hay posibles caminos, entonces no se encontro solución\n",
        "  if len(frontera) == 0:\n",
        "    return []\n",
        "  #Se toma el primer elemento de la lista y se elimina de la misma\n",
        "  cabeza = frontera.pop(0)\n",
        "  #Si el elemento no ha sido anteriormente visitado o generado, o si es un obstaculo,\n",
        "  #entonces no se generan más soluciones, para evitar enciclarse\n",
        "  if cabeza not in visitados and cabeza not in obstaculos:\n",
        "    #Se agrega el elemento a la lista de soluciones, es decir el camino recorrido hasta ahora\n",
        "    solucion.append(cabeza)\n",
        "    #Si cumple con el criterio de aceptación entonces llega a la meta\n",
        "    if criterioAceptacion(cabeza, meta):\n",
        "      return solucion\n",
        "    #Se agrega a la lista de visitados para evitar enciclamientos\n",
        "    visitados.append(cabeza)\n",
        "    #Se establece una condición sobre si la generación de profundidad de las posibilidades es menor al limite establecido\n",
        "    if profundidad(inicio, cabeza) <= limite:\n",
        "      #Se generan las nuevas posibilidades a partir de la posición actual\n",
        "      nuevas_soluciones = generarSoluciones(cabeza, tablero)\n",
        "      #Se agregan los elementos nuevos al inicio de la lista para simular una pila\n",
        "      frontera = nuevas_soluciones + frontera\n",
        "  #Se hace un llamado recursivo\n",
        "  return LDFS(frontera, visitados, solucion, meta, tablero, obstaculos, inicio, limite)"
      ],
      "metadata": {
        "id": "wn4eo0DQro8F"
      },
      "execution_count": null,
      "outputs": []
    },
    {
      "cell_type": "code",
      "source": [
        "#Función que utiliza todos las funciones creadas para hacer la simulación\n",
        "def play_ldfs():\n",
        "  n, m = 15, 15\n",
        "  #Se establece un limite para evitar que recorra todo el espacio de soluciones\n",
        "  limite = 5\n",
        "  inicio, meta = generarInicioMeta(n, m)\n",
        "  print(\"El inicio se encuentra en la posición \", inicio)\n",
        "  print(\"La meta se encuentra en la posición \", meta)\n",
        "  print(\"Mi limite de profunidad es \", limite)\n",
        "  obstaculos = generarObstaculos(n, m, inicio, meta)\n",
        "  print(\"Número de obstaculos: {}\".format(len(obstaculos)))\n",
        "  visitados, solucion = [], []\n",
        "  solLDFS = LDFS([inicio], visitados, solucion, meta, (n,m), obstaculos, inicio, limite)\n",
        "  print(\"Cantidad recorrida con LDFS: {}\".format(len(solLDFS)))\n",
        "  if len(solLDFS) == 0:\n",
        "    print(\"No se encontro solucion\")\n",
        "    return\n",
        "  imprimeTab(solLDFS, n, m, inicio, meta, obstaculos)"
      ],
      "metadata": {
        "id": "tVOlio_otei_"
      },
      "execution_count": null,
      "outputs": []
    },
    {
      "cell_type": "code",
      "source": [
        "play_ldfs()"
      ],
      "metadata": {
        "colab": {
          "base_uri": "https://localhost:8080/"
        },
        "id": "F_Ke7mrftxDQ",
        "outputId": "ff92a76d-5def-47f0-ae3f-4ee93ba1fee7"
      },
      "execution_count": null,
      "outputs": [
        {
          "output_type": "stream",
          "name": "stdout",
          "text": [
            "El inicio se encuentra en la posición  (12, 10)\n",
            "La meta se encuentra en la posición  (3, 10)\n",
            "Mi limite de profunidad es  5\n",
            "Número de obstaculos: 41\n",
            "Cantidad recorrida con LDFS: 0\n",
            "No se encontro solucion\n"
          ]
        }
      ]
    },
    {
      "cell_type": "code",
      "source": [
        "#Función que implementa la variación del DFS limitado con una estructura iterativa\n",
        "def ILDFS(frontera, limite_inicial, inicio, meta, tablero, obstaculos):\n",
        "  #Se guarda el limite inicial para que altere solo el valor de la variable local\n",
        "  limite_actual = limite_inicial\n",
        "  #Ciclo infinito\n",
        "  while True:\n",
        "    #Si el limite es mayor a uno establecido\n",
        "    if limite_actual >= 100:\n",
        "      #entonces no encontro una solición (Evita enciclarse por siempre)\n",
        "      print(\"No se encontro solución\")\n",
        "      return []\n",
        "    solucion = []\n",
        "    visitados = []\n",
        "    #Se llama al algoritmo LDFS creado anteriormente con el limite actual\n",
        "    sol = LDFS(frontera, visitados, solucion, meta, tablero, obstaculos, inicio, limite_actual)\n",
        "    #Si encuentra una solción, la lista debe tener más de un elemento\n",
        "    if len(sol) > 0:\n",
        "      print(\"Se encontro la solución en el nivel: {}\".format(limite_actual))\n",
        "      #Se retorna la solución encontrada\n",
        "      return sol\n",
        "    #Si no encuentra aun la solución, entonces aumenta el limite establecido, para aumentar el rango de posibilidades\n",
        "    limite_actual += 1\n",
        "    print(\"No se encontro solución en el nivel: {}\".format(limite_actual))\n",
        "    #Se imprime la tabla para ver como evoluciona la búsqueda\n",
        "    imprimeTab(visitados, tablero[0], tablero[1], inicio, meta, obstaculos)"
      ],
      "metadata": {
        "id": "Hnnyh30at03K"
      },
      "execution_count": null,
      "outputs": []
    },
    {
      "cell_type": "code",
      "source": [
        "#Función que utiliza todos las funciones creadas para hacer la simulación\n",
        "def play_ildfs():\n",
        "  n, m = 15, 15\n",
        "  limite = 1\n",
        "  inicio, meta = generarInicioMeta(n, m)\n",
        "  print(\"El inicio se encuentra en la posición \", inicio)\n",
        "  print(\"La meta se encuentra en la posición \", meta)\n",
        "  print(\"Mi limite de profunidad es \", limite)\n",
        "  obstaculos = generarObstaculos(n, m, inicio, meta)\n",
        "  print(\"Número de obstaculos: {}\".format(len(obstaculos)))\n",
        "  solILDFS = ILDFS([inicio], limite, inicio, meta, (n,m), obstaculos)\n",
        "  print(\"Cantidad recorrida con ILDFS: {}\".format(len(solILDFS)))\n",
        "  if len(solILDFS) == 0:\n",
        "    print(\"No se encontro solucion\")\n",
        "    return\n",
        "  imprimeTab(solILDFS, n, m, inicio, meta, obstaculos)"
      ],
      "metadata": {
        "id": "LAgHf7yab0Zo"
      },
      "execution_count": null,
      "outputs": []
    },
    {
      "cell_type": "code",
      "source": [
        "play_ildfs()"
      ],
      "metadata": {
        "colab": {
          "base_uri": "https://localhost:8080/"
        },
        "id": "TtUXejH5cEmY",
        "outputId": "bfcc1c3a-20ea-421f-8d63-7804c83f5372"
      },
      "execution_count": null,
      "outputs": [
        {
          "output_type": "stream",
          "name": "stdout",
          "text": [
            "El inicio se encuentra en la posición  (5, 11)\n",
            "La meta se encuentra en la posición  (7, 12)\n",
            "Mi limite de profunidad es  1\n",
            "Número de obstaculos: 40\n",
            "Se encontro la solución en el nivel: 1\n",
            "Cantidad recorrida con ILDFS: 17\n",
            "|   || X || X ||   ||   ||   ||   ||   ||   ||   ||   ||   ||   ||   ||   |\n",
            "|   ||   ||   ||   ||   || X ||   ||   ||   ||   ||   ||   || X ||   ||   |\n",
            "|   || X || X ||   ||   || X ||   ||   || X ||   ||   ||   || X ||   ||   |\n",
            "|   ||   || X ||   ||   || X ||   ||   ||   ||   || 0 || 0 || 0 ||   ||   |\n",
            "| X ||   || X || X ||   ||   ||   ||   ||   ||   || 0 || 0 || 0 || 0 ||   |\n",
            "|   ||   ||   || X ||   ||   ||   || X || X ||   || 0 || I || 0 || 0 ||   |\n",
            "|   ||   ||   ||   || X ||   ||   ||   ||   || X || 0 || 0 || 0 ||   ||   |\n",
            "| X ||   ||   ||   ||   ||   || X ||   ||   ||   || 0 || 0 || M ||   || X |\n",
            "| X ||   || X ||   ||   ||   || X ||   ||   ||   ||   ||   || X || X || X |\n",
            "|   || X ||   ||   ||   ||   ||   ||   ||   || X ||   || X ||   || X || X |\n",
            "|   ||   || X ||   ||   ||   || X ||   ||   ||   || X ||   ||   ||   ||   |\n",
            "|   ||   ||   ||   ||   ||   ||   ||   ||   ||   || X ||   ||   ||   ||   |\n",
            "|   ||   ||   ||   ||   ||   ||   ||   ||   ||   || X ||   ||   ||   ||   |\n",
            "|   ||   ||   ||   ||   ||   ||   ||   ||   ||   ||   ||   ||   || X ||   |\n",
            "|   || X ||   ||   ||   ||   ||   ||   ||   ||   ||   ||   ||   ||   ||   |\n"
          ]
        }
      ]
    },
    {
      "cell_type": "code",
      "source": [
        "import math\n",
        "#Para el problema del laberinto, la heuristica es la distancia euclidiana.\n",
        "def distanciaEuclidiana(punto1, punto2):\n",
        "  val = math.sqrt(math.pow(punto2[0]-punto1[0],2) + math.pow(punto2[1] - punto1[1], 2))\n",
        "  return val"
      ],
      "metadata": {
        "id": "tXad4RA7cGVC"
      },
      "execution_count": null,
      "outputs": []
    },
    {
      "cell_type": "code",
      "source": [
        "print(distanciaEuclidiana((1,1), (5,3)))\n",
        "print(distanciaEuclidiana((0,0), (5,3)))"
      ],
      "metadata": {
        "colab": {
          "base_uri": "https://localhost:8080/"
        },
        "id": "wCO8nSdUldNY",
        "outputId": "0734d21b-a11b-4e8f-fc0d-ecbef02aa1f6"
      },
      "execution_count": null,
      "outputs": [
        {
          "output_type": "stream",
          "name": "stdout",
          "text": [
            "4.47213595499958\n",
            "5.830951894845301\n"
          ]
        }
      ]
    },
    {
      "cell_type": "code",
      "source": [
        "def evaluacionVoraz(posibilidades, meta):\n",
        "  best_val = 100000\n",
        "  best = None\n",
        "  for posible in posibilidades:\n",
        "    val = distanciaEuclidiana(posible, meta)\n",
        "    if val < best_val:\n",
        "      best = posible\n",
        "      best_val = val\n",
        "  return best"
      ],
      "metadata": {
        "id": "gp9Sad9LmsBS"
      },
      "execution_count": null,
      "outputs": []
    },
    {
      "cell_type": "code",
      "source": [
        "def eliminaPosibilidadeIguales(posibilidades, lista):\n",
        "  nueva_lista = []\n",
        "  for posible in posibilidades:\n",
        "    if posible in lista:\n",
        "      continue\n",
        "    nueva_lista.append(posible)\n",
        "  return nueva_lista"
      ],
      "metadata": {
        "id": "Jrx1JXfdoeny"
      },
      "execution_count": null,
      "outputs": []
    },
    {
      "cell_type": "code",
      "source": [
        "def voraz(nodo, visitados, solucion, meta, tablero, obstaculos):\n",
        "  if nodo == None:\n",
        "    return []\n",
        "  solucion.append(nodo)\n",
        "  if criterioAceptacion(nodo, meta):\n",
        "    return solucion\n",
        "  nuevas_soluciones = generarSoluciones(nodo, tablero)\n",
        "  #print(nuevas_soluciones)\n",
        "  nuevas_soluciones = eliminaPosibilidadeIguales(nuevas_soluciones, visitados)\n",
        "  #print(nuevas_soluciones)\n",
        "  nuevas_soluciones = eliminaPosibilidadeIguales(nuevas_soluciones, obstaculos)\n",
        "  #print(nuevas_soluciones)\n",
        "  mejor = evaluacionVoraz(nuevas_soluciones, meta)\n",
        "  #print(mejor)\n",
        "  visitados.append(nodo)\n",
        "  return voraz(mejor, visitados, solucion, meta, tablero, obstaculos)"
      ],
      "metadata": {
        "id": "y-W6uVU8lmgx"
      },
      "execution_count": null,
      "outputs": []
    },
    {
      "cell_type": "code",
      "source": [
        "solucion = voraz((1,1), [], [], (2,5), (10,10), [])\n",
        "imprimeTab(solucion, 10, 10, (1,1), (2,5), [])\n",
        "solucion = voraz((1,1), [], [], (2,5), (10,10), [(1,2)])\n",
        "imprimeTab(solucion, 10, 10, (1,1), (2,5), [(1,2)])"
      ],
      "metadata": {
        "colab": {
          "base_uri": "https://localhost:8080/"
        },
        "id": "rXRXAEJVnRns",
        "outputId": "2305936a-dbc4-4b7f-bc83-8026b739f341"
      },
      "execution_count": null,
      "outputs": [
        {
          "output_type": "stream",
          "name": "stdout",
          "text": [
            "|   ||   ||   ||   ||   ||   ||   ||   ||   ||   |\n",
            "|   || I || 0 || 0 || 0 ||   ||   ||   ||   ||   |\n",
            "|   ||   ||   ||   || 0 || M ||   ||   ||   ||   |\n",
            "|   ||   ||   ||   ||   ||   ||   ||   ||   ||   |\n",
            "|   ||   ||   ||   ||   ||   ||   ||   ||   ||   |\n",
            "|   ||   ||   ||   ||   ||   ||   ||   ||   ||   |\n",
            "|   ||   ||   ||   ||   ||   ||   ||   ||   ||   |\n",
            "|   ||   ||   ||   ||   ||   ||   ||   ||   ||   |\n",
            "|   ||   ||   ||   ||   ||   ||   ||   ||   ||   |\n",
            "|   ||   ||   ||   ||   ||   ||   ||   ||   ||   |\n",
            "|   ||   ||   ||   ||   ||   ||   ||   ||   ||   |\n",
            "|   || I || X ||   ||   ||   ||   ||   ||   ||   |\n",
            "|   || 0 || 0 || 0 || 0 || M ||   ||   ||   ||   |\n",
            "|   ||   ||   ||   ||   ||   ||   ||   ||   ||   |\n",
            "|   ||   ||   ||   ||   ||   ||   ||   ||   ||   |\n",
            "|   ||   ||   ||   ||   ||   ||   ||   ||   ||   |\n",
            "|   ||   ||   ||   ||   ||   ||   ||   ||   ||   |\n",
            "|   ||   ||   ||   ||   ||   ||   ||   ||   ||   |\n",
            "|   ||   ||   ||   ||   ||   ||   ||   ||   ||   |\n",
            "|   ||   ||   ||   ||   ||   ||   ||   ||   ||   |\n"
          ]
        }
      ]
    },
    {
      "cell_type": "code",
      "source": [
        "def play_voraz():\n",
        "  n, m = 15, 15\n",
        "  inicio, meta = generarInicioMeta(n,m)\n",
        "  print(\"El inicio se encuentra en la posición \", inicio)\n",
        "  print(\"La meta se encuentra en la posición \", meta)\n",
        "  obstaculos = generarObstaculos(n, m, inicio, meta)\n",
        "  print(\"Número de obstaculos: {}\".format(len(obstaculos)))\n",
        "  imprimeTab([], n, m, inicio, meta, obstaculos)\n",
        "  visitados, solucion = [], []\n",
        "  solVoraz = voraz(inicio, visitados, solucion, meta, (n, m), obstaculos)\n",
        "  print(\"===========================================\")\n",
        "  if len(solVoraz) == 0:\n",
        "    print(\"No se encontro una solución\")\n",
        "    return\n",
        "  imprimeTab(solVoraz, n, m, inicio, meta, obstaculos)"
      ],
      "metadata": {
        "id": "fMUu0-85naqc"
      },
      "execution_count": null,
      "outputs": []
    },
    {
      "cell_type": "code",
      "source": [
        "play_voraz()"
      ],
      "metadata": {
        "colab": {
          "base_uri": "https://localhost:8080/"
        },
        "id": "YWzuKbXaqCAI",
        "outputId": "3bc8e89c-5078-4dde-8ab3-b095659634cc"
      },
      "execution_count": null,
      "outputs": [
        {
          "output_type": "stream",
          "name": "stdout",
          "text": [
            "El inicio se encuentra en la posición  (5, 12)\n",
            "La meta se encuentra en la posición  (2, 12)\n",
            "Número de obstaculos: 40\n",
            "|   ||   ||   ||   ||   ||   ||   || X ||   ||   ||   ||   ||   ||   ||   |\n",
            "|   ||   ||   ||   ||   ||   || X ||   || X ||   ||   ||   ||   ||   ||   |\n",
            "|   ||   ||   ||   ||   ||   || X ||   ||   ||   ||   ||   || M ||   ||   |\n",
            "|   ||   ||   ||   ||   ||   ||   ||   ||   || X ||   || X || X ||   ||   |\n",
            "|   || X || X || X ||   ||   ||   || X ||   ||   ||   ||   ||   ||   ||   |\n",
            "|   ||   ||   || X ||   || X || X ||   ||   ||   ||   ||   || I ||   ||   |\n",
            "|   ||   || X ||   ||   ||   ||   || X ||   || X ||   ||   ||   ||   || X |\n",
            "|   ||   ||   || X || X ||   ||   ||   ||   ||   ||   ||   ||   ||   ||   |\n",
            "|   ||   ||   || X ||   ||   ||   ||   || X ||   ||   ||   ||   ||   ||   |\n",
            "|   ||   ||   ||   ||   ||   || X ||   ||   ||   ||   ||   ||   ||   ||   |\n",
            "|   ||   ||   ||   ||   || X ||   ||   ||   || X ||   ||   ||   ||   ||   |\n",
            "|   ||   ||   ||   ||   ||   || X ||   ||   ||   ||   || X || X ||   ||   |\n",
            "|   ||   ||   ||   || X ||   || X ||   ||   ||   || X ||   ||   ||   ||   |\n",
            "|   || X ||   ||   ||   ||   ||   || X ||   || X ||   ||   ||   ||   || X |\n",
            "|   || X ||   ||   || X ||   ||   || X ||   ||   ||   || X || X ||   ||   |\n",
            "===========================================\n",
            "|   ||   ||   ||   ||   ||   ||   || X ||   ||   ||   ||   ||   ||   ||   |\n",
            "|   ||   ||   ||   ||   ||   || X ||   || X ||   ||   ||   ||   ||   ||   |\n",
            "|   ||   ||   ||   ||   ||   || X ||   ||   ||   || 0 || 0 || M ||   ||   |\n",
            "|   ||   ||   ||   ||   ||   ||   ||   ||   || X || 0 || X || X ||   ||   |\n",
            "|   || X || X || X ||   ||   ||   || X ||   ||   || 0 || 0 || 0 ||   ||   |\n",
            "|   ||   ||   || X ||   || X || X ||   ||   ||   ||   ||   || I ||   ||   |\n",
            "|   ||   || X ||   ||   ||   ||   || X ||   || X ||   ||   ||   ||   || X |\n",
            "|   ||   ||   || X || X ||   ||   ||   ||   ||   ||   ||   ||   ||   ||   |\n",
            "|   ||   ||   || X ||   ||   ||   ||   || X ||   ||   ||   ||   ||   ||   |\n",
            "|   ||   ||   ||   ||   ||   || X ||   ||   ||   ||   ||   ||   ||   ||   |\n",
            "|   ||   ||   ||   ||   || X ||   ||   ||   || X ||   ||   ||   ||   ||   |\n",
            "|   ||   ||   ||   ||   ||   || X ||   ||   ||   ||   || X || X ||   ||   |\n",
            "|   ||   ||   ||   || X ||   || X ||   ||   ||   || X ||   ||   ||   ||   |\n",
            "|   || X ||   ||   ||   ||   ||   || X ||   || X ||   ||   ||   ||   || X |\n",
            "|   || X ||   ||   || X ||   ||   || X ||   ||   ||   || X || X ||   ||   |\n"
          ]
        }
      ]
    },
    {
      "cell_type": "code",
      "source": [
        "#Función que evalua cada posibilidad y ordena la lista de menor a mayor en este caso.\n",
        "def evaluacion_aStar(posibilidades, meta):\n",
        "  evaluaciones = []\n",
        "  for posible in posibilidades:\n",
        "    #Se suma g(n) + h(n)\n",
        "    valor = posible[1] + distanciaEuclidiana(posible[0], meta)\n",
        "    evaluaciones.append([posible, valor])\n",
        "  #print(evaluaciones)\n",
        "  def second_value(elemento):\n",
        "    return elemento[1]\n",
        "  evaluaciones.sort(key= second_value)\n",
        "  #print(evaluaciones)\n",
        "  resultado = [posible for (posible, valor_evaluacion) in evaluaciones]\n",
        "  #print(resultado)\n",
        "  return resultado"
      ],
      "metadata": {
        "id": "wcm_aAJ-qDo_"
      },
      "execution_count": null,
      "outputs": []
    },
    {
      "cell_type": "code",
      "source": [
        "def AStar(frontera_act, visitados, solucion, meta, tablero, obstaculos):\n",
        "  frontera = frontera_act[:]\n",
        "  print(\"Inicio\",frontera)\n",
        "  if len(frontera) == 0:\n",
        "    return []\n",
        "  nodo = frontera.pop(0)\n",
        "  solucion.append(nodo[0])\n",
        "  if criterioAceptacion(nodo[0], meta):\n",
        "    return solucion\n",
        "  print(\"Nod\", nodo[0])\n",
        "  nuevas_soluciones = generarSoluciones(nodo[0], tablero)\n",
        "  print(\"Sol\",nuevas_soluciones)\n",
        "  nuevas_soluciones = eliminaPosibilidadeIguales(nuevas_soluciones, visitados)\n",
        "  nuevas_soluciones = eliminaPosibilidadeIguales(nuevas_soluciones, obstaculos)\n",
        "  print(\"No obs\", nuevas_soluciones)\n",
        "  nuevas_soluciones_costo = []\n",
        "  for sol in nuevas_soluciones:\n",
        "    nuevas_soluciones_costo.append((sol, nodo[1] + 1))\n",
        "  frontera = frontera + nuevas_soluciones_costo\n",
        "  #print(frontera)\n",
        "  frontera_ordenada = evaluacion_aStar(frontera, meta)\n",
        "  visitados.append(nodo[0])\n",
        "  #LLamado recursivo\n",
        "  return AStar(frontera_ordenada, visitados, solucion, meta, tablero, obstaculos)"
      ],
      "metadata": {
        "id": "gCaJ6l2FvHRP"
      },
      "execution_count": null,
      "outputs": []
    },
    {
      "cell_type": "code",
      "source": [
        "def play_aStar():\n",
        "  n, m = 15, 15\n",
        "  inicio, meta = generarInicioMeta(n, m)\n",
        "  #Cambiamos la tupla, para que contenga el valor del costo del camino\n",
        "  inicio = (inicio, 0)\n",
        "  print(\"El inicio se encuentra en la posición \", inicio)\n",
        "  print(\"La meta se encuentra en la posición \", meta)\n",
        "  obstaculos = generarObstaculos(n, m, inicio[0], meta)\n",
        "  print(\"Número de obstaculos: {}\".format(len(obstaculos)))\n",
        "  imprimeTab([], n, m, inicio[0], meta, obstaculos)\n",
        "  visitados, solucion = [], []\n",
        "  solAStar = AStar([inicio], visitados, solucion, meta, (n, m), obstaculos)\n",
        "  print(\"==============================\")\n",
        "  if len(solAStar) == 0:\n",
        "    print(\"No se encontro la solución\")\n",
        "    return\n",
        "  imprimeTab(solAStar, n, m, inicio[0], meta, obstaculos)"
      ],
      "metadata": {
        "id": "7GiUiERsvPif"
      },
      "execution_count": null,
      "outputs": []
    },
    {
      "cell_type": "code",
      "source": [
        "play_aStar()"
      ],
      "metadata": {
        "colab": {
          "base_uri": "https://localhost:8080/"
        },
        "id": "4nC_BC2LvbKH",
        "outputId": "ec642571-2781-4bb2-ca0d-b364a8ef7c4f"
      },
      "execution_count": null,
      "outputs": [
        {
          "output_type": "stream",
          "name": "stdout",
          "text": [
            "El inicio se encuentra en la posición  ((8, 9), 0)\n",
            "La meta se encuentra en la posición  (13, 12)\n",
            "Número de obstaculos: 43\n",
            "| X ||   ||   ||   ||   ||   ||   ||   ||   ||   ||   ||   ||   ||   ||   |\n",
            "|   ||   ||   ||   ||   ||   || X ||   ||   ||   ||   ||   ||   ||   || X |\n",
            "|   ||   ||   ||   ||   ||   ||   ||   ||   ||   ||   ||   ||   ||   ||   |\n",
            "|   || X ||   ||   || X || X ||   ||   ||   ||   || X ||   ||   ||   ||   |\n",
            "|   ||   ||   || X ||   ||   ||   ||   ||   ||   || X ||   ||   || X ||   |\n",
            "|   ||   ||   || X ||   ||   ||   || X ||   ||   ||   ||   ||   ||   ||   |\n",
            "|   || X ||   ||   || X ||   ||   ||   || X ||   || X || X || X ||   ||   |\n",
            "|   ||   ||   ||   ||   ||   || X || X ||   ||   ||   ||   ||   ||   || X |\n",
            "|   ||   ||   ||   || X ||   ||   ||   ||   || I || X ||   ||   ||   ||   |\n",
            "|   ||   ||   ||   || X ||   ||   ||   || X ||   ||   ||   || X ||   ||   |\n",
            "|   ||   ||   ||   ||   ||   ||   || X || X ||   ||   ||   ||   || X ||   |\n",
            "| X ||   ||   || X ||   ||   || X ||   ||   ||   ||   ||   ||   ||   ||   |\n",
            "|   ||   ||   ||   ||   || X || X ||   || X ||   ||   ||   || X ||   ||   |\n",
            "| X ||   ||   || X ||   ||   || X ||   || X ||   ||   ||   || M || X ||   |\n",
            "|   ||   ||   || X ||   || X ||   ||   ||   ||   ||   ||   ||   ||   ||   |\n",
            "Inicio [((8, 9), 0)]\n",
            "Nod (8, 9)\n",
            "Sol [(7, 9), (9, 9), (8, 8), (8, 10)]\n",
            "No obs [(7, 9), (9, 9), (8, 8)]\n",
            "Inicio [((9, 9), 1), ((8, 8), 1), ((7, 9), 1)]\n",
            "Nod (9, 9)\n",
            "Sol [(8, 9), (10, 9), (9, 8), (9, 10)]\n",
            "No obs [(10, 9), (9, 10)]\n",
            "Inicio [((10, 9), 2), ((9, 10), 2), ((8, 8), 1), ((7, 9), 1)]\n",
            "Nod (10, 9)\n",
            "Sol [(9, 9), (11, 9), (10, 8), (10, 10)]\n",
            "No obs [(11, 9), (10, 10)]\n",
            "Inicio [((9, 10), 2), ((11, 9), 3), ((10, 10), 3), ((8, 8), 1), ((7, 9), 1)]\n",
            "Nod (9, 10)\n",
            "Sol [(8, 10), (10, 10), (9, 9), (9, 11)]\n",
            "No obs [(10, 10), (9, 11)]\n",
            "Inicio [((11, 9), 3), ((10, 10), 3), ((10, 10), 3), ((9, 11), 3), ((8, 8), 1), ((7, 9), 1)]\n",
            "Nod (11, 9)\n",
            "Sol [(10, 9), (12, 9), (11, 8), (11, 10)]\n",
            "No obs [(12, 9), (11, 8), (11, 10)]\n",
            "Inicio [((10, 10), 3), ((10, 10), 3), ((11, 10), 4), ((9, 11), 3), ((12, 9), 4), ((8, 8), 1), ((7, 9), 1), ((11, 8), 4)]\n",
            "Nod (10, 10)\n",
            "Sol [(9, 10), (11, 10), (10, 9), (10, 11)]\n",
            "No obs [(11, 10), (10, 11)]\n",
            "Inicio [((10, 10), 3), ((11, 10), 4), ((11, 10), 4), ((9, 11), 3), ((12, 9), 4), ((10, 11), 4), ((8, 8), 1), ((7, 9), 1), ((11, 8), 4)]\n",
            "Nod (10, 10)\n",
            "Sol [(9, 10), (11, 10), (10, 9), (10, 11)]\n",
            "No obs [(11, 10), (10, 11)]\n",
            "Inicio [((11, 10), 4), ((11, 10), 4), ((11, 10), 4), ((9, 11), 3), ((12, 9), 4), ((10, 11), 4), ((10, 11), 4), ((8, 8), 1), ((7, 9), 1), ((11, 8), 4)]\n",
            "Nod (11, 10)\n",
            "Sol [(10, 10), (12, 10), (11, 9), (11, 11)]\n",
            "No obs [(12, 10), (11, 11)]\n",
            "Inicio [((11, 10), 4), ((11, 10), 4), ((9, 11), 3), ((12, 9), 4), ((10, 11), 4), ((10, 11), 4), ((12, 10), 5), ((11, 11), 5), ((8, 8), 1), ((7, 9), 1), ((11, 8), 4)]\n",
            "Nod (11, 10)\n",
            "Sol [(10, 10), (12, 10), (11, 9), (11, 11)]\n",
            "No obs [(12, 10), (11, 11)]\n",
            "Inicio [((11, 10), 4), ((9, 11), 3), ((12, 9), 4), ((10, 11), 4), ((10, 11), 4), ((12, 10), 5), ((11, 11), 5), ((12, 10), 5), ((11, 11), 5), ((8, 8), 1), ((7, 9), 1), ((11, 8), 4)]\n",
            "Nod (11, 10)\n",
            "Sol [(10, 10), (12, 10), (11, 9), (11, 11)]\n",
            "No obs [(12, 10), (11, 11)]\n",
            "Inicio [((9, 11), 3), ((12, 9), 4), ((10, 11), 4), ((10, 11), 4), ((12, 10), 5), ((11, 11), 5), ((12, 10), 5), ((11, 11), 5), ((12, 10), 5), ((11, 11), 5), ((8, 8), 1), ((7, 9), 1), ((11, 8), 4)]\n",
            "Nod (9, 11)\n",
            "Sol [(8, 11), (10, 11), (9, 10), (9, 12)]\n",
            "No obs [(8, 11), (10, 11)]\n",
            "Inicio [((12, 9), 4), ((10, 11), 4), ((10, 11), 4), ((10, 11), 4), ((12, 10), 5), ((11, 11), 5), ((12, 10), 5), ((11, 11), 5), ((12, 10), 5), ((11, 11), 5), ((8, 8), 1), ((7, 9), 1), ((11, 8), 4), ((8, 11), 4)]\n",
            "Nod (12, 9)\n",
            "Sol [(11, 9), (13, 9), (12, 8), (12, 10)]\n",
            "No obs [(13, 9), (12, 10)]\n",
            "Inicio [((10, 11), 4), ((10, 11), 4), ((10, 11), 4), ((12, 10), 5), ((11, 11), 5), ((12, 10), 5), ((11, 11), 5), ((12, 10), 5), ((11, 11), 5), ((12, 10), 5), ((8, 8), 1), ((7, 9), 1), ((13, 9), 5), ((11, 8), 4), ((8, 11), 4)]\n",
            "Nod (10, 11)\n",
            "Sol [(9, 11), (11, 11), (10, 10), (10, 12)]\n",
            "No obs [(11, 11), (10, 12)]\n",
            "Inicio [((10, 11), 4), ((10, 11), 4), ((12, 10), 5), ((11, 11), 5), ((12, 10), 5), ((11, 11), 5), ((12, 10), 5), ((11, 11), 5), ((12, 10), 5), ((11, 11), 5), ((8, 8), 1), ((7, 9), 1), ((13, 9), 5), ((10, 12), 5), ((11, 8), 4), ((8, 11), 4)]\n",
            "Nod (10, 11)\n",
            "Sol [(9, 11), (11, 11), (10, 10), (10, 12)]\n",
            "No obs [(11, 11), (10, 12)]\n",
            "Inicio [((10, 11), 4), ((12, 10), 5), ((11, 11), 5), ((12, 10), 5), ((11, 11), 5), ((12, 10), 5), ((11, 11), 5), ((12, 10), 5), ((11, 11), 5), ((11, 11), 5), ((8, 8), 1), ((7, 9), 1), ((13, 9), 5), ((10, 12), 5), ((10, 12), 5), ((11, 8), 4), ((8, 11), 4)]\n",
            "Nod (10, 11)\n",
            "Sol [(9, 11), (11, 11), (10, 10), (10, 12)]\n",
            "No obs [(11, 11), (10, 12)]\n",
            "Inicio [((12, 10), 5), ((11, 11), 5), ((12, 10), 5), ((11, 11), 5), ((12, 10), 5), ((11, 11), 5), ((12, 10), 5), ((11, 11), 5), ((11, 11), 5), ((11, 11), 5), ((8, 8), 1), ((7, 9), 1), ((13, 9), 5), ((10, 12), 5), ((10, 12), 5), ((10, 12), 5), ((11, 8), 4), ((8, 11), 4)]\n",
            "Nod (12, 10)\n",
            "Sol [(11, 10), (13, 10), (12, 9), (12, 11)]\n",
            "No obs [(13, 10), (12, 11)]\n",
            "Inicio [((11, 11), 5), ((12, 10), 5), ((11, 11), 5), ((12, 10), 5), ((11, 11), 5), ((12, 10), 5), ((11, 11), 5), ((11, 11), 5), ((11, 11), 5), ((8, 8), 1), ((12, 11), 6), ((7, 9), 1), ((13, 9), 5), ((10, 12), 5), ((10, 12), 5), ((10, 12), 5), ((13, 10), 6), ((11, 8), 4), ((8, 11), 4)]\n",
            "Nod (11, 11)\n",
            "Sol [(10, 11), (12, 11), (11, 10), (11, 12)]\n",
            "No obs [(12, 11), (11, 12)]\n",
            "Inicio [((12, 10), 5), ((11, 11), 5), ((12, 10), 5), ((11, 11), 5), ((12, 10), 5), ((11, 11), 5), ((11, 11), 5), ((11, 11), 5), ((8, 8), 1), ((12, 11), 6), ((12, 11), 6), ((7, 9), 1), ((13, 9), 5), ((10, 12), 5), ((10, 12), 5), ((10, 12), 5), ((13, 10), 6), ((11, 12), 6), ((11, 8), 4), ((8, 11), 4)]\n",
            "Nod (12, 10)\n",
            "Sol [(11, 10), (13, 10), (12, 9), (12, 11)]\n",
            "No obs [(13, 10), (12, 11)]\n",
            "Inicio [((11, 11), 5), ((12, 10), 5), ((11, 11), 5), ((12, 10), 5), ((11, 11), 5), ((11, 11), 5), ((11, 11), 5), ((8, 8), 1), ((12, 11), 6), ((12, 11), 6), ((12, 11), 6), ((7, 9), 1), ((13, 9), 5), ((10, 12), 5), ((10, 12), 5), ((10, 12), 5), ((13, 10), 6), ((11, 12), 6), ((13, 10), 6), ((11, 8), 4), ((8, 11), 4)]\n",
            "Nod (11, 11)\n",
            "Sol [(10, 11), (12, 11), (11, 10), (11, 12)]\n",
            "No obs [(12, 11), (11, 12)]\n",
            "Inicio [((12, 10), 5), ((11, 11), 5), ((12, 10), 5), ((11, 11), 5), ((11, 11), 5), ((11, 11), 5), ((8, 8), 1), ((12, 11), 6), ((12, 11), 6), ((12, 11), 6), ((12, 11), 6), ((7, 9), 1), ((13, 9), 5), ((10, 12), 5), ((10, 12), 5), ((10, 12), 5), ((13, 10), 6), ((11, 12), 6), ((13, 10), 6), ((11, 12), 6), ((11, 8), 4), ((8, 11), 4)]\n",
            "Nod (12, 10)\n",
            "Sol [(11, 10), (13, 10), (12, 9), (12, 11)]\n",
            "No obs [(13, 10), (12, 11)]\n",
            "Inicio [((11, 11), 5), ((12, 10), 5), ((11, 11), 5), ((11, 11), 5), ((11, 11), 5), ((8, 8), 1), ((12, 11), 6), ((12, 11), 6), ((12, 11), 6), ((12, 11), 6), ((12, 11), 6), ((7, 9), 1), ((13, 9), 5), ((10, 12), 5), ((10, 12), 5), ((10, 12), 5), ((13, 10), 6), ((11, 12), 6), ((13, 10), 6), ((11, 12), 6), ((13, 10), 6), ((11, 8), 4), ((8, 11), 4)]\n",
            "Nod (11, 11)\n",
            "Sol [(10, 11), (12, 11), (11, 10), (11, 12)]\n",
            "No obs [(12, 11), (11, 12)]\n",
            "Inicio [((12, 10), 5), ((11, 11), 5), ((11, 11), 5), ((11, 11), 5), ((8, 8), 1), ((12, 11), 6), ((12, 11), 6), ((12, 11), 6), ((12, 11), 6), ((12, 11), 6), ((12, 11), 6), ((7, 9), 1), ((13, 9), 5), ((10, 12), 5), ((10, 12), 5), ((10, 12), 5), ((13, 10), 6), ((11, 12), 6), ((13, 10), 6), ((11, 12), 6), ((13, 10), 6), ((11, 12), 6), ((11, 8), 4), ((8, 11), 4)]\n",
            "Nod (12, 10)\n",
            "Sol [(11, 10), (13, 10), (12, 9), (12, 11)]\n",
            "No obs [(13, 10), (12, 11)]\n",
            "Inicio [((11, 11), 5), ((11, 11), 5), ((11, 11), 5), ((8, 8), 1), ((12, 11), 6), ((12, 11), 6), ((12, 11), 6), ((12, 11), 6), ((12, 11), 6), ((12, 11), 6), ((12, 11), 6), ((7, 9), 1), ((13, 9), 5), ((10, 12), 5), ((10, 12), 5), ((10, 12), 5), ((13, 10), 6), ((11, 12), 6), ((13, 10), 6), ((11, 12), 6), ((13, 10), 6), ((11, 12), 6), ((13, 10), 6), ((11, 8), 4), ((8, 11), 4)]\n",
            "Nod (11, 11)\n",
            "Sol [(10, 11), (12, 11), (11, 10), (11, 12)]\n",
            "No obs [(12, 11), (11, 12)]\n",
            "Inicio [((11, 11), 5), ((11, 11), 5), ((8, 8), 1), ((12, 11), 6), ((12, 11), 6), ((12, 11), 6), ((12, 11), 6), ((12, 11), 6), ((12, 11), 6), ((12, 11), 6), ((12, 11), 6), ((7, 9), 1), ((13, 9), 5), ((10, 12), 5), ((10, 12), 5), ((10, 12), 5), ((13, 10), 6), ((11, 12), 6), ((13, 10), 6), ((11, 12), 6), ((13, 10), 6), ((11, 12), 6), ((13, 10), 6), ((11, 12), 6), ((11, 8), 4), ((8, 11), 4)]\n",
            "Nod (11, 11)\n",
            "Sol [(10, 11), (12, 11), (11, 10), (11, 12)]\n",
            "No obs [(12, 11), (11, 12)]\n",
            "Inicio [((11, 11), 5), ((8, 8), 1), ((12, 11), 6), ((12, 11), 6), ((12, 11), 6), ((12, 11), 6), ((12, 11), 6), ((12, 11), 6), ((12, 11), 6), ((12, 11), 6), ((12, 11), 6), ((7, 9), 1), ((13, 9), 5), ((10, 12), 5), ((10, 12), 5), ((10, 12), 5), ((13, 10), 6), ((11, 12), 6), ((13, 10), 6), ((11, 12), 6), ((13, 10), 6), ((11, 12), 6), ((13, 10), 6), ((11, 12), 6), ((11, 12), 6), ((11, 8), 4), ((8, 11), 4)]\n",
            "Nod (11, 11)\n",
            "Sol [(10, 11), (12, 11), (11, 10), (11, 12)]\n",
            "No obs [(12, 11), (11, 12)]\n",
            "Inicio [((8, 8), 1), ((12, 11), 6), ((12, 11), 6), ((12, 11), 6), ((12, 11), 6), ((12, 11), 6), ((12, 11), 6), ((12, 11), 6), ((12, 11), 6), ((12, 11), 6), ((12, 11), 6), ((7, 9), 1), ((13, 9), 5), ((10, 12), 5), ((10, 12), 5), ((10, 12), 5), ((13, 10), 6), ((11, 12), 6), ((13, 10), 6), ((11, 12), 6), ((13, 10), 6), ((11, 12), 6), ((13, 10), 6), ((11, 12), 6), ((11, 12), 6), ((11, 12), 6), ((11, 8), 4), ((8, 11), 4)]\n",
            "Nod (8, 8)\n",
            "Sol [(7, 8), (9, 8), (8, 7), (8, 9)]\n",
            "No obs [(7, 8), (8, 7)]\n",
            "Inicio [((12, 11), 6), ((12, 11), 6), ((12, 11), 6), ((12, 11), 6), ((12, 11), 6), ((12, 11), 6), ((12, 11), 6), ((12, 11), 6), ((12, 11), 6), ((12, 11), 6), ((7, 9), 1), ((13, 9), 5), ((10, 12), 5), ((10, 12), 5), ((10, 12), 5), ((13, 10), 6), ((11, 12), 6), ((13, 10), 6), ((11, 12), 6), ((13, 10), 6), ((11, 12), 6), ((13, 10), 6), ((11, 12), 6), ((11, 12), 6), ((11, 12), 6), ((11, 8), 4), ((8, 7), 2), ((8, 11), 4), ((7, 8), 2)]\n",
            "Nod (12, 11)\n",
            "Sol [(11, 11), (13, 11), (12, 10), (12, 12)]\n",
            "No obs [(13, 11)]\n",
            "Inicio [((12, 11), 6), ((12, 11), 6), ((12, 11), 6), ((12, 11), 6), ((12, 11), 6), ((12, 11), 6), ((12, 11), 6), ((12, 11), 6), ((12, 11), 6), ((7, 9), 1), ((13, 9), 5), ((10, 12), 5), ((10, 12), 5), ((10, 12), 5), ((13, 10), 6), ((11, 12), 6), ((13, 10), 6), ((11, 12), 6), ((13, 10), 6), ((11, 12), 6), ((13, 10), 6), ((11, 12), 6), ((11, 12), 6), ((11, 12), 6), ((13, 11), 7), ((11, 8), 4), ((8, 7), 2), ((8, 11), 4), ((7, 8), 2)]\n",
            "Nod (12, 11)\n",
            "Sol [(11, 11), (13, 11), (12, 10), (12, 12)]\n",
            "No obs [(13, 11)]\n",
            "Inicio [((12, 11), 6), ((12, 11), 6), ((12, 11), 6), ((12, 11), 6), ((12, 11), 6), ((12, 11), 6), ((12, 11), 6), ((12, 11), 6), ((7, 9), 1), ((13, 9), 5), ((10, 12), 5), ((10, 12), 5), ((10, 12), 5), ((13, 10), 6), ((11, 12), 6), ((13, 10), 6), ((11, 12), 6), ((13, 10), 6), ((11, 12), 6), ((13, 10), 6), ((11, 12), 6), ((11, 12), 6), ((11, 12), 6), ((13, 11), 7), ((13, 11), 7), ((11, 8), 4), ((8, 7), 2), ((8, 11), 4), ((7, 8), 2)]\n",
            "Nod (12, 11)\n",
            "Sol [(11, 11), (13, 11), (12, 10), (12, 12)]\n",
            "No obs [(13, 11)]\n",
            "Inicio [((12, 11), 6), ((12, 11), 6), ((12, 11), 6), ((12, 11), 6), ((12, 11), 6), ((12, 11), 6), ((12, 11), 6), ((7, 9), 1), ((13, 9), 5), ((10, 12), 5), ((10, 12), 5), ((10, 12), 5), ((13, 10), 6), ((11, 12), 6), ((13, 10), 6), ((11, 12), 6), ((13, 10), 6), ((11, 12), 6), ((13, 10), 6), ((11, 12), 6), ((11, 12), 6), ((11, 12), 6), ((13, 11), 7), ((13, 11), 7), ((13, 11), 7), ((11, 8), 4), ((8, 7), 2), ((8, 11), 4), ((7, 8), 2)]\n",
            "Nod (12, 11)\n",
            "Sol [(11, 11), (13, 11), (12, 10), (12, 12)]\n",
            "No obs [(13, 11)]\n",
            "Inicio [((12, 11), 6), ((12, 11), 6), ((12, 11), 6), ((12, 11), 6), ((12, 11), 6), ((12, 11), 6), ((7, 9), 1), ((13, 9), 5), ((10, 12), 5), ((10, 12), 5), ((10, 12), 5), ((13, 10), 6), ((11, 12), 6), ((13, 10), 6), ((11, 12), 6), ((13, 10), 6), ((11, 12), 6), ((13, 10), 6), ((11, 12), 6), ((11, 12), 6), ((11, 12), 6), ((13, 11), 7), ((13, 11), 7), ((13, 11), 7), ((13, 11), 7), ((11, 8), 4), ((8, 7), 2), ((8, 11), 4), ((7, 8), 2)]\n",
            "Nod (12, 11)\n",
            "Sol [(11, 11), (13, 11), (12, 10), (12, 12)]\n",
            "No obs [(13, 11)]\n",
            "Inicio [((12, 11), 6), ((12, 11), 6), ((12, 11), 6), ((12, 11), 6), ((12, 11), 6), ((7, 9), 1), ((13, 9), 5), ((10, 12), 5), ((10, 12), 5), ((10, 12), 5), ((13, 10), 6), ((11, 12), 6), ((13, 10), 6), ((11, 12), 6), ((13, 10), 6), ((11, 12), 6), ((13, 10), 6), ((11, 12), 6), ((11, 12), 6), ((11, 12), 6), ((13, 11), 7), ((13, 11), 7), ((13, 11), 7), ((13, 11), 7), ((13, 11), 7), ((11, 8), 4), ((8, 7), 2), ((8, 11), 4), ((7, 8), 2)]\n",
            "Nod (12, 11)\n",
            "Sol [(11, 11), (13, 11), (12, 10), (12, 12)]\n",
            "No obs [(13, 11)]\n",
            "Inicio [((12, 11), 6), ((12, 11), 6), ((12, 11), 6), ((12, 11), 6), ((7, 9), 1), ((13, 9), 5), ((10, 12), 5), ((10, 12), 5), ((10, 12), 5), ((13, 10), 6), ((11, 12), 6), ((13, 10), 6), ((11, 12), 6), ((13, 10), 6), ((11, 12), 6), ((13, 10), 6), ((11, 12), 6), ((11, 12), 6), ((11, 12), 6), ((13, 11), 7), ((13, 11), 7), ((13, 11), 7), ((13, 11), 7), ((13, 11), 7), ((13, 11), 7), ((11, 8), 4), ((8, 7), 2), ((8, 11), 4), ((7, 8), 2)]\n",
            "Nod (12, 11)\n",
            "Sol [(11, 11), (13, 11), (12, 10), (12, 12)]\n",
            "No obs [(13, 11)]\n",
            "Inicio [((12, 11), 6), ((12, 11), 6), ((12, 11), 6), ((7, 9), 1), ((13, 9), 5), ((10, 12), 5), ((10, 12), 5), ((10, 12), 5), ((13, 10), 6), ((11, 12), 6), ((13, 10), 6), ((11, 12), 6), ((13, 10), 6), ((11, 12), 6), ((13, 10), 6), ((11, 12), 6), ((11, 12), 6), ((11, 12), 6), ((13, 11), 7), ((13, 11), 7), ((13, 11), 7), ((13, 11), 7), ((13, 11), 7), ((13, 11), 7), ((13, 11), 7), ((11, 8), 4), ((8, 7), 2), ((8, 11), 4), ((7, 8), 2)]\n",
            "Nod (12, 11)\n",
            "Sol [(11, 11), (13, 11), (12, 10), (12, 12)]\n",
            "No obs [(13, 11)]\n",
            "Inicio [((12, 11), 6), ((12, 11), 6), ((7, 9), 1), ((13, 9), 5), ((10, 12), 5), ((10, 12), 5), ((10, 12), 5), ((13, 10), 6), ((11, 12), 6), ((13, 10), 6), ((11, 12), 6), ((13, 10), 6), ((11, 12), 6), ((13, 10), 6), ((11, 12), 6), ((11, 12), 6), ((11, 12), 6), ((13, 11), 7), ((13, 11), 7), ((13, 11), 7), ((13, 11), 7), ((13, 11), 7), ((13, 11), 7), ((13, 11), 7), ((13, 11), 7), ((11, 8), 4), ((8, 7), 2), ((8, 11), 4), ((7, 8), 2)]\n",
            "Nod (12, 11)\n",
            "Sol [(11, 11), (13, 11), (12, 10), (12, 12)]\n",
            "No obs [(13, 11)]\n",
            "Inicio [((12, 11), 6), ((7, 9), 1), ((13, 9), 5), ((10, 12), 5), ((10, 12), 5), ((10, 12), 5), ((13, 10), 6), ((11, 12), 6), ((13, 10), 6), ((11, 12), 6), ((13, 10), 6), ((11, 12), 6), ((13, 10), 6), ((11, 12), 6), ((11, 12), 6), ((11, 12), 6), ((13, 11), 7), ((13, 11), 7), ((13, 11), 7), ((13, 11), 7), ((13, 11), 7), ((13, 11), 7), ((13, 11), 7), ((13, 11), 7), ((13, 11), 7), ((11, 8), 4), ((8, 7), 2), ((8, 11), 4), ((7, 8), 2)]\n",
            "Nod (12, 11)\n",
            "Sol [(11, 11), (13, 11), (12, 10), (12, 12)]\n",
            "No obs [(13, 11)]\n",
            "Inicio [((7, 9), 1), ((13, 9), 5), ((10, 12), 5), ((10, 12), 5), ((10, 12), 5), ((13, 10), 6), ((11, 12), 6), ((13, 10), 6), ((11, 12), 6), ((13, 10), 6), ((11, 12), 6), ((13, 10), 6), ((11, 12), 6), ((11, 12), 6), ((11, 12), 6), ((13, 11), 7), ((13, 11), 7), ((13, 11), 7), ((13, 11), 7), ((13, 11), 7), ((13, 11), 7), ((13, 11), 7), ((13, 11), 7), ((13, 11), 7), ((13, 11), 7), ((11, 8), 4), ((8, 7), 2), ((8, 11), 4), ((7, 8), 2)]\n",
            "Nod (7, 9)\n",
            "Sol [(6, 9), (8, 9), (7, 8), (7, 10)]\n",
            "No obs [(6, 9), (7, 8), (7, 10)]\n",
            "Inicio [((13, 9), 5), ((10, 12), 5), ((10, 12), 5), ((10, 12), 5), ((13, 10), 6), ((11, 12), 6), ((13, 10), 6), ((11, 12), 6), ((13, 10), 6), ((11, 12), 6), ((13, 10), 6), ((11, 12), 6), ((11, 12), 6), ((11, 12), 6), ((13, 11), 7), ((13, 11), 7), ((13, 11), 7), ((13, 11), 7), ((13, 11), 7), ((13, 11), 7), ((13, 11), 7), ((13, 11), 7), ((13, 11), 7), ((13, 11), 7), ((7, 10), 2), ((11, 8), 4), ((8, 7), 2), ((8, 11), 4), ((7, 8), 2), ((7, 8), 2), ((6, 9), 2)]\n",
            "Nod (13, 9)\n",
            "Sol [(12, 9), (14, 9), (13, 8), (13, 10)]\n",
            "No obs [(14, 9), (13, 10)]\n",
            "Inicio [((10, 12), 5), ((10, 12), 5), ((10, 12), 5), ((13, 10), 6), ((11, 12), 6), ((13, 10), 6), ((11, 12), 6), ((13, 10), 6), ((11, 12), 6), ((13, 10), 6), ((11, 12), 6), ((11, 12), 6), ((11, 12), 6), ((13, 11), 7), ((13, 11), 7), ((13, 11), 7), ((13, 11), 7), ((13, 11), 7), ((13, 11), 7), ((13, 11), 7), ((13, 11), 7), ((13, 11), 7), ((13, 11), 7), ((13, 10), 6), ((7, 10), 2), ((11, 8), 4), ((8, 7), 2), ((8, 11), 4), ((14, 9), 6), ((7, 8), 2), ((7, 8), 2), ((6, 9), 2)]\n",
            "Nod (10, 12)\n",
            "Sol [(9, 12), (11, 12), (10, 11), (10, 13)]\n",
            "No obs [(11, 12)]\n",
            "Inicio [((10, 12), 5), ((10, 12), 5), ((13, 10), 6), ((11, 12), 6), ((13, 10), 6), ((11, 12), 6), ((13, 10), 6), ((11, 12), 6), ((13, 10), 6), ((11, 12), 6), ((11, 12), 6), ((11, 12), 6), ((13, 11), 7), ((13, 11), 7), ((13, 11), 7), ((13, 11), 7), ((13, 11), 7), ((13, 11), 7), ((13, 11), 7), ((13, 11), 7), ((13, 11), 7), ((13, 11), 7), ((13, 10), 6), ((11, 12), 6), ((7, 10), 2), ((11, 8), 4), ((8, 7), 2), ((8, 11), 4), ((14, 9), 6), ((7, 8), 2), ((7, 8), 2), ((6, 9), 2)]\n",
            "Nod (10, 12)\n",
            "Sol [(9, 12), (11, 12), (10, 11), (10, 13)]\n",
            "No obs [(11, 12)]\n",
            "Inicio [((10, 12), 5), ((13, 10), 6), ((11, 12), 6), ((13, 10), 6), ((11, 12), 6), ((13, 10), 6), ((11, 12), 6), ((13, 10), 6), ((11, 12), 6), ((11, 12), 6), ((11, 12), 6), ((13, 11), 7), ((13, 11), 7), ((13, 11), 7), ((13, 11), 7), ((13, 11), 7), ((13, 11), 7), ((13, 11), 7), ((13, 11), 7), ((13, 11), 7), ((13, 11), 7), ((13, 10), 6), ((11, 12), 6), ((11, 12), 6), ((7, 10), 2), ((11, 8), 4), ((8, 7), 2), ((8, 11), 4), ((14, 9), 6), ((7, 8), 2), ((7, 8), 2), ((6, 9), 2)]\n",
            "Nod (10, 12)\n",
            "Sol [(9, 12), (11, 12), (10, 11), (10, 13)]\n",
            "No obs [(11, 12)]\n",
            "Inicio [((13, 10), 6), ((11, 12), 6), ((13, 10), 6), ((11, 12), 6), ((13, 10), 6), ((11, 12), 6), ((13, 10), 6), ((11, 12), 6), ((11, 12), 6), ((11, 12), 6), ((13, 11), 7), ((13, 11), 7), ((13, 11), 7), ((13, 11), 7), ((13, 11), 7), ((13, 11), 7), ((13, 11), 7), ((13, 11), 7), ((13, 11), 7), ((13, 11), 7), ((13, 10), 6), ((11, 12), 6), ((11, 12), 6), ((11, 12), 6), ((7, 10), 2), ((11, 8), 4), ((8, 7), 2), ((8, 11), 4), ((14, 9), 6), ((7, 8), 2), ((7, 8), 2), ((6, 9), 2)]\n",
            "Nod (13, 10)\n",
            "Sol [(12, 10), (14, 10), (13, 9), (13, 11)]\n",
            "No obs [(14, 10), (13, 11)]\n",
            "Inicio [((11, 12), 6), ((13, 10), 6), ((11, 12), 6), ((13, 10), 6), ((11, 12), 6), ((13, 10), 6), ((11, 12), 6), ((11, 12), 6), ((11, 12), 6), ((13, 11), 7), ((13, 11), 7), ((13, 11), 7), ((13, 11), 7), ((13, 11), 7), ((13, 11), 7), ((13, 11), 7), ((13, 11), 7), ((13, 11), 7), ((13, 11), 7), ((13, 10), 6), ((11, 12), 6), ((11, 12), 6), ((11, 12), 6), ((13, 11), 7), ((7, 10), 2), ((11, 8), 4), ((8, 7), 2), ((8, 11), 4), ((14, 9), 6), ((7, 8), 2), ((7, 8), 2), ((14, 10), 7), ((6, 9), 2)]\n",
            "Nod (11, 12)\n",
            "Sol [(10, 12), (12, 12), (11, 11), (11, 13)]\n",
            "No obs [(11, 13)]\n",
            "Inicio [((13, 10), 6), ((11, 12), 6), ((13, 10), 6), ((11, 12), 6), ((13, 10), 6), ((11, 12), 6), ((11, 12), 6), ((11, 12), 6), ((13, 11), 7), ((13, 11), 7), ((13, 11), 7), ((13, 11), 7), ((13, 11), 7), ((13, 11), 7), ((13, 11), 7), ((13, 11), 7), ((13, 11), 7), ((13, 11), 7), ((13, 10), 6), ((11, 12), 6), ((11, 12), 6), ((11, 12), 6), ((13, 11), 7), ((7, 10), 2), ((11, 8), 4), ((8, 7), 2), ((8, 11), 4), ((14, 9), 6), ((7, 8), 2), ((7, 8), 2), ((14, 10), 7), ((11, 13), 7), ((6, 9), 2)]\n",
            "Nod (13, 10)\n",
            "Sol [(12, 10), (14, 10), (13, 9), (13, 11)]\n",
            "No obs [(14, 10), (13, 11)]\n",
            "Inicio [((11, 12), 6), ((13, 10), 6), ((11, 12), 6), ((13, 10), 6), ((11, 12), 6), ((11, 12), 6), ((11, 12), 6), ((13, 11), 7), ((13, 11), 7), ((13, 11), 7), ((13, 11), 7), ((13, 11), 7), ((13, 11), 7), ((13, 11), 7), ((13, 11), 7), ((13, 11), 7), ((13, 11), 7), ((13, 10), 6), ((11, 12), 6), ((11, 12), 6), ((11, 12), 6), ((13, 11), 7), ((13, 11), 7), ((7, 10), 2), ((11, 8), 4), ((8, 7), 2), ((8, 11), 4), ((14, 9), 6), ((7, 8), 2), ((7, 8), 2), ((14, 10), 7), ((11, 13), 7), ((14, 10), 7), ((6, 9), 2)]\n",
            "Nod (11, 12)\n",
            "Sol [(10, 12), (12, 12), (11, 11), (11, 13)]\n",
            "No obs [(11, 13)]\n",
            "Inicio [((13, 10), 6), ((11, 12), 6), ((13, 10), 6), ((11, 12), 6), ((11, 12), 6), ((11, 12), 6), ((13, 11), 7), ((13, 11), 7), ((13, 11), 7), ((13, 11), 7), ((13, 11), 7), ((13, 11), 7), ((13, 11), 7), ((13, 11), 7), ((13, 11), 7), ((13, 11), 7), ((13, 10), 6), ((11, 12), 6), ((11, 12), 6), ((11, 12), 6), ((13, 11), 7), ((13, 11), 7), ((7, 10), 2), ((11, 8), 4), ((8, 7), 2), ((8, 11), 4), ((14, 9), 6), ((7, 8), 2), ((7, 8), 2), ((14, 10), 7), ((11, 13), 7), ((14, 10), 7), ((11, 13), 7), ((6, 9), 2)]\n",
            "Nod (13, 10)\n",
            "Sol [(12, 10), (14, 10), (13, 9), (13, 11)]\n",
            "No obs [(14, 10), (13, 11)]\n",
            "Inicio [((11, 12), 6), ((13, 10), 6), ((11, 12), 6), ((11, 12), 6), ((11, 12), 6), ((13, 11), 7), ((13, 11), 7), ((13, 11), 7), ((13, 11), 7), ((13, 11), 7), ((13, 11), 7), ((13, 11), 7), ((13, 11), 7), ((13, 11), 7), ((13, 11), 7), ((13, 10), 6), ((11, 12), 6), ((11, 12), 6), ((11, 12), 6), ((13, 11), 7), ((13, 11), 7), ((13, 11), 7), ((7, 10), 2), ((11, 8), 4), ((8, 7), 2), ((8, 11), 4), ((14, 9), 6), ((7, 8), 2), ((7, 8), 2), ((14, 10), 7), ((11, 13), 7), ((14, 10), 7), ((11, 13), 7), ((14, 10), 7), ((6, 9), 2)]\n",
            "Nod (11, 12)\n",
            "Sol [(10, 12), (12, 12), (11, 11), (11, 13)]\n",
            "No obs [(11, 13)]\n",
            "Inicio [((13, 10), 6), ((11, 12), 6), ((11, 12), 6), ((11, 12), 6), ((13, 11), 7), ((13, 11), 7), ((13, 11), 7), ((13, 11), 7), ((13, 11), 7), ((13, 11), 7), ((13, 11), 7), ((13, 11), 7), ((13, 11), 7), ((13, 11), 7), ((13, 10), 6), ((11, 12), 6), ((11, 12), 6), ((11, 12), 6), ((13, 11), 7), ((13, 11), 7), ((13, 11), 7), ((7, 10), 2), ((11, 8), 4), ((8, 7), 2), ((8, 11), 4), ((14, 9), 6), ((7, 8), 2), ((7, 8), 2), ((14, 10), 7), ((11, 13), 7), ((14, 10), 7), ((11, 13), 7), ((14, 10), 7), ((11, 13), 7), ((6, 9), 2)]\n",
            "Nod (13, 10)\n",
            "Sol [(12, 10), (14, 10), (13, 9), (13, 11)]\n",
            "No obs [(14, 10), (13, 11)]\n",
            "Inicio [((11, 12), 6), ((11, 12), 6), ((11, 12), 6), ((13, 11), 7), ((13, 11), 7), ((13, 11), 7), ((13, 11), 7), ((13, 11), 7), ((13, 11), 7), ((13, 11), 7), ((13, 11), 7), ((13, 11), 7), ((13, 11), 7), ((13, 10), 6), ((11, 12), 6), ((11, 12), 6), ((11, 12), 6), ((13, 11), 7), ((13, 11), 7), ((13, 11), 7), ((13, 11), 7), ((7, 10), 2), ((11, 8), 4), ((8, 7), 2), ((8, 11), 4), ((14, 9), 6), ((7, 8), 2), ((7, 8), 2), ((14, 10), 7), ((11, 13), 7), ((14, 10), 7), ((11, 13), 7), ((14, 10), 7), ((11, 13), 7), ((14, 10), 7), ((6, 9), 2)]\n",
            "Nod (11, 12)\n",
            "Sol [(10, 12), (12, 12), (11, 11), (11, 13)]\n",
            "No obs [(11, 13)]\n",
            "Inicio [((11, 12), 6), ((11, 12), 6), ((13, 11), 7), ((13, 11), 7), ((13, 11), 7), ((13, 11), 7), ((13, 11), 7), ((13, 11), 7), ((13, 11), 7), ((13, 11), 7), ((13, 11), 7), ((13, 11), 7), ((13, 10), 6), ((11, 12), 6), ((11, 12), 6), ((11, 12), 6), ((13, 11), 7), ((13, 11), 7), ((13, 11), 7), ((13, 11), 7), ((7, 10), 2), ((11, 8), 4), ((8, 7), 2), ((8, 11), 4), ((14, 9), 6), ((7, 8), 2), ((7, 8), 2), ((14, 10), 7), ((11, 13), 7), ((14, 10), 7), ((11, 13), 7), ((14, 10), 7), ((11, 13), 7), ((14, 10), 7), ((11, 13), 7), ((6, 9), 2)]\n",
            "Nod (11, 12)\n",
            "Sol [(10, 12), (12, 12), (11, 11), (11, 13)]\n",
            "No obs [(11, 13)]\n",
            "Inicio [((11, 12), 6), ((13, 11), 7), ((13, 11), 7), ((13, 11), 7), ((13, 11), 7), ((13, 11), 7), ((13, 11), 7), ((13, 11), 7), ((13, 11), 7), ((13, 11), 7), ((13, 11), 7), ((13, 10), 6), ((11, 12), 6), ((11, 12), 6), ((11, 12), 6), ((13, 11), 7), ((13, 11), 7), ((13, 11), 7), ((13, 11), 7), ((7, 10), 2), ((11, 8), 4), ((8, 7), 2), ((8, 11), 4), ((14, 9), 6), ((7, 8), 2), ((7, 8), 2), ((14, 10), 7), ((11, 13), 7), ((14, 10), 7), ((11, 13), 7), ((14, 10), 7), ((11, 13), 7), ((14, 10), 7), ((11, 13), 7), ((11, 13), 7), ((6, 9), 2)]\n",
            "Nod (11, 12)\n",
            "Sol [(10, 12), (12, 12), (11, 11), (11, 13)]\n",
            "No obs [(11, 13)]\n",
            "Inicio [((13, 11), 7), ((13, 11), 7), ((13, 11), 7), ((13, 11), 7), ((13, 11), 7), ((13, 11), 7), ((13, 11), 7), ((13, 11), 7), ((13, 11), 7), ((13, 11), 7), ((13, 10), 6), ((11, 12), 6), ((11, 12), 6), ((11, 12), 6), ((13, 11), 7), ((13, 11), 7), ((13, 11), 7), ((13, 11), 7), ((7, 10), 2), ((11, 8), 4), ((8, 7), 2), ((8, 11), 4), ((14, 9), 6), ((7, 8), 2), ((7, 8), 2), ((14, 10), 7), ((11, 13), 7), ((14, 10), 7), ((11, 13), 7), ((14, 10), 7), ((11, 13), 7), ((14, 10), 7), ((11, 13), 7), ((11, 13), 7), ((11, 13), 7), ((6, 9), 2)]\n",
            "Nod (13, 11)\n",
            "Sol [(12, 11), (14, 11), (13, 10), (13, 12)]\n",
            "No obs [(14, 11), (13, 12)]\n",
            "Inicio [((13, 11), 7), ((13, 11), 7), ((13, 11), 7), ((13, 11), 7), ((13, 11), 7), ((13, 11), 7), ((13, 11), 7), ((13, 11), 7), ((13, 11), 7), ((13, 10), 6), ((11, 12), 6), ((11, 12), 6), ((11, 12), 6), ((13, 11), 7), ((13, 11), 7), ((13, 11), 7), ((13, 11), 7), ((13, 12), 8), ((7, 10), 2), ((11, 8), 4), ((8, 7), 2), ((8, 11), 4), ((14, 9), 6), ((7, 8), 2), ((7, 8), 2), ((14, 10), 7), ((11, 13), 7), ((14, 10), 7), ((11, 13), 7), ((14, 10), 7), ((11, 13), 7), ((14, 10), 7), ((11, 13), 7), ((11, 13), 7), ((11, 13), 7), ((14, 11), 8), ((6, 9), 2)]\n",
            "Nod (13, 11)\n",
            "Sol [(12, 11), (14, 11), (13, 10), (13, 12)]\n",
            "No obs [(14, 11), (13, 12)]\n",
            "Inicio [((13, 11), 7), ((13, 11), 7), ((13, 11), 7), ((13, 11), 7), ((13, 11), 7), ((13, 11), 7), ((13, 11), 7), ((13, 11), 7), ((13, 10), 6), ((11, 12), 6), ((11, 12), 6), ((11, 12), 6), ((13, 11), 7), ((13, 11), 7), ((13, 11), 7), ((13, 11), 7), ((13, 12), 8), ((13, 12), 8), ((7, 10), 2), ((11, 8), 4), ((8, 7), 2), ((8, 11), 4), ((14, 9), 6), ((7, 8), 2), ((7, 8), 2), ((14, 10), 7), ((11, 13), 7), ((14, 10), 7), ((11, 13), 7), ((14, 10), 7), ((11, 13), 7), ((14, 10), 7), ((11, 13), 7), ((11, 13), 7), ((11, 13), 7), ((14, 11), 8), ((14, 11), 8), ((6, 9), 2)]\n",
            "Nod (13, 11)\n",
            "Sol [(12, 11), (14, 11), (13, 10), (13, 12)]\n",
            "No obs [(14, 11), (13, 12)]\n",
            "Inicio [((13, 11), 7), ((13, 11), 7), ((13, 11), 7), ((13, 11), 7), ((13, 11), 7), ((13, 11), 7), ((13, 11), 7), ((13, 10), 6), ((11, 12), 6), ((11, 12), 6), ((11, 12), 6), ((13, 11), 7), ((13, 11), 7), ((13, 11), 7), ((13, 11), 7), ((13, 12), 8), ((13, 12), 8), ((13, 12), 8), ((7, 10), 2), ((11, 8), 4), ((8, 7), 2), ((8, 11), 4), ((14, 9), 6), ((7, 8), 2), ((7, 8), 2), ((14, 10), 7), ((11, 13), 7), ((14, 10), 7), ((11, 13), 7), ((14, 10), 7), ((11, 13), 7), ((14, 10), 7), ((11, 13), 7), ((11, 13), 7), ((11, 13), 7), ((14, 11), 8), ((14, 11), 8), ((14, 11), 8), ((6, 9), 2)]\n",
            "Nod (13, 11)\n",
            "Sol [(12, 11), (14, 11), (13, 10), (13, 12)]\n",
            "No obs [(14, 11), (13, 12)]\n",
            "Inicio [((13, 11), 7), ((13, 11), 7), ((13, 11), 7), ((13, 11), 7), ((13, 11), 7), ((13, 11), 7), ((13, 10), 6), ((11, 12), 6), ((11, 12), 6), ((11, 12), 6), ((13, 11), 7), ((13, 11), 7), ((13, 11), 7), ((13, 11), 7), ((13, 12), 8), ((13, 12), 8), ((13, 12), 8), ((13, 12), 8), ((7, 10), 2), ((11, 8), 4), ((8, 7), 2), ((8, 11), 4), ((14, 9), 6), ((7, 8), 2), ((7, 8), 2), ((14, 10), 7), ((11, 13), 7), ((14, 10), 7), ((11, 13), 7), ((14, 10), 7), ((11, 13), 7), ((14, 10), 7), ((11, 13), 7), ((11, 13), 7), ((11, 13), 7), ((14, 11), 8), ((14, 11), 8), ((14, 11), 8), ((14, 11), 8), ((6, 9), 2)]\n",
            "Nod (13, 11)\n",
            "Sol [(12, 11), (14, 11), (13, 10), (13, 12)]\n",
            "No obs [(14, 11), (13, 12)]\n",
            "Inicio [((13, 11), 7), ((13, 11), 7), ((13, 11), 7), ((13, 11), 7), ((13, 11), 7), ((13, 10), 6), ((11, 12), 6), ((11, 12), 6), ((11, 12), 6), ((13, 11), 7), ((13, 11), 7), ((13, 11), 7), ((13, 11), 7), ((13, 12), 8), ((13, 12), 8), ((13, 12), 8), ((13, 12), 8), ((13, 12), 8), ((7, 10), 2), ((11, 8), 4), ((8, 7), 2), ((8, 11), 4), ((14, 9), 6), ((7, 8), 2), ((7, 8), 2), ((14, 10), 7), ((11, 13), 7), ((14, 10), 7), ((11, 13), 7), ((14, 10), 7), ((11, 13), 7), ((14, 10), 7), ((11, 13), 7), ((11, 13), 7), ((11, 13), 7), ((14, 11), 8), ((14, 11), 8), ((14, 11), 8), ((14, 11), 8), ((14, 11), 8), ((6, 9), 2)]\n",
            "Nod (13, 11)\n",
            "Sol [(12, 11), (14, 11), (13, 10), (13, 12)]\n",
            "No obs [(14, 11), (13, 12)]\n",
            "Inicio [((13, 11), 7), ((13, 11), 7), ((13, 11), 7), ((13, 11), 7), ((13, 10), 6), ((11, 12), 6), ((11, 12), 6), ((11, 12), 6), ((13, 11), 7), ((13, 11), 7), ((13, 11), 7), ((13, 11), 7), ((13, 12), 8), ((13, 12), 8), ((13, 12), 8), ((13, 12), 8), ((13, 12), 8), ((13, 12), 8), ((7, 10), 2), ((11, 8), 4), ((8, 7), 2), ((8, 11), 4), ((14, 9), 6), ((7, 8), 2), ((7, 8), 2), ((14, 10), 7), ((11, 13), 7), ((14, 10), 7), ((11, 13), 7), ((14, 10), 7), ((11, 13), 7), ((14, 10), 7), ((11, 13), 7), ((11, 13), 7), ((11, 13), 7), ((14, 11), 8), ((14, 11), 8), ((14, 11), 8), ((14, 11), 8), ((14, 11), 8), ((14, 11), 8), ((6, 9), 2)]\n",
            "Nod (13, 11)\n",
            "Sol [(12, 11), (14, 11), (13, 10), (13, 12)]\n",
            "No obs [(14, 11), (13, 12)]\n",
            "Inicio [((13, 11), 7), ((13, 11), 7), ((13, 11), 7), ((13, 10), 6), ((11, 12), 6), ((11, 12), 6), ((11, 12), 6), ((13, 11), 7), ((13, 11), 7), ((13, 11), 7), ((13, 11), 7), ((13, 12), 8), ((13, 12), 8), ((13, 12), 8), ((13, 12), 8), ((13, 12), 8), ((13, 12), 8), ((13, 12), 8), ((7, 10), 2), ((11, 8), 4), ((8, 7), 2), ((8, 11), 4), ((14, 9), 6), ((7, 8), 2), ((7, 8), 2), ((14, 10), 7), ((11, 13), 7), ((14, 10), 7), ((11, 13), 7), ((14, 10), 7), ((11, 13), 7), ((14, 10), 7), ((11, 13), 7), ((11, 13), 7), ((11, 13), 7), ((14, 11), 8), ((14, 11), 8), ((14, 11), 8), ((14, 11), 8), ((14, 11), 8), ((14, 11), 8), ((14, 11), 8), ((6, 9), 2)]\n",
            "Nod (13, 11)\n",
            "Sol [(12, 11), (14, 11), (13, 10), (13, 12)]\n",
            "No obs [(14, 11), (13, 12)]\n",
            "Inicio [((13, 11), 7), ((13, 11), 7), ((13, 10), 6), ((11, 12), 6), ((11, 12), 6), ((11, 12), 6), ((13, 11), 7), ((13, 11), 7), ((13, 11), 7), ((13, 11), 7), ((13, 12), 8), ((13, 12), 8), ((13, 12), 8), ((13, 12), 8), ((13, 12), 8), ((13, 12), 8), ((13, 12), 8), ((13, 12), 8), ((7, 10), 2), ((11, 8), 4), ((8, 7), 2), ((8, 11), 4), ((14, 9), 6), ((7, 8), 2), ((7, 8), 2), ((14, 10), 7), ((11, 13), 7), ((14, 10), 7), ((11, 13), 7), ((14, 10), 7), ((11, 13), 7), ((14, 10), 7), ((11, 13), 7), ((11, 13), 7), ((11, 13), 7), ((14, 11), 8), ((14, 11), 8), ((14, 11), 8), ((14, 11), 8), ((14, 11), 8), ((14, 11), 8), ((14, 11), 8), ((14, 11), 8), ((6, 9), 2)]\n",
            "Nod (13, 11)\n",
            "Sol [(12, 11), (14, 11), (13, 10), (13, 12)]\n",
            "No obs [(14, 11), (13, 12)]\n",
            "Inicio [((13, 11), 7), ((13, 10), 6), ((11, 12), 6), ((11, 12), 6), ((11, 12), 6), ((13, 11), 7), ((13, 11), 7), ((13, 11), 7), ((13, 11), 7), ((13, 12), 8), ((13, 12), 8), ((13, 12), 8), ((13, 12), 8), ((13, 12), 8), ((13, 12), 8), ((13, 12), 8), ((13, 12), 8), ((13, 12), 8), ((7, 10), 2), ((11, 8), 4), ((8, 7), 2), ((8, 11), 4), ((14, 9), 6), ((7, 8), 2), ((7, 8), 2), ((14, 10), 7), ((11, 13), 7), ((14, 10), 7), ((11, 13), 7), ((14, 10), 7), ((11, 13), 7), ((14, 10), 7), ((11, 13), 7), ((11, 13), 7), ((11, 13), 7), ((14, 11), 8), ((14, 11), 8), ((14, 11), 8), ((14, 11), 8), ((14, 11), 8), ((14, 11), 8), ((14, 11), 8), ((14, 11), 8), ((14, 11), 8), ((6, 9), 2)]\n",
            "Nod (13, 11)\n",
            "Sol [(12, 11), (14, 11), (13, 10), (13, 12)]\n",
            "No obs [(14, 11), (13, 12)]\n",
            "Inicio [((13, 10), 6), ((11, 12), 6), ((11, 12), 6), ((11, 12), 6), ((13, 11), 7), ((13, 11), 7), ((13, 11), 7), ((13, 11), 7), ((13, 12), 8), ((13, 12), 8), ((13, 12), 8), ((13, 12), 8), ((13, 12), 8), ((13, 12), 8), ((13, 12), 8), ((13, 12), 8), ((13, 12), 8), ((13, 12), 8), ((7, 10), 2), ((11, 8), 4), ((8, 7), 2), ((8, 11), 4), ((14, 9), 6), ((7, 8), 2), ((7, 8), 2), ((14, 10), 7), ((11, 13), 7), ((14, 10), 7), ((11, 13), 7), ((14, 10), 7), ((11, 13), 7), ((14, 10), 7), ((11, 13), 7), ((11, 13), 7), ((11, 13), 7), ((14, 11), 8), ((14, 11), 8), ((14, 11), 8), ((14, 11), 8), ((14, 11), 8), ((14, 11), 8), ((14, 11), 8), ((14, 11), 8), ((14, 11), 8), ((14, 11), 8), ((6, 9), 2)]\n",
            "Nod (13, 10)\n",
            "Sol [(12, 10), (14, 10), (13, 9), (13, 11)]\n",
            "No obs [(14, 10)]\n",
            "Inicio [((11, 12), 6), ((11, 12), 6), ((11, 12), 6), ((13, 11), 7), ((13, 11), 7), ((13, 11), 7), ((13, 11), 7), ((13, 12), 8), ((13, 12), 8), ((13, 12), 8), ((13, 12), 8), ((13, 12), 8), ((13, 12), 8), ((13, 12), 8), ((13, 12), 8), ((13, 12), 8), ((13, 12), 8), ((7, 10), 2), ((11, 8), 4), ((8, 7), 2), ((8, 11), 4), ((14, 9), 6), ((7, 8), 2), ((7, 8), 2), ((14, 10), 7), ((11, 13), 7), ((14, 10), 7), ((11, 13), 7), ((14, 10), 7), ((11, 13), 7), ((14, 10), 7), ((11, 13), 7), ((11, 13), 7), ((11, 13), 7), ((14, 10), 7), ((14, 11), 8), ((14, 11), 8), ((14, 11), 8), ((14, 11), 8), ((14, 11), 8), ((14, 11), 8), ((14, 11), 8), ((14, 11), 8), ((14, 11), 8), ((14, 11), 8), ((6, 9), 2)]\n",
            "Nod (11, 12)\n",
            "Sol [(10, 12), (12, 12), (11, 11), (11, 13)]\n",
            "No obs [(11, 13)]\n",
            "Inicio [((11, 12), 6), ((11, 12), 6), ((13, 11), 7), ((13, 11), 7), ((13, 11), 7), ((13, 11), 7), ((13, 12), 8), ((13, 12), 8), ((13, 12), 8), ((13, 12), 8), ((13, 12), 8), ((13, 12), 8), ((13, 12), 8), ((13, 12), 8), ((13, 12), 8), ((13, 12), 8), ((7, 10), 2), ((11, 8), 4), ((8, 7), 2), ((8, 11), 4), ((14, 9), 6), ((7, 8), 2), ((7, 8), 2), ((14, 10), 7), ((11, 13), 7), ((14, 10), 7), ((11, 13), 7), ((14, 10), 7), ((11, 13), 7), ((14, 10), 7), ((11, 13), 7), ((11, 13), 7), ((11, 13), 7), ((14, 10), 7), ((11, 13), 7), ((14, 11), 8), ((14, 11), 8), ((14, 11), 8), ((14, 11), 8), ((14, 11), 8), ((14, 11), 8), ((14, 11), 8), ((14, 11), 8), ((14, 11), 8), ((14, 11), 8), ((6, 9), 2)]\n",
            "Nod (11, 12)\n",
            "Sol [(10, 12), (12, 12), (11, 11), (11, 13)]\n",
            "No obs [(11, 13)]\n",
            "Inicio [((11, 12), 6), ((13, 11), 7), ((13, 11), 7), ((13, 11), 7), ((13, 11), 7), ((13, 12), 8), ((13, 12), 8), ((13, 12), 8), ((13, 12), 8), ((13, 12), 8), ((13, 12), 8), ((13, 12), 8), ((13, 12), 8), ((13, 12), 8), ((13, 12), 8), ((7, 10), 2), ((11, 8), 4), ((8, 7), 2), ((8, 11), 4), ((14, 9), 6), ((7, 8), 2), ((7, 8), 2), ((14, 10), 7), ((11, 13), 7), ((14, 10), 7), ((11, 13), 7), ((14, 10), 7), ((11, 13), 7), ((14, 10), 7), ((11, 13), 7), ((11, 13), 7), ((11, 13), 7), ((14, 10), 7), ((11, 13), 7), ((11, 13), 7), ((14, 11), 8), ((14, 11), 8), ((14, 11), 8), ((14, 11), 8), ((14, 11), 8), ((14, 11), 8), ((14, 11), 8), ((14, 11), 8), ((14, 11), 8), ((14, 11), 8), ((6, 9), 2)]\n",
            "Nod (11, 12)\n",
            "Sol [(10, 12), (12, 12), (11, 11), (11, 13)]\n",
            "No obs [(11, 13)]\n",
            "Inicio [((13, 11), 7), ((13, 11), 7), ((13, 11), 7), ((13, 11), 7), ((13, 12), 8), ((13, 12), 8), ((13, 12), 8), ((13, 12), 8), ((13, 12), 8), ((13, 12), 8), ((13, 12), 8), ((13, 12), 8), ((13, 12), 8), ((13, 12), 8), ((7, 10), 2), ((11, 8), 4), ((8, 7), 2), ((8, 11), 4), ((14, 9), 6), ((7, 8), 2), ((7, 8), 2), ((14, 10), 7), ((11, 13), 7), ((14, 10), 7), ((11, 13), 7), ((14, 10), 7), ((11, 13), 7), ((14, 10), 7), ((11, 13), 7), ((11, 13), 7), ((11, 13), 7), ((14, 10), 7), ((11, 13), 7), ((11, 13), 7), ((11, 13), 7), ((14, 11), 8), ((14, 11), 8), ((14, 11), 8), ((14, 11), 8), ((14, 11), 8), ((14, 11), 8), ((14, 11), 8), ((14, 11), 8), ((14, 11), 8), ((14, 11), 8), ((6, 9), 2)]\n",
            "Nod (13, 11)\n",
            "Sol [(12, 11), (14, 11), (13, 10), (13, 12)]\n",
            "No obs [(14, 11), (13, 12)]\n",
            "Inicio [((13, 11), 7), ((13, 11), 7), ((13, 11), 7), ((13, 12), 8), ((13, 12), 8), ((13, 12), 8), ((13, 12), 8), ((13, 12), 8), ((13, 12), 8), ((13, 12), 8), ((13, 12), 8), ((13, 12), 8), ((13, 12), 8), ((13, 12), 8), ((7, 10), 2), ((11, 8), 4), ((8, 7), 2), ((8, 11), 4), ((14, 9), 6), ((7, 8), 2), ((7, 8), 2), ((14, 10), 7), ((11, 13), 7), ((14, 10), 7), ((11, 13), 7), ((14, 10), 7), ((11, 13), 7), ((14, 10), 7), ((11, 13), 7), ((11, 13), 7), ((11, 13), 7), ((14, 10), 7), ((11, 13), 7), ((11, 13), 7), ((11, 13), 7), ((14, 11), 8), ((14, 11), 8), ((14, 11), 8), ((14, 11), 8), ((14, 11), 8), ((14, 11), 8), ((14, 11), 8), ((14, 11), 8), ((14, 11), 8), ((14, 11), 8), ((14, 11), 8), ((6, 9), 2)]\n",
            "Nod (13, 11)\n",
            "Sol [(12, 11), (14, 11), (13, 10), (13, 12)]\n",
            "No obs [(14, 11), (13, 12)]\n",
            "Inicio [((13, 11), 7), ((13, 11), 7), ((13, 12), 8), ((13, 12), 8), ((13, 12), 8), ((13, 12), 8), ((13, 12), 8), ((13, 12), 8), ((13, 12), 8), ((13, 12), 8), ((13, 12), 8), ((13, 12), 8), ((13, 12), 8), ((13, 12), 8), ((7, 10), 2), ((11, 8), 4), ((8, 7), 2), ((8, 11), 4), ((14, 9), 6), ((7, 8), 2), ((7, 8), 2), ((14, 10), 7), ((11, 13), 7), ((14, 10), 7), ((11, 13), 7), ((14, 10), 7), ((11, 13), 7), ((14, 10), 7), ((11, 13), 7), ((11, 13), 7), ((11, 13), 7), ((14, 10), 7), ((11, 13), 7), ((11, 13), 7), ((11, 13), 7), ((14, 11), 8), ((14, 11), 8), ((14, 11), 8), ((14, 11), 8), ((14, 11), 8), ((14, 11), 8), ((14, 11), 8), ((14, 11), 8), ((14, 11), 8), ((14, 11), 8), ((14, 11), 8), ((14, 11), 8), ((6, 9), 2)]\n",
            "Nod (13, 11)\n",
            "Sol [(12, 11), (14, 11), (13, 10), (13, 12)]\n",
            "No obs [(14, 11), (13, 12)]\n",
            "Inicio [((13, 11), 7), ((13, 12), 8), ((13, 12), 8), ((13, 12), 8), ((13, 12), 8), ((13, 12), 8), ((13, 12), 8), ((13, 12), 8), ((13, 12), 8), ((13, 12), 8), ((13, 12), 8), ((13, 12), 8), ((13, 12), 8), ((13, 12), 8), ((7, 10), 2), ((11, 8), 4), ((8, 7), 2), ((8, 11), 4), ((14, 9), 6), ((7, 8), 2), ((7, 8), 2), ((14, 10), 7), ((11, 13), 7), ((14, 10), 7), ((11, 13), 7), ((14, 10), 7), ((11, 13), 7), ((14, 10), 7), ((11, 13), 7), ((11, 13), 7), ((11, 13), 7), ((14, 10), 7), ((11, 13), 7), ((11, 13), 7), ((11, 13), 7), ((14, 11), 8), ((14, 11), 8), ((14, 11), 8), ((14, 11), 8), ((14, 11), 8), ((14, 11), 8), ((14, 11), 8), ((14, 11), 8), ((14, 11), 8), ((14, 11), 8), ((14, 11), 8), ((14, 11), 8), ((14, 11), 8), ((6, 9), 2)]\n",
            "Nod (13, 11)\n",
            "Sol [(12, 11), (14, 11), (13, 10), (13, 12)]\n",
            "No obs [(14, 11), (13, 12)]\n",
            "Inicio [((13, 12), 8), ((13, 12), 8), ((13, 12), 8), ((13, 12), 8), ((13, 12), 8), ((13, 12), 8), ((13, 12), 8), ((13, 12), 8), ((13, 12), 8), ((13, 12), 8), ((13, 12), 8), ((13, 12), 8), ((13, 12), 8), ((13, 12), 8), ((7, 10), 2), ((11, 8), 4), ((8, 7), 2), ((8, 11), 4), ((14, 9), 6), ((7, 8), 2), ((7, 8), 2), ((14, 10), 7), ((11, 13), 7), ((14, 10), 7), ((11, 13), 7), ((14, 10), 7), ((11, 13), 7), ((14, 10), 7), ((11, 13), 7), ((11, 13), 7), ((11, 13), 7), ((14, 10), 7), ((11, 13), 7), ((11, 13), 7), ((11, 13), 7), ((14, 11), 8), ((14, 11), 8), ((14, 11), 8), ((14, 11), 8), ((14, 11), 8), ((14, 11), 8), ((14, 11), 8), ((14, 11), 8), ((14, 11), 8), ((14, 11), 8), ((14, 11), 8), ((14, 11), 8), ((14, 11), 8), ((14, 11), 8), ((6, 9), 2)]\n",
            "==============================\n",
            "| X ||   ||   ||   ||   ||   ||   ||   ||   ||   ||   ||   ||   ||   ||   |\n",
            "|   ||   ||   ||   ||   ||   || X ||   ||   ||   ||   ||   ||   ||   || X |\n",
            "|   ||   ||   ||   ||   ||   ||   ||   ||   ||   ||   ||   ||   ||   ||   |\n",
            "|   || X ||   ||   || X || X ||   ||   ||   ||   || X ||   ||   ||   ||   |\n",
            "|   ||   ||   || X ||   ||   ||   ||   ||   ||   || X ||   ||   || X ||   |\n",
            "|   ||   ||   || X ||   ||   ||   || X ||   ||   ||   ||   ||   ||   ||   |\n",
            "|   || X ||   ||   || X ||   ||   ||   || X ||   || X || X || X ||   ||   |\n",
            "|   ||   ||   ||   ||   ||   || X || X ||   || 0 ||   ||   ||   ||   || X |\n",
            "|   ||   ||   ||   || X ||   ||   ||   || 0 || I || X ||   ||   ||   ||   |\n",
            "|   ||   ||   ||   || X ||   ||   ||   || X || 0 || 0 || 0 || X ||   ||   |\n",
            "|   ||   ||   ||   ||   ||   ||   || X || X || 0 || 0 || 0 || 0 || X ||   |\n",
            "| X ||   ||   || X ||   ||   || X ||   ||   || 0 || 0 || 0 || 0 ||   ||   |\n",
            "|   ||   ||   ||   ||   || X || X ||   || X || 0 || 0 || 0 || X ||   ||   |\n",
            "| X ||   ||   || X ||   ||   || X ||   || X || 0 || 0 || 0 || M || X ||   |\n",
            "|   ||   ||   || X ||   || X ||   ||   ||   ||   ||   ||   ||   ||   ||   |\n"
          ]
        }
      ]
    },
    {
      "cell_type": "code",
      "source": [],
      "metadata": {
        "id": "SYJdwqkqvcfX"
      },
      "execution_count": null,
      "outputs": []
    }
  ]
}