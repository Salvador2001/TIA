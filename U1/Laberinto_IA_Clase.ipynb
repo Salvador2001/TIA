{
  "nbformat": 4,
  "nbformat_minor": 0,
  "metadata": {
    "colab": {
      "provenance": []
    },
    "kernelspec": {
      "name": "python3",
      "display_name": "Python 3"
    },
    "language_info": {
      "name": "python"
    }
  },
  "cells": [
    {
      "cell_type": "code",
      "execution_count": null,
      "metadata": {
        "id": "wYMhZeTrwJWW"
      },
      "outputs": [],
      "source": [
        "#Función para verificar si se cumple la condición de llegar a meta\n",
        "def criterioAceptacion(posicion, meta):\n",
        "  return posicion == meta"
      ]
    },
    {
      "cell_type": "code",
      "source": [
        "print(criterioAceptacion((1,2), (1,2)))\n",
        "print(criterioAceptacion((1,2), (2,2)))"
      ],
      "metadata": {
        "colab": {
          "base_uri": "https://localhost:8080/"
        },
        "id": "81yCJGMJw23z",
        "outputId": "b7e720cc-799c-40f2-f2e6-e354efd013c3"
      },
      "execution_count": null,
      "outputs": [
        {
          "output_type": "stream",
          "name": "stdout",
          "text": [
            "True\n",
            "False\n"
          ]
        }
      ]
    },
    {
      "cell_type": "code",
      "source": [
        "# Función que de manera automática imprime un tablero con obstaculos y caminos recorridos.\n",
        "# parametros (Lista con los caminos recorridos, n, m, inicio, meta, obstaculos)\n",
        "def imprimeTab(soluciones, n, m, inicio, meta, obstaculos):\n",
        "  #For aninado para imprimir una matriz\n",
        "  for i in range(n):\n",
        "    for j in range(m):\n",
        "      #Si la posición actual es un obstaculo\n",
        "      if (i, j) in obstaculos:\n",
        "        print(\"| X |\", end= '')\n",
        "      #Si la posición actual es el inicio\n",
        "      elif (i, j) == inicio:\n",
        "        print(\"| I |\", end= '')\n",
        "      #Si la posición actual es la meta\n",
        "      elif (i, j) == meta:\n",
        "        print(\"| M |\", end= '')\n",
        "      #Si la posición actual es un camino recorrido\n",
        "      elif (i, j) in soluciones:\n",
        "        print(\"| 0 |\", end= '')\n",
        "      #Si no es ninguna de las anteriores\n",
        "      else:\n",
        "        print(\"|   |\", end= '')\n",
        "    print()"
      ],
      "metadata": {
        "id": "8UZ9VhvIxMAp"
      },
      "execution_count": null,
      "outputs": []
    },
    {
      "cell_type": "code",
      "source": [
        "n = 10\n",
        "m = 10\n",
        "imprimeTab([(2,2),(2,3)], n, m, (1,2), (2,4), [(3,3),(4,5),(6,2)])"
      ],
      "metadata": {
        "colab": {
          "base_uri": "https://localhost:8080/"
        },
        "id": "a1ythgvixY87",
        "outputId": "eacbceec-44c6-4972-96cf-907c815a20b6"
      },
      "execution_count": null,
      "outputs": [
        {
          "output_type": "stream",
          "name": "stdout",
          "text": [
            "|   ||   ||   ||   ||   ||   ||   ||   ||   ||   |\n",
            "|   ||   || I ||   ||   ||   ||   ||   ||   ||   |\n",
            "|   ||   || 0 || 0 || M ||   ||   ||   ||   ||   |\n",
            "|   ||   ||   || X ||   ||   ||   ||   ||   ||   |\n",
            "|   ||   ||   ||   ||   || X ||   ||   ||   ||   |\n",
            "|   ||   ||   ||   ||   ||   ||   ||   ||   ||   |\n",
            "|   ||   || X ||   ||   ||   ||   ||   ||   ||   |\n",
            "|   ||   ||   ||   ||   ||   ||   ||   ||   ||   |\n",
            "|   ||   ||   ||   ||   ||   ||   ||   ||   ||   |\n",
            "|   ||   ||   ||   ||   ||   ||   ||   ||   ||   |\n"
          ]
        }
      ]
    },
    {
      "cell_type": "code",
      "source": [
        "#Libreria que permie generar números enteros aleatorios\n",
        "import random\n",
        "#Genera de manera aleatoria una posición para el inicio y la meta\n",
        "def generarInicioMeta(n, m):\n",
        "  #Posición Inicial\n",
        "  #El randint es una función que retorna un valor entero pseudoaleatorio entre el rango especifico\n",
        "  #Se utiliza de 0 - (n-1) por los indices de las listas\n",
        "  x, y = random.randint(0, n-1), random.randint(0, m-1)\n",
        "  inicio = (x, y)\n",
        "  #Meta\n",
        "  x, y = random.randint(0, n-1), random.randint(0, m-1)\n",
        "  meta = (x, y)\n",
        "  return inicio, meta"
      ],
      "metadata": {
        "id": "S24DjV7IyVVT"
      },
      "execution_count": null,
      "outputs": []
    },
    {
      "cell_type": "code",
      "source": [
        "inicio, meta = generarInicioMeta(n, m)\n",
        "inicio, meta"
      ],
      "metadata": {
        "colab": {
          "base_uri": "https://localhost:8080/"
        },
        "id": "y__3iucH0ab3",
        "outputId": "1c29d996-2245-421a-fff3-8d9bb5041f00"
      },
      "execution_count": null,
      "outputs": [
        {
          "output_type": "execute_result",
          "data": {
            "text/plain": [
              "((0, 9), (1, 5))"
            ]
          },
          "metadata": {},
          "execution_count": 6
        }
      ]
    },
    {
      "cell_type": "code",
      "source": [
        "#Función para generar obstaculos de manera aleatoria dependiendo del tamaño del trablero\n",
        "def generarObstaculos(n, m, inicio, meta):\n",
        "  #Generación porcentual de los obstaculos (20%)\n",
        "  n_obstaculos = int((n * m) * .20)\n",
        "  obstaculos = []\n",
        "  #Por cada obstaculo a generar\n",
        "  for i in range(n_obstaculos):\n",
        "    #Genera una posición (x, y) aleatoria en el rango establecido\n",
        "    obs = (random.randint(0, n-1), random.randint(0, m-1))\n",
        "    #Si el obstaculo generado es el punto inicial, la meta, o ya ha sido generado antes, se descarta\n",
        "    if obs == inicio or obs == meta or obs in obstaculos:\n",
        "      #Se mueve el indice para volver a generarlo\n",
        "      i -= 1\n",
        "      continue\n",
        "    #Si no ha sido generado entonces se agrega a la lista\n",
        "    obstaculos.append(obs)\n",
        "  return obstaculos"
      ],
      "metadata": {
        "id": "cDTNVfnm0gRZ"
      },
      "execution_count": null,
      "outputs": []
    },
    {
      "cell_type": "code",
      "source": [
        "obstaculos = generarObstaculos(n, m, inicio, meta)\n",
        "obstaculos"
      ],
      "metadata": {
        "colab": {
          "base_uri": "https://localhost:8080/"
        },
        "id": "lNou9bAC1inW",
        "outputId": "dbe8d50d-dafb-421f-91aa-2904f223d61b"
      },
      "execution_count": null,
      "outputs": [
        {
          "output_type": "execute_result",
          "data": {
            "text/plain": [
              "[(7, 0),\n",
              " (4, 3),\n",
              " (2, 9),\n",
              " (7, 6),\n",
              " (3, 7),\n",
              " (9, 9),\n",
              " (4, 4),\n",
              " (4, 9),\n",
              " (6, 2),\n",
              " (7, 2),\n",
              " (2, 8),\n",
              " (2, 3),\n",
              " (6, 1),\n",
              " (3, 3),\n",
              " (0, 1),\n",
              " (7, 7),\n",
              " (8, 7),\n",
              " (8, 3),\n",
              " (1, 0)]"
            ]
          },
          "metadata": {},
          "execution_count": 8
        }
      ]
    },
    {
      "cell_type": "code",
      "source": [
        "imprimeTab([], n, m, inicio, meta, obstaculos)"
      ],
      "metadata": {
        "colab": {
          "base_uri": "https://localhost:8080/"
        },
        "id": "UjYv65Ll1nv1",
        "outputId": "f3af9347-358c-43ee-f264-475fb0d24d23"
      },
      "execution_count": null,
      "outputs": [
        {
          "output_type": "stream",
          "name": "stdout",
          "text": [
            "|   || X ||   ||   ||   ||   ||   ||   ||   || I |\n",
            "| X ||   ||   ||   ||   || M ||   ||   ||   ||   |\n",
            "|   ||   ||   || X ||   ||   ||   ||   || X || X |\n",
            "|   ||   ||   || X ||   ||   ||   || X ||   ||   |\n",
            "|   ||   ||   || X || X ||   ||   ||   ||   || X |\n",
            "|   ||   ||   ||   ||   ||   ||   ||   ||   ||   |\n",
            "|   || X || X ||   ||   ||   ||   ||   ||   ||   |\n",
            "| X ||   || X ||   ||   ||   || X || X ||   ||   |\n",
            "|   ||   ||   || X ||   ||   ||   || X ||   ||   |\n",
            "|   ||   ||   ||   ||   ||   ||   ||   ||   || X |\n"
          ]
        }
      ]
    },
    {
      "cell_type": "code",
      "source": [
        "#Función que permite generar todas las posibles soluciones\n",
        "#En este caso genera todos los posibles movimientos del estado actual\n",
        "def generarSoluciones(actual, tablero):\n",
        "  n = tablero[0]\n",
        "  m = tablero[1]\n",
        "  soluciones = []\n",
        "  dato = actual\n",
        "  #Generar posibles soluciones\n",
        "  #Generación hacia los lados\n",
        "  #Movimiento a la izquierda\n",
        "  x, y = dato[0] - 1, dato[1]\n",
        "  if x >= 0:\n",
        "    soluciones.append((x, y))\n",
        "  #Movimiento a la derecha\n",
        "  x, y = dato[0] + 1, dato[1]\n",
        "  if x < n:\n",
        "    soluciones.append((x, y))\n",
        "  #Movimiento hacia abajo\n",
        "  x, y = dato[0], dato[1] - 1\n",
        "  if y >= 0:\n",
        "    soluciones.append((x, y))\n",
        "  #Movimiento hacia arriba\n",
        "  x, y = dato[0], dato[1] + 1\n",
        "  if y < m:\n",
        "    soluciones.append((x, y))\n",
        "  return soluciones"
      ],
      "metadata": {
        "id": "6e7G5PWy3r-I"
      },
      "execution_count": null,
      "outputs": []
    },
    {
      "cell_type": "code",
      "source": [
        "generarSoluciones((1,1), (n,m))"
      ],
      "metadata": {
        "colab": {
          "base_uri": "https://localhost:8080/"
        },
        "id": "WNDrKzqw48-W",
        "outputId": "42ff4656-bc52-40d5-b378-7ec68d7e739f"
      },
      "execution_count": null,
      "outputs": [
        {
          "output_type": "execute_result",
          "data": {
            "text/plain": [
              "[(0, 1), (2, 1), (1, 0), (1, 2)]"
            ]
          },
          "metadata": {},
          "execution_count": 11
        }
      ]
    },
    {
      "cell_type": "code",
      "source": [
        "#Implementación del algoritmo de búsqueda BFS\n",
        "def BFS(frontera_act, visitados, solucion, meta, tablero, obstaculos):\n",
        "  frontera = frontera_act[:]\n",
        "  #Si ya no hay posibles caminos, entonces no se encontro solución\n",
        "  if len(frontera) == 0:\n",
        "    return []\n",
        "  #Se toma el primer elemento de la lista y se elimina de la misma\n",
        "  cabeza = frontera.pop(0)\n",
        "  #Si el elemento no ha sido anteriormente visitado o generado, o si es un obstaculo,\n",
        "  #entonces no se generan más soluciones, para evitar enciclarse\n",
        "  if cabeza not in visitados and cabeza not in obstaculos:\n",
        "    #Se agrega el elemento a la lista de soluciones, es decir el camino recorrido hasta ahora\n",
        "    solucion.append(cabeza)\n",
        "    #Si cumple con el criterio de aceptación entonces llega a la meta\n",
        "    if criterioAceptacion(cabeza, meta):\n",
        "      return solucion\n",
        "    #Se agrega a la lista de visitados para evitar enciclamientos\n",
        "    visitados.append(cabeza)\n",
        "    #Se generan las nuevas posibilidades a partir de la posición actual\n",
        "    nuevas_soluciones = generarSoluciones(cabeza, tablero)\n",
        "    #Se agregan los elementos nuevos al final de la lista para simular una cola\n",
        "    frontera = frontera + nuevas_soluciones\n",
        "  #Se hace un llamado recursivo\n",
        "  return BFS(frontera, visitados, solucion, meta, tablero, obstaculos)"
      ],
      "metadata": {
        "id": "-_VBPqy51xGZ"
      },
      "execution_count": null,
      "outputs": []
    },
    {
      "cell_type": "code",
      "source": [
        "#Función que utiliza todos las funciones creadas para hacer la simulación\n",
        "def play_bfs():\n",
        "  n, m = 10, 10\n",
        "  inicio, meta = generarInicioMeta(n, m)\n",
        "  print(\"El inicio se encuentra en la posición \", inicio)\n",
        "  print(\"La meta se encuentra en la posición \", meta)\n",
        "  obstaculos = generarObstaculos(n, m, inicio, meta)\n",
        "  print(\"Número de obstaculos: {}\".format(len(obstaculos)))\n",
        "  visitados, solucion = [], []\n",
        "  solBFS = BFS([inicio], visitados, solucion, meta, (n,m), obstaculos)\n",
        "  print(\"Cantidad recorrida con BFS: {}\".format(len(solBFS)))\n",
        "  if len(solBFS) == 0:\n",
        "    print(\"No se encontro solucion\")\n",
        "    return\n",
        "  imprimeTab(solBFS, n, m, inicio, meta, obstaculos)"
      ],
      "metadata": {
        "id": "XCDCgzDB5Op7"
      },
      "execution_count": null,
      "outputs": []
    },
    {
      "cell_type": "code",
      "source": [
        "play_bfs()"
      ],
      "metadata": {
        "colab": {
          "base_uri": "https://localhost:8080/"
        },
        "id": "CB1-HsOg6Fzv",
        "outputId": "fb4c476f-1acc-4574-c429-18cf37166795"
      },
      "execution_count": null,
      "outputs": [
        {
          "output_type": "stream",
          "name": "stdout",
          "text": [
            "El inicio se encuentra en la posición  (2, 1)\n",
            "La meta se encuentra en la posición  (9, 8)\n",
            "Número de obstaculos: 17\n",
            "Cantidad recorrida con BFS: 80\n",
            "| 0 || 0 || X || 0 || X || X || 0 || 0 || X ||   |\n",
            "| 0 || 0 || 0 || 0 || X || X || 0 || 0 || X || X |\n",
            "| 0 || I || 0 || 0 || 0 || 0 || 0 || 0 || 0 || 0 |\n",
            "| X || 0 || 0 || 0 || 0 || 0 || X || 0 || 0 || 0 |\n",
            "| 0 || 0 || 0 || 0 || 0 || 0 || 0 || X || 0 || 0 |\n",
            "| 0 || 0 || 0 || 0 || 0 || 0 || 0 || 0 || 0 || X |\n",
            "| 0 || 0 || 0 || 0 || X || 0 || 0 || 0 || 0 || 0 |\n",
            "| 0 || 0 || 0 || 0 || 0 || 0 || 0 || 0 || X || 0 |\n",
            "| 0 || 0 || 0 || 0 || X || 0 || 0 || 0 || 0 ||   |\n",
            "| 0 || 0 || 0 || X || X || 0 || 0 || 0 || M ||   |\n"
          ]
        }
      ]
    },
    {
      "cell_type": "code",
      "source": [
        "#Implementación del algoritmo de búsqueda BFS\n",
        "def DFS(frontera_act, visitados, solucion, meta, tablero, obstaculos):\n",
        "  frontera = frontera_act[:]\n",
        "  #Si ya no hay posibles caminos, entonces no se encontro solución\n",
        "  if len(frontera) == 0:\n",
        "    return []\n",
        "  #Se toma el primer elemento de la lista y se elimina de la misma\n",
        "  cabeza = frontera.pop(0)\n",
        "  #Si el elemento no ha sido anteriormente visitado o generado, o si es un obstaculo,\n",
        "  #entonces no se generan más soluciones, para evitar enciclarse\n",
        "  if cabeza not in visitados and cabeza not in obstaculos:\n",
        "    #Se agrega el elemento a la lista de soluciones, es decir el camino recorrido hasta ahora\n",
        "    solucion.append(cabeza)\n",
        "    #Si cumple con el criterio de aceptación entonces llega a la meta\n",
        "    if criterioAceptacion(cabeza, meta):\n",
        "      return solucion\n",
        "    #Se agrega a la lista de visitados para evitar enciclamientos\n",
        "    visitados.append(cabeza)\n",
        "    #Se generan las nuevas posibilidades a partir de la posición actual\n",
        "    nuevas_soluciones = generarSoluciones(cabeza, tablero)\n",
        "    #Se agregan los elementos nuevos al final de la lista para simular una cola\n",
        "    frontera = nuevas_soluciones + frontera\n",
        "  #Se hace un llamado recursivo\n",
        "  return DFS(frontera, visitados, solucion, meta, tablero, obstaculos)"
      ],
      "metadata": {
        "id": "9GepbbRs6HMY"
      },
      "execution_count": null,
      "outputs": []
    },
    {
      "cell_type": "code",
      "source": [
        "#Función que utiliza todos las funciones creadas para hacer la simulación\n",
        "def play_dfs():\n",
        "  n, m = 10, 10\n",
        "  inicio, meta = generarInicioMeta(n, m)\n",
        "  print(\"El inicio se encuentra en la posición \", inicio)\n",
        "  print(\"La meta se encuentra en la posición \", meta)\n",
        "  obstaculos = generarObstaculos(n, m, inicio, meta)\n",
        "  print(\"Número de obstaculos: {}\".format(len(obstaculos)))\n",
        "  visitados, solucion = [], []\n",
        "  solDFS = DFS([inicio], visitados, solucion, meta, (n,m), obstaculos)\n",
        "  print(\"Cantidad recorrida con BFS: {}\".format(len(solDFS)))\n",
        "  if len(solDFS) == 0:\n",
        "    print(\"No se encontro solucion\")\n",
        "    return\n",
        "  imprimeTab(solDFS, n, m, inicio, meta, obstaculos)"
      ],
      "metadata": {
        "id": "otPetvu7i1l0"
      },
      "execution_count": null,
      "outputs": []
    },
    {
      "cell_type": "code",
      "source": [
        "play_dfs()"
      ],
      "metadata": {
        "id": "fQTZIIYOi7uc",
        "outputId": "744ea427-6132-4c9e-f221-28e9aa28adbc",
        "colab": {
          "base_uri": "https://localhost:8080/"
        }
      },
      "execution_count": null,
      "outputs": [
        {
          "output_type": "stream",
          "name": "stdout",
          "text": [
            "El inicio se encuentra en la posición  (1, 4)\n",
            "La meta se encuentra en la posición  (9, 3)\n",
            "Número de obstaculos: 17\n",
            "Cantidad recorrida con BFS: 10\n",
            "|   ||   ||   ||   || X ||   ||   || X ||   || X |\n",
            "|   ||   ||   || X || I ||   ||   || X ||   ||   |\n",
            "|   || X || X || 0 || 0 ||   ||   ||   ||   ||   |\n",
            "| X ||   ||   || 0 || X ||   ||   ||   ||   || X |\n",
            "|   ||   ||   || 0 ||   ||   ||   ||   ||   ||   |\n",
            "|   ||   ||   || 0 ||   || X ||   ||   ||   ||   |\n",
            "|   || X ||   || 0 ||   ||   ||   || X ||   ||   |\n",
            "| X || X ||   || 0 ||   ||   ||   || X ||   ||   |\n",
            "|   ||   ||   || 0 ||   ||   ||   ||   ||   ||   |\n",
            "|   ||   ||   || M || X ||   ||   ||   ||   ||   |\n"
          ]
        }
      ]
    },
    {
      "cell_type": "code",
      "source": [
        "import numpy as np\n",
        "def profundidad(inicio, actual):\n",
        "  #Inicio = (x1, y1); actual (x2, y2)\n",
        "  #Se calcula el límite de la profundidad, mediante la distancia entre los puntos\n",
        "  res = abs(np.array(inicio) - np.array(actual))\n",
        "  return max(res)"
      ],
      "metadata": {
        "id": "K53IWC45i995"
      },
      "execution_count": null,
      "outputs": []
    },
    {
      "cell_type": "code",
      "source": [
        "profundidad((2,2), (4,1))"
      ],
      "metadata": {
        "colab": {
          "base_uri": "https://localhost:8080/"
        },
        "id": "Z5hnY5ErrnxU",
        "outputId": "4840615b-82be-4b7f-c3c2-585b3cd4ea64"
      },
      "execution_count": null,
      "outputs": [
        {
          "output_type": "execute_result",
          "data": {
            "text/plain": [
              "2"
            ]
          },
          "metadata": {},
          "execution_count": 26
        }
      ]
    },
    {
      "cell_type": "code",
      "source": [
        "def LDFS(frontera_act, visitados, solucion, meta, tablero, obstaculos, inicio, limite):\n",
        "  frontera = frontera_act[:]\n",
        "  if len(frontera) == 0:\n",
        "    return []\n",
        "  cabeza = frontera.pop(0)\n",
        "  if cabeza not in visitados and cabeza not in obstaculos:\n",
        "    solucion.append(cabeza)\n",
        "    if criterioAceptacion(cabeza, meta):\n",
        "      return solucion\n",
        "    visitados.append(cabeza)\n",
        "    if profundidad(inicio, cabeza) < limite:\n",
        "      nuevas_soluciones = generarSoluciones(cabeza, tablero)\n",
        "      frontera = nuevas_soluciones + frontera\n",
        "  return LDFS(frontera, visitados, solucion, meta, tablero, obstaculos, inicio, limite)"
      ],
      "metadata": {
        "id": "wn4eo0DQro8F"
      },
      "execution_count": null,
      "outputs": []
    },
    {
      "cell_type": "code",
      "source": [
        "#Función que utiliza todos las funciones creadas para hacer la simulación\n",
        "def play_ldfs():\n",
        "  n, m = 15, 15\n",
        "  limite = 5\n",
        "  inicio, meta = generarInicioMeta(n, m)\n",
        "  print(\"El inicio se encuentra en la posición \", inicio)\n",
        "  print(\"La meta se encuentra en la posición \", meta)\n",
        "  print(\"Mi limite de profunidad es \", limite)\n",
        "  obstaculos = generarObstaculos(n, m, inicio, meta)\n",
        "  print(\"Número de obstaculos: {}\".format(len(obstaculos)))\n",
        "  visitados, solucion = [], []\n",
        "  solLDFS = LDFS([inicio], visitados, solucion, meta, (n,m), obstaculos, inicio, limite)\n",
        "  print(\"Cantidad recorrida con LDFS: {}\".format(len(solLDFS)))\n",
        "  if len(solLDFS) == 0:\n",
        "    print(\"No se encontro solucion\")\n",
        "    return\n",
        "  imprimeTab(solLDFS, n, m, inicio, meta, obstaculos)"
      ],
      "metadata": {
        "id": "tVOlio_otei_"
      },
      "execution_count": null,
      "outputs": []
    },
    {
      "cell_type": "code",
      "source": [
        "play_ldfs()"
      ],
      "metadata": {
        "colab": {
          "base_uri": "https://localhost:8080/"
        },
        "id": "F_Ke7mrftxDQ",
        "outputId": "7187efb1-8f64-4a17-a3a1-ab361e8411ac"
      },
      "execution_count": null,
      "outputs": [
        {
          "output_type": "stream",
          "name": "stdout",
          "text": [
            "El inicio se encuentra en la posición  (9, 8)\n",
            "La meta se encuentra en la posición  (9, 13)\n",
            "Mi limite de profunidad es  5\n",
            "Número de obstaculos: 42\n",
            "Cantidad recorrida con LDFS: 80\n",
            "|   ||   ||   ||   ||   ||   ||   ||   ||   ||   ||   ||   ||   ||   || X |\n",
            "|   ||   ||   || X ||   ||   || X ||   ||   ||   || X ||   ||   ||   ||   |\n",
            "| X ||   ||   ||   ||   ||   || X ||   ||   ||   ||   ||   ||   ||   ||   |\n",
            "|   ||   ||   || X ||   ||   ||   ||   ||   || X ||   || X ||   ||   || X |\n",
            "| X ||   ||   ||   || X ||   ||   || 0 || X || X || 0 || 0 || 0 || X || X |\n",
            "|   ||   ||   || 0 || 0 || X || X || 0 || 0 || 0 || 0 || 0 || 0 || 0 ||   |\n",
            "|   ||   ||   ||   || 0 || 0 || 0 || 0 || 0 || X || 0 || 0 || X ||   ||   |\n",
            "|   ||   || X ||   || 0 || 0 || 0 || X || 0 || 0 || 0 || 0 || X ||   || X |\n",
            "|   ||   || X ||   || 0 || 0 || 0 ||   || 0 || 0 || X || X || 0 || 0 || X |\n",
            "|   ||   ||   || X || 0 || 0 || 0 || X || I || 0 || 0 || X || 0 || M ||   |\n",
            "|   || X ||   ||   || 0 || 0 || X || 0 || 0 || 0 || 0 || 0 || 0 ||   ||   |\n",
            "|   ||   ||   || 0 || 0 || 0 || 0 || 0 || 0 || 0 || X || 0 || 0 ||   ||   |\n",
            "|   || X || X ||   || X || 0 || 0 || 0 || X || 0 || X || 0 || 0 || X ||   |\n",
            "|   ||   ||   || 0 || 0 || 0 || 0 || 0 || 0 || 0 || 0 || 0 || X ||   ||   |\n",
            "|   ||   ||   ||   || X || 0 ||   || 0 || 0 || 0 || 0 || 0 ||   ||   ||   |\n"
          ]
        }
      ]
    },
    {
      "cell_type": "code",
      "source": [],
      "metadata": {
        "id": "Hnnyh30at03K"
      },
      "execution_count": null,
      "outputs": []
    }
  ]
}