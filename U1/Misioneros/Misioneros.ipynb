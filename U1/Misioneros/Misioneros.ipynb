{
 "cells": [
  {
   "cell_type": "markdown",
   "metadata": {},
   "source": [
    "### Teoría del problema\n",
    "Considerar el conjunto de misioneros, caníbales y bote como: <br>\n",
    "[0,0,0] <-> [3,3,1]\n",
    "\n",
    "El segundo dígito, que representa a los caníbales no debe ser mayor que el primer dígito<br>\n",
    "que representa a los misioneros. El tercer dígito representa el lado que se encuentra el bote.\n",
    "\n",
    "Solamente 2 unidades pueden moverse al otro lado y sólamente si está el bote en ese lado. <br>\n",
    "Por lo cual, a M y C se le puede restar de 0 hasta 2. <br>\n",
    "De igual forma, en cada movimiento a B se le debe restar 1.<br>\n",
    "\n",
    "[M,C,B]<br>\n",
    "\n",
    "Por cada resta que se haga en un lado, en el otro lado debe hacerse lo inverso, una suma. <br>\n",
    "En perspectiva, la resta sólamente puede hacerse en el lado donde se encuentra el bote.\n"
   ]
  },
  {
   "cell_type": "markdown",
   "metadata": {},
   "source": [
    "Ejemplo de camino exitoso: <br>\n",
    "[0,0,0] <-> [3,3,1] <-- Inicio<br>\n",
    "[1,1,1] <-> [2,2,0] <br>\n",
    "[0,1,0] <-> [3,2,1] <br>\n",
    "[0,3,1] <-> [3,0,0] <br>\n",
    "[0,2,0] <-> [3,1,1] <br>\n",
    "[2,2,1] <-> [1,1,0] <br>\n",
    "[1,1,0] <-> [2,2,1] <br>\n",
    "[3,1,1] <-> [0,2,0] <br>\n",
    "[3,0,0] <-> [0,3,1] <br>\n",
    "[3,2,1] <-> [0,1,0] <br>\n",
    "[3,1,0] <-> [0,2,1] <br>\n",
    "[3,3,1] <-> [0,0,0] <-- Meta"
   ]
  },
  {
   "cell_type": "code",
   "execution_count": 62,
   "metadata": {},
   "outputs": [],
   "source": [
    "#Función para verificar si se cumple la condición de llegar a meta\n",
    "def criterioAceptacion(posicion, meta):\n",
    "  return posicion == meta"
   ]
  },
  {
   "cell_type": "code",
   "execution_count": 63,
   "metadata": {},
   "outputs": [
    {
     "name": "stdout",
     "output_type": "stream",
     "text": [
      "True\n",
      "False\n",
      "True\n",
      "False\n"
     ]
    }
   ],
   "source": [
    "print(criterioAceptacion([3,3,1], [3,3,1]))\n",
    "print(criterioAceptacion([3,2,1], [2,2,0]))\n",
    "\n",
    "# El que realmente se usará\n",
    "print(criterioAceptacion(([3, 3, 1], [0, 0, 0]), ([3, 3, 1], [0, 0, 0])))\n",
    "print(criterioAceptacion(([0, 0, 0], [3, 3, 1]), ([3, 3, 1], [0, 0, 0])))"
   ]
  },
  {
   "cell_type": "markdown",
   "metadata": {},
   "source": [
    "Para generar las soluciones del problema, tenemos las siguientes opciones: <br>\n",
    "1.- Restar 2 a misioneros, sólo si hay más de 1. <br>\n",
    "2.- Restar 2 a caníbales, sólo si hay más de 1. <br>\n",
    "3.- Restar 1 a misioneros y 1 a caníbales, sólo si hay más de 0 en ambos. <br>\n",
    "4.- Restar 1 a misioneros o 1 a caníbales, sólo si hay más de 0 en alguno de los dos. <br>"
   ]
  },
  {
   "cell_type": "code",
   "execution_count": 64,
   "metadata": {},
   "outputs": [],
   "source": [
    "#Función que permite generar todas las posibles soluciones\n",
    "#En este caso genera todos los posibles movimientos del estado actual\n",
    "def generarSoluciones(ladoIzq, ladoDer):\n",
    "  soluciones = []\n",
    "  #Generar posibles soluciones\n",
    "\n",
    "  # Se restan 2 misioneros (perspectiva lado derecho).\n",
    "  m, c, b = ladoIzq[0] + 2, ladoIzq[1], ladoIzq[2]\n",
    "  m2, c2, b2 = ladoDer[0] - 2, ladoDer[1], ladoDer[2]\n",
    "  if m2 >= 0 and b2 == 1:\n",
    "    #print(\"a\")\n",
    "    soluciones.append(([m,c,b+1],[m2,c2,b2-1]))\n",
    "  \n",
    "  # Se aumentan 2 misioneros.\n",
    "  m, c, b = ladoIzq[0] - 2, ladoIzq[1], ladoIzq[2]\n",
    "  m2, c2, b2 = ladoDer[0] + 2, ladoDer[1], ladoDer[2]\n",
    "  if m2 <= 3 and b2 == 0:\n",
    "    #print(\"b\")\n",
    "    soluciones.append(([m,c,b-1],[m2,c2,b2+1]))\n",
    "  \n",
    "  # Se restan 2 caníbales.\n",
    "  m, c, b = ladoIzq[0], ladoIzq[1] + 2, ladoIzq[2]\n",
    "  m2, c2, b2 = ladoDer[0], ladoDer[1] - 2, ladoDer[2]\n",
    "  if c2 >= 0 and b2 == 1:\n",
    "    #print(\"c\")\n",
    "    soluciones.append(([m,c,b+1],[m2,c2,b2-1]))\n",
    "\n",
    "  # Se aumentan 2 caníbales.\n",
    "  m, c, b = ladoIzq[0], ladoIzq[1] - 2, ladoIzq[2]\n",
    "  m2, c2, b2 = ladoDer[0], ladoDer[1] + 2, ladoDer[2]\n",
    "  if c2 <= 3 and b2 == 0:\n",
    "    #print(\"d\")\n",
    "    soluciones.append(([m,c,b-1],[m2,c2,b2+1]))\n",
    "  \n",
    "  # Se resta 1 y 1.\n",
    "  m, c, b = ladoIzq[0] + 1, ladoIzq[1] + 1, ladoIzq[2]\n",
    "  m2, c2, b2 = ladoDer[0] - 1, ladoDer[1] - 1, ladoDer[2]\n",
    "  if (m2 >= 0 and c2 >= 0) and b2 == 1:\n",
    "    #print(\"e\")\n",
    "    soluciones.append(([m,c,b+1],[m2,c2,b2-1]))\n",
    "  \n",
    "  # Se aumenta 1 y 1.\n",
    "  m, c, b = ladoIzq[0] - 1, ladoIzq[1] - 1, ladoIzq[2]\n",
    "  m2, c2, b2 = ladoDer[0] + 1, ladoDer[1] + 1, ladoDer[2]\n",
    "  if (m2 <= 3 and c2 <= 3) and b2 == 0:\n",
    "    #print(\"f\")\n",
    "    soluciones.append(([m,c,b-1],[m2,c2,b2+1]))\n",
    "\n",
    "  # Se resta 1 a misioneros.\n",
    "  m, c, b = ladoIzq[0] + 1, ladoIzq[1], ladoIzq[2]\n",
    "  m2, c2, b2 = ladoDer[0] - 1, ladoDer[1], ladoDer[2]\n",
    "  if m2 >= 0 and b2 == 1:\n",
    "    #print(\"g\")\n",
    "    soluciones.append(([m,c,b+1],[m2,c2,b2-1]))\n",
    "  \n",
    "  # Se aumenta 1 a misioneros.\n",
    "  m, c, b = ladoIzq[0] - 1, ladoIzq[1], ladoIzq[2]\n",
    "  m2, c2, b2 = ladoDer[0] + 1, ladoDer[1], ladoDer[2]\n",
    "  if m2 <= 3 and b2 == 0:\n",
    "    #print(\"h\")\n",
    "    soluciones.append(([m,c,b-1],[m2,c2,b2+1]))\n",
    "\n",
    "  # Se resta 1 a caníbales.\n",
    "  m, c, b = ladoIzq[0], ladoIzq[1] + 1, ladoIzq[2]\n",
    "  m2, c2, b2 = ladoDer[0], ladoDer[1] - 1, ladoDer[2]\n",
    "  if c2 >= 0 and b2 == 1:\n",
    "    #print(\"i\")\n",
    "    soluciones.append(([m,c,b+1],[m2,c2,b2-1]))\n",
    "  \n",
    "  # Se aumenta 1 a caníbales.\n",
    "  m, c, b = ladoIzq[0], ladoIzq[1] - 1, ladoIzq[2]\n",
    "  m2, c2, b2 = ladoDer[0], ladoDer[1] + 1, ladoDer[2]\n",
    "  if c2 <= 3 and b2 == 0:\n",
    "    #print(\"j\")\n",
    "    soluciones.append(([m,c,b-1],[m2,c2,b2+1]))\n",
    "  \n",
    "  return soluciones"
   ]
  },
  {
   "cell_type": "code",
   "execution_count": 65,
   "metadata": {},
   "outputs": [
    {
     "data": {
      "text/plain": [
       "[([2, 0, 1], [1, 3, 0]),\n",
       " ([0, 2, 1], [3, 1, 0]),\n",
       " ([1, 1, 1], [2, 2, 0]),\n",
       " ([1, 0, 1], [2, 3, 0]),\n",
       " ([0, 1, 1], [3, 2, 0])]"
      ]
     },
     "execution_count": 65,
     "metadata": {},
     "output_type": "execute_result"
    }
   ],
   "source": [
    "generarSoluciones([0,0,0], [3,3,1])"
   ]
  },
  {
   "cell_type": "code",
   "execution_count": 66,
   "metadata": {},
   "outputs": [],
   "source": [
    "def validar(ladoIzq, ladoDer, visitados):\n",
    "    # Si visitados no está vacía, el bote podría haberse movido.\n",
    "    if (len(visitados) != 0):\n",
    "        # Verificar que el último nodo de visitados no tenga el bote en el mismo lado que el nodo actual.\n",
    "        if (ladoIzq[2] != visitados[-1][0][2]):\n",
    "            # Validar que en el nodo no haya más caníbales que misioneros en cualquiera de los lados.\n",
    "            return ((ladoIzq[0] >= ladoIzq[1] or ladoIzq[0] == 0) and (ladoDer[0] >= ladoDer[1] or ladoDer[0] == 0))\n",
    "        else:\n",
    "            return False\n",
    "    # Si está vacía, el bote siempre estará a la derecha.\n",
    "    else:\n",
    "        return True"
   ]
  },
  {
   "cell_type": "code",
   "execution_count": 67,
   "metadata": {},
   "outputs": [
    {
     "data": {
      "text/plain": [
       "True"
      ]
     },
     "execution_count": 67,
     "metadata": {},
     "output_type": "execute_result"
    }
   ],
   "source": [
    "validar([1, 1, 1], [2, 2, 0],[])"
   ]
  },
  {
   "cell_type": "code",
   "execution_count": 68,
   "metadata": {},
   "outputs": [],
   "source": [
    "#Implementación del algoritmo de búsqueda BFS\n",
    "def BFS(frontera_act, visitados, solucion, meta, n_iteraciones):\n",
    "  n_iteraciones = n_iteraciones + 1\n",
    "  frontera = frontera_act[:]\n",
    "  #Si ya no hay posibles caminos, entonces no se encontro solución\n",
    "  if len(frontera) == 0:\n",
    "    print(\"Número de iteraciones: {}\".format(n_iteraciones))\n",
    "    return []\n",
    "  #Se toma el primer elemento de la lista y se elimina de la misma\n",
    "  cabeza = frontera.pop(0)\n",
    "  #Si el elemento no ha sido anteriormente visitado o generado,\n",
    "  #entonces no se generan más soluciones, para evitar enciclarse\n",
    "  # y también valida el nodo actual usando las reglas de juego.\n",
    "  if cabeza not in visitados and validar(cabeza[0], cabeza[1], visitados):\n",
    "  #if cabeza not in visitados:\n",
    "    #Se agrega el elemento a la lista de soluciones, es decir el camino recorrido hasta ahora\n",
    "    solucion.append(cabeza)\n",
    "    #Si cumple con el criterio de aceptación entonces llega a la meta\n",
    "    if criterioAceptacion(cabeza, meta):\n",
    "      print(\"Se ha llegado a la meta: {}\".format(cabeza))\n",
    "      print(\"Número de iteraciones: {}\".format(n_iteraciones))\n",
    "      return solucion\n",
    "    #Se agrega a la lista de visitados para evitar enciclamientos\n",
    "    print(\"Recorriendo, actualmente en: {}\".format(cabeza))\n",
    "    visitados.append(cabeza)\n",
    "    #Se generan las nuevas posibilidades a partir de la posición actual\n",
    "    nuevas_soluciones = generarSoluciones(cabeza[0], cabeza[1])\n",
    "    print(\"Nuevas soluciones: {}\".format(nuevas_soluciones))\n",
    "    #Se agregan los elementos nuevos al final de la lista para simular una cola\n",
    "    frontera = frontera + nuevas_soluciones\n",
    "  #Se hace un llamado recursivo\n",
    "  return BFS(frontera, visitados, solucion, meta, n_iteraciones)"
   ]
  },
  {
   "cell_type": "code",
   "execution_count": 69,
   "metadata": {},
   "outputs": [],
   "source": [
    "#Función que utiliza todos las funciones creadas para hacer la simulación\n",
    "def play_bfs():\n",
    "  inicio = ([0,0,0], [3,3,1])\n",
    "  meta = ([3,3,1], [0,0,0])\n",
    "  visitados, solucion = [], []\n",
    "  solBFS = BFS([inicio], visitados, solucion, meta, 0)\n",
    "  print(\"Cantidad recorrida con BFS: {}\".format(len(solBFS)))\n",
    "  print(\"Recorrido: {}\".format(solBFS))\n",
    "  if len(solBFS) == 0:\n",
    "    print(\"No se encontro solucion\")\n",
    "    return"
   ]
  },
  {
   "cell_type": "code",
   "execution_count": 70,
   "metadata": {},
   "outputs": [
    {
     "name": "stdout",
     "output_type": "stream",
     "text": [
      "Recorriendo, actualmente en: ([0, 0, 0], [3, 3, 1])\n",
      "Nuevas soluciones: [([2, 0, 1], [1, 3, 0]), ([0, 2, 1], [3, 1, 0]), ([1, 1, 1], [2, 2, 0]), ([1, 0, 1], [2, 3, 0]), ([0, 1, 1], [3, 2, 0])]\n",
      "Recorriendo, actualmente en: ([0, 2, 1], [3, 1, 0])\n",
      "Nuevas soluciones: [([0, 0, 0], [3, 3, 1]), ([0, 1, 0], [3, 2, 1])]\n",
      "Recorriendo, actualmente en: ([0, 1, 0], [3, 2, 1])\n",
      "Nuevas soluciones: [([2, 1, 1], [1, 2, 0]), ([0, 3, 1], [3, 0, 0]), ([1, 2, 1], [2, 1, 0]), ([1, 1, 1], [2, 2, 0]), ([0, 2, 1], [3, 1, 0])]\n",
      "Recorriendo, actualmente en: ([0, 3, 1], [3, 0, 0])\n",
      "Nuevas soluciones: [([0, 1, 0], [3, 2, 1]), ([0, 2, 0], [3, 1, 1])]\n",
      "Recorriendo, actualmente en: ([0, 2, 0], [3, 1, 1])\n",
      "Nuevas soluciones: [([2, 2, 1], [1, 1, 0]), ([1, 3, 1], [2, 0, 0]), ([1, 2, 1], [2, 1, 0]), ([0, 3, 1], [3, 0, 0])]\n",
      "Recorriendo, actualmente en: ([2, 2, 1], [1, 1, 0])\n",
      "Nuevas soluciones: [([0, 2, 0], [3, 1, 1]), ([2, 0, 0], [1, 3, 1]), ([1, 1, 0], [2, 2, 1]), ([1, 2, 0], [2, 1, 1]), ([2, 1, 0], [1, 2, 1])]\n",
      "Recorriendo, actualmente en: ([1, 1, 0], [2, 2, 1])\n",
      "Nuevas soluciones: [([3, 1, 1], [0, 2, 0]), ([1, 3, 1], [2, 0, 0]), ([2, 2, 1], [1, 1, 0]), ([2, 1, 1], [1, 2, 0]), ([1, 2, 1], [2, 1, 0])]\n",
      "Recorriendo, actualmente en: ([3, 1, 1], [0, 2, 0])\n",
      "Nuevas soluciones: [([1, 1, 0], [2, 2, 1]), ([2, 0, 0], [1, 3, 1]), ([2, 1, 0], [1, 2, 1]), ([3, 0, 0], [0, 3, 1])]\n",
      "Recorriendo, actualmente en: ([3, 0, 0], [0, 3, 1])\n",
      "Nuevas soluciones: [([3, 2, 1], [0, 1, 0]), ([3, 1, 1], [0, 2, 0])]\n",
      "Recorriendo, actualmente en: ([3, 2, 1], [0, 1, 0])\n",
      "Nuevas soluciones: [([1, 2, 0], [2, 1, 1]), ([3, 0, 0], [0, 3, 1]), ([2, 1, 0], [1, 2, 1]), ([2, 2, 0], [1, 1, 1]), ([3, 1, 0], [0, 2, 1])]\n",
      "Recorriendo, actualmente en: ([2, 2, 0], [1, 1, 1])\n",
      "Nuevas soluciones: [([3, 3, 1], [0, 0, 0]), ([3, 2, 1], [0, 1, 0]), ([2, 3, 1], [1, 0, 0])]\n",
      "Se ha llegado a la meta: ([3, 3, 1], [0, 0, 0])\n",
      "Número de iteraciones: 41\n",
      "Cantidad recorrida con BFS: 12\n",
      "Recorrido: [([0, 0, 0], [3, 3, 1]), ([0, 2, 1], [3, 1, 0]), ([0, 1, 0], [3, 2, 1]), ([0, 3, 1], [3, 0, 0]), ([0, 2, 0], [3, 1, 1]), ([2, 2, 1], [1, 1, 0]), ([1, 1, 0], [2, 2, 1]), ([3, 1, 1], [0, 2, 0]), ([3, 0, 0], [0, 3, 1]), ([3, 2, 1], [0, 1, 0]), ([2, 2, 0], [1, 1, 1]), ([3, 3, 1], [0, 0, 0])]\n"
     ]
    }
   ],
   "source": [
    "play_bfs()"
   ]
  },
  {
   "cell_type": "code",
   "execution_count": 71,
   "metadata": {},
   "outputs": [],
   "source": [
    "#Implementación del algoritmo de búsqueda BFS\n",
    "def DFS(frontera_act, visitados, solucion, meta, n_iteraciones):\n",
    "  n_iteraciones = n_iteraciones + 1\n",
    "  frontera = frontera_act[:]\n",
    "  #Si ya no hay posibles caminos, entonces no se encontro solución\n",
    "  if len(frontera) == 0:\n",
    "    print(\"Número de iteraciones: {}\".format(n_iteraciones))\n",
    "    return []\n",
    "  #Se toma el primer elemento de la lista y se elimina de la misma\n",
    "  cabeza = frontera.pop(0)\n",
    "  #Si el elemento no ha sido anteriormente visitado o generado,\n",
    "  #entonces no se generan más soluciones, para evitar enciclarse\n",
    "  # y también valida el nodo actual usando las reglas de juego.\n",
    "  if cabeza not in visitados and validar(cabeza[0], cabeza[1], visitados):\n",
    "  #if cabeza not in visitados:\n",
    "    #Se agrega el elemento a la lista de soluciones, es decir el camino recorrido hasta ahora\n",
    "    solucion.append(cabeza)\n",
    "    #Si cumple con el criterio de aceptación entonces llega a la meta\n",
    "    if criterioAceptacion(cabeza, meta):\n",
    "      print(\"Se ha llegado a la meta: {}\".format(cabeza))\n",
    "      print(\"Número de iteraciones: {}\".format(n_iteraciones))\n",
    "      return solucion\n",
    "    #Se agrega a la lista de visitados para evitar enciclamientos\n",
    "    print(\"Recorriendo, actualmente en: {}\".format(cabeza))\n",
    "    visitados.append(cabeza)\n",
    "    #Se generan las nuevas posibilidades a partir de la posición actual\n",
    "    nuevas_soluciones = generarSoluciones(cabeza[0], cabeza[1])\n",
    "    print(\"Nuevas soluciones: {}\".format(nuevas_soluciones))\n",
    "    #Se agregan los elementos nuevos al final de la lista para simular una cola\n",
    "    frontera = nuevas_soluciones + frontera\n",
    "  #Se hace un llamado recursivo\n",
    "  return DFS(frontera, visitados, solucion, meta, n_iteraciones)"
   ]
  },
  {
   "cell_type": "code",
   "execution_count": 72,
   "metadata": {},
   "outputs": [],
   "source": [
    "#Función que utiliza todos las funciones creadas para hacer la simulación\n",
    "def play_dfs():\n",
    "  inicio = ([0,0,0], [3,3,1])\n",
    "  meta = ([3,3,1], [0,0,0])\n",
    "  visitados, solucion = [], []\n",
    "  solDFS = DFS([inicio], visitados, solucion, meta, 0)\n",
    "  print(\"Cantidad recorrida con DFS: {}\".format(len(solDFS)))\n",
    "  print(\"Recorrido: {}\".format(solDFS))\n",
    "  if len(solDFS) == 0:\n",
    "    print(\"No se encontro solucion\")\n",
    "    return"
   ]
  },
  {
   "cell_type": "code",
   "execution_count": 73,
   "metadata": {},
   "outputs": [
    {
     "name": "stdout",
     "output_type": "stream",
     "text": [
      "Recorriendo, actualmente en: ([0, 0, 0], [3, 3, 1])\n",
      "Nuevas soluciones: [([2, 0, 1], [1, 3, 0]), ([0, 2, 1], [3, 1, 0]), ([1, 1, 1], [2, 2, 0]), ([1, 0, 1], [2, 3, 0]), ([0, 1, 1], [3, 2, 0])]\n",
      "Recorriendo, actualmente en: ([0, 2, 1], [3, 1, 0])\n",
      "Nuevas soluciones: [([0, 0, 0], [3, 3, 1]), ([0, 1, 0], [3, 2, 1])]\n",
      "Recorriendo, actualmente en: ([0, 1, 0], [3, 2, 1])\n",
      "Nuevas soluciones: [([2, 1, 1], [1, 2, 0]), ([0, 3, 1], [3, 0, 0]), ([1, 2, 1], [2, 1, 0]), ([1, 1, 1], [2, 2, 0]), ([0, 2, 1], [3, 1, 0])]\n",
      "Recorriendo, actualmente en: ([0, 3, 1], [3, 0, 0])\n",
      "Nuevas soluciones: [([0, 1, 0], [3, 2, 1]), ([0, 2, 0], [3, 1, 1])]\n",
      "Recorriendo, actualmente en: ([0, 2, 0], [3, 1, 1])\n",
      "Nuevas soluciones: [([2, 2, 1], [1, 1, 0]), ([1, 3, 1], [2, 0, 0]), ([1, 2, 1], [2, 1, 0]), ([0, 3, 1], [3, 0, 0])]\n",
      "Recorriendo, actualmente en: ([2, 2, 1], [1, 1, 0])\n",
      "Nuevas soluciones: [([0, 2, 0], [3, 1, 1]), ([2, 0, 0], [1, 3, 1]), ([1, 1, 0], [2, 2, 1]), ([1, 2, 0], [2, 1, 1]), ([2, 1, 0], [1, 2, 1])]\n",
      "Recorriendo, actualmente en: ([1, 1, 0], [2, 2, 1])\n",
      "Nuevas soluciones: [([3, 1, 1], [0, 2, 0]), ([1, 3, 1], [2, 0, 0]), ([2, 2, 1], [1, 1, 0]), ([2, 1, 1], [1, 2, 0]), ([1, 2, 1], [2, 1, 0])]\n",
      "Recorriendo, actualmente en: ([3, 1, 1], [0, 2, 0])\n",
      "Nuevas soluciones: [([1, 1, 0], [2, 2, 1]), ([2, 0, 0], [1, 3, 1]), ([2, 1, 0], [1, 2, 1]), ([3, 0, 0], [0, 3, 1])]\n",
      "Recorriendo, actualmente en: ([3, 0, 0], [0, 3, 1])\n",
      "Nuevas soluciones: [([3, 2, 1], [0, 1, 0]), ([3, 1, 1], [0, 2, 0])]\n",
      "Recorriendo, actualmente en: ([3, 2, 1], [0, 1, 0])\n",
      "Nuevas soluciones: [([1, 2, 0], [2, 1, 1]), ([3, 0, 0], [0, 3, 1]), ([2, 1, 0], [1, 2, 1]), ([2, 2, 0], [1, 1, 1]), ([3, 1, 0], [0, 2, 1])]\n",
      "Recorriendo, actualmente en: ([2, 2, 0], [1, 1, 1])\n",
      "Nuevas soluciones: [([3, 3, 1], [0, 0, 0]), ([3, 2, 1], [0, 1, 0]), ([2, 3, 1], [1, 0, 0])]\n",
      "Se ha llegado a la meta: ([3, 3, 1], [0, 0, 0])\n",
      "Número de iteraciones: 24\n",
      "Cantidad recorrida con DFS: 12\n",
      "Recorrido: [([0, 0, 0], [3, 3, 1]), ([0, 2, 1], [3, 1, 0]), ([0, 1, 0], [3, 2, 1]), ([0, 3, 1], [3, 0, 0]), ([0, 2, 0], [3, 1, 1]), ([2, 2, 1], [1, 1, 0]), ([1, 1, 0], [2, 2, 1]), ([3, 1, 1], [0, 2, 0]), ([3, 0, 0], [0, 3, 1]), ([3, 2, 1], [0, 1, 0]), ([2, 2, 0], [1, 1, 1]), ([3, 3, 1], [0, 0, 0])]\n"
     ]
    }
   ],
   "source": [
    "play_dfs()"
   ]
  }
 ],
 "metadata": {
  "kernelspec": {
   "display_name": "Python 3",
   "language": "python",
   "name": "python3"
  },
  "language_info": {
   "codemirror_mode": {
    "name": "ipython",
    "version": 3
   },
   "file_extension": ".py",
   "mimetype": "text/x-python",
   "name": "python",
   "nbconvert_exporter": "python",
   "pygments_lexer": "ipython3",
   "version": "3.12.1"
  }
 },
 "nbformat": 4,
 "nbformat_minor": 2
}
