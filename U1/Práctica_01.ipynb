{
 "cells": [
  {
   "cell_type": "markdown",
   "metadata": {},
   "source": [
    "Inicialización = [0,0]\n",
    "Meta = (I,S)\n",
    "\n",
    "Criterio de aceptación:\n",
    "    Inicialización == Meta"
   ]
  },
  {
   "cell_type": "code",
   "execution_count": 1,
   "metadata": {},
   "outputs": [],
   "source": [
    "def criterioAceptacion(posicion, meta):\n",
    "    return posicion == meta"
   ]
  },
  {
   "cell_type": "code",
   "execution_count": 2,
   "metadata": {},
   "outputs": [
    {
     "name": "stdout",
     "output_type": "stream",
     "text": [
      "True\n",
      "False\n"
     ]
    }
   ],
   "source": [
    "print(criterioAceptacion((1,2), (1,2)))\n",
    "print(criterioAceptacion((1,2), (2,2)))"
   ]
  },
  {
   "cell_type": "code",
   "execution_count": 4,
   "metadata": {},
   "outputs": [],
   "source": [
    "# parámetros (Lista con los caminos recorridos, n, m, inicio, meta, obstáculos)\n",
    "def imprimeTab(soluciones, n, m, inicio, meta, obstaculos):\n",
    "    for i in range(n):\n",
    "        for j in range(m):\n",
    "            if (i,j) in obstaculos:\n",
    "                print(\"| X |\", end='')\n",
    "            elif (i,j) == inicio\n",
    "            elif (i,j) in soluciones:\n",
    "                print(\"| 0 |\", end='')\n",
    "            else:\n",
    "                print(\"|   |\", end='')\n",
    "            \n",
    "        print()"
   ]
  },
  {
   "cell_type": "code",
   "execution_count": null,
   "metadata": {},
   "outputs": [],
   "source": [
    "n = 10\n",
    "m = 10\n",
    "imprimeTab([(2,2),(2,3)]], n, m, None, None, [()])"
   ]
  },
  {
   "cell_type": "code",
   "execution_count": null,
   "metadata": {},
   "outputs": [],
   "source": [
    "import random\n",
    "def generarBuscadorMeta(n,m):\n",
    "    #   Posición inicial\n",
    "    x,y = random.randint(0, n-1), random.randint(0, m-1)\n",
    "    inicio = (x,y)\n",
    "    #   Meta\n",
    "    x,y = random.randint(0, n-1), random.randint(0, m-1)\n",
    "    meta = (x,y)\n",
    "    return inicio, meta"
   ]
  },
  {
   "cell_type": "code",
   "execution_count": null,
   "metadata": {},
   "outputs": [],
   "source": [
    "inicio, meta = generarInicioMeta(n,m)\n",
    "inicio, meta"
   ]
  },
  {
   "cell_type": "code",
   "execution_count": null,
   "metadata": {},
   "outputs": [],
   "source": [
    "def generarObstaculos(n,m, inicio, meta):\n",
    "    #Generación porcentual de los obstáculos\n",
    "    n_obstaculos = int((n * m) * .20)\n",
    "    obstaculos = []\n",
    "    for i in range(n_obstaculos):\n",
    "        obs = (random.randint(0, n-1), random.randint(0, m-1))\n",
    "        if obs == inicio or obs == meta or obs in obstaculos:\n",
    "            i -= 1\n",
    "            continue\n",
    "        obstaculos.append(obs)\n",
    "    return obs\n"
   ]
  },
  {
   "cell_type": "code",
   "execution_count": null,
   "metadata": {},
   "outputs": [],
   "source": [
    "obstaculos = generarObstaculos(n, m, inicio, meta)\n"
   ]
  },
  {
   "cell_type": "code",
   "execution_count": null,
   "metadata": {},
   "outputs": [],
   "source": [
    "imprimeTab([],n,m, inicio, meta, obstaculos)"
   ]
  },
  {
   "cell_type": "code",
   "execution_count": null,
   "metadata": {},
   "outputs": [],
   "source": [
    "def generarSoluciones(actual, tablero):\n",
    "    n = tablero[0]\n",
    "    m = tablero[1]\n",
    "    soluciones = []\n",
    "    dato = actual\n",
    "    #   Generar posibles soluciones\n",
    "    #   Generación hacia los lados\n",
    "    #   Movimiento a la izquierda\n",
    "    x, y = dato[0] - 1, dato[1]\n",
    "    if x >= 0:\n",
    "        soluciones.append((x,y))\n",
    "    #   Movimiento a la derecha"
   ]
  },
  {
   "cell_type": "code",
   "execution_count": null,
   "metadata": {},
   "outputs": [],
   "source": [
    "def BFS(frontera_act, visitados, solucion, meta, tablero)\n",
    "    frontera = frontera_act[:]\n",
    "    if len(frontera) == 0:\n",
    "        return []\n",
    "    cabeza = frontera.pop(0)\n",
    "    if cabeza not in visitados and cabeza not in obstaculos:\n",
    "        solucion.append(cabeza)\n",
    "        if criterioAceptacion(cabeza, meta):\n",
    "            return solucion\n",
    "        visitados.append(cabeza)\n",
    "        nuevas_soluciones = generarSoluciones(cabeza, tablero)\n",
    "        frontera = frontera + nuevas_soluciones\n",
    "    return BFS(fronteram visitados, solucion, meta, tablero, obstaculos)"
   ]
  },
  {
   "cell_type": "code",
   "execution_count": null,
   "metadata": {},
   "outputs": [],
   "source": [
    "def play_bfs():\n",
    "    n, m = 10, 10\n",
    "    inicio, meta = generarInicioMeta(n,m)\n",
    "    print(\"El buscador se encuentra en la posición \", inicio)\n",
    "    print(\"La meta se encuentra en la posición \", meta)\n",
    "    obstaculos = generarObstaculos(n,m, inicio, meta)\n",
    "    print(\"Número de obstáculos: {}\".format(len(obstaculos)))\n",
    "    visitados, solucion = [], []\n",
    "    solBFS = BFS([inicio], visitados, solucion, meta, (n,m), obstaculos)\n",
    "    print(\"Cantidad recorrida con BFS: {}\".format(len(solBFS)))\n",
    "    if len(solBFS == 0):\n",
    "        print(\"No se encontró solución\")\n",
    "        return\n",
    "    imprimeTab(solBFS, n, m, inicio, meta, obstaculos)"
   ]
  }
 ],
 "metadata": {
  "kernelspec": {
   "display_name": "Python 3",
   "language": "python",
   "name": "python3"
  },
  "language_info": {
   "codemirror_mode": {
    "name": "ipython",
    "version": 3
   },
   "file_extension": ".py",
   "mimetype": "text/x-python",
   "name": "python",
   "nbconvert_exporter": "python",
   "pygments_lexer": "ipython3",
   "version": "3.12.1"
  }
 },
 "nbformat": 4,
 "nbformat_minor": 2
}
