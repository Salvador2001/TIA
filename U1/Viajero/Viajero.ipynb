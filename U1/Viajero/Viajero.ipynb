{
 "cells": [
  {
   "cell_type": "markdown",
   "metadata": {},
   "source": [
    "### Teoría del problema\n",
    "Se requiere almacenar todos los nodos posibles, además debe haber una forma en la que se pueda obtener los vecinos del nodo actual. Se podría tener una lista que almacene una serie de tuplas que contienen el Punto A, Punto B y el costo (distancia) para cada uno de los nodos (ciudades) y hacer un chequeo en la función que genera soluciones.\n",
    "\n",
    "[ <br>\n",
    "(Arad, Arad, 0) <-- Se usaría como nodo inicial <br>\n",
    "(Arad, Zerind, 75) <br>\n",
    "(Arad, Sibiu, 140) <br>\n",
    "(Arad, Timisoara, 118) <br>\n",
    "] <br>\n",
    "\n",
    "La distancia no sería relevante para los primeros 4 algoritmos, si no hasta que se llegue a usar en los que requieren heurística (Voraz, AEstrella, etc). Cada ciudad debe tener un nodo que se conecte consigo mismo como en el nodo inicial, pero el algoritmo debe evitar estos nodos a menos que sea el nodo destino (meta), esto es para casos en que se requiera cambiar el inicio y la meta."
   ]
  },
  {
   "cell_type": "code",
   "execution_count": 1,
   "metadata": {},
   "outputs": [],
   "source": [
    "ciudades = [\n",
    "    (\"Arad\",\"Arad\",0),\n",
    "    (\"Arad\",\"Zerind\",75),\n",
    "    (\"Arad\",\"Sibiu\",140),\n",
    "    (\"Arad\",\"Timisoara\",118),\n",
    "    (\"Zerind\",\"Zerind\",0),\n",
    "    (\"Zerind\",\"Oradea\",71),\n",
    "    (\"Oradea\",\"Oradea\",0),\n",
    "    (\"Oradea\",\"Sibiu\",151),\n",
    "    (\"Timisoara\",\"Timisoara\",0),\n",
    "    (\"Timisoara\",\"Lugoj\",111),\n",
    "    (\"Lugoj\",\"Lugoj\",0),\n",
    "    (\"Lugoj\",\"Mehadia\",70),\n",
    "    (\"Mehadia\",\"Mehadia\",0),\n",
    "    (\"Mehadia\",\"Drobeta\",75),\n",
    "    (\"Drobeta\",\"Drobeta\",0),\n",
    "    (\"Drobeta\",\"Craiova\",120),\n",
    "    (\"Sibiu\",\"Sibiu\",0),\n",
    "    (\"Sibiu\",\"Fagaras\",99),\n",
    "    (\"Sibiu\",\"Rimnicu Vilcea\",80),\n",
    "    (\"Rimnicu Vilcea\",\"Rimnicu Vilcea\",0),\n",
    "    (\"Rimnicu Vilcea\",\"Pitesti\",97),\n",
    "    (\"Rimnicu Vilcea\",\"Craiova\",146),\n",
    "    (\"Craiova\",\"Craiova\",0),\n",
    "    (\"Craiova\",\"Pitesti\",138),\n",
    "    (\"Pitesti\",\"Bucharest\",101),\n",
    "    (\"Bucharest\",\"Bucharest\",0),\n",
    "    (\"Fagaras\",\"Fagaras\",0),\n",
    "    (\"Fagaras\",\"Bucharest\",211),\n",
    "    (\"Bucharest\",\"Giurgiu\",90),\n",
    "    (\"Giurgiu\",\"Giurgiu\",0),\n",
    "    (\"Bucharest\",\"Urziceni\",85),\n",
    "    (\"Urziceni\",\"Urziceni\",0),\n",
    "    (\"Urziceni\",\"Hirsova\",98),\n",
    "    (\"Urziceni\",\"Vaslui\",142),\n",
    "    (\"Hirsova\",\"Hirsova\",0),\n",
    "    (\"Hirsova\",\"Eforie\",86),\n",
    "    (\"Eforie\",\"Eforie\",0),\n",
    "    (\"Vaslui\",\"Vaslui\",0),\n",
    "    (\"Vaslui\",\"Iasi\",92),\n",
    "    (\"Iasi\",\"Iasi\",0),\n",
    "    (\"Iasi\",\"Neamt\",87),\n",
    "    (\"Neamt\",\"Neamt\",0)\n",
    "]"
   ]
  },
  {
   "cell_type": "code",
   "execution_count": 2,
   "metadata": {},
   "outputs": [],
   "source": [
    "#Función para verificar si se cumple la condición de llegar a meta\n",
    "def criterioAceptacion(posicion, meta):\n",
    "  return posicion == meta"
   ]
  },
  {
   "cell_type": "code",
   "execution_count": 3,
   "metadata": {},
   "outputs": [
    {
     "name": "stdout",
     "output_type": "stream",
     "text": [
      "True\n",
      "False\n"
     ]
    }
   ],
   "source": [
    "print(criterioAceptacion((\"Bucarest\",\"Bucarest\",0), (\"Bucarest\",\"Bucarest\",0)))\n",
    "print(criterioAceptacion((\"Arad\",\"Sibiu\",140), (\"Bucarest\",\"Bucarest\",0)))"
   ]
  },
  {
   "cell_type": "markdown",
   "metadata": {},
   "source": [
    "Para generar las soluciones, la función debe revisar el Punto B del nodo actual, y regresar los posibles nodos que contengan ese Punto B como Punto A, por ejemplo: <br>\n",
    "\n",
    "Nodo: (A,B,n) <br>\n",
    "... <br>\n",
    "Soluciones: <br>\n",
    "(B,X,n) <br>\n",
    "(B,Y,n) <br>\n",
    "(B,Z,n) <br>\n",
    "(B,B,0) <br>\n",
    "\n",
    "En todos los casos, se omitiría la última solución a menos que sea la meta."
   ]
  },
  {
   "cell_type": "code",
   "execution_count": 4,
   "metadata": {},
   "outputs": [],
   "source": [
    "#Función que permite generar todas las posibles soluciones\n",
    "#En este caso genera todos los posibles movimientos del estado actual\n",
    "def generarSoluciones(actual, meta):\n",
    "  soluciones = []\n",
    "  \n",
    "  #Generar posibles soluciones\n",
    "  for nodo in ciudades:\n",
    "    if nodo[0] == actual[1] and nodo == meta:\n",
    "      soluciones.append(nodo)\n",
    "    elif nodo[0] == actual[1] and nodo[0] != nodo[1]:\n",
    "      soluciones.append(nodo)\n",
    "  return soluciones"
   ]
  },
  {
   "cell_type": "code",
   "execution_count": 5,
   "metadata": {},
   "outputs": [
    {
     "data": {
      "text/plain": [
       "[('Zerind', 'Oradea', 71)]"
      ]
     },
     "execution_count": 5,
     "metadata": {},
     "output_type": "execute_result"
    }
   ],
   "source": [
    "generarSoluciones((\"Arad\",\"Zerind\",75), (\"Bucharest\",\"Bucharest\",0))"
   ]
  },
  {
   "cell_type": "code",
   "execution_count": 51,
   "metadata": {},
   "outputs": [],
   "source": [
    "def validar(actual, visitados):\n",
    "    #print(\"validar actual: {}\".format(actual))\n",
    "    #print(\"validar visitados: {}\".format(visitados))\n",
    "    if len(visitados) == 0:\n",
    "        return True\n",
    "    else:\n",
    "        if visitados[-1][1] == actual[0]:\n",
    "            return True"
   ]
  },
  {
   "cell_type": "code",
   "execution_count": 49,
   "metadata": {},
   "outputs": [
    {
     "name": "stdout",
     "output_type": "stream",
     "text": [
      "validar actual: ('Zerind', 'Oradea', 71)\n",
      "validar visitados: [('Arad', 'Zerind', 75)]\n"
     ]
    },
    {
     "data": {
      "text/plain": [
       "True"
      ]
     },
     "execution_count": 49,
     "metadata": {},
     "output_type": "execute_result"
    }
   ],
   "source": [
    "validar((\"Zerind\",\"Oradea\",71),[(\"Arad\", \"Zerind\", 75)])"
   ]
  },
  {
   "cell_type": "code",
   "execution_count": 52,
   "metadata": {},
   "outputs": [],
   "source": [
    "#Implementación del algoritmo de búsqueda BFS\n",
    "def BFS(frontera_act, visitados, solucion, meta, n_iteraciones):\n",
    "  n_iteraciones = n_iteraciones + 1\n",
    "  frontera = frontera_act[:]\n",
    "  #Si ya no hay posibles caminos, entonces no se encontro solución\n",
    "  if len(frontera) == 0:\n",
    "    print(\"Número de iteraciones: {}\".format(n_iteraciones))\n",
    "    return []\n",
    "  #Se toma el primer elemento de la lista y se elimina de la misma\n",
    "  cabeza = frontera.pop(0)\n",
    "  #Si el elemento no ha sido anteriormente visitado o generado,\n",
    "  #entonces no se generan más soluciones, para evitar enciclarse\n",
    "  # y también valida el nodo actual usando las reglas de juego.\n",
    "  if cabeza not in visitados and validar(cabeza, visitados):\n",
    "    #print(\"entró: {}\".format(cabeza))\n",
    "  #if cabeza not in visitados:\n",
    "    #Se agrega el elemento a la lista de soluciones, es decir el camino recorrido hasta ahora\n",
    "    solucion.append(cabeza)\n",
    "    #Si cumple con el criterio de aceptación entonces llega a la meta\n",
    "    if criterioAceptacion(cabeza, meta):\n",
    "      print(\"Se ha llegado a la meta: {}\".format(cabeza))\n",
    "      print(\"Número de iteraciones: {}\".format(n_iteraciones))\n",
    "      return solucion\n",
    "    #Se agrega a la lista de visitados para evitar enciclamientos\n",
    "    print(\"Recorriendo, actualmente en: {}\".format(cabeza))\n",
    "    visitados.append(cabeza)\n",
    "    #Se generan las nuevas posibilidades a partir de la posición actual\n",
    "    nuevas_soluciones = generarSoluciones(cabeza, meta)\n",
    "    print(\"Nuevas soluciones: {}\".format(nuevas_soluciones))\n",
    "    #Se agregan los elementos nuevos al final de la lista para simular una cola\n",
    "    frontera = frontera + nuevas_soluciones\n",
    "  #Se hace un llamado recursivo\n",
    "  return BFS(frontera, visitados, solucion, meta, n_iteraciones)"
   ]
  },
  {
   "cell_type": "code",
   "execution_count": 9,
   "metadata": {},
   "outputs": [],
   "source": [
    "#Función que utiliza todos las funciones creadas para hacer la simulación\n",
    "def play_bfs():\n",
    "  inicio = (\"Arad\",\"Arad\",0)\n",
    "  meta = (\"Bucharest\",\"Bucharest\",0)\n",
    "  visitados, solucion = [], []\n",
    "  solBFS = BFS([inicio], visitados, solucion, meta, 0)\n",
    "  print(\"Cantidad recorrida con BFS: {}\".format(len(solBFS)))\n",
    "  print(\"Recorrido: {}\".format(solBFS))\n",
    "  if len(solBFS) == 0:\n",
    "    print(\"No se encontro solucion\")\n",
    "    return"
   ]
  },
  {
   "cell_type": "code",
   "execution_count": 53,
   "metadata": {},
   "outputs": [
    {
     "name": "stdout",
     "output_type": "stream",
     "text": [
      "Recorriendo, actualmente en: ('Arad', 'Arad', 0)\n",
      "Nuevas soluciones: [('Arad', 'Zerind', 75), ('Arad', 'Sibiu', 140), ('Arad', 'Timisoara', 118)]\n",
      "Recorriendo, actualmente en: ('Arad', 'Zerind', 75)\n",
      "Nuevas soluciones: [('Zerind', 'Oradea', 71)]\n",
      "Recorriendo, actualmente en: ('Zerind', 'Oradea', 71)\n",
      "Nuevas soluciones: [('Oradea', 'Sibiu', 151)]\n",
      "Recorriendo, actualmente en: ('Oradea', 'Sibiu', 151)\n",
      "Nuevas soluciones: [('Sibiu', 'Fagaras', 99), ('Sibiu', 'Rimnicu Vilcea', 80)]\n",
      "Recorriendo, actualmente en: ('Sibiu', 'Fagaras', 99)\n",
      "Nuevas soluciones: [('Fagaras', 'Bucharest', 211)]\n",
      "Recorriendo, actualmente en: ('Fagaras', 'Bucharest', 211)\n",
      "Nuevas soluciones: [('Bucharest', 'Bucharest', 0), ('Bucharest', 'Giurgiu', 90), ('Bucharest', 'Urziceni', 85)]\n",
      "Se ha llegado a la meta: ('Bucharest', 'Bucharest', 0)\n",
      "Número de iteraciones: 10\n",
      "Cantidad recorrida con BFS: 7\n",
      "Recorrido: [('Arad', 'Arad', 0), ('Arad', 'Zerind', 75), ('Zerind', 'Oradea', 71), ('Oradea', 'Sibiu', 151), ('Sibiu', 'Fagaras', 99), ('Fagaras', 'Bucharest', 211), ('Bucharest', 'Bucharest', 0)]\n"
     ]
    }
   ],
   "source": [
    "play_bfs()"
   ]
  },
  {
   "cell_type": "code",
   "execution_count": 56,
   "metadata": {},
   "outputs": [],
   "source": [
    "#Implementación del algoritmo de búsqueda DFS\n",
    "def DFS(frontera_act, visitados, solucion, meta, n_iteraciones):\n",
    "  n_iteraciones = n_iteraciones + 1\n",
    "  frontera = frontera_act[:]\n",
    "  #Si ya no hay posibles caminos, entonces no se encontro solución\n",
    "  if len(frontera) == 0:\n",
    "    print(\"Número de iteraciones: {}\".format(n_iteraciones))\n",
    "    return []\n",
    "  #Se toma el primer elemento de la lista y se elimina de la misma\n",
    "  cabeza = frontera.pop(0)\n",
    "  #Si el elemento no ha sido anteriormente visitado o generado,\n",
    "  #entonces no se generan más soluciones, para evitar enciclarse\n",
    "  # y también valida el nodo actual usando las reglas de juego.\n",
    "  if cabeza not in visitados and validar(cabeza, visitados):\n",
    "  #if cabeza not in visitados:\n",
    "    #Se agrega el elemento a la lista de soluciones, es decir el camino recorrido hasta ahora\n",
    "    solucion.append(cabeza)\n",
    "    #Si cumple con el criterio de aceptación entonces llega a la meta\n",
    "    if criterioAceptacion(cabeza, meta):\n",
    "      print(\"Se ha llegado a la meta: {}\".format(cabeza))\n",
    "      print(\"Número de iteraciones: {}\".format(n_iteraciones))\n",
    "      return solucion\n",
    "    #Se agrega a la lista de visitados para evitar enciclamientos\n",
    "    print(\"Recorriendo, actualmente en: {}\".format(cabeza))\n",
    "    visitados.append(cabeza)\n",
    "    #Se generan las nuevas posibilidades a partir de la posición actual\n",
    "    nuevas_soluciones = generarSoluciones(cabeza, meta)\n",
    "    print(\"Nuevas soluciones: {}\".format(nuevas_soluciones))\n",
    "    #Se agregan los elementos nuevos al inicio de la lista para simular una pila\n",
    "    frontera = nuevas_soluciones + frontera\n",
    "  #Se hace un llamado recursivo\n",
    "  return DFS(frontera, visitados, solucion, meta, n_iteraciones)"
   ]
  },
  {
   "cell_type": "code",
   "execution_count": 57,
   "metadata": {},
   "outputs": [],
   "source": [
    "#Función que utiliza todos las funciones creadas para hacer la simulación\n",
    "def play_dfs():\n",
    "  inicio = (\"Arad\",\"Arad\",0)\n",
    "  meta = (\"Bucharest\",\"Bucharest\",0)\n",
    "  visitados, solucion = [], []\n",
    "  solDFS = DFS([inicio], visitados, solucion, meta, 0)\n",
    "  print(\"Cantidad recorrida con DFS: {}\".format(len(solDFS)))\n",
    "  print(\"Recorrido: {}\".format(solDFS))\n",
    "  if len(solDFS) == 0:\n",
    "    print(\"No se encontro solucion\")\n",
    "    return"
   ]
  },
  {
   "cell_type": "code",
   "execution_count": 58,
   "metadata": {},
   "outputs": [
    {
     "name": "stdout",
     "output_type": "stream",
     "text": [
      "Recorriendo, actualmente en: ('Arad', 'Arad', 0)\n",
      "Nuevas soluciones: [('Arad', 'Zerind', 75), ('Arad', 'Sibiu', 140), ('Arad', 'Timisoara', 118)]\n",
      "Recorriendo, actualmente en: ('Arad', 'Zerind', 75)\n",
      "Nuevas soluciones: [('Zerind', 'Oradea', 71)]\n",
      "Recorriendo, actualmente en: ('Zerind', 'Oradea', 71)\n",
      "Nuevas soluciones: [('Oradea', 'Sibiu', 151)]\n",
      "Recorriendo, actualmente en: ('Oradea', 'Sibiu', 151)\n",
      "Nuevas soluciones: [('Sibiu', 'Fagaras', 99), ('Sibiu', 'Rimnicu Vilcea', 80)]\n",
      "Recorriendo, actualmente en: ('Sibiu', 'Fagaras', 99)\n",
      "Nuevas soluciones: [('Fagaras', 'Bucharest', 211)]\n",
      "Recorriendo, actualmente en: ('Fagaras', 'Bucharest', 211)\n",
      "Nuevas soluciones: [('Bucharest', 'Bucharest', 0), ('Bucharest', 'Giurgiu', 90), ('Bucharest', 'Urziceni', 85)]\n",
      "Se ha llegado a la meta: ('Bucharest', 'Bucharest', 0)\n",
      "Número de iteraciones: 7\n",
      "Cantidad recorrida con DFS: 7\n",
      "Recorrido: [('Arad', 'Arad', 0), ('Arad', 'Zerind', 75), ('Zerind', 'Oradea', 71), ('Oradea', 'Sibiu', 151), ('Sibiu', 'Fagaras', 99), ('Fagaras', 'Bucharest', 211), ('Bucharest', 'Bucharest', 0)]\n"
     ]
    }
   ],
   "source": [
    "play_dfs()"
   ]
  },
  {
   "cell_type": "code",
   "execution_count": 60,
   "metadata": {},
   "outputs": [],
   "source": [
    "#import numpy as np\n",
    "def profundidad(inicio, actual):\n",
    "  #Inicio = (x1, y1); actual (x2, y2)\n",
    "  #Se calcula el límite de la profundidad, mediante la diferencia mayor de los puntos\n",
    "  #res = abs(np.array(inicio) - np.array(actual))\n",
    "  #return max(res)\n",
    "  res = abs(inicio[1] - actual[1])\n",
    "  return res"
   ]
  },
  {
   "cell_type": "code",
   "execution_count": 61,
   "metadata": {},
   "outputs": [
    {
     "data": {
      "text/plain": [
       "2"
      ]
     },
     "execution_count": 61,
     "metadata": {},
     "output_type": "execute_result"
    }
   ],
   "source": [
    "#profundidad((2,2), (4,1))\n",
    "profundidad(((\"Arad\",\"Arad\",0),1), (('Arad', 'Zerind', 75),3))"
   ]
  },
  {
   "cell_type": "code",
   "execution_count": 63,
   "metadata": {},
   "outputs": [],
   "source": [
    "#Función DFS limitada a un valor de profundidad\n",
    "def LDFS(frontera_act, visitados, solucion, meta, n_iteraciones, inicio, limite):\n",
    "  n_iteraciones = n_iteraciones + 1\n",
    "  frontera = frontera_act[:]\n",
    "  #Si ya no hay posibles caminos, entonces no se encontro solución\n",
    "  if len(frontera) == 0:\n",
    "    print(\"Número de iteraciones: {}\".format(n_iteraciones))\n",
    "    return []\n",
    "  #Se toma el primer elemento de la lista y se elimina de la misma\n",
    "  cabeza = frontera.pop(0)\n",
    "  #Si el elemento no ha sido anteriormente visitado o generado,\n",
    "  #entonces no se generan más soluciones, para evitar enciclarse\n",
    "  # y también valida el nodo actual usando las reglas de juego.\n",
    "  if cabeza[0] not in visitados and validar(cabeza[0], visitados):\n",
    "  #if cabeza not in visitados:\n",
    "    #Se agrega el elemento a la lista de soluciones, es decir el camino recorrido hasta ahora\n",
    "    solucion.append(cabeza[0])\n",
    "    #Si cumple con el criterio de aceptación entonces llega a la meta\n",
    "    if criterioAceptacion(cabeza[0], meta):\n",
    "      print(\"Se ha llegado a la meta: {}\".format(cabeza))\n",
    "      print(\"Número de iteraciones: {}\".format(n_iteraciones))\n",
    "      return solucion\n",
    "    #Se agrega a la lista de visitados para evitar enciclamientos\n",
    "    print(\"Recorriendo, actualmente en: {}\".format(cabeza))\n",
    "    visitados.append(cabeza[0])\n",
    "    #Se establece una condición sobre si la generación de profundidad de las posibilidades es menor al limite establecido\n",
    "    if profundidad(inicio, cabeza) <= limite:\n",
    "      #Se generan las nuevas posibilidades a partir de la posición actual\n",
    "      nuevas_soluciones = generarSoluciones(cabeza[0], meta)\n",
    "      nuevas_soluciones_nivel = []\n",
    "      for sol in nuevas_soluciones:\n",
    "        nuevas_soluciones_nivel.append((sol, cabeza[1] + 1))\n",
    "      print(\"Nuevas soluciones + nivel: {}\".format(nuevas_soluciones_nivel))\n",
    "      frontera = frontera + nuevas_soluciones_nivel\n",
    "  #Se hace un llamado recursivo\n",
    "  return LDFS(frontera, visitados, solucion, meta, n_iteraciones, inicio, limite)"
   ]
  },
  {
   "cell_type": "code",
   "execution_count": 81,
   "metadata": {},
   "outputs": [],
   "source": [
    "#Función que utiliza todos las funciones creadas para hacer la simulación\n",
    "def play_ldfs():\n",
    "  # Se establece un limite para evitar que recorra todo el espacio de soluciones\n",
    "  limite = 4\n",
    "  inicio = (\"Arad\",\"Arad\",0)\n",
    "  meta = (\"Bucharest\",\"Bucharest\",0)\n",
    "  visitados, solucion = [], []\n",
    "  solLDFS = LDFS([(inicio,0)], visitados, solucion, meta, 0, (inicio, 0), limite)\n",
    "  print(\"Cantidad recorrida con LDFS: {}\".format(len(solLDFS)))\n",
    "  # El recorrido no se imprimirá si no llega a la solución, pero se puede ver mientras recorre nodos.\n",
    "  print(\"Recorrido: {}\".format(solLDFS))\n",
    "  if len(solLDFS) == 0:\n",
    "    print(\"No se encontro solucion\")\n",
    "    return"
   ]
  },
  {
   "cell_type": "code",
   "execution_count": 83,
   "metadata": {},
   "outputs": [
    {
     "name": "stdout",
     "output_type": "stream",
     "text": [
      "Recorriendo, actualmente en: (('Arad', 'Arad', 0), 0)\n",
      "Nuevas soluciones + nivel: [(('Arad', 'Zerind', 75), 1), (('Arad', 'Sibiu', 140), 1), (('Arad', 'Timisoara', 118), 1)]\n",
      "Recorriendo, actualmente en: (('Arad', 'Zerind', 75), 1)\n",
      "Nuevas soluciones + nivel: [(('Zerind', 'Oradea', 71), 2)]\n",
      "Recorriendo, actualmente en: (('Zerind', 'Oradea', 71), 2)\n",
      "Nuevas soluciones + nivel: [(('Oradea', 'Sibiu', 151), 3)]\n",
      "Recorriendo, actualmente en: (('Oradea', 'Sibiu', 151), 3)\n",
      "Nuevas soluciones + nivel: [(('Sibiu', 'Fagaras', 99), 4), (('Sibiu', 'Rimnicu Vilcea', 80), 4)]\n",
      "Recorriendo, actualmente en: (('Sibiu', 'Fagaras', 99), 4)\n",
      "Nuevas soluciones + nivel: [(('Fagaras', 'Bucharest', 211), 5)]\n",
      "Recorriendo, actualmente en: (('Fagaras', 'Bucharest', 211), 5)\n",
      "Número de iteraciones: 10\n",
      "Cantidad recorrida con LDFS: 0\n",
      "Recorrido: []\n",
      "No se encontro solucion\n"
     ]
    }
   ],
   "source": [
    "play_ldfs()"
   ]
  },
  {
   "cell_type": "code",
   "execution_count": 84,
   "metadata": {},
   "outputs": [],
   "source": [
    "#Función que implementa la variación del DFS limitado con una estructura iterativa\n",
    "def ILDFS(frontera, limite_inicial, inicio, meta, n_iteraciones):\n",
    "  #Se guarda el limite inicial para que altere solo el valor de la variable local\n",
    "  limite_actual = limite_inicial\n",
    "  #Ciclo infinito\n",
    "  while True:\n",
    "    #Si el limite es mayor a uno establecido\n",
    "    if limite_actual >= 100:\n",
    "      #entonces no encontro una solición (Evita enciclarse por siempre)\n",
    "      print(\"No se encontro solución\")\n",
    "      return []\n",
    "    solucion = []\n",
    "    visitados = []\n",
    "    #Se llama al algoritmo LDFS creado anteriormente con el limite actual\n",
    "    sol = LDFS(frontera, visitados, solucion, meta, n_iteraciones, (inicio,0), limite_actual)\n",
    "    #Si encuentra una solción, la lista debe tener más de un elemento\n",
    "    if len(sol) > 0:\n",
    "      print(\"Se encontro la solución en el nivel: {}\".format(limite_actual))\n",
    "      #Se retorna la solución encontrada\n",
    "      return sol\n",
    "    #Si no encuentra aun la solución, entonces aumenta el limite establecido, para aumentar el rango de posibilidades\n",
    "    limite_actual += 1\n",
    "    print(\"No se encontro solución en el nivel: {}\".format(limite_actual))"
   ]
  },
  {
   "cell_type": "code",
   "execution_count": 85,
   "metadata": {},
   "outputs": [],
   "source": [
    "#Función que utiliza todos las funciones creadas para hacer la simulación\n",
    "def play_ildfs():\n",
    "  limite = 1\n",
    "  inicio = (\"Arad\",\"Arad\",0)\n",
    "  meta = (\"Bucharest\",\"Bucharest\",0)\n",
    "  solILDFS = ILDFS([(inicio,0)], limite, inicio, meta, 0)\n",
    "  print(\"Cantidad recorrida con ILDFS: {}\".format(len(solILDFS)))\n",
    "  # El recorrido no se imprimirá si no llega a la solución, pero se puede ver mientras recorre nodos.\n",
    "  print(\"Recorrido: {}\".format(solILDFS))\n",
    "  if len(solILDFS) == 0:\n",
    "    print(\"No se encontro solucion\")\n",
    "    return"
   ]
  },
  {
   "cell_type": "code",
   "execution_count": 86,
   "metadata": {},
   "outputs": [
    {
     "name": "stdout",
     "output_type": "stream",
     "text": [
      "Recorriendo, actualmente en: (('Arad', 'Arad', 0), 0)\n",
      "Nuevas soluciones + nivel: [(('Arad', 'Zerind', 75), 1), (('Arad', 'Sibiu', 140), 1), (('Arad', 'Timisoara', 118), 1)]\n",
      "Recorriendo, actualmente en: (('Arad', 'Zerind', 75), 1)\n",
      "Nuevas soluciones + nivel: [(('Zerind', 'Oradea', 71), 2)]\n",
      "Recorriendo, actualmente en: (('Zerind', 'Oradea', 71), 2)\n",
      "Número de iteraciones: 6\n",
      "No se encontro solución en el nivel: 2\n",
      "Recorriendo, actualmente en: (('Arad', 'Arad', 0), 0)\n",
      "Nuevas soluciones + nivel: [(('Arad', 'Zerind', 75), 1), (('Arad', 'Sibiu', 140), 1), (('Arad', 'Timisoara', 118), 1)]\n",
      "Recorriendo, actualmente en: (('Arad', 'Zerind', 75), 1)\n",
      "Nuevas soluciones + nivel: [(('Zerind', 'Oradea', 71), 2)]\n",
      "Recorriendo, actualmente en: (('Zerind', 'Oradea', 71), 2)\n",
      "Nuevas soluciones + nivel: [(('Oradea', 'Sibiu', 151), 3)]\n",
      "Recorriendo, actualmente en: (('Oradea', 'Sibiu', 151), 3)\n",
      "Número de iteraciones: 7\n",
      "No se encontro solución en el nivel: 3\n",
      "Recorriendo, actualmente en: (('Arad', 'Arad', 0), 0)\n",
      "Nuevas soluciones + nivel: [(('Arad', 'Zerind', 75), 1), (('Arad', 'Sibiu', 140), 1), (('Arad', 'Timisoara', 118), 1)]\n",
      "Recorriendo, actualmente en: (('Arad', 'Zerind', 75), 1)\n",
      "Nuevas soluciones + nivel: [(('Zerind', 'Oradea', 71), 2)]\n",
      "Recorriendo, actualmente en: (('Zerind', 'Oradea', 71), 2)\n",
      "Nuevas soluciones + nivel: [(('Oradea', 'Sibiu', 151), 3)]\n",
      "Recorriendo, actualmente en: (('Oradea', 'Sibiu', 151), 3)\n",
      "Nuevas soluciones + nivel: [(('Sibiu', 'Fagaras', 99), 4), (('Sibiu', 'Rimnicu Vilcea', 80), 4)]\n",
      "Recorriendo, actualmente en: (('Sibiu', 'Fagaras', 99), 4)\n",
      "Número de iteraciones: 9\n",
      "No se encontro solución en el nivel: 4\n",
      "Recorriendo, actualmente en: (('Arad', 'Arad', 0), 0)\n",
      "Nuevas soluciones + nivel: [(('Arad', 'Zerind', 75), 1), (('Arad', 'Sibiu', 140), 1), (('Arad', 'Timisoara', 118), 1)]\n",
      "Recorriendo, actualmente en: (('Arad', 'Zerind', 75), 1)\n",
      "Nuevas soluciones + nivel: [(('Zerind', 'Oradea', 71), 2)]\n",
      "Recorriendo, actualmente en: (('Zerind', 'Oradea', 71), 2)\n",
      "Nuevas soluciones + nivel: [(('Oradea', 'Sibiu', 151), 3)]\n",
      "Recorriendo, actualmente en: (('Oradea', 'Sibiu', 151), 3)\n",
      "Nuevas soluciones + nivel: [(('Sibiu', 'Fagaras', 99), 4), (('Sibiu', 'Rimnicu Vilcea', 80), 4)]\n",
      "Recorriendo, actualmente en: (('Sibiu', 'Fagaras', 99), 4)\n",
      "Nuevas soluciones + nivel: [(('Fagaras', 'Bucharest', 211), 5)]\n",
      "Recorriendo, actualmente en: (('Fagaras', 'Bucharest', 211), 5)\n",
      "Número de iteraciones: 10\n",
      "No se encontro solución en el nivel: 5\n",
      "Recorriendo, actualmente en: (('Arad', 'Arad', 0), 0)\n",
      "Nuevas soluciones + nivel: [(('Arad', 'Zerind', 75), 1), (('Arad', 'Sibiu', 140), 1), (('Arad', 'Timisoara', 118), 1)]\n",
      "Recorriendo, actualmente en: (('Arad', 'Zerind', 75), 1)\n",
      "Nuevas soluciones + nivel: [(('Zerind', 'Oradea', 71), 2)]\n",
      "Recorriendo, actualmente en: (('Zerind', 'Oradea', 71), 2)\n",
      "Nuevas soluciones + nivel: [(('Oradea', 'Sibiu', 151), 3)]\n",
      "Recorriendo, actualmente en: (('Oradea', 'Sibiu', 151), 3)\n",
      "Nuevas soluciones + nivel: [(('Sibiu', 'Fagaras', 99), 4), (('Sibiu', 'Rimnicu Vilcea', 80), 4)]\n",
      "Recorriendo, actualmente en: (('Sibiu', 'Fagaras', 99), 4)\n",
      "Nuevas soluciones + nivel: [(('Fagaras', 'Bucharest', 211), 5)]\n",
      "Recorriendo, actualmente en: (('Fagaras', 'Bucharest', 211), 5)\n",
      "Nuevas soluciones + nivel: [(('Bucharest', 'Bucharest', 0), 6), (('Bucharest', 'Giurgiu', 90), 6), (('Bucharest', 'Urziceni', 85), 6)]\n",
      "Se ha llegado a la meta: (('Bucharest', 'Bucharest', 0), 6)\n",
      "Número de iteraciones: 10\n",
      "Se encontro la solución en el nivel: 5\n",
      "Cantidad recorrida con ILDFS: 7\n",
      "Recorrido: [('Arad', 'Arad', 0), ('Arad', 'Zerind', 75), ('Zerind', 'Oradea', 71), ('Oradea', 'Sibiu', 151), ('Sibiu', 'Fagaras', 99), ('Fagaras', 'Bucharest', 211), ('Bucharest', 'Bucharest', 0)]\n"
     ]
    }
   ],
   "source": [
    "play_ildfs()"
   ]
  },
  {
   "cell_type": "code",
   "execution_count": 94,
   "metadata": {},
   "outputs": [],
   "source": [
    "def evaluacionVoraz(posibilidades):\n",
    "  best_val = 100000\n",
    "  best = None\n",
    "  for posible in posibilidades:\n",
    "    #val = distanciaEuclidiana(posible, meta)\n",
    "    val = posible[2]\n",
    "    if val < best_val:\n",
    "      best = posible\n",
    "      best_val = val\n",
    "  return best"
   ]
  },
  {
   "cell_type": "code",
   "execution_count": 88,
   "metadata": {},
   "outputs": [],
   "source": [
    "def eliminaPosibilidadeIguales(posibilidades, lista):\n",
    "  nueva_lista = []\n",
    "  for posible in posibilidades:\n",
    "    if posible in lista:\n",
    "      continue\n",
    "    nueva_lista.append(posible)\n",
    "  return nueva_lista"
   ]
  },
  {
   "cell_type": "code",
   "execution_count": 90,
   "metadata": {},
   "outputs": [],
   "source": [
    "def voraz(nodo, visitados, solucion, meta, n_iteraciones):\n",
    "  n_iteraciones = n_iteraciones + 1\n",
    "  if nodo == None:\n",
    "    return []\n",
    "  print(\"Recorriendo, actualmente en: {}\".format(nodo))\n",
    "  solucion.append(nodo)\n",
    "  if criterioAceptacion(nodo, meta):\n",
    "    print(\"Se ha llegado a la meta: {}\".format(nodo))\n",
    "    print(\"Número de iteraciones: {}\".format(n_iteraciones))\n",
    "    return solucion\n",
    "  print(\"nodo: {}\".format(nodo))\n",
    "  nuevas_soluciones = generarSoluciones(nodo, meta)\n",
    "  print(\"Nuevas soluciones: {}\".format(nuevas_soluciones))\n",
    "  #print(nuevas_soluciones)\n",
    "  nuevas_soluciones = eliminaPosibilidadeIguales(nuevas_soluciones, visitados)\n",
    "  #print(nuevas_soluciones)\n",
    "  mejor = evaluacionVoraz(nuevas_soluciones)\n",
    "  #print(mejor)\n",
    "  visitados.append(nodo)\n",
    "  return voraz(mejor, visitados, solucion, meta, n_iteraciones)"
   ]
  },
  {
   "cell_type": "code",
   "execution_count": 92,
   "metadata": {},
   "outputs": [],
   "source": [
    "def play_voraz():\n",
    "  inicio = (\"Arad\",\"Arad\",0)\n",
    "  meta = (\"Bucharest\",\"Bucharest\",0)\n",
    "  visitados, solucion = [], []\n",
    "  solVoraz = voraz(inicio, visitados, solucion, meta, 0)\n",
    "  print(\"Cantidad recorrida con voraz: {}\".format(len(solVoraz)))\n",
    "  # El recorrido no se imprimirá si no llega a la solución, pero se puede ver mientras recorre nodos.\n",
    "  print(\"Recorrido: {}\".format(solVoraz))\n",
    "  if len(solVoraz) == 0:\n",
    "    print(\"No se encontro solucion\")\n",
    "    return"
   ]
  },
  {
   "cell_type": "code",
   "execution_count": 95,
   "metadata": {},
   "outputs": [
    {
     "name": "stdout",
     "output_type": "stream",
     "text": [
      "Recorriendo, actualmente en: ('Arad', 'Arad', 0)\n",
      "nodo: ('Arad', 'Arad', 0)\n",
      "Nuevas soluciones: [('Arad', 'Zerind', 75), ('Arad', 'Sibiu', 140), ('Arad', 'Timisoara', 118)]\n",
      "Recorriendo, actualmente en: ('Arad', 'Zerind', 75)\n",
      "nodo: ('Arad', 'Zerind', 75)\n",
      "Nuevas soluciones: [('Zerind', 'Oradea', 71)]\n",
      "Recorriendo, actualmente en: ('Zerind', 'Oradea', 71)\n",
      "nodo: ('Zerind', 'Oradea', 71)\n",
      "Nuevas soluciones: [('Oradea', 'Sibiu', 151)]\n",
      "Recorriendo, actualmente en: ('Oradea', 'Sibiu', 151)\n",
      "nodo: ('Oradea', 'Sibiu', 151)\n",
      "Nuevas soluciones: [('Sibiu', 'Fagaras', 99), ('Sibiu', 'Rimnicu Vilcea', 80)]\n",
      "Recorriendo, actualmente en: ('Sibiu', 'Rimnicu Vilcea', 80)\n",
      "nodo: ('Sibiu', 'Rimnicu Vilcea', 80)\n",
      "Nuevas soluciones: [('Rimnicu Vilcea', 'Pitesti', 97), ('Rimnicu Vilcea', 'Craiova', 146)]\n",
      "Recorriendo, actualmente en: ('Rimnicu Vilcea', 'Pitesti', 97)\n",
      "nodo: ('Rimnicu Vilcea', 'Pitesti', 97)\n",
      "Nuevas soluciones: [('Pitesti', 'Bucharest', 101)]\n",
      "Recorriendo, actualmente en: ('Pitesti', 'Bucharest', 101)\n",
      "nodo: ('Pitesti', 'Bucharest', 101)\n",
      "Nuevas soluciones: [('Bucharest', 'Bucharest', 0), ('Bucharest', 'Giurgiu', 90), ('Bucharest', 'Urziceni', 85)]\n",
      "Recorriendo, actualmente en: ('Bucharest', 'Bucharest', 0)\n",
      "Se ha llegado a la meta: ('Bucharest', 'Bucharest', 0)\n",
      "Número de iteraciones: 8\n",
      "Cantidad recorrida con voraz: 8\n",
      "Recorrido: [('Arad', 'Arad', 0), ('Arad', 'Zerind', 75), ('Zerind', 'Oradea', 71), ('Oradea', 'Sibiu', 151), ('Sibiu', 'Rimnicu Vilcea', 80), ('Rimnicu Vilcea', 'Pitesti', 97), ('Pitesti', 'Bucharest', 101), ('Bucharest', 'Bucharest', 0)]\n"
     ]
    }
   ],
   "source": [
    "play_voraz()"
   ]
  }
 ],
 "metadata": {
  "kernelspec": {
   "display_name": "Python 3",
   "language": "python",
   "name": "python3"
  },
  "language_info": {
   "codemirror_mode": {
    "name": "ipython",
    "version": 3
   },
   "file_extension": ".py",
   "mimetype": "text/x-python",
   "name": "python",
   "nbconvert_exporter": "python",
   "pygments_lexer": "ipython3",
   "version": "3.12.1"
  }
 },
 "nbformat": 4,
 "nbformat_minor": 2
}
