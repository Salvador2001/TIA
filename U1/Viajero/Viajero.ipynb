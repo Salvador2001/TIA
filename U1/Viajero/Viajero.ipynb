{
 "cells": [
  {
   "cell_type": "markdown",
   "metadata": {},
   "source": [
    "### Teoría del problema\n",
    "Se requiere almacenar todos los nodos posibles, además debe haber una forma en la que se pueda obtener los vecinos del nodo actual. Se podría tener una lista que almacene una serie de tuplas que contienen el Punto A, Punto B y el costo (distancia) para cada uno de los nodos (ciudades) y hacer un chequeo en la función que genera soluciones.\n",
    "\n",
    "[ <br>\n",
    "(Arad, Arad, 0) <-- Se usaría como nodo inicial <br>\n",
    "(Arad, Zerind, 75) <br>\n",
    "(Arad, Sibiu, 140) <br>\n",
    "(Arad, Timisoara, 118) <br>\n",
    "] <br>\n",
    "\n",
    "La distancia no sería relevante para los primeros 4 algoritmos, si no hasta que se llegue a usar en los que requieren heurística (Voraz, AEstrella, etc). Cada ciudad debe tener un nodo que se conecte consigo mismo como en el nodo inicial, pero el algoritmo debe evitar estos nodos a menos que sea el nodo destino (meta), esto es para casos en que se requiera cambiar el inicio y la meta."
   ]
  },
  {
   "cell_type": "code",
   "execution_count": 3,
   "metadata": {},
   "outputs": [],
   "source": [
    "ciudades = [\n",
    "    (\"Arad\",\"Arad\",0),\n",
    "    (\"Arad\",\"Zerind\",75),\n",
    "    (\"Arad\",\"Sibiu\",140),\n",
    "    (\"Arad\",\"Timisoara\",118),\n",
    "    (\"Zerind\",\"Zerind\",0),\n",
    "    (\"Zerind\",\"Oradea\",71),\n",
    "    (\"Oradea\",\"Oradea\",0),\n",
    "    (\"Oradea\",\"Sibiu\",151),\n",
    "    (\"Timisoara\",\"Timisoara\",0),\n",
    "    (\"Timisoara\",\"Lugoj\",111),\n",
    "    (\"Lugoj\",\"Lugoj\",0),\n",
    "    (\"Lugoj\",\"Mehadia\",70),\n",
    "    (\"Mehadia\",\"Mehadia\",0),\n",
    "    (\"Mehadia\",\"Drobeta\",75),\n",
    "    (\"Drobeta\",\"Drobeta\",0),\n",
    "    (\"Drobeta\",\"Craiova\",120),\n",
    "    (\"Sibiu\",\"Sibiu\",0),\n",
    "    (\"Sibiu\",\"Fagaras\",99),\n",
    "    (\"Sibiu\",\"Rimnicu Vilcea\",80),\n",
    "    (\"Rimnicu Vilcea\",\"Rimnicu Vilcea\",0),\n",
    "    (\"Rimnicu Vilcea\",\"Pitesti\",97),\n",
    "    (\"Rimnicu Vilcea\",\"Craiova\",146),\n",
    "    (\"Craiova\",\"Craiova\",0),\n",
    "    (\"Craiova\",\"Pitesti\",138),\n",
    "    (\"Pitesti\",\"Bucharest\",101),\n",
    "    (\"Bucharest\",\"Bucharest\",0),\n",
    "    (\"Fagaras\",\"Fagaras\",0),\n",
    "    (\"Fagaras\",\"Bucharest\",211),\n",
    "    (\"Bucharest\",\"Giurgiu\",90),\n",
    "    (\"Giurgiu\",\"Giurgiu\",0),\n",
    "    (\"Bucharest\",\"Urziceni\",85),\n",
    "    (\"Urziceni\",\"Urziceni\",0),\n",
    "    (\"Urziceni\",\"Hirsova\",98),\n",
    "    (\"Urziceni\",\"Vaslui\",142),\n",
    "    (\"Hirsova\",\"Hirsova\",0),\n",
    "    (\"Hirsova\",\"Eforie\",86),\n",
    "    (\"Eforie\",\"Eforie\",0),\n",
    "    (\"Vaslui\",\"Vaslui\",0),\n",
    "    (\"Vaslui\",\"Iasi\",92),\n",
    "    (\"Iasi\",\"Iasi\",0),\n",
    "    (\"Iasi\",\"Neamt\",87),\n",
    "    (\"Neamt\",\"Neamt\",0)\n",
    "]"
   ]
  },
  {
   "cell_type": "code",
   "execution_count": 1,
   "metadata": {},
   "outputs": [],
   "source": [
    "#Función para verificar si se cumple la condición de llegar a meta\n",
    "def criterioAceptacion(posicion, meta):\n",
    "  return posicion == meta"
   ]
  },
  {
   "cell_type": "code",
   "execution_count": 2,
   "metadata": {},
   "outputs": [
    {
     "name": "stdout",
     "output_type": "stream",
     "text": [
      "True\n",
      "False\n"
     ]
    }
   ],
   "source": [
    "print(criterioAceptacion((\"Bucarest\",\"Bucarest\",0), (\"Bucarest\",\"Bucarest\",0)))\n",
    "print(criterioAceptacion((\"Arad\",\"Sibiu\",140), (\"Bucarest\",\"Bucarest\",0)))"
   ]
  },
  {
   "cell_type": "markdown",
   "metadata": {},
   "source": [
    "Para generar las soluciones, la función debe revisar el Punto B del nodo actual, y regresar los posibles nodos que contengan ese Punto B como Punto A, por ejemplo: <br>\n",
    "\n",
    "Nodo: (A,B,n) <br>\n",
    "... <br>\n",
    "Soluciones: <br>\n",
    "(B,X,n) <br>\n",
    "(B,Y,n) <br>\n",
    "(B,Z,n) <br>\n",
    "(B,B,0) <br>\n",
    "\n",
    "En todos los casos, se omitiría la última solución a menos que sea la meta."
   ]
  },
  {
   "cell_type": "code",
   "execution_count": 14,
   "metadata": {},
   "outputs": [],
   "source": [
    "#Función que permite generar todas las posibles soluciones\n",
    "#En este caso genera todos los posibles movimientos del estado actual\n",
    "def generarSoluciones(actual, meta):\n",
    "  soluciones = []\n",
    "  \n",
    "  #Generar posibles soluciones\n",
    "  for nodo in ciudades:\n",
    "    if nodo[0] == actual[1] and nodo == meta:\n",
    "      soluciones.append(nodo)\n",
    "    elif nodo[0] == actual[1] and nodo[0] != nodo[1]:\n",
    "      soluciones.append(nodo)\n",
    "  return soluciones"
   ]
  },
  {
   "cell_type": "code",
   "execution_count": 45,
   "metadata": {},
   "outputs": [
    {
     "data": {
      "text/plain": [
       "[('Zerind', 'Oradea', 71)]"
      ]
     },
     "execution_count": 45,
     "metadata": {},
     "output_type": "execute_result"
    }
   ],
   "source": [
    "generarSoluciones((\"Arad\",\"Zerind\",75), (\"Bucharest\",\"Bucharest\",0))"
   ]
  },
  {
   "cell_type": "code",
   "execution_count": 101,
   "metadata": {},
   "outputs": [],
   "source": [
    "def validar(actual, visitados):\n",
    "    print(\"validar actual: {}\".format(actual))\n",
    "    print(\"validar visitados: {}\".format(visitados))\n",
    "    if len(visitados) != 0:\n",
    "        print(\"último visitado: {}\".format(visitados[-1]))\n",
    "        if visitados[-1][0] != actual[1] and visitados[-1][0] != visitados[-1][1]:\n",
    "            print(\"cond 1: {}\".format(visitados[-1][0]))\n",
    "            print(\"cond 2: {}\".format(visitados[-1][1]))\n",
    "            return False\n",
    "        else:\n",
    "            return True\n",
    "    else:\n",
    "        return True"
   ]
  },
  {
   "cell_type": "code",
   "execution_count": 102,
   "metadata": {},
   "outputs": [
    {
     "name": "stdout",
     "output_type": "stream",
     "text": [
      "validar actual: ('Arad', 'Sibiu', 75)\n",
      "validar visitados: [('Zerind', 'Aboba', 75)]\n",
      "último visitado: ('Zerind', 'Aboba', 75)\n",
      "cond 1: Zerind\n",
      "cond 2: Aboba\n"
     ]
    },
    {
     "data": {
      "text/plain": [
       "False"
      ]
     },
     "execution_count": 102,
     "metadata": {},
     "output_type": "execute_result"
    }
   ],
   "source": [
    "validar((\"Arad\",\"Sibiu\",75),[(\"Zerind\", \"Aboba\", 75)])"
   ]
  },
  {
   "cell_type": "code",
   "execution_count": 65,
   "metadata": {},
   "outputs": [],
   "source": [
    "#Implementación del algoritmo de búsqueda BFS\n",
    "def BFS(frontera_act, visitados, solucion, meta, n_iteraciones):\n",
    "  n_iteraciones = n_iteraciones + 1\n",
    "  frontera = frontera_act[:]\n",
    "  #Si ya no hay posibles caminos, entonces no se encontro solución\n",
    "  if len(frontera) == 0:\n",
    "    print(\"Número de iteraciones: {}\".format(n_iteraciones))\n",
    "    return []\n",
    "  #Se toma el primer elemento de la lista y se elimina de la misma\n",
    "  cabeza = frontera.pop(0)\n",
    "  #Si el elemento no ha sido anteriormente visitado o generado,\n",
    "  #entonces no se generan más soluciones, para evitar enciclarse\n",
    "  # y también valida el nodo actual usando las reglas de juego.\n",
    "  if cabeza not in visitados and validar(cabeza, visitados):\n",
    "    print(\"entró: {}\".format(cabeza))\n",
    "  #if cabeza not in visitados:\n",
    "    #Se agrega el elemento a la lista de soluciones, es decir el camino recorrido hasta ahora\n",
    "    solucion.append(cabeza)\n",
    "    #Si cumple con el criterio de aceptación entonces llega a la meta\n",
    "    if criterioAceptacion(cabeza, meta):\n",
    "      print(\"Se ha llegado a la meta: {}\".format(cabeza))\n",
    "      print(\"Número de iteraciones: {}\".format(n_iteraciones))\n",
    "      return solucion\n",
    "    #Se agrega a la lista de visitados para evitar enciclamientos\n",
    "    print(\"Recorriendo, actualmente en: {}\".format(cabeza))\n",
    "    visitados.append(cabeza)\n",
    "    #Se generan las nuevas posibilidades a partir de la posición actual\n",
    "    nuevas_soluciones = generarSoluciones(cabeza, meta)\n",
    "    print(\"Nuevas soluciones: {}\".format(nuevas_soluciones))\n",
    "    #Se agregan los elementos nuevos al final de la lista para simular una cola\n",
    "    frontera = frontera + nuevas_soluciones\n",
    "  #Se hace un llamado recursivo\n",
    "  return BFS(frontera, visitados, solucion, meta, n_iteraciones)"
   ]
  },
  {
   "cell_type": "code",
   "execution_count": 26,
   "metadata": {},
   "outputs": [],
   "source": [
    "#Función que utiliza todos las funciones creadas para hacer la simulación\n",
    "def play_bfs():\n",
    "  inicio = (\"Arad\",\"Arad\",0)\n",
    "  meta = (\"Bucharest\",\"Bucharest\",0)\n",
    "  visitados, solucion = [], []\n",
    "  solBFS = BFS([inicio], visitados, solucion, meta, 0)\n",
    "  print(\"Cantidad recorrida con BFS: {}\".format(len(solBFS)))\n",
    "  print(\"Recorrido: {}\".format(solBFS))\n",
    "  if len(solBFS) == 0:\n",
    "    print(\"No se encontro solucion\")\n",
    "    return"
   ]
  },
  {
   "cell_type": "code",
   "execution_count": 103,
   "metadata": {},
   "outputs": [
    {
     "name": "stdout",
     "output_type": "stream",
     "text": [
      "validar actual: ('Arad', 'Arad', 0)\n",
      "validar visitados: []\n",
      "entró: ('Arad', 'Arad', 0)\n",
      "Recorriendo, actualmente en: ('Arad', 'Arad', 0)\n",
      "Nuevas soluciones: [('Arad', 'Zerind', 75), ('Arad', 'Sibiu', 140), ('Arad', 'Timisoara', 118)]\n",
      "validar actual: ('Arad', 'Zerind', 75)\n",
      "validar visitados: [('Arad', 'Arad', 0)]\n",
      "último visitado: ('Arad', 'Arad', 0)\n",
      "entró: ('Arad', 'Zerind', 75)\n",
      "Recorriendo, actualmente en: ('Arad', 'Zerind', 75)\n",
      "Nuevas soluciones: [('Zerind', 'Oradea', 71)]\n",
      "validar actual: ('Arad', 'Sibiu', 140)\n",
      "validar visitados: [('Arad', 'Arad', 0), ('Arad', 'Zerind', 75)]\n",
      "último visitado: ('Arad', 'Zerind', 75)\n",
      "cond 1: Arad\n",
      "cond 2: Zerind\n",
      "validar actual: ('Arad', 'Timisoara', 118)\n",
      "validar visitados: [('Arad', 'Arad', 0), ('Arad', 'Zerind', 75)]\n",
      "último visitado: ('Arad', 'Zerind', 75)\n",
      "cond 1: Arad\n",
      "cond 2: Zerind\n",
      "validar actual: ('Zerind', 'Oradea', 71)\n",
      "validar visitados: [('Arad', 'Arad', 0), ('Arad', 'Zerind', 75)]\n",
      "último visitado: ('Arad', 'Zerind', 75)\n",
      "cond 1: Arad\n",
      "cond 2: Zerind\n",
      "Número de iteraciones: 6\n",
      "Cantidad recorrida con BFS: 0\n",
      "Recorrido: []\n",
      "No se encontro solucion\n"
     ]
    }
   ],
   "source": [
    "play_bfs()"
   ]
  },
  {
   "cell_type": "code",
   "execution_count": 15,
   "metadata": {},
   "outputs": [],
   "source": [
    "#Implementación del algoritmo de búsqueda DFS\n",
    "def DFS(frontera_act, visitados, solucion, meta, n_iteraciones):\n",
    "  n_iteraciones = n_iteraciones + 1\n",
    "  frontera = frontera_act[:]\n",
    "  #Si ya no hay posibles caminos, entonces no se encontro solución\n",
    "  if len(frontera) == 0:\n",
    "    print(\"Número de iteraciones: {}\".format(n_iteraciones))\n",
    "    return []\n",
    "  #Se toma el primer elemento de la lista y se elimina de la misma\n",
    "  cabeza = frontera.pop(0)\n",
    "  #Si el elemento no ha sido anteriormente visitado o generado,\n",
    "  #entonces no se generan más soluciones, para evitar enciclarse\n",
    "  # y también valida el nodo actual usando las reglas de juego.\n",
    "  if cabeza not in visitados and validar(cabeza[0], cabeza[1], visitados):\n",
    "  #if cabeza not in visitados:\n",
    "    #Se agrega el elemento a la lista de soluciones, es decir el camino recorrido hasta ahora\n",
    "    solucion.append(cabeza)\n",
    "    #Si cumple con el criterio de aceptación entonces llega a la meta\n",
    "    if criterioAceptacion(cabeza, meta):\n",
    "      print(\"Se ha llegado a la meta: {}\".format(cabeza))\n",
    "      print(\"Número de iteraciones: {}\".format(n_iteraciones))\n",
    "      return solucion\n",
    "    #Se agrega a la lista de visitados para evitar enciclamientos\n",
    "    print(\"Recorriendo, actualmente en: {}\".format(cabeza))\n",
    "    visitados.append(cabeza)\n",
    "    #Se generan las nuevas posibilidades a partir de la posición actual\n",
    "    nuevas_soluciones = generarSoluciones(cabeza[0], cabeza[1])\n",
    "    print(\"Nuevas soluciones: {}\".format(nuevas_soluciones))\n",
    "    #Se agregan los elementos nuevos al inicio de la lista para simular una pila\n",
    "    frontera = nuevas_soluciones + frontera\n",
    "  #Se hace un llamado recursivo\n",
    "  return DFS(frontera, visitados, solucion, meta, n_iteraciones)"
   ]
  },
  {
   "cell_type": "code",
   "execution_count": 16,
   "metadata": {},
   "outputs": [],
   "source": [
    "#Función que utiliza todos las funciones creadas para hacer la simulación\n",
    "def play_dfs():\n",
    "  inicio = ([0,0,0], [3,3,1])\n",
    "  meta = ([3,3,1], [0,0,0])\n",
    "  visitados, solucion = [], []\n",
    "  solDFS = DFS([inicio], visitados, solucion, meta, 0)\n",
    "  print(\"Cantidad recorrida con DFS: {}\".format(len(solDFS)))\n",
    "  print(\"Recorrido: {}\".format(solDFS))\n",
    "  if len(solDFS) == 0:\n",
    "    print(\"No se encontro solucion\")\n",
    "    return"
   ]
  },
  {
   "cell_type": "code",
   "execution_count": 17,
   "metadata": {},
   "outputs": [
    {
     "name": "stdout",
     "output_type": "stream",
     "text": [
      "Recorriendo, actualmente en: ([0, 0, 0], [3, 3, 1])\n",
      "Nuevas soluciones: [([2, 0, 1], [1, 3, 0]), ([0, 2, 1], [3, 1, 0]), ([1, 1, 1], [2, 2, 0]), ([1, 0, 1], [2, 3, 0]), ([0, 1, 1], [3, 2, 0])]\n",
      "Recorriendo, actualmente en: ([0, 2, 1], [3, 1, 0])\n",
      "Nuevas soluciones: [([0, 0, 0], [3, 3, 1]), ([0, 1, 0], [3, 2, 1])]\n",
      "Recorriendo, actualmente en: ([0, 1, 0], [3, 2, 1])\n",
      "Nuevas soluciones: [([2, 1, 1], [1, 2, 0]), ([0, 3, 1], [3, 0, 0]), ([1, 2, 1], [2, 1, 0]), ([1, 1, 1], [2, 2, 0]), ([0, 2, 1], [3, 1, 0])]\n",
      "Recorriendo, actualmente en: ([0, 3, 1], [3, 0, 0])\n",
      "Nuevas soluciones: [([0, 1, 0], [3, 2, 1]), ([0, 2, 0], [3, 1, 1])]\n",
      "Recorriendo, actualmente en: ([0, 2, 0], [3, 1, 1])\n",
      "Nuevas soluciones: [([2, 2, 1], [1, 1, 0]), ([1, 3, 1], [2, 0, 0]), ([1, 2, 1], [2, 1, 0]), ([0, 3, 1], [3, 0, 0])]\n",
      "Recorriendo, actualmente en: ([2, 2, 1], [1, 1, 0])\n",
      "Nuevas soluciones: [([0, 2, 0], [3, 1, 1]), ([2, 0, 0], [1, 3, 1]), ([1, 1, 0], [2, 2, 1]), ([1, 2, 0], [2, 1, 1]), ([2, 1, 0], [1, 2, 1])]\n",
      "Recorriendo, actualmente en: ([1, 1, 0], [2, 2, 1])\n",
      "Nuevas soluciones: [([3, 1, 1], [0, 2, 0]), ([1, 3, 1], [2, 0, 0]), ([2, 2, 1], [1, 1, 0]), ([2, 1, 1], [1, 2, 0]), ([1, 2, 1], [2, 1, 0])]\n",
      "Recorriendo, actualmente en: ([3, 1, 1], [0, 2, 0])\n",
      "Nuevas soluciones: [([1, 1, 0], [2, 2, 1]), ([2, 0, 0], [1, 3, 1]), ([2, 1, 0], [1, 2, 1]), ([3, 0, 0], [0, 3, 1])]\n",
      "Recorriendo, actualmente en: ([3, 0, 0], [0, 3, 1])\n",
      "Nuevas soluciones: [([3, 2, 1], [0, 1, 0]), ([3, 1, 1], [0, 2, 0])]\n",
      "Recorriendo, actualmente en: ([3, 2, 1], [0, 1, 0])\n",
      "Nuevas soluciones: [([1, 2, 0], [2, 1, 1]), ([3, 0, 0], [0, 3, 1]), ([2, 1, 0], [1, 2, 1]), ([2, 2, 0], [1, 1, 1]), ([3, 1, 0], [0, 2, 1])]\n",
      "Recorriendo, actualmente en: ([2, 2, 0], [1, 1, 1])\n",
      "Nuevas soluciones: [([3, 3, 1], [0, 0, 0]), ([3, 2, 1], [0, 1, 0]), ([2, 3, 1], [1, 0, 0])]\n",
      "Se ha llegado a la meta: ([3, 3, 1], [0, 0, 0])\n",
      "Número de iteraciones: 24\n",
      "Cantidad recorrida con DFS: 12\n",
      "Recorrido: [([0, 0, 0], [3, 3, 1]), ([0, 2, 1], [3, 1, 0]), ([0, 1, 0], [3, 2, 1]), ([0, 3, 1], [3, 0, 0]), ([0, 2, 0], [3, 1, 1]), ([2, 2, 1], [1, 1, 0]), ([1, 1, 0], [2, 2, 1]), ([3, 1, 1], [0, 2, 0]), ([3, 0, 0], [0, 3, 1]), ([3, 2, 1], [0, 1, 0]), ([2, 2, 0], [1, 1, 1]), ([3, 3, 1], [0, 0, 0])]\n"
     ]
    }
   ],
   "source": [
    "play_dfs()"
   ]
  },
  {
   "cell_type": "code",
   "execution_count": 18,
   "metadata": {},
   "outputs": [],
   "source": [
    "#import numpy as np\n",
    "def profundidad(inicio, actual):\n",
    "  #Inicio = (x1, y1); actual (x2, y2)\n",
    "  #Se calcula el límite de la profundidad, mediante la diferencia mayor de los puntos\n",
    "  #res = abs(np.array(inicio) - np.array(actual))\n",
    "  #return max(res)\n",
    "  res = abs(inicio[1] - actual[1])\n",
    "  return res"
   ]
  },
  {
   "cell_type": "code",
   "execution_count": 19,
   "metadata": {},
   "outputs": [
    {
     "data": {
      "text/plain": [
       "2"
      ]
     },
     "execution_count": 19,
     "metadata": {},
     "output_type": "execute_result"
    }
   ],
   "source": [
    "#profundidad((2,2), (4,1))\n",
    "profundidad((([0,0,0], [3,3,1]),1), (([0,0,0], [3,3,1]),3))"
   ]
  },
  {
   "cell_type": "code",
   "execution_count": 20,
   "metadata": {},
   "outputs": [],
   "source": [
    "#Función DFS limitada a un valor de profundidad\n",
    "def LDFS(frontera_act, visitados, solucion, meta, n_iteraciones, inicio, limite):\n",
    "  n_iteraciones = n_iteraciones + 1\n",
    "  frontera = frontera_act[:]\n",
    "  #Si ya no hay posibles caminos, entonces no se encontro solución\n",
    "  if len(frontera) == 0:\n",
    "    print(\"Número de iteraciones: {}\".format(n_iteraciones))\n",
    "    return []\n",
    "  #Se toma el primer elemento de la lista y se elimina de la misma\n",
    "  cabeza = frontera.pop(0)\n",
    "  #Si el elemento no ha sido anteriormente visitado o generado,\n",
    "  #entonces no se generan más soluciones, para evitar enciclarse\n",
    "  # y también valida el nodo actual usando las reglas de juego.\n",
    "  if cabeza[0] not in visitados and validar(cabeza[0][0], cabeza[0][1], visitados):\n",
    "  #if cabeza not in visitados:\n",
    "    #Se agrega el elemento a la lista de soluciones, es decir el camino recorrido hasta ahora\n",
    "    solucion.append(cabeza[0])\n",
    "    #Si cumple con el criterio de aceptación entonces llega a la meta\n",
    "    if criterioAceptacion(cabeza[0], meta):\n",
    "      print(\"Se ha llegado a la meta: {}\".format(cabeza))\n",
    "      print(\"Número de iteraciones: {}\".format(n_iteraciones))\n",
    "      return solucion\n",
    "    #Se agrega a la lista de visitados para evitar enciclamientos\n",
    "    print(\"Recorriendo, actualmente en: {}\".format(cabeza))\n",
    "    visitados.append(cabeza[0])\n",
    "    #Se establece una condición sobre si la generación de profundidad de las posibilidades es menor al limite establecido\n",
    "    if profundidad(inicio, cabeza) <= limite:\n",
    "      #Se generan las nuevas posibilidades a partir de la posición actual\n",
    "      nuevas_soluciones = generarSoluciones(cabeza[0][0], cabeza[0][1])\n",
    "      nuevas_soluciones_nivel = []\n",
    "      for sol in nuevas_soluciones:\n",
    "        nuevas_soluciones_nivel.append((sol, cabeza[1] + 1))\n",
    "      print(\"Nuevas soluciones + nivel: {}\".format(nuevas_soluciones_nivel))\n",
    "      frontera = frontera + nuevas_soluciones_nivel\n",
    "  #Se hace un llamado recursivo\n",
    "  return LDFS(frontera, visitados, solucion, meta, n_iteraciones, inicio, limite)"
   ]
  },
  {
   "cell_type": "code",
   "execution_count": 21,
   "metadata": {},
   "outputs": [],
   "source": [
    "#Función que utiliza todos las funciones creadas para hacer la simulación\n",
    "def play_ldfs():\n",
    "  # Se establece un limite para evitar que recorra todo el espacio de soluciones\n",
    "  limite = 9\n",
    "  inicio = ([0,0,0], [3,3,1])\n",
    "  meta = ([3,3,1], [0,0,0])\n",
    "  visitados, solucion = [], []\n",
    "  solLDFS = LDFS([(inicio,0)], visitados, solucion, meta, 0, (inicio, 0), limite)\n",
    "  print(\"Cantidad recorrida con LDFS: {}\".format(len(solLDFS)))\n",
    "  # El recorrido no se imprimirá si no llega a la solución, pero se puede ver mientras recorre nodos.\n",
    "  print(\"Recorrido: {}\".format(solLDFS))\n",
    "  if len(solLDFS) == 0:\n",
    "    print(\"No se encontro solucion\")\n",
    "    return"
   ]
  },
  {
   "cell_type": "code",
   "execution_count": 22,
   "metadata": {},
   "outputs": [
    {
     "name": "stdout",
     "output_type": "stream",
     "text": [
      "Recorriendo, actualmente en: (([0, 0, 0], [3, 3, 1]), 0)\n",
      "Nuevas soluciones + nivel: [(([2, 0, 1], [1, 3, 0]), 1), (([0, 2, 1], [3, 1, 0]), 1), (([1, 1, 1], [2, 2, 0]), 1), (([1, 0, 1], [2, 3, 0]), 1), (([0, 1, 1], [3, 2, 0]), 1)]\n",
      "Recorriendo, actualmente en: (([0, 2, 1], [3, 1, 0]), 1)\n",
      "Nuevas soluciones + nivel: [(([0, 0, 0], [3, 3, 1]), 2), (([0, 1, 0], [3, 2, 1]), 2)]\n",
      "Recorriendo, actualmente en: (([0, 1, 0], [3, 2, 1]), 2)\n",
      "Nuevas soluciones + nivel: [(([2, 1, 1], [1, 2, 0]), 3), (([0, 3, 1], [3, 0, 0]), 3), (([1, 2, 1], [2, 1, 0]), 3), (([1, 1, 1], [2, 2, 0]), 3), (([0, 2, 1], [3, 1, 0]), 3)]\n",
      "Recorriendo, actualmente en: (([0, 3, 1], [3, 0, 0]), 3)\n",
      "Nuevas soluciones + nivel: [(([0, 1, 0], [3, 2, 1]), 4), (([0, 2, 0], [3, 1, 1]), 4)]\n",
      "Recorriendo, actualmente en: (([0, 2, 0], [3, 1, 1]), 4)\n",
      "Nuevas soluciones + nivel: [(([2, 2, 1], [1, 1, 0]), 5), (([1, 3, 1], [2, 0, 0]), 5), (([1, 2, 1], [2, 1, 0]), 5), (([0, 3, 1], [3, 0, 0]), 5)]\n",
      "Recorriendo, actualmente en: (([2, 2, 1], [1, 1, 0]), 5)\n",
      "Nuevas soluciones + nivel: [(([0, 2, 0], [3, 1, 1]), 6), (([2, 0, 0], [1, 3, 1]), 6), (([1, 1, 0], [2, 2, 1]), 6), (([1, 2, 0], [2, 1, 1]), 6), (([2, 1, 0], [1, 2, 1]), 6)]\n",
      "Recorriendo, actualmente en: (([1, 1, 0], [2, 2, 1]), 6)\n",
      "Nuevas soluciones + nivel: [(([3, 1, 1], [0, 2, 0]), 7), (([1, 3, 1], [2, 0, 0]), 7), (([2, 2, 1], [1, 1, 0]), 7), (([2, 1, 1], [1, 2, 0]), 7), (([1, 2, 1], [2, 1, 0]), 7)]\n",
      "Recorriendo, actualmente en: (([3, 1, 1], [0, 2, 0]), 7)\n",
      "Nuevas soluciones + nivel: [(([1, 1, 0], [2, 2, 1]), 8), (([2, 0, 0], [1, 3, 1]), 8), (([2, 1, 0], [1, 2, 1]), 8), (([3, 0, 0], [0, 3, 1]), 8)]\n",
      "Recorriendo, actualmente en: (([3, 0, 0], [0, 3, 1]), 8)\n",
      "Nuevas soluciones + nivel: [(([3, 2, 1], [0, 1, 0]), 9), (([3, 1, 1], [0, 2, 0]), 9)]\n",
      "Recorriendo, actualmente en: (([3, 2, 1], [0, 1, 0]), 9)\n",
      "Nuevas soluciones + nivel: [(([1, 2, 0], [2, 1, 1]), 10), (([3, 0, 0], [0, 3, 1]), 10), (([2, 1, 0], [1, 2, 1]), 10), (([2, 2, 0], [1, 1, 1]), 10), (([3, 1, 0], [0, 2, 1]), 10)]\n",
      "Recorriendo, actualmente en: (([2, 2, 0], [1, 1, 1]), 10)\n",
      "Número de iteraciones: 41\n",
      "Cantidad recorrida con LDFS: 0\n",
      "Recorrido: []\n",
      "No se encontro solucion\n"
     ]
    }
   ],
   "source": [
    "play_ldfs()"
   ]
  },
  {
   "cell_type": "code",
   "execution_count": 23,
   "metadata": {},
   "outputs": [],
   "source": [
    "#Función que implementa la variación del DFS limitado con una estructura iterativa\n",
    "def ILDFS(frontera, limite_inicial, inicio, meta, n_iteraciones):\n",
    "  #Se guarda el limite inicial para que altere solo el valor de la variable local\n",
    "  limite_actual = limite_inicial\n",
    "  #Ciclo infinito\n",
    "  while True:\n",
    "    #Si el limite es mayor a uno establecido\n",
    "    if limite_actual >= 100:\n",
    "      #entonces no encontro una solición (Evita enciclarse por siempre)\n",
    "      print(\"No se encontro solución\")\n",
    "      return []\n",
    "    solucion = []\n",
    "    visitados = []\n",
    "    #Se llama al algoritmo LDFS creado anteriormente con el limite actual\n",
    "    sol = LDFS(frontera, visitados, solucion, meta, n_iteraciones, (inicio,0), limite_actual)\n",
    "    #Si encuentra una solción, la lista debe tener más de un elemento\n",
    "    if len(sol) > 0:\n",
    "      print(\"Se encontro la solución en el nivel: {}\".format(limite_actual))\n",
    "      #Se retorna la solución encontrada\n",
    "      return sol\n",
    "    #Si no encuentra aun la solución, entonces aumenta el limite establecido, para aumentar el rango de posibilidades\n",
    "    limite_actual += 1\n",
    "    print(\"No se encontro solución en el nivel: {}\".format(limite_actual))"
   ]
  },
  {
   "cell_type": "code",
   "execution_count": 24,
   "metadata": {},
   "outputs": [],
   "source": [
    "#Función que utiliza todos las funciones creadas para hacer la simulación\n",
    "def play_ildfs():\n",
    "  limite = 1\n",
    "  inicio = ([0,0,0], [3,3,1])\n",
    "  meta = ([3,3,1], [0,0,0])\n",
    "  solILDFS = ILDFS([(inicio,0)], limite, inicio, meta, 0)\n",
    "  print(\"Cantidad recorrida con ILDFS: {}\".format(len(solILDFS)))\n",
    "  # El recorrido no se imprimirá si no llega a la solución, pero se puede ver mientras recorre nodos.\n",
    "  print(\"Recorrido: {}\".format(solILDFS))\n",
    "  if len(solILDFS) == 0:\n",
    "    print(\"No se encontro solucion\")\n",
    "    return"
   ]
  },
  {
   "cell_type": "code",
   "execution_count": 25,
   "metadata": {},
   "outputs": [
    {
     "name": "stdout",
     "output_type": "stream",
     "text": [
      "Recorriendo, actualmente en: (([0, 0, 0], [3, 3, 1]), 0)\n",
      "Nuevas soluciones + nivel: [(([2, 0, 1], [1, 3, 0]), 1), (([0, 2, 1], [3, 1, 0]), 1), (([1, 1, 1], [2, 2, 0]), 1), (([1, 0, 1], [2, 3, 0]), 1), (([0, 1, 1], [3, 2, 0]), 1)]\n",
      "Recorriendo, actualmente en: (([0, 2, 1], [3, 1, 0]), 1)\n",
      "Nuevas soluciones + nivel: [(([0, 0, 0], [3, 3, 1]), 2), (([0, 1, 0], [3, 2, 1]), 2)]\n",
      "Recorriendo, actualmente en: (([0, 1, 0], [3, 2, 1]), 2)\n",
      "Número de iteraciones: 9\n",
      "No se encontro solución en el nivel: 2\n",
      "Recorriendo, actualmente en: (([0, 0, 0], [3, 3, 1]), 0)\n",
      "Nuevas soluciones + nivel: [(([2, 0, 1], [1, 3, 0]), 1), (([0, 2, 1], [3, 1, 0]), 1), (([1, 1, 1], [2, 2, 0]), 1), (([1, 0, 1], [2, 3, 0]), 1), (([0, 1, 1], [3, 2, 0]), 1)]\n",
      "Recorriendo, actualmente en: (([0, 2, 1], [3, 1, 0]), 1)\n",
      "Nuevas soluciones + nivel: [(([0, 0, 0], [3, 3, 1]), 2), (([0, 1, 0], [3, 2, 1]), 2)]\n",
      "Recorriendo, actualmente en: (([0, 1, 0], [3, 2, 1]), 2)\n",
      "Nuevas soluciones + nivel: [(([2, 1, 1], [1, 2, 0]), 3), (([0, 3, 1], [3, 0, 0]), 3), (([1, 2, 1], [2, 1, 0]), 3), (([1, 1, 1], [2, 2, 0]), 3), (([0, 2, 1], [3, 1, 0]), 3)]\n",
      "Recorriendo, actualmente en: (([0, 3, 1], [3, 0, 0]), 3)\n",
      "Número de iteraciones: 14\n",
      "No se encontro solución en el nivel: 3\n",
      "Recorriendo, actualmente en: (([0, 0, 0], [3, 3, 1]), 0)\n",
      "Nuevas soluciones + nivel: [(([2, 0, 1], [1, 3, 0]), 1), (([0, 2, 1], [3, 1, 0]), 1), (([1, 1, 1], [2, 2, 0]), 1), (([1, 0, 1], [2, 3, 0]), 1), (([0, 1, 1], [3, 2, 0]), 1)]\n",
      "Recorriendo, actualmente en: (([0, 2, 1], [3, 1, 0]), 1)\n",
      "Nuevas soluciones + nivel: [(([0, 0, 0], [3, 3, 1]), 2), (([0, 1, 0], [3, 2, 1]), 2)]\n",
      "Recorriendo, actualmente en: (([0, 1, 0], [3, 2, 1]), 2)\n",
      "Nuevas soluciones + nivel: [(([2, 1, 1], [1, 2, 0]), 3), (([0, 3, 1], [3, 0, 0]), 3), (([1, 2, 1], [2, 1, 0]), 3), (([1, 1, 1], [2, 2, 0]), 3), (([0, 2, 1], [3, 1, 0]), 3)]\n",
      "Recorriendo, actualmente en: (([0, 3, 1], [3, 0, 0]), 3)\n",
      "Nuevas soluciones + nivel: [(([0, 1, 0], [3, 2, 1]), 4), (([0, 2, 0], [3, 1, 1]), 4)]\n",
      "Recorriendo, actualmente en: (([0, 2, 0], [3, 1, 1]), 4)\n",
      "Número de iteraciones: 16\n",
      "No se encontro solución en el nivel: 4\n",
      "Recorriendo, actualmente en: (([0, 0, 0], [3, 3, 1]), 0)\n",
      "Nuevas soluciones + nivel: [(([2, 0, 1], [1, 3, 0]), 1), (([0, 2, 1], [3, 1, 0]), 1), (([1, 1, 1], [2, 2, 0]), 1), (([1, 0, 1], [2, 3, 0]), 1), (([0, 1, 1], [3, 2, 0]), 1)]\n",
      "Recorriendo, actualmente en: (([0, 2, 1], [3, 1, 0]), 1)\n",
      "Nuevas soluciones + nivel: [(([0, 0, 0], [3, 3, 1]), 2), (([0, 1, 0], [3, 2, 1]), 2)]\n",
      "Recorriendo, actualmente en: (([0, 1, 0], [3, 2, 1]), 2)\n",
      "Nuevas soluciones + nivel: [(([2, 1, 1], [1, 2, 0]), 3), (([0, 3, 1], [3, 0, 0]), 3), (([1, 2, 1], [2, 1, 0]), 3), (([1, 1, 1], [2, 2, 0]), 3), (([0, 2, 1], [3, 1, 0]), 3)]\n",
      "Recorriendo, actualmente en: (([0, 3, 1], [3, 0, 0]), 3)\n",
      "Nuevas soluciones + nivel: [(([0, 1, 0], [3, 2, 1]), 4), (([0, 2, 0], [3, 1, 1]), 4)]\n",
      "Recorriendo, actualmente en: (([0, 2, 0], [3, 1, 1]), 4)\n",
      "Nuevas soluciones + nivel: [(([2, 2, 1], [1, 1, 0]), 5), (([1, 3, 1], [2, 0, 0]), 5), (([1, 2, 1], [2, 1, 0]), 5), (([0, 3, 1], [3, 0, 0]), 5)]\n",
      "Recorriendo, actualmente en: (([2, 2, 1], [1, 1, 0]), 5)\n",
      "Número de iteraciones: 20\n",
      "No se encontro solución en el nivel: 5\n",
      "Recorriendo, actualmente en: (([0, 0, 0], [3, 3, 1]), 0)\n",
      "Nuevas soluciones + nivel: [(([2, 0, 1], [1, 3, 0]), 1), (([0, 2, 1], [3, 1, 0]), 1), (([1, 1, 1], [2, 2, 0]), 1), (([1, 0, 1], [2, 3, 0]), 1), (([0, 1, 1], [3, 2, 0]), 1)]\n",
      "Recorriendo, actualmente en: (([0, 2, 1], [3, 1, 0]), 1)\n",
      "Nuevas soluciones + nivel: [(([0, 0, 0], [3, 3, 1]), 2), (([0, 1, 0], [3, 2, 1]), 2)]\n",
      "Recorriendo, actualmente en: (([0, 1, 0], [3, 2, 1]), 2)\n",
      "Nuevas soluciones + nivel: [(([2, 1, 1], [1, 2, 0]), 3), (([0, 3, 1], [3, 0, 0]), 3), (([1, 2, 1], [2, 1, 0]), 3), (([1, 1, 1], [2, 2, 0]), 3), (([0, 2, 1], [3, 1, 0]), 3)]\n",
      "Recorriendo, actualmente en: (([0, 3, 1], [3, 0, 0]), 3)\n",
      "Nuevas soluciones + nivel: [(([0, 1, 0], [3, 2, 1]), 4), (([0, 2, 0], [3, 1, 1]), 4)]\n",
      "Recorriendo, actualmente en: (([0, 2, 0], [3, 1, 1]), 4)\n",
      "Nuevas soluciones + nivel: [(([2, 2, 1], [1, 1, 0]), 5), (([1, 3, 1], [2, 0, 0]), 5), (([1, 2, 1], [2, 1, 0]), 5), (([0, 3, 1], [3, 0, 0]), 5)]\n",
      "Recorriendo, actualmente en: (([2, 2, 1], [1, 1, 0]), 5)\n",
      "Nuevas soluciones + nivel: [(([0, 2, 0], [3, 1, 1]), 6), (([2, 0, 0], [1, 3, 1]), 6), (([1, 1, 0], [2, 2, 1]), 6), (([1, 2, 0], [2, 1, 1]), 6), (([2, 1, 0], [1, 2, 1]), 6)]\n",
      "Recorriendo, actualmente en: (([1, 1, 0], [2, 2, 1]), 6)\n",
      "Número de iteraciones: 25\n",
      "No se encontro solución en el nivel: 6\n",
      "Recorriendo, actualmente en: (([0, 0, 0], [3, 3, 1]), 0)\n",
      "Nuevas soluciones + nivel: [(([2, 0, 1], [1, 3, 0]), 1), (([0, 2, 1], [3, 1, 0]), 1), (([1, 1, 1], [2, 2, 0]), 1), (([1, 0, 1], [2, 3, 0]), 1), (([0, 1, 1], [3, 2, 0]), 1)]\n",
      "Recorriendo, actualmente en: (([0, 2, 1], [3, 1, 0]), 1)\n",
      "Nuevas soluciones + nivel: [(([0, 0, 0], [3, 3, 1]), 2), (([0, 1, 0], [3, 2, 1]), 2)]\n",
      "Recorriendo, actualmente en: (([0, 1, 0], [3, 2, 1]), 2)\n",
      "Nuevas soluciones + nivel: [(([2, 1, 1], [1, 2, 0]), 3), (([0, 3, 1], [3, 0, 0]), 3), (([1, 2, 1], [2, 1, 0]), 3), (([1, 1, 1], [2, 2, 0]), 3), (([0, 2, 1], [3, 1, 0]), 3)]\n",
      "Recorriendo, actualmente en: (([0, 3, 1], [3, 0, 0]), 3)\n",
      "Nuevas soluciones + nivel: [(([0, 1, 0], [3, 2, 1]), 4), (([0, 2, 0], [3, 1, 1]), 4)]\n",
      "Recorriendo, actualmente en: (([0, 2, 0], [3, 1, 1]), 4)\n",
      "Nuevas soluciones + nivel: [(([2, 2, 1], [1, 1, 0]), 5), (([1, 3, 1], [2, 0, 0]), 5), (([1, 2, 1], [2, 1, 0]), 5), (([0, 3, 1], [3, 0, 0]), 5)]\n",
      "Recorriendo, actualmente en: (([2, 2, 1], [1, 1, 0]), 5)\n",
      "Nuevas soluciones + nivel: [(([0, 2, 0], [3, 1, 1]), 6), (([2, 0, 0], [1, 3, 1]), 6), (([1, 1, 0], [2, 2, 1]), 6), (([1, 2, 0], [2, 1, 1]), 6), (([2, 1, 0], [1, 2, 1]), 6)]\n",
      "Recorriendo, actualmente en: (([1, 1, 0], [2, 2, 1]), 6)\n",
      "Nuevas soluciones + nivel: [(([3, 1, 1], [0, 2, 0]), 7), (([1, 3, 1], [2, 0, 0]), 7), (([2, 2, 1], [1, 1, 0]), 7), (([2, 1, 1], [1, 2, 0]), 7), (([1, 2, 1], [2, 1, 0]), 7)]\n",
      "Recorriendo, actualmente en: (([3, 1, 1], [0, 2, 0]), 7)\n",
      "Número de iteraciones: 30\n",
      "No se encontro solución en el nivel: 7\n",
      "Recorriendo, actualmente en: (([0, 0, 0], [3, 3, 1]), 0)\n",
      "Nuevas soluciones + nivel: [(([2, 0, 1], [1, 3, 0]), 1), (([0, 2, 1], [3, 1, 0]), 1), (([1, 1, 1], [2, 2, 0]), 1), (([1, 0, 1], [2, 3, 0]), 1), (([0, 1, 1], [3, 2, 0]), 1)]\n",
      "Recorriendo, actualmente en: (([0, 2, 1], [3, 1, 0]), 1)\n",
      "Nuevas soluciones + nivel: [(([0, 0, 0], [3, 3, 1]), 2), (([0, 1, 0], [3, 2, 1]), 2)]\n",
      "Recorriendo, actualmente en: (([0, 1, 0], [3, 2, 1]), 2)\n",
      "Nuevas soluciones + nivel: [(([2, 1, 1], [1, 2, 0]), 3), (([0, 3, 1], [3, 0, 0]), 3), (([1, 2, 1], [2, 1, 0]), 3), (([1, 1, 1], [2, 2, 0]), 3), (([0, 2, 1], [3, 1, 0]), 3)]\n",
      "Recorriendo, actualmente en: (([0, 3, 1], [3, 0, 0]), 3)\n",
      "Nuevas soluciones + nivel: [(([0, 1, 0], [3, 2, 1]), 4), (([0, 2, 0], [3, 1, 1]), 4)]\n",
      "Recorriendo, actualmente en: (([0, 2, 0], [3, 1, 1]), 4)\n",
      "Nuevas soluciones + nivel: [(([2, 2, 1], [1, 1, 0]), 5), (([1, 3, 1], [2, 0, 0]), 5), (([1, 2, 1], [2, 1, 0]), 5), (([0, 3, 1], [3, 0, 0]), 5)]\n",
      "Recorriendo, actualmente en: (([2, 2, 1], [1, 1, 0]), 5)\n",
      "Nuevas soluciones + nivel: [(([0, 2, 0], [3, 1, 1]), 6), (([2, 0, 0], [1, 3, 1]), 6), (([1, 1, 0], [2, 2, 1]), 6), (([1, 2, 0], [2, 1, 1]), 6), (([2, 1, 0], [1, 2, 1]), 6)]\n",
      "Recorriendo, actualmente en: (([1, 1, 0], [2, 2, 1]), 6)\n",
      "Nuevas soluciones + nivel: [(([3, 1, 1], [0, 2, 0]), 7), (([1, 3, 1], [2, 0, 0]), 7), (([2, 2, 1], [1, 1, 0]), 7), (([2, 1, 1], [1, 2, 0]), 7), (([1, 2, 1], [2, 1, 0]), 7)]\n",
      "Recorriendo, actualmente en: (([3, 1, 1], [0, 2, 0]), 7)\n",
      "Nuevas soluciones + nivel: [(([1, 1, 0], [2, 2, 1]), 8), (([2, 0, 0], [1, 3, 1]), 8), (([2, 1, 0], [1, 2, 1]), 8), (([3, 0, 0], [0, 3, 1]), 8)]\n",
      "Recorriendo, actualmente en: (([3, 0, 0], [0, 3, 1]), 8)\n",
      "Número de iteraciones: 34\n",
      "No se encontro solución en el nivel: 8\n",
      "Recorriendo, actualmente en: (([0, 0, 0], [3, 3, 1]), 0)\n",
      "Nuevas soluciones + nivel: [(([2, 0, 1], [1, 3, 0]), 1), (([0, 2, 1], [3, 1, 0]), 1), (([1, 1, 1], [2, 2, 0]), 1), (([1, 0, 1], [2, 3, 0]), 1), (([0, 1, 1], [3, 2, 0]), 1)]\n",
      "Recorriendo, actualmente en: (([0, 2, 1], [3, 1, 0]), 1)\n",
      "Nuevas soluciones + nivel: [(([0, 0, 0], [3, 3, 1]), 2), (([0, 1, 0], [3, 2, 1]), 2)]\n",
      "Recorriendo, actualmente en: (([0, 1, 0], [3, 2, 1]), 2)\n",
      "Nuevas soluciones + nivel: [(([2, 1, 1], [1, 2, 0]), 3), (([0, 3, 1], [3, 0, 0]), 3), (([1, 2, 1], [2, 1, 0]), 3), (([1, 1, 1], [2, 2, 0]), 3), (([0, 2, 1], [3, 1, 0]), 3)]\n",
      "Recorriendo, actualmente en: (([0, 3, 1], [3, 0, 0]), 3)\n",
      "Nuevas soluciones + nivel: [(([0, 1, 0], [3, 2, 1]), 4), (([0, 2, 0], [3, 1, 1]), 4)]\n",
      "Recorriendo, actualmente en: (([0, 2, 0], [3, 1, 1]), 4)\n",
      "Nuevas soluciones + nivel: [(([2, 2, 1], [1, 1, 0]), 5), (([1, 3, 1], [2, 0, 0]), 5), (([1, 2, 1], [2, 1, 0]), 5), (([0, 3, 1], [3, 0, 0]), 5)]\n",
      "Recorriendo, actualmente en: (([2, 2, 1], [1, 1, 0]), 5)\n",
      "Nuevas soluciones + nivel: [(([0, 2, 0], [3, 1, 1]), 6), (([2, 0, 0], [1, 3, 1]), 6), (([1, 1, 0], [2, 2, 1]), 6), (([1, 2, 0], [2, 1, 1]), 6), (([2, 1, 0], [1, 2, 1]), 6)]\n",
      "Recorriendo, actualmente en: (([1, 1, 0], [2, 2, 1]), 6)\n",
      "Nuevas soluciones + nivel: [(([3, 1, 1], [0, 2, 0]), 7), (([1, 3, 1], [2, 0, 0]), 7), (([2, 2, 1], [1, 1, 0]), 7), (([2, 1, 1], [1, 2, 0]), 7), (([1, 2, 1], [2, 1, 0]), 7)]\n",
      "Recorriendo, actualmente en: (([3, 1, 1], [0, 2, 0]), 7)\n",
      "Nuevas soluciones + nivel: [(([1, 1, 0], [2, 2, 1]), 8), (([2, 0, 0], [1, 3, 1]), 8), (([2, 1, 0], [1, 2, 1]), 8), (([3, 0, 0], [0, 3, 1]), 8)]\n",
      "Recorriendo, actualmente en: (([3, 0, 0], [0, 3, 1]), 8)\n",
      "Nuevas soluciones + nivel: [(([3, 2, 1], [0, 1, 0]), 9), (([3, 1, 1], [0, 2, 0]), 9)]\n",
      "Recorriendo, actualmente en: (([3, 2, 1], [0, 1, 0]), 9)\n",
      "Número de iteraciones: 36\n",
      "No se encontro solución en el nivel: 9\n",
      "Recorriendo, actualmente en: (([0, 0, 0], [3, 3, 1]), 0)\n",
      "Nuevas soluciones + nivel: [(([2, 0, 1], [1, 3, 0]), 1), (([0, 2, 1], [3, 1, 0]), 1), (([1, 1, 1], [2, 2, 0]), 1), (([1, 0, 1], [2, 3, 0]), 1), (([0, 1, 1], [3, 2, 0]), 1)]\n",
      "Recorriendo, actualmente en: (([0, 2, 1], [3, 1, 0]), 1)\n",
      "Nuevas soluciones + nivel: [(([0, 0, 0], [3, 3, 1]), 2), (([0, 1, 0], [3, 2, 1]), 2)]\n",
      "Recorriendo, actualmente en: (([0, 1, 0], [3, 2, 1]), 2)\n",
      "Nuevas soluciones + nivel: [(([2, 1, 1], [1, 2, 0]), 3), (([0, 3, 1], [3, 0, 0]), 3), (([1, 2, 1], [2, 1, 0]), 3), (([1, 1, 1], [2, 2, 0]), 3), (([0, 2, 1], [3, 1, 0]), 3)]\n",
      "Recorriendo, actualmente en: (([0, 3, 1], [3, 0, 0]), 3)\n",
      "Nuevas soluciones + nivel: [(([0, 1, 0], [3, 2, 1]), 4), (([0, 2, 0], [3, 1, 1]), 4)]\n",
      "Recorriendo, actualmente en: (([0, 2, 0], [3, 1, 1]), 4)\n",
      "Nuevas soluciones + nivel: [(([2, 2, 1], [1, 1, 0]), 5), (([1, 3, 1], [2, 0, 0]), 5), (([1, 2, 1], [2, 1, 0]), 5), (([0, 3, 1], [3, 0, 0]), 5)]\n",
      "Recorriendo, actualmente en: (([2, 2, 1], [1, 1, 0]), 5)\n",
      "Nuevas soluciones + nivel: [(([0, 2, 0], [3, 1, 1]), 6), (([2, 0, 0], [1, 3, 1]), 6), (([1, 1, 0], [2, 2, 1]), 6), (([1, 2, 0], [2, 1, 1]), 6), (([2, 1, 0], [1, 2, 1]), 6)]\n",
      "Recorriendo, actualmente en: (([1, 1, 0], [2, 2, 1]), 6)\n",
      "Nuevas soluciones + nivel: [(([3, 1, 1], [0, 2, 0]), 7), (([1, 3, 1], [2, 0, 0]), 7), (([2, 2, 1], [1, 1, 0]), 7), (([2, 1, 1], [1, 2, 0]), 7), (([1, 2, 1], [2, 1, 0]), 7)]\n",
      "Recorriendo, actualmente en: (([3, 1, 1], [0, 2, 0]), 7)\n",
      "Nuevas soluciones + nivel: [(([1, 1, 0], [2, 2, 1]), 8), (([2, 0, 0], [1, 3, 1]), 8), (([2, 1, 0], [1, 2, 1]), 8), (([3, 0, 0], [0, 3, 1]), 8)]\n",
      "Recorriendo, actualmente en: (([3, 0, 0], [0, 3, 1]), 8)\n",
      "Nuevas soluciones + nivel: [(([3, 2, 1], [0, 1, 0]), 9), (([3, 1, 1], [0, 2, 0]), 9)]\n",
      "Recorriendo, actualmente en: (([3, 2, 1], [0, 1, 0]), 9)\n",
      "Nuevas soluciones + nivel: [(([1, 2, 0], [2, 1, 1]), 10), (([3, 0, 0], [0, 3, 1]), 10), (([2, 1, 0], [1, 2, 1]), 10), (([2, 2, 0], [1, 1, 1]), 10), (([3, 1, 0], [0, 2, 1]), 10)]\n",
      "Recorriendo, actualmente en: (([2, 2, 0], [1, 1, 1]), 10)\n",
      "Número de iteraciones: 41\n",
      "No se encontro solución en el nivel: 10\n",
      "Recorriendo, actualmente en: (([0, 0, 0], [3, 3, 1]), 0)\n",
      "Nuevas soluciones + nivel: [(([2, 0, 1], [1, 3, 0]), 1), (([0, 2, 1], [3, 1, 0]), 1), (([1, 1, 1], [2, 2, 0]), 1), (([1, 0, 1], [2, 3, 0]), 1), (([0, 1, 1], [3, 2, 0]), 1)]\n",
      "Recorriendo, actualmente en: (([0, 2, 1], [3, 1, 0]), 1)\n",
      "Nuevas soluciones + nivel: [(([0, 0, 0], [3, 3, 1]), 2), (([0, 1, 0], [3, 2, 1]), 2)]\n",
      "Recorriendo, actualmente en: (([0, 1, 0], [3, 2, 1]), 2)\n",
      "Nuevas soluciones + nivel: [(([2, 1, 1], [1, 2, 0]), 3), (([0, 3, 1], [3, 0, 0]), 3), (([1, 2, 1], [2, 1, 0]), 3), (([1, 1, 1], [2, 2, 0]), 3), (([0, 2, 1], [3, 1, 0]), 3)]\n",
      "Recorriendo, actualmente en: (([0, 3, 1], [3, 0, 0]), 3)\n",
      "Nuevas soluciones + nivel: [(([0, 1, 0], [3, 2, 1]), 4), (([0, 2, 0], [3, 1, 1]), 4)]\n",
      "Recorriendo, actualmente en: (([0, 2, 0], [3, 1, 1]), 4)\n",
      "Nuevas soluciones + nivel: [(([2, 2, 1], [1, 1, 0]), 5), (([1, 3, 1], [2, 0, 0]), 5), (([1, 2, 1], [2, 1, 0]), 5), (([0, 3, 1], [3, 0, 0]), 5)]\n",
      "Recorriendo, actualmente en: (([2, 2, 1], [1, 1, 0]), 5)\n",
      "Nuevas soluciones + nivel: [(([0, 2, 0], [3, 1, 1]), 6), (([2, 0, 0], [1, 3, 1]), 6), (([1, 1, 0], [2, 2, 1]), 6), (([1, 2, 0], [2, 1, 1]), 6), (([2, 1, 0], [1, 2, 1]), 6)]\n",
      "Recorriendo, actualmente en: (([1, 1, 0], [2, 2, 1]), 6)\n",
      "Nuevas soluciones + nivel: [(([3, 1, 1], [0, 2, 0]), 7), (([1, 3, 1], [2, 0, 0]), 7), (([2, 2, 1], [1, 1, 0]), 7), (([2, 1, 1], [1, 2, 0]), 7), (([1, 2, 1], [2, 1, 0]), 7)]\n",
      "Recorriendo, actualmente en: (([3, 1, 1], [0, 2, 0]), 7)\n",
      "Nuevas soluciones + nivel: [(([1, 1, 0], [2, 2, 1]), 8), (([2, 0, 0], [1, 3, 1]), 8), (([2, 1, 0], [1, 2, 1]), 8), (([3, 0, 0], [0, 3, 1]), 8)]\n",
      "Recorriendo, actualmente en: (([3, 0, 0], [0, 3, 1]), 8)\n",
      "Nuevas soluciones + nivel: [(([3, 2, 1], [0, 1, 0]), 9), (([3, 1, 1], [0, 2, 0]), 9)]\n",
      "Recorriendo, actualmente en: (([3, 2, 1], [0, 1, 0]), 9)\n",
      "Nuevas soluciones + nivel: [(([1, 2, 0], [2, 1, 1]), 10), (([3, 0, 0], [0, 3, 1]), 10), (([2, 1, 0], [1, 2, 1]), 10), (([2, 2, 0], [1, 1, 1]), 10), (([3, 1, 0], [0, 2, 1]), 10)]\n",
      "Recorriendo, actualmente en: (([2, 2, 0], [1, 1, 1]), 10)\n",
      "Nuevas soluciones + nivel: [(([3, 3, 1], [0, 0, 0]), 11), (([3, 2, 1], [0, 1, 0]), 11), (([2, 3, 1], [1, 0, 0]), 11)]\n",
      "Se ha llegado a la meta: (([3, 3, 1], [0, 0, 0]), 11)\n",
      "Número de iteraciones: 41\n",
      "Se encontro la solución en el nivel: 10\n",
      "Cantidad recorrida con ILDFS: 12\n",
      "Recorrido: [([0, 0, 0], [3, 3, 1]), ([0, 2, 1], [3, 1, 0]), ([0, 1, 0], [3, 2, 1]), ([0, 3, 1], [3, 0, 0]), ([0, 2, 0], [3, 1, 1]), ([2, 2, 1], [1, 1, 0]), ([1, 1, 0], [2, 2, 1]), ([3, 1, 1], [0, 2, 0]), ([3, 0, 0], [0, 3, 1]), ([3, 2, 1], [0, 1, 0]), ([2, 2, 0], [1, 1, 1]), ([3, 3, 1], [0, 0, 0])]\n"
     ]
    }
   ],
   "source": [
    "play_ildfs()"
   ]
  },
  {
   "cell_type": "code",
   "execution_count": 111,
   "metadata": {},
   "outputs": [],
   "source": [
    "def evaluacionVoraz(posibilidades, visitados):\n",
    "  best_val = 100000\n",
    "  best = None\n",
    "  for posible in posibilidades:\n",
    "    val = 0\n",
    "    if validar(posible[0], posible[1], visitados):\n",
    "      val = posible[0][0] + posible[0][1]\n",
    "    if val < best_val:\n",
    "      best = posible\n",
    "      best_val = val\n",
    "      print(\"mejor: {}\".format(best))\n",
    "      print(\"valor: {}\".format(best_val))\n",
    "  return best"
   ]
  },
  {
   "cell_type": "code",
   "execution_count": 27,
   "metadata": {},
   "outputs": [],
   "source": [
    "def eliminaPosibilidadeIguales(posibilidades, lista):\n",
    "  nueva_lista = []\n",
    "  for posible in posibilidades:\n",
    "    if posible in lista:\n",
    "      continue\n",
    "    nueva_lista.append(posible)\n",
    "  return nueva_lista"
   ]
  },
  {
   "cell_type": "code",
   "execution_count": 106,
   "metadata": {},
   "outputs": [],
   "source": [
    "def voraz(nodo, visitados, solucion, meta, n_iteraciones):\n",
    "  n_iteraciones = n_iteraciones + 1\n",
    "  if nodo == None:\n",
    "    return []\n",
    "  print(\"Recorriendo, actualmente en: {}\".format(nodo))\n",
    "  solucion.append(nodo)\n",
    "  if criterioAceptacion(nodo, meta):\n",
    "    print(\"Se ha llegado a la meta: {}\".format(nodo))\n",
    "    print(\"Número de iteraciones: {}\".format(n_iteraciones))\n",
    "    return solucion\n",
    "  print(\"nodo: {}\".format(nodo))\n",
    "  nuevas_soluciones = generarSoluciones(nodo[0], nodo[1])\n",
    "  print(\"Nuevas soluciones: {}\".format(nuevas_soluciones))\n",
    "  #print(nuevas_soluciones)\n",
    "  nuevas_soluciones = eliminaPosibilidadeIguales(nuevas_soluciones, visitados)\n",
    "  #print(nuevas_soluciones)\n",
    "  mejor = evaluacionVoraz(nuevas_soluciones, visitados)\n",
    "  #print(mejor)\n",
    "  visitados.append(nodo)\n",
    "  return voraz(mejor, visitados, solucion, meta, n_iteraciones)"
   ]
  },
  {
   "cell_type": "code",
   "execution_count": 37,
   "metadata": {},
   "outputs": [],
   "source": [
    "def play_voraz():\n",
    "  inicio = ([0,0,0], [3,3,1])\n",
    "  meta = ([3,3,1], [0,0,0])\n",
    "  visitados, solucion = [], []\n",
    "  solVoraz = voraz(inicio, visitados, solucion, meta, 0)\n",
    "  print(\"Cantidad recorrida con voraz: {}\".format(len(solVoraz)))\n",
    "  # El recorrido no se imprimirá si no llega a la solución, pero se puede ver mientras recorre nodos.\n",
    "  print(\"Recorrido: {}\".format(solVoraz))\n",
    "  if len(solVoraz) == 0:\n",
    "    print(\"No se encontro solucion\")\n",
    "    return"
   ]
  },
  {
   "cell_type": "code",
   "execution_count": 112,
   "metadata": {},
   "outputs": [
    {
     "name": "stdout",
     "output_type": "stream",
     "text": [
      "Recorriendo, actualmente en: ([0, 0, 0], [3, 3, 1])\n",
      "nodo: ([0, 0, 0], [3, 3, 1])\n",
      "Nuevas soluciones: [([2, 0, 1], [1, 3, 0]), ([0, 2, 1], [3, 1, 0]), ([1, 1, 1], [2, 2, 0]), ([1, 0, 1], [2, 3, 0]), ([0, 1, 1], [3, 2, 0])]\n",
      "mejor: ([2, 0, 1], [1, 3, 0])\n",
      "valor: 2\n",
      "mejor: ([1, 0, 1], [2, 3, 0])\n",
      "valor: 1\n",
      "Recorriendo, actualmente en: ([1, 0, 1], [2, 3, 0])\n",
      "nodo: ([1, 0, 1], [2, 3, 0])\n",
      "Nuevas soluciones: [([0, 0, 0], [3, 3, 1])]\n",
      "Cantidad recorrida con voraz: 0\n",
      "Recorrido: []\n",
      "No se encontro solucion\n"
     ]
    }
   ],
   "source": [
    "play_voraz()"
   ]
  }
 ],
 "metadata": {
  "kernelspec": {
   "display_name": "Python 3",
   "language": "python",
   "name": "python3"
  },
  "language_info": {
   "codemirror_mode": {
    "name": "ipython",
    "version": 3
   },
   "file_extension": ".py",
   "mimetype": "text/x-python",
   "name": "python",
   "nbconvert_exporter": "python",
   "pygments_lexer": "ipython3",
   "version": "3.12.1"
  }
 },
 "nbformat": 4,
 "nbformat_minor": 2
}
