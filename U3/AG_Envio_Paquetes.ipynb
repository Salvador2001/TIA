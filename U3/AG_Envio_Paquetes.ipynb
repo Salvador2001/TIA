{
 "cells": [
  {
   "cell_type": "markdown",
   "metadata": {},
   "source": [
    "Una empresa de paquetería quiere repartir en una ciudad un conjunto de paquetes en distintas \n",
    "casas. Para ello quiere saber cual es la ruta más corta para repartir todos los paquetes. Un \n",
    "paquete tiene un peso y una prioridad de entrega (generados aleatoriamente) y un repartidor \n",
    "tiene una capacidad máxima de cuantos paquetes puede llevar al mismo tiempo, basado en \n",
    "el peso (generado aleatoriamente). <br>\n",
    "\n",
    "Dado un grafo grande de casas (definido por el mismo equipo), donde los nodos representan \n",
    "una casa a donde se puede entregar un paquete, y existe una distancia entre cada nodo. \n",
    "Cuando el repartidor se quede sin paquetes que entregar debe regresar a la matriz de la \n",
    "empresa para verificar si existen paquetes por entregar y así hasta quedarse sin paquetes. El \n",
    "objetivo es empezar en el nodo de la empresa y minimizar el costo total de las rutas para \n",
    "entregar eficientemente los paquetes en el menor tiempo y con la menor distancia recorrida. \n",
    "\n",
    "Posibles datos de entrada: <br>\n",
    "• Conjunto de paquetes con peso, prioridad y nodo de entrega.<br>\n",
    "• Vehículo de entregas con peso máximo de paquetes que puede llevar.<br>\n",
    "• Mapa de rutas que contiene el grafo de información.<br>\n",
    "\n",
    "Objetivos:<br>\n",
    "• Minimizar la distancia total recorrida por los vehículos.<br>\n",
    "• Minimizar los tiempos de entrega de los paquetes.<br>\n",
    "• Entregar todos los paquetes.<br>\n",
    "\n",
    "Restricciones:<br>\n",
    "• Los vehículos no deben superar su capacidad máxima<br>\n",
    "• Todos los paquetes deben ser entregados<br>\n",
    "• Los nodos del grafo no están todos interconectados, puedes necesitar ir a otra casa \n",
    "antes de llegar al objetivo.<br>\n",
    "\n",
    "Sugerencias adicionales:<br>\n",
    "• Empezar con un algoritmo genético aplicado a encontrar una ruta eficiente en un grafo\n",
    "de ida y vuelta a varios puntos, y luego agregar las restricciones de paquetes y peso.<br>\n",
    "• Probar diferentes configuraciones de parámetros para la configuración del genotipo, la \n",
    "evaluación de la solución, la generación de una nueva población o el factor de \n",
    "mutación."
   ]
  },
  {
   "cell_type": "code",
   "execution_count": 1,
   "metadata": {
    "id": "HH3NCXuVTIBy"
   },
   "outputs": [],
   "source": [
    "# Lista de paquetes con prioridad y peso.\n",
    "# El índice de la lista representa el número de paquete.\n",
    "# Y cada paquete está conformado por [prioridad, peso]\n",
    "listaPaquetes = [[8, 31], #1\n",
    "                 [10, 40], #2\n",
    "                 [2, 21], #3\n",
    "                 [5, 39], #4\n",
    "                 [7, 42], #5\n",
    "                 [1, 6], #6\n",
    "                 [3, 28], #7\n",
    "                 [9, 18], #8\n",
    "                 [4, 13], #9\n",
    "                 [6, 38]] #10\n",
    "\n",
    "# NOTA: Acorde la definición del problema, cada peso y prioridad de los paquetes tiene que ser\n",
    "#       generado aleatoriamente. La lista anterior solo es un ejemplo.\n",
    "\n",
    "# El problema no dice que el número de paquetes debe ser aleatorio,\n",
    "# entonces podemos decir que siempre serán 10 paquetes"
   ]
  },
  {
   "cell_type": "code",
   "execution_count": 38,
   "metadata": {},
   "outputs": [],
   "source": [
    "# Grafo completo de las ciudades, las mismas que se usaron en el problema de viajeros.\n",
    "# En este caso está almacenado como diccionario.\n",
    "# Se considerará Bucharest como el lugar de la empresa, ya que tenemos las distancias euclidianas de Bucharest\n",
    "# a las demás ciudades.\n",
    "\n",
    "# El grafo es un diccionario que contiene un nodo representando una ciudad, y cada nodo es un diccionario que almacena\n",
    "# las ciudades a la que está conectada, que contiene la distancia entre ciudades.\n",
    "\n",
    "# Grafo de distancias entre ciudades\n",
    "grafo = {\n",
    "    \"Arad\": {\n",
    "        \"Zerind\": 75, # Distancia entre Arad a Zerind.\n",
    "        \"Sibiu\": 140, # Distancia entre Arad a Sibiu.\n",
    "        \"Timisoara\": 118 # Distancia entre Arad a Timisoara.\n",
    "    },\n",
    "    \"Zerind\": {\n",
    "        \"Oradea\": 71,\n",
    "        \"Arad\": 75\n",
    "    },\n",
    "    \"Oradea\": {\n",
    "        \"Sibiu\": 151,\n",
    "        \"Zerind\": 71\n",
    "    },\n",
    "    \"Timisoara\": {\n",
    "        \"Lugoj\": 111,\n",
    "        \"Arad\": 118\n",
    "    },\n",
    "    \"Lugoj\": {\n",
    "        \"Mehadia\": 70,\n",
    "        \"Timisoara\": 111\n",
    "    },\n",
    "    \"Mehadia\": {\n",
    "        \"Drobeta\": 75,\n",
    "        \"Lugoj\": 70\n",
    "    },\n",
    "    \"Drobeta\": {\n",
    "        \"Craiova\": 120,\n",
    "        \"Mehadia\": 75\n",
    "    },\n",
    "    \"Sibiu\": {\n",
    "        \"Fagaras\": 99,\n",
    "        \"Rimnicu Vilcea\": 80,\n",
    "        \"Oradea\": 151,\n",
    "        \"Arad\": 140\n",
    "    },\n",
    "    \"Fagaras\": {\n",
    "        \"Bucharest\": 211,\n",
    "        \"Sibiu\": 99\n",
    "    },\n",
    "    \"Rimnicu Vilcea\": {\n",
    "        \"Pitesti\": 97,\n",
    "        \"Craiova\": 146,\n",
    "        \"Sibiu\": 80\n",
    "    },\n",
    "    \"Craiova\": {\n",
    "        \"Pitesti\": 138,\n",
    "        \"Drobeta\": 120\n",
    "    },\n",
    "    \"Pitesti\": {\n",
    "        \"Bucharest\": 101,\n",
    "        \"Rimnicu Vilcea\": 97\n",
    "    },\n",
    "    \"Bucharest\": {  # <----- Considerar Bucharest como la EMPRESA DE PAQUETERÍA\n",
    "        \"Giurgiu\": 90,\n",
    "        \"Urziceni\": 85,\n",
    "        \"Fagaras\": 211\n",
    "    },\n",
    "    \"Giurgiu\": {\n",
    "        \"Bucharest\": 90\n",
    "    },\n",
    "    \"Urziceni\": {\n",
    "        \"Hirsova\": 98,\n",
    "        \"Vaslui\": 142,\n",
    "        \"Bucharest\": 85\n",
    "    },\n",
    "    \"Hirsova\": {\n",
    "        \"Eforie\": 86,\n",
    "        \"Urziceni\": 98\n",
    "    },\n",
    "    \"Eforie\": {\n",
    "        \"Hirsova\": 86\n",
    "    },\n",
    "    \"Vaslui\": {\n",
    "        \"Iasi\": 92,\n",
    "        \"Urziceni\": 142\n",
    "    },\n",
    "    \"Iasi\": {\n",
    "        \"Neamt\": 87,\n",
    "        \"Vaslui\": 92\n",
    "    },\n",
    "    \"Neamt\": {\n",
    "        \"Iasi\": 87\n",
    "    }\n",
    "}\n",
    "\n",
    "# Diccionario de distancias euclidianas\n",
    "distancias_euclidianas = {\n",
    "    \"Arad\": 366,    # Distancia euclidiana (linea recta) entre Arad y Bucharest.\n",
    "    \"Zerind\": 374,\n",
    "    \"Oradea\": 380,\n",
    "    \"Timisoara\": 329,\n",
    "    \"Lugoj\": 244,\n",
    "    \"Mehadia\": 241,\n",
    "    \"Drobeta\": 242,\n",
    "    \"Sibiu\": 253,\n",
    "    \"Rimnicu Vilcea\": 193,\n",
    "    \"Craiova\": 160,\n",
    "    \"Fagaras\": 176,\n",
    "    \"Pitesti\": 100,\n",
    "    \"Bucharest\": 0, # <--------- EMPRESA DE PAQUETERIA\n",
    "    \"Giurgiu\": 77,\n",
    "    \"Urziceni\": 80,\n",
    "    \"Hirsova\": 151,\n",
    "    \"Eforie\": 161,\n",
    "    \"Neamt\": 234,\n",
    "    \"Iasi\": 226,\n",
    "    \"Vaslui\": 199\n",
    "}\n"
   ]
  },
  {
   "cell_type": "code",
   "execution_count": 3,
   "metadata": {},
   "outputs": [
    {
     "name": "stdout",
     "output_type": "stream",
     "text": [
      "['Arad', 'Zerind', 'Oradea', 'Timisoara', 'Lugoj', 'Mehadia', 'Drobeta', 'Sibiu', 'Rimnicu Vilcea', 'Craiova', 'Pitesti', 'Bucharest', 'Giurgiu', 'Urziceni', 'Hirsova', 'Eforie', 'Vaslui', 'Iasi', 'Neamt']\n"
     ]
    }
   ],
   "source": [
    "ciudades = list(grafo.keys())\n",
    "print(ciudades)"
   ]
  },
  {
   "cell_type": "code",
   "execution_count": 14,
   "metadata": {},
   "outputs": [],
   "source": [
    "import random\n",
    "\n",
    "# Genera un paquete con peso, prioridad y destino aleatorios.\n",
    "def generarPaquete():\n",
    "    # Ejemplo de ciudades\n",
    "    ciudades = list(grafo.keys())\n",
    "\n",
    "    # Generar un paquete\n",
    "    peso = random.randint(1, 50)  # Peso aleatorio del paquete\n",
    "    prioridad = random.randint(1, 10)  # Prioridad aleatoria del 1 al 10, entre más mayor más prioridad\n",
    "    nodo_entrega = random.choice(ciudades)  # Nodo de entrega aleatorio\n",
    "\n",
    "    paquete = {\n",
    "        \"peso\": peso,\n",
    "        \"prioridad\": prioridad,\n",
    "        \"nodo_entrega\": nodo_entrega\n",
    "    }\n",
    "    \n",
    "    return paquete\n"
   ]
  },
  {
   "cell_type": "code",
   "execution_count": 16,
   "metadata": {},
   "outputs": [
    {
     "data": {
      "text/plain": [
       "{'peso': 40, 'prioridad': 9, 'nodo_entrega': 'Craiova'}"
      ]
     },
     "execution_count": 16,
     "metadata": {},
     "output_type": "execute_result"
    }
   ],
   "source": [
    "generarPaquete()"
   ]
  },
  {
   "cell_type": "code",
   "execution_count": 17,
   "metadata": {},
   "outputs": [],
   "source": [
    "# Genera una lista de 10 paquetes aleatorios.\n",
    "# En este caso 10 paquetes, ya que el problema no especifica\n",
    "# que el número de paquetes existentes deba ser aleatorio.\n",
    "def generarListaPaquetes():\n",
    "    lista_paquetes = []\n",
    "    cantidad = 10\n",
    "    for _ in range(cantidad):\n",
    "        paquete = generarPaquete()\n",
    "        lista_paquetes.append(paquete)\n",
    "    return lista_paquetes"
   ]
  },
  {
   "cell_type": "code",
   "execution_count": 19,
   "metadata": {},
   "outputs": [
    {
     "data": {
      "text/plain": [
       "[{'peso': 21, 'prioridad': 7, 'nodo_entrega': 'Pitesti'},\n",
       " {'peso': 40, 'prioridad': 10, 'nodo_entrega': 'Mehadia'},\n",
       " {'peso': 5, 'prioridad': 10, 'nodo_entrega': 'Lugoj'},\n",
       " {'peso': 19, 'prioridad': 10, 'nodo_entrega': 'Rimnicu Vilcea'},\n",
       " {'peso': 7, 'prioridad': 3, 'nodo_entrega': 'Bucharest'},\n",
       " {'peso': 36, 'prioridad': 6, 'nodo_entrega': 'Iasi'},\n",
       " {'peso': 30, 'prioridad': 9, 'nodo_entrega': 'Arad'},\n",
       " {'peso': 37, 'prioridad': 9, 'nodo_entrega': 'Bucharest'},\n",
       " {'peso': 19, 'prioridad': 6, 'nodo_entrega': 'Vaslui'},\n",
       " {'peso': 5, 'prioridad': 5, 'nodo_entrega': 'Craiova'}]"
      ]
     },
     "execution_count": 19,
     "metadata": {},
     "output_type": "execute_result"
    }
   ],
   "source": [
    "generarListaPaquetes()"
   ]
  },
  {
   "cell_type": "code",
   "execution_count": null,
   "metadata": {},
   "outputs": [],
   "source": [
    "def generarRepartidor(lista_paquetes):\n",
    "    # Definir la capacidad de carga aleatoria del repartidor\n",
    "    capacidad_carga = random.randint(50, 150)  # Peso máximo que puede llevar\n",
    "\n",
    "    # Ubicación inicial del repartidor, que es la ciudad de la empresa\n",
    "    ubicacion_inicial = \"Bucharest\"\n",
    "\n",
    "    # Inicializar la lista de paquetes que puede llevar\n",
    "    paquetes = []\n",
    "    peso_total = 0\n",
    "\n",
    "    # Seleccionar paquetes que el repartidor puede llevar sin exceder su capacidad\n",
    "    for paquete in lista_paquetes[:]:  # Hacemos una copia de la lista para evitar problemas al modificarla\n",
    "        if peso_total + paquete['peso'] <= capacidad_carga:\n",
    "            paquetes.append(paquete)\n",
    "            peso_total += paquete['peso']\n",
    "            lista_paquetes.remove(paquete)  # Remover el paquete de la lista original\n",
    "\n",
    "    # Obtener la ruta a partir de los nodos de entrega de los paquetes\n",
    "    ruta = [paquete['nodo_entrega'] for paquete in paquetes]\n",
    "\n",
    "    # Crear el repartidor como un diccionario\n",
    "    repartidor = {\n",
    "        \"capacidad\": capacidad_carga,\n",
    "        \"ubicacion\": ubicacion_inicial,\n",
    "        \"carga\": paquetes,  # Campo para almacenar los paquetes\n",
    "        \"peso_total\": peso_total,\n",
    "        \"ruta\": ruta    # Lista de ciudades de entrega\n",
    "    }\n",
    "\n",
    "    return repartidor"
   ]
  },
  {
   "cell_type": "code",
   "execution_count": 31,
   "metadata": {},
   "outputs": [
    {
     "name": "stdout",
     "output_type": "stream",
     "text": [
      "[{'peso': 7, 'prioridad': 9, 'nodo_entrega': 'Drobeta'}, {'peso': 14, 'prioridad': 5, 'nodo_entrega': 'Arad'}, {'peso': 4, 'prioridad': 5, 'nodo_entrega': 'Mehadia'}, {'peso': 39, 'prioridad': 9, 'nodo_entrega': 'Pitesti'}, {'peso': 20, 'prioridad': 8, 'nodo_entrega': 'Neamt'}, {'peso': 11, 'prioridad': 6, 'nodo_entrega': 'Eforie'}, {'peso': 41, 'prioridad': 3, 'nodo_entrega': 'Rimnicu Vilcea'}, {'peso': 22, 'prioridad': 7, 'nodo_entrega': 'Zerind'}, {'peso': 33, 'prioridad': 9, 'nodo_entrega': 'Eforie'}, {'peso': 18, 'prioridad': 5, 'nodo_entrega': 'Lugoj'}]\n",
      "{'capacidad': 128, 'ubicacion': 'Bucharest', 'carga': [{'peso': 7, 'prioridad': 9, 'nodo_entrega': 'Drobeta'}, {'peso': 14, 'prioridad': 5, 'nodo_entrega': 'Arad'}, {'peso': 4, 'prioridad': 5, 'nodo_entrega': 'Mehadia'}, {'peso': 39, 'prioridad': 9, 'nodo_entrega': 'Pitesti'}, {'peso': 20, 'prioridad': 8, 'nodo_entrega': 'Neamt'}, {'peso': 11, 'prioridad': 6, 'nodo_entrega': 'Eforie'}, {'peso': 22, 'prioridad': 7, 'nodo_entrega': 'Zerind'}], 'peso_total': 117, 'ruta': ['Drobeta', 'Arad', 'Mehadia', 'Pitesti', 'Neamt', 'Eforie', 'Zerind']}\n",
      "[{'peso': 41, 'prioridad': 3, 'nodo_entrega': 'Rimnicu Vilcea'}, {'peso': 33, 'prioridad': 9, 'nodo_entrega': 'Eforie'}, {'peso': 18, 'prioridad': 5, 'nodo_entrega': 'Lugoj'}]\n"
     ]
    }
   ],
   "source": [
    "# Prueba para comparar que el repartidor tome correctamente los paquetes\n",
    "# en base a la capacidad y que éstos se salgan de la lista de paquetes.\n",
    "test = generarListaPaquetes()\n",
    "print(test)\n",
    "test2 = generarRepartidor(test)\n",
    "print(test2)\n",
    "print(test)"
   ]
  }
 ],
 "metadata": {
  "colab": {
   "provenance": []
  },
  "kernelspec": {
   "display_name": "Python 3",
   "name": "python3"
  },
  "language_info": {
   "codemirror_mode": {
    "name": "ipython",
    "version": 3
   },
   "file_extension": ".py",
   "mimetype": "text/x-python",
   "name": "python",
   "nbconvert_exporter": "python",
   "pygments_lexer": "ipython3",
   "version": "3.12.1"
  }
 },
 "nbformat": 4,
 "nbformat_minor": 0
}
