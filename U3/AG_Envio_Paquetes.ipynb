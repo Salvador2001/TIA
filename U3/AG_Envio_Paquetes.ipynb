{
 "cells": [
  {
   "cell_type": "markdown",
   "metadata": {},
   "source": [
    "Una empresa de paquetería quiere repartir en una ciudad un conjunto de paquetes en distintas \n",
    "casas. Para ello quiere saber cual es la ruta más corta para repartir todos los paquetes. Un \n",
    "paquete tiene un peso y una prioridad de entrega (generados aleatoriamente) y un repartidor \n",
    "tiene una capacidad máxima de cuantos paquetes puede llevar al mismo tiempo, basado en \n",
    "el peso (generado aleatoriamente). <br>\n",
    "\n",
    "Dado un grafo grande de casas (definido por el mismo equipo), donde los nodos representan \n",
    "una casa a donde se puede entregar un paquete, y existe una distancia entre cada nodo. \n",
    "Cuando el repartidor se quede sin paquetes que entregar debe regresar a la matriz de la \n",
    "empresa para verificar si existen paquetes por entregar y así hasta quedarse sin paquetes. El \n",
    "objetivo es empezar en el nodo de la empresa y minimizar el costo total de las rutas para \n",
    "entregar eficientemente los paquetes en el menor tiempo y con la menor distancia recorrida. \n",
    "\n",
    "Posibles datos de entrada: <br>\n",
    "• Conjunto de paquetes con peso, prioridad y nodo de entrega.<br>\n",
    "• Vehículo de entregas con peso máximo de paquetes que puede llevar.<br>\n",
    "• Mapa de rutas que contiene el grafo de información.<br>\n",
    "\n",
    "Objetivos:<br>\n",
    "• Minimizar la distancia total recorrida por los vehículos.<br>\n",
    "• Minimizar los tiempos de entrega de los paquetes.<br>\n",
    "• Entregar todos los paquetes.<br>\n",
    "\n",
    "Restricciones:<br>\n",
    "• Los vehículos no deben superar su capacidad máxima<br>\n",
    "• Todos los paquetes deben ser entregados<br>\n",
    "• Los nodos del grafo no están todos interconectados, puedes necesitar ir a otra casa \n",
    "antes de llegar al objetivo.<br>\n",
    "\n",
    "Sugerencias adicionales:<br>\n",
    "• Empezar con un algoritmo genético aplicado a encontrar una ruta eficiente en un grafo\n",
    "de ida y vuelta a varios puntos, y luego agregar las restricciones de paquetes y peso.<br>\n",
    "• Probar diferentes configuraciones de parámetros para la configuración del genotipo, la \n",
    "evaluación de la solución, la generación de una nueva población o el factor de \n",
    "mutación."
   ]
  },
  {
   "cell_type": "code",
   "execution_count": 1,
   "metadata": {
    "id": "HH3NCXuVTIBy"
   },
   "outputs": [],
   "source": [
    "# Lista de paquetes con prioridad y peso.\n",
    "# El índice de la lista representa el número de paquete.\n",
    "# Y cada paquete está conformado por [prioridad, peso]\n",
    "ejemplo_listaPaquetes = [[8, 31],   #1\n",
    "                 [10, 40],  #2\n",
    "                 [2, 21],   #3\n",
    "                 [5, 39],   #4\n",
    "                 [7, 42],   #5\n",
    "                 [1, 6],    #6\n",
    "                 [3, 28],   #7\n",
    "                 [9, 18],   #8\n",
    "                 [4, 13],   #9\n",
    "                 [6, 38]]   #10\n",
    "\n",
    "# NOTA: Acorde la definición del problema, cada peso y prioridad de los paquetes tiene que ser\n",
    "#       generado aleatoriamente. La lista anterior solo es un ejemplo.\n",
    "\n",
    "# El problema no dice que el número de paquetes debe ser aleatorio,\n",
    "# entonces podemos decir que siempre serán 10 paquetes"
   ]
  },
  {
   "cell_type": "code",
   "execution_count": 2,
   "metadata": {},
   "outputs": [],
   "source": [
    "import math\n",
    "\n",
    "# Diccionario de ciudades y sus coordenadas\n",
    "# se tomó como referencia las coordenadas de este repositorio:\n",
    "# https://github.com/hassanzadehmahdi/Romanian-problem-using-Astar-and-GBFS/blob/main/cities.txt\n",
    "\n",
    "coordenadas = {\n",
    "    \"Arad\": (29, 192),\n",
    "    \"Bucharest\": (268, 55),\n",
    "    \"Craiova\": (163, 22),\n",
    "    \"Drobeta\": (91, 32),\n",
    "    \"Eforie\": (420, 28),\n",
    "    \"Fagaras\": (208, 157),\n",
    "    \"Giurgiu\": (264, 8),\n",
    "    \"Hirsova\": (396, 74),\n",
    "    \"Iasi\": (347, 204),\n",
    "    \"Lugoj\": (91, 98),\n",
    "    \"Mehadia\": (93, 65),\n",
    "    \"Neamt\": (290, 229),\n",
    "    \"Oradea\": (62, 258),\n",
    "    \"Pitesti\": (220, 88),\n",
    "    \"Rimnicu Vilcea\": (147, 124),\n",
    "    \"Sibiu\": (126, 164),\n",
    "    \"Timisoara\": (32, 124),\n",
    "    \"Urziceni\": (333, 74),\n",
    "    \"Vaslui\": (376, 153),\n",
    "    \"Zerind\": (44, 225)\n",
    "}"
   ]
  },
  {
   "cell_type": "code",
   "execution_count": 3,
   "metadata": {},
   "outputs": [],
   "source": [
    "# Función para calcular la distancia euclidiana (línea recta)\n",
    "def distancia_euclidiana(punto1, punto2):\n",
    "    distancia = math.sqrt((punto1[0] - punto2[0]) ** 2 + (punto1[1] - punto2[1]) ** 2)\n",
    "    return round(distancia, 2) # redondear a dos decimales"
   ]
  },
  {
   "cell_type": "code",
   "execution_count": 4,
   "metadata": {},
   "outputs": [
    {
     "name": "stdout",
     "output_type": "stream",
     "text": [
      "La distancia euclidiana entre las dos es: 100.96\n"
     ]
    }
   ],
   "source": [
    "# Ejemplo de uso\n",
    "punto_a = coordenadas[\"Arad\"]\n",
    "punto_b = coordenadas[\"Sibiu\"]\n",
    "distancia = distancia_euclidiana(punto_a, punto_b)\n",
    "print(f\"La distancia euclidiana entre las dos es: {distancia:.2f}\")"
   ]
  },
  {
   "cell_type": "code",
   "execution_count": 5,
   "metadata": {},
   "outputs": [],
   "source": [
    "#   Permite generar un diccionario con las distancias euclidianas entre\n",
    "#   la ciudad base y el resto, que servirá como heurística en A*Star\n",
    "def generarListaDistancias(ciudad_base):\n",
    "    distancias = {}\n",
    "    coordenada_base = coordenadas[ciudad_base]\n",
    "    \n",
    "    for ciudad, coordenada in coordenadas.items():\n",
    "        if ciudad != ciudad_base:\n",
    "            distancias[ciudad] = distancia_euclidiana(coordenada_base, coordenada)\n",
    "    \n",
    "    return distancias"
   ]
  },
  {
   "cell_type": "code",
   "execution_count": 6,
   "metadata": {},
   "outputs": [
    {
     "name": "stdout",
     "output_type": "stream",
     "text": [
      "{'Bucharest': 275.48, 'Craiova': 216.46, 'Drobeta': 171.59, 'Eforie': 424.0, 'Fagaras': 182.39, 'Giurgiu': 298.46, 'Hirsova': 385.5, 'Iasi': 318.23, 'Lugoj': 112.61, 'Mehadia': 142.21, 'Neamt': 263.61, 'Oradea': 73.79, 'Pitesti': 217.48, 'Rimnicu Vilcea': 136.19, 'Sibiu': 100.96, 'Timisoara': 68.07, 'Urziceni': 326.1, 'Vaslui': 349.18, 'Zerind': 36.25}\n"
     ]
    }
   ],
   "source": [
    "# Ejemplo de uso\n",
    "ejemplo_lista = generarListaDistancias(\"Arad\")\n",
    "print(ejemplo_lista)"
   ]
  },
  {
   "cell_type": "code",
   "execution_count": 7,
   "metadata": {},
   "outputs": [],
   "source": [
    "# Grafo completo de las ciudades, las mismas que se usaron en el problema de viajeros.\n",
    "# En este caso está almacenado como diccionario.\n",
    "# Se considerará Bucharest como el lugar de la empresa, ya que tenemos las distancias euclidianas de Bucharest\n",
    "# a las demás ciudades.\n",
    "\n",
    "# El grafo es un diccionario que contiene un nodo representando una ciudad, y cada nodo es un diccionario que almacena\n",
    "# las ciudades a la que está conectada, que contiene la distancia entre ciudades.\n",
    "\n",
    "# Grafo de distancias entre ciudades, sacadas usando la función distancia_euclidiana\n",
    "grafo = {\n",
    "    \"Arad\": {\n",
    "        \"Zerind\": 36.25,    # Distancia entre Arad a Zerind.\n",
    "        \"Sibiu\": 100.96,    # Distancia entre Arad a Sibiu.\n",
    "        \"Timisoara\": 68.07  # Distancia entre Arad a Timisoara.\n",
    "    },\n",
    "    \"Zerind\": {\n",
    "        \"Oradea\": 37.59,\n",
    "        \"Arad\": 36.25\n",
    "    },\n",
    "    \"Oradea\": {\n",
    "        \"Sibiu\": 113.72,\n",
    "        \"Zerind\": 37.59\n",
    "    },\n",
    "    \"Timisoara\": {\n",
    "        \"Lugoj\": 64.47,\n",
    "        \"Arad\": 68.07\n",
    "    },\n",
    "    \"Lugoj\": {\n",
    "        \"Mehadia\": 33.06,\n",
    "        \"Timisoara\": 64.47\n",
    "    },\n",
    "    \"Mehadia\": {\n",
    "        \"Drobeta\": 33.06,\n",
    "        \"Lugoj\": 33.06\n",
    "    },\n",
    "    \"Drobeta\": {\n",
    "        \"Craiova\": 72.69,\n",
    "        \"Mehadia\": 33.06\n",
    "    },\n",
    "    \"Sibiu\": {\n",
    "        \"Fagaras\": 82.3,\n",
    "        \"Rimnicu Vilcea\": 45.18,\n",
    "        \"Oradea\": 113.72,\n",
    "        \"Arad\": 100.96\n",
    "    },\n",
    "    \"Fagaras\": {\n",
    "        \"Bucharest\": 118.34,\n",
    "        \"Sibiu\": 82.3\n",
    "    },\n",
    "    \"Rimnicu Vilcea\": {\n",
    "        \"Pitesti\": 81.39,\n",
    "        \"Craiova\": 103.25,\n",
    "        \"Sibiu\": 45.18\n",
    "    },\n",
    "    \"Craiova\": {\n",
    "        \"Pitesti\": 87.21,\n",
    "        \"Drobeta\": 72.69\n",
    "    },\n",
    "    \"Pitesti\": {\n",
    "        \"Bucharest\": 58.25,\n",
    "        \"Rimnicu Vilcea\": 81.39\n",
    "    },\n",
    "    \"Bucharest\": {  # <----- Considerar Bucharest como la EMPRESA DE PAQUETERÍA\n",
    "        \"Giurgiu\": 47.17,\n",
    "        \"Urziceni\": 67.72,\n",
    "        \"Fagaras\": 118.34\n",
    "    },\n",
    "    \"Giurgiu\": {\n",
    "        \"Bucharest\": 47.17\n",
    "    },\n",
    "    \"Urziceni\": {\n",
    "        \"Hirsova\": 63.0,\n",
    "        \"Vaslui\": 89.94,\n",
    "        \"Bucharest\": 67.72\n",
    "    },\n",
    "    \"Hirsova\": {\n",
    "        \"Eforie\": 51.88,\n",
    "        \"Urziceni\": 63.0\n",
    "    },\n",
    "    \"Eforie\": {\n",
    "        \"Hirsova\": 51.88\n",
    "    },\n",
    "    \"Vaslui\": {\n",
    "        \"Iasi\": 58.67,\n",
    "        \"Urziceni\": 89.94\n",
    "    },\n",
    "    \"Iasi\": {\n",
    "        \"Neamt\": 62.24,\n",
    "        \"Vaslui\": 58.67\n",
    "    },\n",
    "    \"Neamt\": {\n",
    "        \"Iasi\": 62.24\n",
    "    }\n",
    "}\n"
   ]
  },
  {
   "cell_type": "code",
   "execution_count": 8,
   "metadata": {},
   "outputs": [
    {
     "name": "stdout",
     "output_type": "stream",
     "text": [
      "['Arad', 'Zerind', 'Oradea', 'Timisoara', 'Lugoj', 'Mehadia', 'Drobeta', 'Sibiu', 'Fagaras', 'Rimnicu Vilcea', 'Craiova', 'Pitesti', 'Bucharest', 'Giurgiu', 'Urziceni', 'Hirsova', 'Eforie', 'Vaslui', 'Iasi', 'Neamt']\n"
     ]
    }
   ],
   "source": [
    "ciudades = list(grafo.keys())\n",
    "print(ciudades)"
   ]
  },
  {
   "cell_type": "code",
   "execution_count": 9,
   "metadata": {},
   "outputs": [],
   "source": [
    "import random\n",
    "\n",
    "# Genera un paquete con peso, prioridad y destino aleatorios.\n",
    "def generarPaquete():\n",
    "    # Ejemplo de ciudades\n",
    "    ciudades = list(grafo.keys())\n",
    "\n",
    "    # Generar un paquete\n",
    "    peso = random.randint(1, 50)  # Peso aleatorio del paquete\n",
    "    prioridad = random.randint(1, 10)  # Prioridad aleatoria del 1 al 10, entre más mayor más prioridad\n",
    "    nodo_entrega = random.choice(ciudades)  # Nodo de entrega aleatorio\n",
    "\n",
    "    paquete = {\n",
    "        \"peso\": peso,\n",
    "        \"prioridad\": prioridad,\n",
    "        \"nodo_entrega\": nodo_entrega\n",
    "    }\n",
    "    \n",
    "    return paquete\n"
   ]
  },
  {
   "cell_type": "code",
   "execution_count": 10,
   "metadata": {},
   "outputs": [
    {
     "data": {
      "text/plain": [
       "{'peso': 44, 'prioridad': 10, 'nodo_entrega': 'Eforie'}"
      ]
     },
     "execution_count": 10,
     "metadata": {},
     "output_type": "execute_result"
    }
   ],
   "source": [
    "generarPaquete()"
   ]
  },
  {
   "cell_type": "code",
   "execution_count": 11,
   "metadata": {},
   "outputs": [],
   "source": [
    "# Genera una lista de 10 paquetes aleatorios.\n",
    "# En este caso 10 paquetes, ya que el problema no especifica\n",
    "# que el número de paquetes existentes deba ser aleatorio.\n",
    "def generarListaPaquetes():\n",
    "    lista_paquetes = []\n",
    "    cantidad = 10\n",
    "    for _ in range(cantidad):\n",
    "        paquete = generarPaquete()\n",
    "        lista_paquetes.append(paquete)\n",
    "    return lista_paquetes"
   ]
  },
  {
   "cell_type": "code",
   "execution_count": 12,
   "metadata": {},
   "outputs": [
    {
     "data": {
      "text/plain": [
       "[{'peso': 7, 'prioridad': 7, 'nodo_entrega': 'Urziceni'},\n",
       " {'peso': 35, 'prioridad': 1, 'nodo_entrega': 'Mehadia'},\n",
       " {'peso': 13, 'prioridad': 8, 'nodo_entrega': 'Pitesti'},\n",
       " {'peso': 43, 'prioridad': 8, 'nodo_entrega': 'Eforie'},\n",
       " {'peso': 36, 'prioridad': 4, 'nodo_entrega': 'Craiova'},\n",
       " {'peso': 27, 'prioridad': 10, 'nodo_entrega': 'Pitesti'},\n",
       " {'peso': 41, 'prioridad': 5, 'nodo_entrega': 'Neamt'},\n",
       " {'peso': 23, 'prioridad': 7, 'nodo_entrega': 'Lugoj'},\n",
       " {'peso': 11, 'prioridad': 9, 'nodo_entrega': 'Bucharest'},\n",
       " {'peso': 4, 'prioridad': 5, 'nodo_entrega': 'Rimnicu Vilcea'}]"
      ]
     },
     "execution_count": 12,
     "metadata": {},
     "output_type": "execute_result"
    }
   ],
   "source": [
    "generarListaPaquetes()"
   ]
  },
  {
   "cell_type": "code",
   "execution_count": 13,
   "metadata": {},
   "outputs": [],
   "source": [
    "def generarRepartidor(lista_paquetes):\n",
    "    # Definir la capacidad de carga aleatoria del repartidor\n",
    "    capacidad_carga = random.randint(50, 150)  # Peso máximo que puede llevar\n",
    "\n",
    "    # Ubicación inicial del repartidor, que es la ciudad de la empresa\n",
    "    ubicacion_inicial = \"Bucharest\"\n",
    "\n",
    "    # Inicializar la lista de paquetes que puede llevar\n",
    "    paquetes = []\n",
    "    peso_total = 0\n",
    "\n",
    "    # Seleccionar paquetes que el repartidor puede llevar sin exceder su capacidad\n",
    "    for paquete in lista_paquetes[:]:  # Hacemos una copia de la lista para evitar problemas al modificarla\n",
    "        if peso_total + paquete['peso'] <= capacidad_carga:\n",
    "            paquetes.append(paquete)\n",
    "            peso_total += paquete['peso']\n",
    "            lista_paquetes.remove(paquete)  # Remover el paquete de la lista original\n",
    "\n",
    "    # Obtener la ruta a partir de los nodos de entrega de los paquetes\n",
    "    ruta = [paquete['nodo_entrega'] for paquete in paquetes]\n",
    "\n",
    "    # Crear el repartidor como un diccionario\n",
    "    repartidor = {\n",
    "        \"capacidad\": capacidad_carga,\n",
    "        \"ubicacion\": ubicacion_inicial,\n",
    "        \"carga\": paquetes,  # Campo para almacenar los paquetes\n",
    "        \"peso_total\": peso_total,\n",
    "        \"ruta\": ruta    # Lista de ciudades de entrega\n",
    "    }\n",
    "\n",
    "    return repartidor"
   ]
  },
  {
   "cell_type": "code",
   "execution_count": 14,
   "metadata": {},
   "outputs": [
    {
     "name": "stdout",
     "output_type": "stream",
     "text": [
      "[{'peso': 44, 'prioridad': 6, 'nodo_entrega': 'Craiova'}, {'peso': 11, 'prioridad': 3, 'nodo_entrega': 'Iasi'}, {'peso': 4, 'prioridad': 6, 'nodo_entrega': 'Mehadia'}, {'peso': 19, 'prioridad': 2, 'nodo_entrega': 'Oradea'}, {'peso': 5, 'prioridad': 7, 'nodo_entrega': 'Drobeta'}, {'peso': 16, 'prioridad': 7, 'nodo_entrega': 'Craiova'}, {'peso': 13, 'prioridad': 10, 'nodo_entrega': 'Sibiu'}, {'peso': 2, 'prioridad': 3, 'nodo_entrega': 'Oradea'}, {'peso': 47, 'prioridad': 4, 'nodo_entrega': 'Craiova'}, {'peso': 15, 'prioridad': 2, 'nodo_entrega': 'Drobeta'}]\n",
      "{'capacidad': 90, 'ubicacion': 'Bucharest', 'carga': [{'peso': 44, 'prioridad': 6, 'nodo_entrega': 'Craiova'}, {'peso': 11, 'prioridad': 3, 'nodo_entrega': 'Iasi'}, {'peso': 4, 'prioridad': 6, 'nodo_entrega': 'Mehadia'}, {'peso': 19, 'prioridad': 2, 'nodo_entrega': 'Oradea'}, {'peso': 5, 'prioridad': 7, 'nodo_entrega': 'Drobeta'}, {'peso': 2, 'prioridad': 3, 'nodo_entrega': 'Oradea'}], 'peso_total': 85, 'ruta': ['Craiova', 'Iasi', 'Mehadia', 'Oradea', 'Drobeta', 'Oradea']}\n",
      "[{'peso': 16, 'prioridad': 7, 'nodo_entrega': 'Craiova'}, {'peso': 13, 'prioridad': 10, 'nodo_entrega': 'Sibiu'}, {'peso': 47, 'prioridad': 4, 'nodo_entrega': 'Craiova'}, {'peso': 15, 'prioridad': 2, 'nodo_entrega': 'Drobeta'}]\n"
     ]
    }
   ],
   "source": [
    "# Prueba para comparar que el repartidor tome correctamente los paquetes\n",
    "# en base a la capacidad y que éstos se salgan de la lista de paquetes.\n",
    "test = generarListaPaquetes()\n",
    "print(test)\n",
    "test2 = generarRepartidor(test)\n",
    "print(test2)\n",
    "print(test)"
   ]
  },
  {
   "cell_type": "code",
   "execution_count": 15,
   "metadata": {},
   "outputs": [],
   "source": [
    "def reconstruir_camino(camino, ciudad_actual):\n",
    "    ruta_total = [ciudad_actual]\n",
    "    while ciudad_actual in camino:\n",
    "        ciudad_actual = camino[ciudad_actual]\n",
    "        ruta_total.append(ciudad_actual)\n",
    "    return ruta_total[::-1]  # Retornar la ruta desde el inicio hasta el destino"
   ]
  },
  {
   "cell_type": "code",
   "execution_count": 16,
   "metadata": {},
   "outputs": [],
   "source": [
    "import heapq\n",
    "\n",
    "def a_star(ciudad_inicial, ciudad_objetivo, grafo):\n",
    "    # Crear una lista de prioridades (min-heap)\n",
    "    conjunto_abierto = []\n",
    "    heapq.heappush(conjunto_abierto, (0, ciudad_inicial))  # (costo total, ciudad actual)\n",
    "\n",
    "    camino = {}  # Almacena el camino desde el inicio hasta cada ciudad\n",
    "    costo_real = {ciudad: float('inf') for ciudad in grafo}  # Costo desde el inicio\n",
    "    costo_real[ciudad_inicial] = 0\n",
    "\n",
    "    costo_estimado_total = {ciudad: float('inf') for ciudad in grafo}  # Costo estimado total\n",
    "    costo_estimado_total[ciudad_inicial] = distancia_euclidiana(coordenadas[ciudad_inicial], coordenadas[ciudad_objetivo])\n",
    "\n",
    "    while conjunto_abierto:\n",
    "        costo_total_actual, ciudad_actual = heapq.heappop(conjunto_abierto)\n",
    "\n",
    "        if ciudad_actual == ciudad_objetivo:\n",
    "            return reconstruir_camino(camino, ciudad_actual)\n",
    "\n",
    "        for ciudad_vecina, distancia_hacia_vecina in grafo[ciudad_actual].items():\n",
    "            costo_tentativo = costo_real[ciudad_actual] + distancia_hacia_vecina\n",
    "\n",
    "            if costo_tentativo < costo_real[ciudad_vecina]:\n",
    "                camino[ciudad_vecina] = ciudad_actual\n",
    "                costo_real[ciudad_vecina] = costo_tentativo\n",
    "                costo_estimado_total[ciudad_vecina] = costo_tentativo + distancia_euclidiana(coordenadas[ciudad_vecina], coordenadas[ciudad_objetivo])\n",
    "\n",
    "                if (costo_tentativo, ciudad_vecina) not in conjunto_abierto:\n",
    "                    heapq.heappush(conjunto_abierto, (costo_estimado_total[ciudad_vecina], ciudad_vecina))\n",
    "\n",
    "    return []  # Retornar una lista vacía si no se encuentra ruta\n"
   ]
  },
  {
   "cell_type": "code",
   "execution_count": 17,
   "metadata": {},
   "outputs": [],
   "source": [
    "def calcular_recorrido(repartidor, grafo):\n",
    "    # Iniciar en la ubicación inicial del repartidor\n",
    "    ubicacion_actual = repartidor[\"ubicacion\"]\n",
    "    ruta_completa = []\n",
    "\n",
    "    # Para cada paquete en la carga del repartidor\n",
    "    for paquete in repartidor[\"carga\"]:\n",
    "        destino = paquete['nodo_entrega']\n",
    "        \n",
    "        # Calcular la ruta desde la ubicación actual a la ciudad de entrega\n",
    "        ruta_a_destino = a_star(ubicacion_actual, destino, grafo)\n",
    "        \n",
    "        # Añadir la ruta a la ruta completa, evitando duplicados\n",
    "        for ciudad in ruta_a_destino[:-1]:  # Hasta el penúltimo para evitar duplicar el destino\n",
    "            if not ruta_completa or ciudad != ruta_completa[-1]:  # Evitar duplicados\n",
    "                ruta_completa.append(ciudad)\n",
    "\n",
    "        # Añadir el destino actual si no es igual a la última ciudad en la ruta\n",
    "        if not ruta_completa or destino != ruta_completa[-1]:\n",
    "            ruta_completa.append(destino)  # Añadir el destino actual\n",
    "\n",
    "        # Actualizar la ubicación actual\n",
    "        ubicacion_actual = destino\n",
    "\n",
    "    # Finalmente, regresar a Bucharest\n",
    "    ruta_a_empresa = a_star(ubicacion_actual, \"Bucharest\", grafo)\n",
    "    \n",
    "    # Añadir la ruta de regreso, evitando duplicados\n",
    "    for ciudad in ruta_a_empresa:\n",
    "        if not ruta_completa or ciudad != ruta_completa[-1]:  # Evitar duplicados\n",
    "            ruta_completa.append(ciudad)\n",
    "\n",
    "    # Actualizar la ruta del repartidor\n",
    "    repartidor[\"ruta\"] = ruta_completa\n",
    "    \n",
    "    # Imprimir el recorrido completo\n",
    "    print(\"Recorrido completo del repartidor:\", \" -> \".join(ruta_completa))\n",
    "    \n",
    "    return ruta_completa\n"
   ]
  },
  {
   "cell_type": "code",
   "execution_count": 18,
   "metadata": {},
   "outputs": [],
   "source": [
    "def calcular_costo_recorrido(repartidor, grafo):\n",
    "    costo_total = 0\n",
    "    ubicacion_actual = repartidor['ubicacion']\n",
    "\n",
    "    # Para cada ciudad en la ruta del repartidor\n",
    "    for ciudad_destino in repartidor['ruta']:\n",
    "        # Obtener la distancia al destino\n",
    "        #print(\"test1 = {}\".format(ciudad_destino))\n",
    "        if ciudad_destino in grafo[ubicacion_actual]:\n",
    "            distancia = grafo[ubicacion_actual][ciudad_destino]\n",
    "            costo_total += distancia  # Sumar la distancia al costo total\n",
    "            #print(\"test2 = {}\".format(distancia))\n",
    "            ubicacion_actual = ciudad_destino  # Actualizar la ubicación actual\n",
    "\n",
    "    return costo_total"
   ]
  },
  {
   "cell_type": "code",
   "execution_count": 19,
   "metadata": {},
   "outputs": [
    {
     "name": "stdout",
     "output_type": "stream",
     "text": [
      "lista = [{'peso': 1, 'prioridad': 5, 'nodo_entrega': 'Timisoara'}, {'peso': 24, 'prioridad': 10, 'nodo_entrega': 'Zerind'}, {'peso': 12, 'prioridad': 5, 'nodo_entrega': 'Mehadia'}, {'peso': 17, 'prioridad': 6, 'nodo_entrega': 'Vaslui'}, {'peso': 46, 'prioridad': 6, 'nodo_entrega': 'Neamt'}, {'peso': 37, 'prioridad': 2, 'nodo_entrega': 'Pitesti'}, {'peso': 45, 'prioridad': 1, 'nodo_entrega': 'Oradea'}, {'peso': 47, 'prioridad': 7, 'nodo_entrega': 'Lugoj'}, {'peso': 47, 'prioridad': 7, 'nodo_entrega': 'Vaslui'}, {'peso': 7, 'prioridad': 5, 'nodo_entrega': 'Hirsova'}]\n",
      "repartidor = {'capacidad': 59, 'ubicacion': 'Bucharest', 'carga': [{'peso': 1, 'prioridad': 5, 'nodo_entrega': 'Timisoara'}, {'peso': 24, 'prioridad': 10, 'nodo_entrega': 'Zerind'}, {'peso': 12, 'prioridad': 5, 'nodo_entrega': 'Mehadia'}, {'peso': 17, 'prioridad': 6, 'nodo_entrega': 'Vaslui'}], 'peso_total': 54, 'ruta': ['Timisoara', 'Zerind', 'Mehadia', 'Vaslui']}\n",
      "Recorrido completo del repartidor: Bucharest -> Fagaras -> Sibiu -> Arad -> Timisoara -> Arad -> Zerind -> Arad -> Timisoara -> Lugoj -> Mehadia -> Drobeta -> Craiova -> Pitesti -> Bucharest -> Urziceni -> Vaslui -> Urziceni -> Bucharest\n",
      "Costo total del recorrido: 1242.3700000000001\n"
     ]
    }
   ],
   "source": [
    "# Generar una lista de paquetes\n",
    "lista_paquetes = generarListaPaquetes()\n",
    "print(\"lista = {}\".format(lista_paquetes))\n",
    "\n",
    "# Generar el repartidor con los paquetes que puede llevar\n",
    "repartidor = generarRepartidor(lista_paquetes)\n",
    "print(\"repartidor = {}\".format(repartidor))\n",
    "\n",
    "# Calcular y mostrar el recorrido\n",
    "calcular_recorrido(repartidor, grafo)\n",
    "\n",
    "# Calcular el costo del recorrido del repartidor\n",
    "costo = calcular_costo_recorrido(repartidor, grafo)\n",
    "print(f\"Costo total del recorrido: {costo}\")\n"
   ]
  },
  {
   "cell_type": "code",
   "execution_count": 20,
   "metadata": {},
   "outputs": [],
   "source": [
    "def calcular_probabilidad_entrega(paquete, lista_paquetes):\n",
    "    # Sumar las prioridades de todos los paquetes\n",
    "    suma_prioridades = sum(p['prioridad'] for p in lista_paquetes)\n",
    "    \n",
    "    # Calcular la probabilidad\n",
    "    probabilidad = paquete['prioridad'] / suma_prioridades if suma_prioridades > 0 else 0\n",
    "    return probabilidad\n"
   ]
  },
  {
   "cell_type": "code",
   "execution_count": 21,
   "metadata": {},
   "outputs": [],
   "source": [
    "def convertir_a_individuo(repartidor):\n",
    "    calcular_recorrido(repartidor,grafo)\n",
    "\n",
    "    # Crear el individuo con la carga y el costo\n",
    "    individuo = {\n",
    "        'carga': repartidor['carga'],\n",
    "        'costo_total': calcular_costo_recorrido(repartidor,grafo)\n",
    "    }\n",
    "    return individuo"
   ]
  },
  {
   "cell_type": "code",
   "execution_count": 22,
   "metadata": {},
   "outputs": [],
   "source": [
    "def calcular_fitness(individuo):\n",
    "    # Obtener el costo total del recorrido\n",
    "    costo_total = individuo['costo_total']\n",
    "    \n",
    "    # Calcular la prioridad acumulada basada en la probabilidad de entrega\n",
    "    prioridad_total = 0\n",
    "    for paquete in individuo['carga']:\n",
    "        prioridad_total += calcular_probabilidad_entrega(paquete, individuo['carga'])\n",
    "    \n",
    "    # Invertimos el costo para que el fitness sea mayor para recorridos más cortos\n",
    "    fitness = (prioridad_total * 100) / (1 + costo_total)  # Escalar fitness para favorecer menor costo\n",
    "\n",
    "    return fitness\n"
   ]
  },
  {
   "cell_type": "code",
   "execution_count": 23,
   "metadata": {},
   "outputs": [],
   "source": [
    "def crear_poblacion_inicial(repartidor, grafo, tamano_poblacion):\n",
    "    poblacion = []\n",
    "\n",
    "    for _ in range(tamano_poblacion):\n",
    "        # Crear una copia de la carga del repartidor y mezclar el orden de los paquetes aleatoriamente\n",
    "        carga_aleatoria = repartidor['carga'][:]\n",
    "        random.shuffle(carga_aleatoria)\n",
    "        \n",
    "        # Asignar la carga aleatoria al repartidor y convertir en un individuo\n",
    "        repartidor['carga'] = carga_aleatoria\n",
    "        individuo = convertir_a_individuo(repartidor)\n",
    "        \n",
    "        # Añadir el individuo a la población\n",
    "        poblacion.append(individuo)\n",
    "    \n",
    "    return poblacion\n"
   ]
  },
  {
   "cell_type": "code",
   "execution_count": 24,
   "metadata": {},
   "outputs": [],
   "source": [
    "def seleccionar(poblacion):\n",
    "    suma_fitness = sum(calcular_fitness(individuo) for individuo in poblacion)\n",
    "    ruleta = random.uniform(0, suma_fitness)\n",
    "    acumulador = 0\n",
    "    \n",
    "    for individuo in poblacion:\n",
    "        acumulador += calcular_fitness(individuo)\n",
    "        if acumulador >= ruleta:\n",
    "            return individuo\n"
   ]
  },
  {
   "cell_type": "code",
   "execution_count": 33,
   "metadata": {},
   "outputs": [],
   "source": [
    "def calcular_costo_individuo(individuo, grafo):\n",
    "    costo_total = 0\n",
    "    ubicacion_actual = \"Bucharest\"  # Se empieza desde Bucharest\n",
    "    \n",
    "    for paquete in individuo['carga']:\n",
    "        nodo_entrega = paquete['nodo_entrega']\n",
    "        \n",
    "        # Sumar la distancia de la ubicación actual al nodo de entrega\n",
    "        if nodo_entrega in grafo[ubicacion_actual]:\n",
    "            distancia = grafo[ubicacion_actual][nodo_entrega]\n",
    "            costo_total += distancia\n",
    "            ubicacion_actual = nodo_entrega  # Actualizar ubicación\n",
    "    \n",
    "    # Volver a Bucharest\n",
    "    if \"Bucharest\" in grafo[ubicacion_actual]:\n",
    "        costo_total += grafo[ubicacion_actual][\"Bucharest\"]\n",
    "\n",
    "    return costo_total\n"
   ]
  },
  {
   "cell_type": "code",
   "execution_count": null,
   "metadata": {},
   "outputs": [],
   "source": [
    "def generar_nueva_poblacion(poblacion_actual, grafo, tamanio_poblacion):\n",
    "    nueva_poblacion = []\n",
    "    \n",
    "    while len(nueva_poblacion) < tamanio_poblacion:\n",
    "        # Seleccionar padres\n",
    "        padre1 = seleccionar(poblacion_actual)\n",
    "        padre2 = seleccionar(poblacion_actual)\n",
    "        \n",
    "        # Asegurarse de que no sean el mismo individuo\n",
    "        while padre1 == padre2:\n",
    "            padre2 = seleccionar(poblacion_actual)\n",
    "        \n",
    "        # Cruce de un punto: dividir la carga en una posición aleatoria\n",
    "        punto_cruce = random.randint(1, len(padre1['carga']) - 1)  # Evitar extremos\n",
    "        hijo1_carga = padre1['carga'][:punto_cruce] + padre2['carga'][punto_cruce:]\n",
    "        hijo2_carga = padre2['carga'][:punto_cruce] + padre1['carga'][punto_cruce:]\n",
    "\n",
    "        # Crear nuevos individuos (hijos) a partir de la carga cruzada\n",
    "        hijo1 = {'carga': hijo1_carga}\n",
    "        hijo2 = {'carga': hijo2_carga}\n",
    "        \n",
    "        # Calcular el costo para cada hijo\n",
    "        hijo1['costo_total'] = calcular_costo_individuo(hijo1, grafo)\n",
    "        hijo2['costo_total'] = calcular_costo_individuo(hijo2, grafo)\n",
    "        \n",
    "        # Añadir los hijos a la nueva población\n",
    "        nueva_poblacion.append(hijo1)\n",
    "        if len(nueva_poblacion) < tamanio_poblacion:\n",
    "            nueva_poblacion.append(hijo2)\n",
    "    \n",
    "    return nueva_poblacion\n"
   ]
  },
  {
   "cell_type": "code",
   "execution_count": 36,
   "metadata": {},
   "outputs": [
    {
     "name": "stdout",
     "output_type": "stream",
     "text": [
      "repartidor = {'capacidad': 125, 'ubicacion': 'Bucharest', 'carga': [{'peso': 8, 'prioridad': 2, 'nodo_entrega': 'Rimnicu Vilcea'}, {'peso': 23, 'prioridad': 2, 'nodo_entrega': 'Vaslui'}, {'peso': 36, 'prioridad': 3, 'nodo_entrega': 'Zerind'}, {'peso': 9, 'prioridad': 5, 'nodo_entrega': 'Rimnicu Vilcea'}, {'peso': 7, 'prioridad': 5, 'nodo_entrega': 'Neamt'}, {'peso': 32, 'prioridad': 4, 'nodo_entrega': 'Oradea'}, {'peso': 3, 'prioridad': 8, 'nodo_entrega': 'Vaslui'}], 'peso_total': 118, 'ruta': ['Rimnicu Vilcea', 'Vaslui', 'Zerind', 'Rimnicu Vilcea', 'Neamt', 'Oradea', 'Vaslui']}\n",
      "{'peso': 8, 'prioridad': 2, 'nodo_entrega': 'Rimnicu Vilcea'}\n",
      "prioridad = 0.06896551724137931\n",
      "Recorrido completo del repartidor: Bucharest -> Fagaras -> Sibiu -> Rimnicu Vilcea -> Pitesti -> Bucharest -> Urziceni -> Vaslui -> Urziceni -> Bucharest -> Fagaras -> Sibiu -> Arad -> Zerind -> Arad -> Sibiu -> Rimnicu Vilcea -> Pitesti -> Bucharest -> Urziceni -> Vaslui -> Iasi -> Neamt -> Iasi -> Vaslui -> Urziceni -> Bucharest -> Fagaras -> Sibiu -> Oradea -> Sibiu -> Rimnicu Vilcea -> Pitesti -> Bucharest -> Urziceni -> Vaslui -> Urziceni -> Bucharest\n",
      "{'carga': [{'peso': 8, 'prioridad': 2, 'nodo_entrega': 'Rimnicu Vilcea'}, {'peso': 23, 'prioridad': 2, 'nodo_entrega': 'Vaslui'}, {'peso': 36, 'prioridad': 3, 'nodo_entrega': 'Zerind'}, {'peso': 9, 'prioridad': 5, 'nodo_entrega': 'Rimnicu Vilcea'}, {'peso': 7, 'prioridad': 5, 'nodo_entrega': 'Neamt'}, {'peso': 32, 'prioridad': 4, 'nodo_entrega': 'Oradea'}, {'peso': 3, 'prioridad': 8, 'nodo_entrega': 'Vaslui'}], 'costo_total': 2846.0199999999995}\n",
      "Valor de fitness del individuo: 0.03512444591186575\n",
      "Recorrido completo del repartidor: Bucharest -> Fagaras -> Sibiu -> Arad -> Zerind -> Arad -> Sibiu -> Rimnicu Vilcea -> Pitesti -> Bucharest -> Urziceni -> Vaslui -> Iasi -> Neamt -> Iasi -> Vaslui -> Urziceni -> Bucharest -> Fagaras -> Sibiu -> Oradea -> Sibiu -> Rimnicu Vilcea -> Pitesti -> Bucharest -> Urziceni -> Vaslui -> Urziceni -> Bucharest -> Fagaras -> Sibiu -> Rimnicu Vilcea -> Pitesti -> Bucharest\n",
      "Recorrido completo del repartidor: Bucharest -> Fagaras -> Sibiu -> Rimnicu Vilcea -> Sibiu -> Oradea -> Sibiu -> Rimnicu Vilcea -> Pitesti -> Bucharest -> Urziceni -> Vaslui -> Urziceni -> Bucharest -> Fagaras -> Sibiu -> Arad -> Zerind -> Arad -> Sibiu -> Rimnicu Vilcea -> Pitesti -> Bucharest -> Urziceni -> Vaslui -> Iasi -> Neamt -> Iasi -> Vaslui -> Urziceni -> Bucharest\n",
      "Recorrido completo del repartidor: Bucharest -> Fagaras -> Sibiu -> Oradea -> Sibiu -> Rimnicu Vilcea -> Pitesti -> Bucharest -> Urziceni -> Vaslui -> Urziceni -> Bucharest -> Fagaras -> Sibiu -> Arad -> Zerind -> Arad -> Sibiu -> Rimnicu Vilcea -> Pitesti -> Bucharest -> Urziceni -> Vaslui -> Iasi -> Neamt -> Iasi -> Vaslui -> Urziceni -> Bucharest -> Fagaras -> Sibiu -> Rimnicu Vilcea -> Pitesti -> Bucharest\n",
      "Recorrido completo del repartidor: Bucharest -> Fagaras -> Sibiu -> Rimnicu Vilcea -> Pitesti -> Bucharest -> Urziceni -> Vaslui -> Iasi -> Neamt -> Iasi -> Vaslui -> Urziceni -> Bucharest -> Fagaras -> Sibiu -> Arad -> Zerind -> Oradea -> Sibiu -> Rimnicu Vilcea -> Pitesti -> Bucharest -> Urziceni -> Vaslui -> Urziceni -> Bucharest -> Fagaras -> Sibiu -> Rimnicu Vilcea -> Pitesti -> Bucharest\n",
      "Recorrido completo del repartidor: Bucharest -> Fagaras -> Sibiu -> Rimnicu Vilcea -> Sibiu -> Arad -> Zerind -> Arad -> Sibiu -> Rimnicu Vilcea -> Pitesti -> Bucharest -> Urziceni -> Vaslui -> Iasi -> Neamt -> Iasi -> Vaslui -> Urziceni -> Bucharest -> Fagaras -> Sibiu -> Oradea -> Sibiu -> Rimnicu Vilcea -> Pitesti -> Bucharest -> Urziceni -> Vaslui -> Urziceni -> Bucharest\n",
      "--------\n",
      "Población = [{'carga': [{'peso': 36, 'prioridad': 3, 'nodo_entrega': 'Zerind'}, {'peso': 7, 'prioridad': 5, 'nodo_entrega': 'Neamt'}, {'peso': 32, 'prioridad': 4, 'nodo_entrega': 'Oradea'}, {'peso': 23, 'prioridad': 2, 'nodo_entrega': 'Vaslui'}, {'peso': 3, 'prioridad': 8, 'nodo_entrega': 'Vaslui'}, {'peso': 9, 'prioridad': 5, 'nodo_entrega': 'Rimnicu Vilcea'}, {'peso': 8, 'prioridad': 2, 'nodo_entrega': 'Rimnicu Vilcea'}], 'costo_total': 2530.7}, {'carga': [{'peso': 9, 'prioridad': 5, 'nodo_entrega': 'Rimnicu Vilcea'}, {'peso': 32, 'prioridad': 4, 'nodo_entrega': 'Oradea'}, {'peso': 23, 'prioridad': 2, 'nodo_entrega': 'Vaslui'}, {'peso': 3, 'prioridad': 8, 'nodo_entrega': 'Vaslui'}, {'peso': 36, 'prioridad': 3, 'nodo_entrega': 'Zerind'}, {'peso': 8, 'prioridad': 2, 'nodo_entrega': 'Rimnicu Vilcea'}, {'peso': 7, 'prioridad': 5, 'nodo_entrega': 'Neamt'}], 'costo_total': 2235.6000000000004}, {'carga': [{'peso': 32, 'prioridad': 4, 'nodo_entrega': 'Oradea'}, {'peso': 23, 'prioridad': 2, 'nodo_entrega': 'Vaslui'}, {'peso': 3, 'prioridad': 8, 'nodo_entrega': 'Vaslui'}, {'peso': 36, 'prioridad': 3, 'nodo_entrega': 'Zerind'}, {'peso': 9, 'prioridad': 5, 'nodo_entrega': 'Rimnicu Vilcea'}, {'peso': 7, 'prioridad': 5, 'nodo_entrega': 'Neamt'}, {'peso': 8, 'prioridad': 2, 'nodo_entrega': 'Rimnicu Vilcea'}], 'costo_total': 2530.7000000000003}, {'carga': [{'peso': 8, 'prioridad': 2, 'nodo_entrega': 'Rimnicu Vilcea'}, {'peso': 7, 'prioridad': 5, 'nodo_entrega': 'Neamt'}, {'peso': 3, 'prioridad': 8, 'nodo_entrega': 'Vaslui'}, {'peso': 36, 'prioridad': 3, 'nodo_entrega': 'Zerind'}, {'peso': 32, 'prioridad': 4, 'nodo_entrega': 'Oradea'}, {'peso': 23, 'prioridad': 2, 'nodo_entrega': 'Vaslui'}, {'peso': 9, 'prioridad': 5, 'nodo_entrega': 'Rimnicu Vilcea'}], 'costo_total': 2317.36}, {'carga': [{'peso': 8, 'prioridad': 2, 'nodo_entrega': 'Rimnicu Vilcea'}, {'peso': 36, 'prioridad': 3, 'nodo_entrega': 'Zerind'}, {'peso': 9, 'prioridad': 5, 'nodo_entrega': 'Rimnicu Vilcea'}, {'peso': 7, 'prioridad': 5, 'nodo_entrega': 'Neamt'}, {'peso': 32, 'prioridad': 4, 'nodo_entrega': 'Oradea'}, {'peso': 3, 'prioridad': 8, 'nodo_entrega': 'Vaslui'}, {'peso': 23, 'prioridad': 2, 'nodo_entrega': 'Vaslui'}], 'costo_total': 2235.6}]\n",
      "Selectos = {'carga': [{'peso': 32, 'prioridad': 4, 'nodo_entrega': 'Oradea'}, {'peso': 23, 'prioridad': 2, 'nodo_entrega': 'Vaslui'}, {'peso': 3, 'prioridad': 8, 'nodo_entrega': 'Vaslui'}, {'peso': 36, 'prioridad': 3, 'nodo_entrega': 'Zerind'}, {'peso': 9, 'prioridad': 5, 'nodo_entrega': 'Rimnicu Vilcea'}, {'peso': 7, 'prioridad': 5, 'nodo_entrega': 'Neamt'}, {'peso': 8, 'prioridad': 2, 'nodo_entrega': 'Rimnicu Vilcea'}], 'costo_total': 2530.7000000000003}\n",
      "--------\n",
      "Población nueva = [{'carga': [{'peso': 8, 'prioridad': 2, 'nodo_entrega': 'Rimnicu Vilcea'}, {'peso': 32, 'prioridad': 4, 'nodo_entrega': 'Oradea'}, {'peso': 23, 'prioridad': 2, 'nodo_entrega': 'Vaslui'}, {'peso': 3, 'prioridad': 8, 'nodo_entrega': 'Vaslui'}, {'peso': 36, 'prioridad': 3, 'nodo_entrega': 'Zerind'}, {'peso': 8, 'prioridad': 2, 'nodo_entrega': 'Rimnicu Vilcea'}, {'peso': 7, 'prioridad': 5, 'nodo_entrega': 'Neamt'}], 'costo_total': 0}, {'carga': [{'peso': 9, 'prioridad': 5, 'nodo_entrega': 'Rimnicu Vilcea'}, {'peso': 36, 'prioridad': 3, 'nodo_entrega': 'Zerind'}, {'peso': 9, 'prioridad': 5, 'nodo_entrega': 'Rimnicu Vilcea'}, {'peso': 7, 'prioridad': 5, 'nodo_entrega': 'Neamt'}, {'peso': 32, 'prioridad': 4, 'nodo_entrega': 'Oradea'}, {'peso': 3, 'prioridad': 8, 'nodo_entrega': 'Vaslui'}, {'peso': 23, 'prioridad': 2, 'nodo_entrega': 'Vaslui'}], 'costo_total': 0}, {'carga': [{'peso': 8, 'prioridad': 2, 'nodo_entrega': 'Rimnicu Vilcea'}, {'peso': 36, 'prioridad': 3, 'nodo_entrega': 'Zerind'}, {'peso': 9, 'prioridad': 5, 'nodo_entrega': 'Rimnicu Vilcea'}, {'peso': 7, 'prioridad': 5, 'nodo_entrega': 'Neamt'}, {'peso': 32, 'prioridad': 4, 'nodo_entrega': 'Oradea'}, {'peso': 7, 'prioridad': 5, 'nodo_entrega': 'Neamt'}, {'peso': 8, 'prioridad': 2, 'nodo_entrega': 'Rimnicu Vilcea'}], 'costo_total': 0}, {'carga': [{'peso': 32, 'prioridad': 4, 'nodo_entrega': 'Oradea'}, {'peso': 23, 'prioridad': 2, 'nodo_entrega': 'Vaslui'}, {'peso': 3, 'prioridad': 8, 'nodo_entrega': 'Vaslui'}, {'peso': 36, 'prioridad': 3, 'nodo_entrega': 'Zerind'}, {'peso': 9, 'prioridad': 5, 'nodo_entrega': 'Rimnicu Vilcea'}, {'peso': 3, 'prioridad': 8, 'nodo_entrega': 'Vaslui'}, {'peso': 23, 'prioridad': 2, 'nodo_entrega': 'Vaslui'}], 'costo_total': 0}, {'carga': [{'peso': 9, 'prioridad': 5, 'nodo_entrega': 'Rimnicu Vilcea'}, {'peso': 32, 'prioridad': 4, 'nodo_entrega': 'Oradea'}, {'peso': 32, 'prioridad': 4, 'nodo_entrega': 'Oradea'}, {'peso': 23, 'prioridad': 2, 'nodo_entrega': 'Vaslui'}, {'peso': 3, 'prioridad': 8, 'nodo_entrega': 'Vaslui'}, {'peso': 9, 'prioridad': 5, 'nodo_entrega': 'Rimnicu Vilcea'}, {'peso': 8, 'prioridad': 2, 'nodo_entrega': 'Rimnicu Vilcea'}], 'costo_total': 0}]\n"
     ]
    }
   ],
   "source": [
    "repartidor = generarRepartidor(generarListaPaquetes())\n",
    "print(\"repartidor = {}\".format(repartidor))\n",
    "\n",
    "lista_paquetes = repartidor['carga']\n",
    "print(lista_paquetes[0])\n",
    "\n",
    "prioridad = calcular_probabilidad_entrega(lista_paquetes[0], lista_paquetes)\n",
    "print(\"prioridad = {}\".format(prioridad))\n",
    "\n",
    "individuo = convertir_a_individuo(repartidor)  # Convertimos la carga en un individuo\n",
    "print(individuo)\n",
    "\n",
    "fitness_valor = calcular_fitness(individuo)\n",
    "print(\"Valor de fitness del individuo:\", fitness_valor)\n",
    "\n",
    "#piscina = crear_genetic_pool(10, repartidor, grafo)\n",
    "poblacion = crear_poblacion_inicial(repartidor, grafo, 5)\n",
    "print(\"--------\")\n",
    "print(\"Población = {}\".format(poblacion))\n",
    "\n",
    "selectos = seleccionar(poblacion)\n",
    "print(\"Selectos = {}\".format(selectos))\n",
    "\n",
    "poblacion_nueva = generar_nueva_poblacion(poblacion, grafo, 5)\n",
    "print(\"--------\")\n",
    "print(\"Población nueva = {}\".format(poblacion_nueva))\n"
   ]
  }
 ],
 "metadata": {
  "colab": {
   "provenance": []
  },
  "kernelspec": {
   "display_name": "Python 3",
   "name": "python3"
  },
  "language_info": {
   "codemirror_mode": {
    "name": "ipython",
    "version": 3
   },
   "file_extension": ".py",
   "mimetype": "text/x-python",
   "name": "python",
   "nbconvert_exporter": "python",
   "pygments_lexer": "ipython3",
   "version": "3.12.1"
  }
 },
 "nbformat": 4,
 "nbformat_minor": 0
}
