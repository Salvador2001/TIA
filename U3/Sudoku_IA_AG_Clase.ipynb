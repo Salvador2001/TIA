{
  "nbformat": 4,
  "nbformat_minor": 0,
  "metadata": {
    "colab": {
      "provenance": []
    },
    "kernelspec": {
      "name": "python3",
      "display_name": "Python 3"
    },
    "language_info": {
      "name": "python"
    }
  },
  "cells": [
    {
      "cell_type": "code",
      "execution_count": null,
      "metadata": {
        "id": "HH3NCXuVTIBy"
      },
      "outputs": [],
      "source": [
        "tablero = [[0,2,3,0],[3,4,1,0],[2,0,0,3],[0,0,2,0]]\n",
        "tab = [[9,3,4,2,1,8,6,7,5],[1,7,2,5,6,9,4,8,3],[5,8,6,3,7,4,2,9,1],[3,2,8,9,4,5,7,1,6],[6,9,5,7,3,1,8,4,2],[4,1,7,8,2,6,3,5,9],[8,4,1,6,9,2,5,3,7],[2,5,3,1,8,7,9,6,4],[7,6,9,4,5,3,1,2,8]]"
      ]
    },
    {
      "cell_type": "code",
      "source": [
        "import math\n",
        "def imprime_tablero(tablero):\n",
        "  n = int(math.sqrt(len(tablero)))\n",
        "  tam = len(tablero)\n",
        "  for i in range(tam):\n",
        "    print('|', end='')\n",
        "    for j in range(tam):\n",
        "      if tablero[i][j] == 0:\n",
        "        print(\" \", end='')\n",
        "      else:\n",
        "        print(tablero[i][j], end='')\n",
        "      if (j+1) % n == 0:\n",
        "        print(\"|\", end='')\n",
        "    print()\n",
        "    if (i+1) %n == 0:\n",
        "      print('-'*tam*2)"
      ],
      "metadata": {
        "id": "EwsXbvDsVdfl"
      },
      "execution_count": null,
      "outputs": []
    },
    {
      "cell_type": "code",
      "source": [
        "imprime_tablero(tablero)"
      ],
      "metadata": {
        "colab": {
          "base_uri": "https://localhost:8080/"
        },
        "id": "rwGokj2BV9AL",
        "outputId": "d3b1a16f-9a33-4569-cb72-d694c993bf6a"
      },
      "execution_count": null,
      "outputs": [
        {
          "output_type": "stream",
          "name": "stdout",
          "text": [
            "| 2|3 |\n",
            "|34|1 |\n",
            "--------\n",
            "|2 | 3|\n",
            "|  |2 |\n",
            "--------\n"
          ]
        }
      ]
    },
    {
      "cell_type": "code",
      "source": [
        "def get_posiciones_de_cambio(tablero):\n",
        "  pos_cambio = []\n",
        "  for i in range(len(tablero)):\n",
        "    for j in range(len(tablero)):\n",
        "      if tablero[i][j] == 0:\n",
        "        pos_cambio.append((i,j))\n",
        "  return pos_cambio"
      ],
      "metadata": {
        "id": "g9b5mzKdV_4-"
      },
      "execution_count": null,
      "outputs": []
    },
    {
      "cell_type": "code",
      "source": [
        "get_posiciones_de_cambio(tablero)"
      ],
      "metadata": {
        "colab": {
          "base_uri": "https://localhost:8080/"
        },
        "id": "ZJYS0aEEW6Nx",
        "outputId": "c89c8cb3-7a6e-43cd-afdd-c6a764c2e96b"
      },
      "execution_count": null,
      "outputs": [
        {
          "output_type": "execute_result",
          "data": {
            "text/plain": [
              "[(0, 0), (0, 3), (1, 3), (2, 1), (2, 2), (3, 0), (3, 1), (3, 3)]"
            ]
          },
          "metadata": {},
          "execution_count": 6
        }
      ]
    },
    {
      "cell_type": "code",
      "source": [
        "import copy\n",
        "def genera_soluciones(tablero, pos_cambio):\n",
        "  posibilidades = []\n",
        "  for cambio in pos_cambio:\n",
        "    #Tomar las posiciones\n",
        "    i, j = cambio[0], cambio[1]\n",
        "    if tablero[i][j] < len(tablero):\n",
        "      nuevo_tablero = copy.deepcopy(tablero)\n",
        "      nuevo_tablero[i][j] += 1\n",
        "      posibilidades.append(nuevo_tablero)\n",
        "  return posibilidades"
      ],
      "metadata": {
        "id": "ruqqM_jBW8Yr"
      },
      "execution_count": null,
      "outputs": []
    },
    {
      "cell_type": "code",
      "source": [
        "posiciones = get_posiciones_de_cambio(tablero)\n",
        "genera_soluciones(tablero, posiciones)"
      ],
      "metadata": {
        "colab": {
          "base_uri": "https://localhost:8080/"
        },
        "id": "hRLV-pkjXxQJ",
        "outputId": "7300c668-c0b8-4e24-d186-505c71183a22"
      },
      "execution_count": null,
      "outputs": [
        {
          "output_type": "execute_result",
          "data": {
            "text/plain": [
              "[[[1, 2, 3, 0], [3, 4, 1, 0], [2, 0, 0, 3], [0, 0, 2, 0]],\n",
              " [[0, 2, 3, 1], [3, 4, 1, 0], [2, 0, 0, 3], [0, 0, 2, 0]],\n",
              " [[0, 2, 3, 0], [3, 4, 1, 1], [2, 0, 0, 3], [0, 0, 2, 0]],\n",
              " [[0, 2, 3, 0], [3, 4, 1, 0], [2, 1, 0, 3], [0, 0, 2, 0]],\n",
              " [[0, 2, 3, 0], [3, 4, 1, 0], [2, 0, 1, 3], [0, 0, 2, 0]],\n",
              " [[0, 2, 3, 0], [3, 4, 1, 0], [2, 0, 0, 3], [1, 0, 2, 0]],\n",
              " [[0, 2, 3, 0], [3, 4, 1, 0], [2, 0, 0, 3], [0, 1, 2, 0]],\n",
              " [[0, 2, 3, 0], [3, 4, 1, 0], [2, 0, 0, 3], [0, 0, 2, 1]]]"
            ]
          },
          "metadata": {},
          "execution_count": 8
        }
      ]
    },
    {
      "cell_type": "code",
      "source": [
        "def colisiones_lista(tablero):\n",
        "  colisiones = 0\n",
        "  for l in tablero:\n",
        "    colisiones += sum(l.count(e) for e in l) - len(l)\n",
        "  return colisiones"
      ],
      "metadata": {
        "id": "6NsN7XahX4Jk"
      },
      "execution_count": null,
      "outputs": []
    },
    {
      "cell_type": "code",
      "source": [
        "colisiones_lista(tablero)"
      ],
      "metadata": {
        "colab": {
          "base_uri": "https://localhost:8080/"
        },
        "id": "cU7SS6bSYsRT",
        "outputId": "9c682407-75dc-4dc4-c7a1-cff243c9a44d"
      },
      "execution_count": null,
      "outputs": [
        {
          "output_type": "execute_result",
          "data": {
            "text/plain": [
              "10"
            ]
          },
          "metadata": {},
          "execution_count": 10
        }
      ]
    },
    {
      "cell_type": "code",
      "source": [
        "import numpy as np\n",
        "def genera_celdas(tablero):\n",
        "  n = int(math.sqrt(len(tablero)))\n",
        "  tab = np.array(tablero)\n",
        "  res = []\n",
        "  for i in range(n):\n",
        "    cuadros = tab[(i*n) : (i*n)+n]\n",
        "    for j in range(n):\n",
        "      cuadro = cuadros[:, (j*n) : (j*n) + n]\n",
        "      cuadro = cuadro.flatten()\n",
        "      res.append(cuadro.tolist())\n",
        "  return res"
      ],
      "metadata": {
        "id": "X47arjviZlE7"
      },
      "execution_count": null,
      "outputs": []
    },
    {
      "cell_type": "code",
      "source": [
        "print(tablero)\n",
        "genera_celdas(tablero)"
      ],
      "metadata": {
        "colab": {
          "base_uri": "https://localhost:8080/"
        },
        "id": "T6yCm70Kaio7",
        "outputId": "2d9b5b52-549d-453e-f8cc-2fe0a4c05171"
      },
      "execution_count": null,
      "outputs": [
        {
          "output_type": "stream",
          "name": "stdout",
          "text": [
            "[[0, 2, 3, 0], [3, 4, 1, 0], [2, 0, 0, 3], [0, 0, 2, 0]]\n"
          ]
        },
        {
          "output_type": "execute_result",
          "data": {
            "text/plain": [
              "[[0, 2, 3, 4], [3, 0, 1, 0], [2, 0, 0, 0], [0, 3, 2, 0]]"
            ]
          },
          "metadata": {},
          "execution_count": 12
        }
      ]
    },
    {
      "cell_type": "code",
      "source": [
        "def checar_colisiones(tablero):\n",
        "  colisiones = 0\n",
        "  #Colisiones horizontales\n",
        "  colisiones += colisiones_lista(tablero)\n",
        "  #Colisiones verticales\n",
        "  aux = np.array(tablero).transpose().tolist()\n",
        "  colisiones += colisiones_lista(aux)\n",
        "  #Colisiones en celdas\n",
        "  aux2 = genera_celdas(tablero)\n",
        "  colisiones += colisiones_lista(aux2)\n",
        "  return colisiones"
      ],
      "metadata": {
        "id": "YF8Bep__YrPb"
      },
      "execution_count": null,
      "outputs": []
    },
    {
      "cell_type": "code",
      "source": [
        "checar_colisiones([[4,1,3,2],[2,3,4,1],[3,2,1,4],[1,4,2,3]])"
      ],
      "metadata": {
        "colab": {
          "base_uri": "https://localhost:8080/"
        },
        "id": "lfudFOeEZK0L",
        "outputId": "477b5a89-b83e-42f1-877a-2aec8ec2bfab"
      },
      "execution_count": null,
      "outputs": [
        {
          "output_type": "execute_result",
          "data": {
            "text/plain": [
              "0"
            ]
          },
          "metadata": {},
          "execution_count": 14
        }
      ]
    },
    {
      "cell_type": "code",
      "source": [
        "def checar_ceros(tablero):\n",
        "  ceros = 0\n",
        "  for l in tablero:\n",
        "    ceros += l.count(0)\n",
        "  return ceros"
      ],
      "metadata": {
        "id": "mXlukHF5bSLU"
      },
      "execution_count": null,
      "outputs": []
    },
    {
      "cell_type": "code",
      "source": [
        "checar_ceros(tablero)"
      ],
      "metadata": {
        "colab": {
          "base_uri": "https://localhost:8080/"
        },
        "id": "q8yoSeb4bakb",
        "outputId": "50ce77b7-a3e5-4d3f-f369-53e4e56ad38b"
      },
      "execution_count": null,
      "outputs": [
        {
          "output_type": "execute_result",
          "data": {
            "text/plain": [
              "8"
            ]
          },
          "metadata": {},
          "execution_count": 16
        }
      ]
    },
    {
      "cell_type": "code",
      "source": [
        "def goal_test(tablero):\n",
        "  if checar_colisiones(tablero) == 0 and checar_ceros(tablero) == 0:\n",
        "    return True\n",
        "  return False"
      ],
      "metadata": {
        "id": "qseLwGeeZQIB"
      },
      "execution_count": null,
      "outputs": []
    },
    {
      "cell_type": "code",
      "source": [
        "goal_test([[4,1,3,2],[2,3,4,1],[3,2,1,4],[1,4,2,3]])"
      ],
      "metadata": {
        "colab": {
          "base_uri": "https://localhost:8080/"
        },
        "id": "Lwt9K898bipf",
        "outputId": "e063729c-6786-4cc0-f883-185f30a26d9d"
      },
      "execution_count": null,
      "outputs": [
        {
          "output_type": "execute_result",
          "data": {
            "text/plain": [
              "True"
            ]
          },
          "metadata": {},
          "execution_count": 18
        }
      ]
    },
    {
      "cell_type": "code",
      "source": [
        "#Para crear el fenotipo a partir del genotipo, es necesario transformar la representación del AG a la\n",
        "# estructura de una solución o un tablero\n",
        "def individuo_to_solucion(tablero, individuo, posiciones):\n",
        "  #Se genera una copia completa del tablero\n",
        "  tab_aux = copy.deepcopy(tablero)\n",
        "  for i in range(len(posiciones)):\n",
        "    x, y = posiciones[i][0], posiciones[i][1]\n",
        "    tab_aux[x][y] = individuo[i]\n",
        "  return tab_aux"
      ],
      "metadata": {
        "id": "R0bBzWrACsIJ"
      },
      "execution_count": null,
      "outputs": []
    },
    {
      "cell_type": "code",
      "source": [
        "tablero = [[0,2,4,0],[4,3,0,0],[3,4,1,2],[2,0,3,4]]\n",
        "n = len(tablero)\n",
        "pos = get_posiciones_de_cambio(tablero)\n",
        "print(pos)\n",
        "gp = [i+1 for i in range(n)]\n",
        "#Para generar un individuo, se necesita crear una lista con valores aleatorios del tamaño de las posiciones que se pueden cambiar\n",
        "#Por ejemplo, si se cambian solo 5 posiciones del sudoku, un individuo (genotipo) tiene un máximo de 5 elementos\n",
        "#Pues es una representación para que el algoritmo genético lo entienda\n",
        "individuo = list(np.random.choice(gp, len(pos)))\n",
        "print(individuo)\n",
        "#sol_individuo = individuo_to_solucion(tablero, individuo, posiciones)\n",
        "print(\"Tablero original\")\n",
        "imprime_tablero(tablero)\n",
        "print(\"Tablero alterado\")\n",
        "#imprime_tablero(sol_individuo)\n",
        "\n",
        "#Generar un conjunto de individuos que serán la población inicial para resolver el problema con el\n",
        "# proceso de un AG\n",
        "def generar_poblacion(tam_poblacion, genetic_pool, posiciones):\n",
        "  poblacion = []\n",
        "  for i in range(tam_poblacion):\n",
        "    individuo = list(np.random.choice(genetic_pool, len(posiciones)))\n",
        "    poblacion.append(individuo)\n",
        "  return poblacion"
      ],
      "metadata": {
        "colab": {
          "base_uri": "https://localhost:8080/"
        },
        "id": "FjwVS8bdBWWF",
        "outputId": "91f4a679-b05f-4751-c9cb-ace49b85e606"
      },
      "execution_count": null,
      "outputs": [
        {
          "output_type": "stream",
          "name": "stdout",
          "text": [
            "[(0, 0), (0, 3), (1, 2), (1, 3), (3, 1)]\n",
            "[3, 4, 3, 3, 3]\n",
            "Tablero original\n",
            "| 2|4 |\n",
            "|43|  |\n",
            "--------\n",
            "|34|12|\n",
            "|2 |34|\n",
            "--------\n",
            "Tablero alterado\n"
          ]
        }
      ]
    },
    {
      "cell_type": "code",
      "source": [
        "def encontro_solucion(poblacion, tablero, posiciones):\n",
        "  for indviduo in poblacion:\n",
        "    tab = individuo_to_solucion(tablero, individuo, posiciones)\n",
        "    if checar_colisiones(tab) == 0:\n",
        "      return individuo\n",
        "  return None"
      ],
      "metadata": {
        "id": "F-nMzNf-GGmb"
      },
      "execution_count": null,
      "outputs": []
    },
    {
      "cell_type": "code",
      "source": [
        "#Función que realiza un proceso de evaluación a cada uno de los individuos de una población\n",
        "#En el caso de sudoku, se verifica las colisiones de cada individuo\n",
        "def evaluacion_fitness(poblacion, tablero, posiciones, minimize= False):\n",
        "  fitness_list = []\n",
        "  for individuo in poblacion:\n",
        "    tab = individuo_to_solucion(tablero, individuo, posiciones)\n",
        "    colisiones = checar_colisiones(tab)\n",
        "    fitness_list.append(colisiones)\n",
        "  #En este punto se genera una lista donde cada elemento de ella, representa la cantidad de colisiones de cada solución\n",
        "  print(fitness_list)\n",
        "  print(sum(fitness_list))\n",
        "  #El siguiente paso es generar un vector de probabilidades a partir de las colisiones para seleccionar los mejores\n",
        "  #Se utiliza una estructura numpy para mejor procesamiento\n",
        "  fitness_list = np.array(fitness_list)\n",
        "  #El vector de probabilidad tiene que tener un valor entre 0 y 1 (Valor / total de la suma)\n",
        "  fitness_list = fitness_list / fitness_list.sum()\n",
        "  if minimize:\n",
        "    #Dividir 1 sobre cada valor\n",
        "    inverse = [1/x for x in fitness_list]\n",
        "    #Dividir cada valor sobre el total\n",
        "    inverse = [x / sum(inverse) for x in inverse]\n",
        "    fitness_list = inverse\n",
        "  return fitness_list"
      ],
      "metadata": {
        "id": "1aEK0DcnHFm1"
      },
      "execution_count": null,
      "outputs": []
    },
    {
      "cell_type": "code",
      "source": [
        "#Función capaz de generar una nueva población de individuos a partir de los mejores individuos\n",
        "# de la anterior generación\n",
        "def nueva_generacion(poblacion, fitness, posiciones):\n",
        "  tam_poblacion = len(poblacion)\n",
        "  hijos = []\n",
        "  for i in range(tam_poblacion // 2):\n",
        "    #Tomar de manera aleatoria 2 padres, dada por un vector de probabilidad\n",
        "    #Me da una lista con n numeros aleatorios entre un rango especifico dado un vector de probabilidad\n",
        "    padres = np.random.choice(tam_poblacion, 2, p= fitness)\n",
        "    #print(padres)\n",
        "    punto_cruza = np.random.randint(len(posiciones))\n",
        "    hijos += [poblacion[padres[0]][:punto_cruza] + poblacion[padres[1]][punto_cruza:]]\n",
        "    hijos += [poblacion[padres[1]][:punto_cruza] + poblacion[padres[0]][punto_cruza:]]\n",
        "  return hijos"
      ],
      "metadata": {
        "id": "p07EiMSIdiKO"
      },
      "execution_count": null,
      "outputs": []
    },
    {
      "cell_type": "code",
      "source": [
        "#Función que permite la mutación, que son pequeñas alteraciones\n",
        "# en las características de los individuos\n",
        "def mutar(individuos, prob, genetic_pool):\n",
        "  individuos_mutados = []\n",
        "  for i in range(len(individuos)):\n",
        "    indv_mutado = individuos[i]\n",
        "    for j in range(len(indv_mutado)):\n",
        "      if np.random.random() < prob:\n",
        "        mutacion = np.random.choice(genetic_pool)\n",
        "        indv_mutado[j] = mutacion\n",
        "    individuos_mutados.append(indv_mutado)\n",
        "  return individuos_mutados"
      ],
      "metadata": {
        "id": "oB5NhdU8iE4W"
      },
      "execution_count": null,
      "outputs": []
    },
    {
      "cell_type": "code",
      "source": [
        "def encontro_solucion(poblacion, tablero, posiciones):\n",
        "  for p in poblacion:\n",
        "    tab = individuo_to_solucion(tablero, p, posiciones)\n",
        "    if checar_colisiones(tab) == 0:\n",
        "      return p\n",
        "  return None"
      ],
      "metadata": {
        "id": "B_WAzzaJm5l5"
      },
      "execution_count": null,
      "outputs": []
    },
    {
      "cell_type": "code",
      "source": [
        "def resuelve_sudoku_ga(generaciones, prob_mutacion, tablero, poblacion_org, posiciones, genetic_pool):\n",
        "  tam_poblacion = len(posiciones)\n",
        "  poblacion = poblacion_org[:]\n",
        "  for _ in range(generaciones):\n",
        "    res = encontro_solucion(poblacion, tablero, posiciones)\n",
        "    if res != None:\n",
        "      print(\"Se encontro la solución: \", res)\n",
        "      return res\n",
        "    fitness_list = evaluacion_fitness(poblacion, tablero, posiciones, minimize= True)\n",
        "    hijos = nueva_generacion(poblacion, fitness_list, posiciones)\n",
        "    hijos_mutados = mutar(hijos, prob_mutacion, genetic_pool)\n",
        "    poblacion = hijos_mutados\n",
        "  return poblacion"
      ],
      "metadata": {
        "id": "_1iqnMEQlFj0"
      },
      "execution_count": null,
      "outputs": []
    },
    {
      "cell_type": "code",
      "source": [
        "def juega_sudoku_ga(tablero, generaciones, tam_poblacion, prob_mutacion):\n",
        "  n = len(tablero)\n",
        "  posiciones = get_posiciones_de_cambio(tablero)\n",
        "  genetic_pool = [i+1 for i in range(n)]\n",
        "  poblacion = generar_poblacion(tam_poblacion, genetic_pool, posiciones)\n",
        "  res = resuelve_sudoku_ga(generaciones, prob_mutacion, tablero, poblacion, posiciones, genetic_pool)\n",
        "  return res"
      ],
      "metadata": {
        "id": "R_yef1v0kl0-"
      },
      "execution_count": null,
      "outputs": []
    },
    {
      "cell_type": "code",
      "source": [
        "tablero = [[0,2,4,0],[4,3,0,0],[3,4,1,2],[2,0,3,4]]\n",
        "res = juega_sudoku_ga(tablero, 1000, 40, 0.005)"
      ],
      "metadata": {
        "colab": {
          "base_uri": "https://localhost:8080/"
        },
        "id": "OpZMfmAhmL_e",
        "outputId": "4baae30c-a5e4-405a-93d9-4b4ee30bfd38"
      },
      "execution_count": null,
      "outputs": [
        {
          "output_type": "stream",
          "name": "stdout",
          "text": [
            "[12, 28, 14, 22, 22, 18, 30, 18, 22, 8, 16, 22, 12, 26, 28, 16, 26, 16, 20, 16, 22, 8, 6, 16, 18, 12, 20, 30, 20, 26, 24, 16, 16, 14, 20, 16, 18, 12, 14, 18]\n",
            "738\n",
            "[26, 16, 26, 16, 14, 8, 16, 20, 24, 8, 28, 28, 20, 16, 8, 16, 16, 22, 8, 6, 12, 14, 8, 14, 6, 12, 22, 14, 14, 20, 16, 26, 20, 12, 20, 12, 16, 18, 14, 22]\n",
            "654\n",
            "Se encontro la solución:  [1, 3, 2, 1, 1]\n"
          ]
        }
      ]
    },
    {
      "cell_type": "code",
      "source": [
        "tablero = [[0,2,4,0],[4,3,0,0],[3,4,1,2],[2,0,3,4]]\n",
        "#meta = [[1, 2, 4, 3], [4, 3, 2, 1], [3, 4, 1, 2], [2, 1, 3, 4]]\n",
        "imprime_tablero(tablero)\n",
        "n = len(tablero)\n",
        "posiciones = get_posiciones_de_cambio(tablero)\n",
        "print(n)\n",
        "print(posiciones)\n",
        "#Piscina genética, son los posibles valores que puede adquirir una solución para\n",
        "# el tablero de sudoku, en este caso solo puede tomar un máximo del 1-4 (para tableros de 4x4)\n",
        "genetic_pool = [i+1 for i in range(n)]\n",
        "print(genetic_pool)\n",
        "poblacion = generar_poblacion(20, genetic_pool, posiciones)\n",
        "print(poblacion[:10])\n",
        "res = encontro_solucion(poblacion, tablero, posiciones)\n",
        "if res != None:\n",
        "  print(\"Se encontro una solución\")\n",
        "fitness_list = evaluacion_fitness(poblacion, tablero, posiciones)\n",
        "print(fitness_list[:10])\n",
        "fitness_list = evaluacion_fitness(poblacion, tablero, posiciones, minimize= True)\n",
        "print(fitness_list[:10])\n",
        "hijos = nueva_generacion(poblacion, fitness_list, posiciones)\n",
        "print(hijos[:10])\n",
        "fitness_hijos = evaluacion_fitness(hijos, tablero, posiciones, minimize= True)\n",
        "print(fitness_hijos[:10])\n",
        "hijos = mutar(hijos, 0.5, genetic_pool)\n",
        "print(hijos[:10])\n",
        "fitness_hijos = evaluacion_fitness(hijos, tablero, posiciones, minimize= True)\n",
        "print(fitness_hijos[:10])"
      ],
      "metadata": {
        "id": "fYNwBPkedAQ6",
        "colab": {
          "base_uri": "https://localhost:8080/"
        },
        "outputId": "72f032c1-b322-473c-b8d9-52eb2837e5f6"
      },
      "execution_count": null,
      "outputs": [
        {
          "output_type": "stream",
          "name": "stdout",
          "text": [
            "| 2|4 |\n",
            "|43|  |\n",
            "--------\n",
            "|34|12|\n",
            "|2 |34|\n",
            "--------\n",
            "4\n",
            "[(0, 0), (0, 3), (1, 2), (1, 3), (3, 1)]\n",
            "[1, 2, 3, 4]\n",
            "[[3, 1, 1, 1, 3], [3, 4, 1, 3, 3], [4, 4, 1, 3, 1], [1, 1, 3, 2, 3], [1, 4, 2, 3, 4], [1, 2, 2, 2, 4], [2, 3, 3, 1, 1], [4, 3, 3, 3, 3], [4, 1, 2, 3, 2], [2, 1, 1, 4, 1]]\n",
            "[22, 20, 18, 14, 14, 22, 12, 28, 14, 16, 26, 26, 14, 18, 28, 22, 16, 24, 20, 22]\n",
            "396\n",
            "[0.05555556 0.05050505 0.04545455 0.03535354 0.03535354 0.05555556\n",
            " 0.03030303 0.07070707 0.03535354 0.04040404]\n",
            "[22, 20, 18, 14, 14, 22, 12, 28, 14, 16, 26, 26, 14, 18, 28, 22, 16, 24, 20, 22]\n",
            "396\n",
            "[0.042204964623066894, 0.046425461085373584, 0.051583845650415086, 0.0663220872648194, 0.0663220872648194, 0.042204964623066894, 0.07737576847562264, 0.0331610436324097, 0.0663220872648194, 0.05803182635671697]\n",
            "[[3, 4, 1, 3, 3], [3, 4, 2, 2, 4], [1, 1, 3, 4, 3], [1, 2, 4, 2, 3], [2, 3, 3, 4, 3], [1, 2, 4, 1, 1], [4, 1, 2, 3, 3], [3, 1, 1, 1, 2], [4, 1, 2, 3, 4], [1, 4, 2, 3, 2]]\n",
            "[20, 22, 18, 22, 24, 10, 14, 22, 14, 14, 16, 18, 16, 20, 22, 12, 14, 22, 28, 22]\n",
            "370\n",
            "[0.043280039970022485, 0.03934549088183862, 0.048088933300024984, 0.03934549088183862, 0.03606669997501874, 0.08656007994004497, 0.061828628528603546, 0.03934549088183862, 0.061828628528603546, 0.061828628528603546]\n",
            "[[2, 3, 1, 3, 3], [3, 4, 1, 2, 4], [1, 1, 3, 2, 3], [1, 2, 4, 1, 3], [2, 4, 2, 4, 3], [4, 3, 4, 4, 1], [4, 1, 2, 3, 3], [4, 1, 1, 3, 4], [4, 4, 2, 2, 4], [1, 4, 4, 3, 3]]\n",
            "[20, 20, 14, 16, 28, 22, 14, 18, 26, 22, 22, 16, 14, 30, 28, 14, 16, 18, 18, 18]\n",
            "394\n",
            "[0.046510607376698994, 0.046510607376698994, 0.06644372482385572, 0.058138259220873754, 0.03322186241192786, 0.042282370342453635, 0.06644372482385572, 0.05167845264077667, 0.03577739028976846, 0.042282370342453635]\n"
          ]
        }
      ]
    },
    {
      "cell_type": "markdown",
      "source": [
        "## Algoritmo PSO\n"
      ],
      "metadata": {
        "id": "iwL-_VFMD2pV"
      }
    },
    {
      "cell_type": "code",
      "source": [
        "#Evalua una particula y retorna un valor\n",
        "def funcion_objetivo(particula, tablero, posiciones):\n",
        "  tab = individuo_to_solucion(tablero, particula, posiciones)\n",
        "  return checar_colisiones(tab)\n",
        "\n",
        "def obtener_mejor_global(enjambre, tablero, posiciones, mejor_global, mejor_valor):\n",
        "  mejor = mejor_global\n",
        "  mejor_val = mejor_valor\n",
        "  for particula in enjambre:\n",
        "    valor = funcion_objetivo(particula, tablero, posiciones)\n",
        "    #Minimizar\n",
        "    if valor < mejor_val:\n",
        "       mejor = particula\n",
        "       mejor_val = valor\n",
        "  return mejor, mejor_val\n",
        "\n",
        "#Función traduce un conjunto de valores decimales de un vector a los enteros más cercanos de otro vector\n",
        "def mas_cercano(particula, limites):\n",
        "  valores_cercanos = []\n",
        "  for p in particula:\n",
        "    valor_cercano = min(limites, key= lambda x: abs(x-p))\n",
        "    valores_cercanos.append(valor_cercano)\n",
        "  return valores_cercanos"
      ],
      "metadata": {
        "id": "4IExCm9MHX-3"
      },
      "execution_count": null,
      "outputs": []
    },
    {
      "cell_type": "code",
      "source": [
        "tablero = [[0,2,4,0],[4,3,0,0],[3,4,1,2],[2,0,3,4]]\n",
        "n = len(tablero)\n",
        "num_particulas = 30\n",
        "iteraciones = 100\n",
        "limit_pool = [i+1 for i in range(n)]\n",
        "limites = (1, 4)\n",
        "posiciones = get_posiciones_de_cambio(tablero)\n",
        "dimensiones = len(posiciones)\n",
        "\n",
        "w = 0.5 #Inercia\n",
        "c1 = 1.5 #Coeficiente cognitivo\n",
        "c2 = 1.5 #Coeficiente social\n",
        "\n",
        "#Generación del enjambre de particulas\n",
        "enjambre = np.array(generar_poblacion(num_particulas, limit_pool, posiciones)).astype('float64')\n",
        "#Inicializar el vector de velocidades por cada particula\n",
        "velocidades = np.random.uniform(-1, 1, (num_particulas, dimensiones))\n",
        "\n",
        "print(enjambre[:10])\n",
        "print(velocidades[:10])\n",
        "\n",
        "mejores_posiciones_individuales = np.array(copy.deepcopy(enjambre)).astype('float64')\n",
        "mejor_val = 10000\n",
        "#Individuo de puros 0\n",
        "mejor_global = [0] * len(posiciones)\n",
        "\n",
        "print(mejores_posiciones_individuales[:10])\n",
        "print(mejor_val)\n",
        "print(mejor_global)\n",
        "\n",
        "mejor_global, mejor_valor = obtener_mejor_global(enjambre, tablero, posiciones, mejor_global, mejor_val)\n",
        "\n",
        "print(mejor_valor)\n",
        "print(mejor_global)\n",
        "\n",
        "for iteracion in range(iteraciones):\n",
        "  for i in range(num_particulas):\n",
        "    #Actualizar velocidades\n",
        "    r1 = np.random.random(dimensiones)\n",
        "    r2 = np.random.random(dimensiones)\n",
        "    velocidades[i] = (w * velocidades[i] +\n",
        "                       r1 * c1 * (mejores_posiciones_individuales[i] - enjambre[i]) +\n",
        "                       r2 * c2 * (mejor_global - enjambre[i]))\n",
        "\n",
        "    #Actualizar posición\n",
        "    enjambre[i] = enjambre[i] + velocidades[i]\n",
        "\n",
        "    #Aplicar los límites de búsqueda\n",
        "    enjambre[i] = np.clip(enjambre[i], limites[0], limites[1])\n",
        "\n",
        "    particula_entero = mas_cercano(enjambre[i], limit_pool)\n",
        "    valor = funcion_objetivo(particula_entero, tablero, posiciones)\n",
        "\n",
        "    mejor_posicion_entero = mas_cercano(mejores_posiciones_individuales[i], limit_pool)\n",
        "    if valor < funcion_objetivo(mejor_posicion_entero, tablero, posiciones):\n",
        "      mejores_posiciones_individuales[i] = enjambre[i]\n",
        "\n",
        "    #Actulizar la mejor posición global\n",
        "    if valor < mejor_valor:\n",
        "      mejor_valor = valor\n",
        "      mejor_global = np.copy(enjambre[i])\n",
        "  #Evaluar las nuevas posiciones\n",
        "  #enjambre_entero = np.array([mas_cercano(particula, limit_pool) for particula in enjambre])\n",
        "  #mejor_global, mejor_val = obtener_mejor_global(enjambre, tablero, posiciones, mejor_global, mejor_val)\n",
        "  print(\"Iteración {}\".format(iteracion))\n",
        "  print(mejor_valor)\n",
        "  print(mejor_global)\n",
        "\n",
        "print(\"Finaliza la simulación\")\n",
        "mejor_entero = mas_cercano(mejor_global, limit_pool)\n",
        "print(\"El mejor global es: {}\".format(mejor_entero))\n",
        "print(\"La cantidad de colisiones de ese tablero es: {}\".format(mejor_valor))\n",
        "\n",
        "tab = individuo_to_solucion(tablero, list(mejor_entero), posiciones)\n",
        "imprime_tablero(tab)"
      ],
      "metadata": {
        "id": "-OGmb-vS_mHl",
        "colab": {
          "base_uri": "https://localhost:8080/"
        },
        "outputId": "2fb66d68-b5c3-49db-b1c1-c2e9747784ea"
      },
      "execution_count": null,
      "outputs": [
        {
          "output_type": "stream",
          "name": "stdout",
          "text": [
            "[[4. 4. 3. 3. 1. 3. 4.]\n",
            " [1. 4. 4. 2. 1. 2. 2.]\n",
            " [3. 2. 2. 3. 1. 4. 1.]\n",
            " [3. 4. 3. 3. 4. 1. 2.]\n",
            " [4. 3. 1. 1. 4. 3. 1.]\n",
            " [1. 4. 4. 2. 4. 1. 1.]\n",
            " [1. 4. 1. 4. 2. 4. 2.]\n",
            " [4. 3. 3. 1. 3. 3. 2.]\n",
            " [1. 3. 4. 2. 4. 2. 4.]\n",
            " [4. 4. 1. 1. 3. 4. 3.]]\n",
            "[[ 0.75262889 -0.90876231  0.83832188 -0.39762495  0.18707373  0.63049075\n",
            "   0.28782427]\n",
            " [ 0.49634751  0.34909729 -0.55891582  0.03666075  0.53302968 -0.72893987\n",
            "   0.20393311]\n",
            " [ 0.19800863 -0.03401284 -0.77876233  0.79349881 -0.19465004  0.98782869\n",
            "   0.20464531]\n",
            " [-0.18029532  0.82331418 -0.35819428  0.21000462  0.88314668  0.74148775\n",
            "  -0.90046566]\n",
            " [ 0.01871083 -0.92088895 -0.42635398  0.1289654   0.08047485  0.94114675\n",
            "  -0.7671839 ]\n",
            " [ 0.1873533   0.0731351  -0.56128638 -0.89295393  0.14614323 -0.58576828\n",
            "  -0.08278216]\n",
            " [ 0.84772844 -0.02809092  0.99356871  0.7075387   0.11641255 -0.87218593\n",
            "  -0.98077644]\n",
            " [ 0.94535134 -0.02425558  0.65454627 -0.97510341 -0.19387379 -0.30132934\n",
            "  -0.09337932]\n",
            " [ 0.15536121  0.13294209 -0.23393783 -0.56819586 -0.52659752 -0.78650096\n",
            "   0.77104251]\n",
            " [-0.40610109  0.68992473  0.28194557  0.82201337  0.45593345  0.43414568\n",
            "   0.88479186]]\n",
            "[[4. 4. 3. 3. 1. 3. 4.]\n",
            " [1. 4. 4. 2. 1. 2. 2.]\n",
            " [3. 2. 2. 3. 1. 4. 1.]\n",
            " [3. 4. 3. 3. 4. 1. 2.]\n",
            " [4. 3. 1. 1. 4. 3. 1.]\n",
            " [1. 4. 4. 2. 4. 1. 1.]\n",
            " [1. 4. 1. 4. 2. 4. 2.]\n",
            " [4. 3. 3. 1. 3. 3. 2.]\n",
            " [1. 3. 4. 2. 4. 2. 4.]\n",
            " [4. 4. 1. 1. 3. 4. 3.]]\n",
            "10000\n",
            "[0, 0, 0, 0, 0, 0, 0]\n",
            "12\n",
            "[1. 3. 2. 1. 2. 2. 4.]\n",
            "Iteración 0\n",
            "6\n",
            "[1.09367665 2.68251518 2.11216974 1.15885251 1.41724317 1.40301196\n",
            " 1.42929211]\n",
            "Iteración 1\n",
            "4\n",
            "[1.         2.62152475 1.57805844 1.041361   1.         1.\n",
            " 1.70958252]\n",
            "Iteración 2\n",
            "4\n",
            "[1.         2.62152475 1.57805844 1.041361   1.         1.\n",
            " 1.70958252]\n",
            "Iteración 3\n",
            "4\n",
            "[1.         2.62152475 1.57805844 1.041361   1.         1.\n",
            " 1.70958252]\n",
            "Iteración 4\n",
            "4\n",
            "[1.         2.62152475 1.57805844 1.041361   1.         1.\n",
            " 1.70958252]\n",
            "Iteración 5\n",
            "4\n",
            "[1.         2.62152475 1.57805844 1.041361   1.         1.\n",
            " 1.70958252]\n",
            "Iteración 6\n",
            "4\n",
            "[1.         2.62152475 1.57805844 1.041361   1.         1.\n",
            " 1.70958252]\n",
            "Iteración 7\n",
            "4\n",
            "[1.         2.62152475 1.57805844 1.041361   1.         1.\n",
            " 1.70958252]\n",
            "Iteración 8\n",
            "4\n",
            "[1.         2.62152475 1.57805844 1.041361   1.         1.\n",
            " 1.70958252]\n",
            "Iteración 9\n",
            "4\n",
            "[1.         2.62152475 1.57805844 1.041361   1.         1.\n",
            " 1.70958252]\n",
            "Iteración 10\n",
            "4\n",
            "[1.         2.62152475 1.57805844 1.041361   1.         1.\n",
            " 1.70958252]\n",
            "Iteración 11\n",
            "4\n",
            "[1.         2.62152475 1.57805844 1.041361   1.         1.\n",
            " 1.70958252]\n",
            "Iteración 12\n",
            "4\n",
            "[1.         2.62152475 1.57805844 1.041361   1.         1.\n",
            " 1.70958252]\n",
            "Iteración 13\n",
            "4\n",
            "[1.         2.62152475 1.57805844 1.041361   1.         1.\n",
            " 1.70958252]\n",
            "Iteración 14\n",
            "4\n",
            "[1.         2.62152475 1.57805844 1.041361   1.         1.\n",
            " 1.70958252]\n",
            "Iteración 15\n",
            "4\n",
            "[1.         2.62152475 1.57805844 1.041361   1.         1.\n",
            " 1.70958252]\n",
            "Iteración 16\n",
            "4\n",
            "[1.         2.62152475 1.57805844 1.041361   1.         1.\n",
            " 1.70958252]\n",
            "Iteración 17\n",
            "4\n",
            "[1.         2.62152475 1.57805844 1.041361   1.         1.\n",
            " 1.70958252]\n",
            "Iteración 18\n",
            "4\n",
            "[1.         2.62152475 1.57805844 1.041361   1.         1.\n",
            " 1.70958252]\n",
            "Iteración 19\n",
            "4\n",
            "[1.         2.62152475 1.57805844 1.041361   1.         1.\n",
            " 1.70958252]\n",
            "Iteración 20\n",
            "4\n",
            "[1.         2.62152475 1.57805844 1.041361   1.         1.\n",
            " 1.70958252]\n",
            "Iteración 21\n",
            "4\n",
            "[1.         2.62152475 1.57805844 1.041361   1.         1.\n",
            " 1.70958252]\n",
            "Iteración 22\n",
            "4\n",
            "[1.         2.62152475 1.57805844 1.041361   1.         1.\n",
            " 1.70958252]\n",
            "Iteración 23\n",
            "4\n",
            "[1.         2.62152475 1.57805844 1.041361   1.         1.\n",
            " 1.70958252]\n",
            "Iteración 24\n",
            "4\n",
            "[1.         2.62152475 1.57805844 1.041361   1.         1.\n",
            " 1.70958252]\n",
            "Iteración 25\n",
            "4\n",
            "[1.         2.62152475 1.57805844 1.041361   1.         1.\n",
            " 1.70958252]\n",
            "Iteración 26\n",
            "4\n",
            "[1.         2.62152475 1.57805844 1.041361   1.         1.\n",
            " 1.70958252]\n",
            "Iteración 27\n",
            "4\n",
            "[1.         2.62152475 1.57805844 1.041361   1.         1.\n",
            " 1.70958252]\n",
            "Iteración 28\n",
            "4\n",
            "[1.         2.62152475 1.57805844 1.041361   1.         1.\n",
            " 1.70958252]\n",
            "Iteración 29\n",
            "4\n",
            "[1.         2.62152475 1.57805844 1.041361   1.         1.\n",
            " 1.70958252]\n",
            "Iteración 30\n",
            "4\n",
            "[1.         2.62152475 1.57805844 1.041361   1.         1.\n",
            " 1.70958252]\n",
            "Iteración 31\n",
            "4\n",
            "[1.         2.62152475 1.57805844 1.041361   1.         1.\n",
            " 1.70958252]\n",
            "Iteración 32\n",
            "4\n",
            "[1.         2.62152475 1.57805844 1.041361   1.         1.\n",
            " 1.70958252]\n",
            "Iteración 33\n",
            "4\n",
            "[1.         2.62152475 1.57805844 1.041361   1.         1.\n",
            " 1.70958252]\n",
            "Iteración 34\n",
            "4\n",
            "[1.         2.62152475 1.57805844 1.041361   1.         1.\n",
            " 1.70958252]\n",
            "Iteración 35\n",
            "4\n",
            "[1.         2.62152475 1.57805844 1.041361   1.         1.\n",
            " 1.70958252]\n",
            "Iteración 36\n",
            "4\n",
            "[1.         2.62152475 1.57805844 1.041361   1.         1.\n",
            " 1.70958252]\n",
            "Iteración 37\n",
            "4\n",
            "[1.         2.62152475 1.57805844 1.041361   1.         1.\n",
            " 1.70958252]\n",
            "Iteración 38\n",
            "4\n",
            "[1.         2.62152475 1.57805844 1.041361   1.         1.\n",
            " 1.70958252]\n",
            "Iteración 39\n",
            "4\n",
            "[1.         2.62152475 1.57805844 1.041361   1.         1.\n",
            " 1.70958252]\n",
            "Iteración 40\n",
            "4\n",
            "[1.         2.62152475 1.57805844 1.041361   1.         1.\n",
            " 1.70958252]\n",
            "Iteración 41\n",
            "4\n",
            "[1.         2.62152475 1.57805844 1.041361   1.         1.\n",
            " 1.70958252]\n",
            "Iteración 42\n",
            "4\n",
            "[1.         2.62152475 1.57805844 1.041361   1.         1.\n",
            " 1.70958252]\n",
            "Iteración 43\n",
            "4\n",
            "[1.         2.62152475 1.57805844 1.041361   1.         1.\n",
            " 1.70958252]\n",
            "Iteración 44\n",
            "4\n",
            "[1.         2.62152475 1.57805844 1.041361   1.         1.\n",
            " 1.70958252]\n",
            "Iteración 45\n",
            "4\n",
            "[1.         2.62152475 1.57805844 1.041361   1.         1.\n",
            " 1.70958252]\n",
            "Iteración 46\n",
            "4\n",
            "[1.         2.62152475 1.57805844 1.041361   1.         1.\n",
            " 1.70958252]\n",
            "Iteración 47\n",
            "4\n",
            "[1.         2.62152475 1.57805844 1.041361   1.         1.\n",
            " 1.70958252]\n",
            "Iteración 48\n",
            "4\n",
            "[1.         2.62152475 1.57805844 1.041361   1.         1.\n",
            " 1.70958252]\n",
            "Iteración 49\n",
            "4\n",
            "[1.         2.62152475 1.57805844 1.041361   1.         1.\n",
            " 1.70958252]\n",
            "Iteración 50\n",
            "4\n",
            "[1.         2.62152475 1.57805844 1.041361   1.         1.\n",
            " 1.70958252]\n",
            "Iteración 51\n",
            "4\n",
            "[1.         2.62152475 1.57805844 1.041361   1.         1.\n",
            " 1.70958252]\n",
            "Iteración 52\n",
            "4\n",
            "[1.         2.62152475 1.57805844 1.041361   1.         1.\n",
            " 1.70958252]\n",
            "Iteración 53\n",
            "4\n",
            "[1.         2.62152475 1.57805844 1.041361   1.         1.\n",
            " 1.70958252]\n",
            "Iteración 54\n",
            "4\n",
            "[1.         2.62152475 1.57805844 1.041361   1.         1.\n",
            " 1.70958252]\n",
            "Iteración 55\n",
            "4\n",
            "[1.         2.62152475 1.57805844 1.041361   1.         1.\n",
            " 1.70958252]\n",
            "Iteración 56\n",
            "4\n",
            "[1.         2.62152475 1.57805844 1.041361   1.         1.\n",
            " 1.70958252]\n",
            "Iteración 57\n",
            "4\n",
            "[1.         2.62152475 1.57805844 1.041361   1.         1.\n",
            " 1.70958252]\n",
            "Iteración 58\n",
            "4\n",
            "[1.         2.62152475 1.57805844 1.041361   1.         1.\n",
            " 1.70958252]\n",
            "Iteración 59\n",
            "4\n",
            "[1.         2.62152475 1.57805844 1.041361   1.         1.\n",
            " 1.70958252]\n",
            "Iteración 60\n",
            "4\n",
            "[1.         2.62152475 1.57805844 1.041361   1.         1.\n",
            " 1.70958252]\n",
            "Iteración 61\n",
            "4\n",
            "[1.         2.62152475 1.57805844 1.041361   1.         1.\n",
            " 1.70958252]\n",
            "Iteración 62\n",
            "4\n",
            "[1.         2.62152475 1.57805844 1.041361   1.         1.\n",
            " 1.70958252]\n",
            "Iteración 63\n",
            "4\n",
            "[1.         2.62152475 1.57805844 1.041361   1.         1.\n",
            " 1.70958252]\n",
            "Iteración 64\n",
            "4\n",
            "[1.         2.62152475 1.57805844 1.041361   1.         1.\n",
            " 1.70958252]\n",
            "Iteración 65\n",
            "4\n",
            "[1.         2.62152475 1.57805844 1.041361   1.         1.\n",
            " 1.70958252]\n",
            "Iteración 66\n",
            "4\n",
            "[1.         2.62152475 1.57805844 1.041361   1.         1.\n",
            " 1.70958252]\n",
            "Iteración 67\n",
            "4\n",
            "[1.         2.62152475 1.57805844 1.041361   1.         1.\n",
            " 1.70958252]\n",
            "Iteración 68\n",
            "4\n",
            "[1.         2.62152475 1.57805844 1.041361   1.         1.\n",
            " 1.70958252]\n",
            "Iteración 69\n",
            "4\n",
            "[1.         2.62152475 1.57805844 1.041361   1.         1.\n",
            " 1.70958252]\n",
            "Iteración 70\n",
            "4\n",
            "[1.         2.62152475 1.57805844 1.041361   1.         1.\n",
            " 1.70958252]\n",
            "Iteración 71\n",
            "4\n",
            "[1.         2.62152475 1.57805844 1.041361   1.         1.\n",
            " 1.70958252]\n",
            "Iteración 72\n",
            "4\n",
            "[1.         2.62152475 1.57805844 1.041361   1.         1.\n",
            " 1.70958252]\n",
            "Iteración 73\n",
            "4\n",
            "[1.         2.62152475 1.57805844 1.041361   1.         1.\n",
            " 1.70958252]\n",
            "Iteración 74\n",
            "4\n",
            "[1.         2.62152475 1.57805844 1.041361   1.         1.\n",
            " 1.70958252]\n",
            "Iteración 75\n",
            "4\n",
            "[1.         2.62152475 1.57805844 1.041361   1.         1.\n",
            " 1.70958252]\n",
            "Iteración 76\n",
            "4\n",
            "[1.         2.62152475 1.57805844 1.041361   1.         1.\n",
            " 1.70958252]\n",
            "Iteración 77\n",
            "4\n",
            "[1.         2.62152475 1.57805844 1.041361   1.         1.\n",
            " 1.70958252]\n",
            "Iteración 78\n",
            "4\n",
            "[1.         2.62152475 1.57805844 1.041361   1.         1.\n",
            " 1.70958252]\n",
            "Iteración 79\n",
            "4\n",
            "[1.         2.62152475 1.57805844 1.041361   1.         1.\n",
            " 1.70958252]\n",
            "Iteración 80\n",
            "4\n",
            "[1.         2.62152475 1.57805844 1.041361   1.         1.\n",
            " 1.70958252]\n",
            "Iteración 81\n",
            "4\n",
            "[1.         2.62152475 1.57805844 1.041361   1.         1.\n",
            " 1.70958252]\n",
            "Iteración 82\n",
            "4\n",
            "[1.         2.62152475 1.57805844 1.041361   1.         1.\n",
            " 1.70958252]\n",
            "Iteración 83\n",
            "4\n",
            "[1.         2.62152475 1.57805844 1.041361   1.         1.\n",
            " 1.70958252]\n",
            "Iteración 84\n",
            "4\n",
            "[1.         2.62152475 1.57805844 1.041361   1.         1.\n",
            " 1.70958252]\n",
            "Iteración 85\n",
            "4\n",
            "[1.         2.62152475 1.57805844 1.041361   1.         1.\n",
            " 1.70958252]\n",
            "Iteración 86\n",
            "4\n",
            "[1.         2.62152475 1.57805844 1.041361   1.         1.\n",
            " 1.70958252]\n",
            "Iteración 87\n",
            "4\n",
            "[1.         2.62152475 1.57805844 1.041361   1.         1.\n",
            " 1.70958252]\n",
            "Iteración 88\n",
            "4\n",
            "[1.         2.62152475 1.57805844 1.041361   1.         1.\n",
            " 1.70958252]\n",
            "Iteración 89\n",
            "4\n",
            "[1.         2.62152475 1.57805844 1.041361   1.         1.\n",
            " 1.70958252]\n",
            "Iteración 90\n",
            "4\n",
            "[1.         2.62152475 1.57805844 1.041361   1.         1.\n",
            " 1.70958252]\n",
            "Iteración 91\n",
            "4\n",
            "[1.         2.62152475 1.57805844 1.041361   1.         1.\n",
            " 1.70958252]\n",
            "Iteración 92\n",
            "4\n",
            "[1.         2.62152475 1.57805844 1.041361   1.         1.\n",
            " 1.70958252]\n",
            "Iteración 93\n",
            "4\n",
            "[1.         2.62152475 1.57805844 1.041361   1.         1.\n",
            " 1.70958252]\n",
            "Iteración 94\n",
            "4\n",
            "[1.         2.62152475 1.57805844 1.041361   1.         1.\n",
            " 1.70958252]\n",
            "Iteración 95\n",
            "4\n",
            "[1.         2.62152475 1.57805844 1.041361   1.         1.\n",
            " 1.70958252]\n",
            "Iteración 96\n",
            "4\n",
            "[1.         2.62152475 1.57805844 1.041361   1.         1.\n",
            " 1.70958252]\n",
            "Iteración 97\n",
            "4\n",
            "[1.         2.62152475 1.57805844 1.041361   1.         1.\n",
            " 1.70958252]\n",
            "Iteración 98\n",
            "4\n",
            "[1.         2.62152475 1.57805844 1.041361   1.         1.\n",
            " 1.70958252]\n",
            "Iteración 99\n",
            "4\n",
            "[1.         2.62152475 1.57805844 1.041361   1.         1.\n",
            " 1.70958252]\n",
            "Finaliza la simulación\n",
            "El mejor global es: [1, 3, 2, 1, 1, 1, 2]\n",
            "La cantidad de colisiones de ese tablero es: 4\n",
            "|12|43|\n",
            "|43|21|\n",
            "--------\n",
            "|34|12|\n",
            "|12|34|\n",
            "--------\n"
          ]
        }
      ]
    },
    {
      "cell_type": "code",
      "source": [
        "l1 = np.array([3.6, 5.6, 3]).astype('float64')\n",
        "l2 = np.array([3,4,5]).astype('float64')\n",
        "mas_cercano(l1, l2)"
      ],
      "metadata": {
        "colab": {
          "base_uri": "https://localhost:8080/"
        },
        "id": "IpBRnYY4Fxrp",
        "outputId": "57af28c4-e06d-4d3b-b3ec-4073fae2b74c"
      },
      "execution_count": null,
      "outputs": [
        {
          "output_type": "execute_result",
          "data": {
            "text/plain": [
              "[4.0, 5.0, 3.0]"
            ]
          },
          "metadata": {},
          "execution_count": 32
        }
      ]
    },
    {
      "cell_type": "code",
      "source": [
        "np.array(l) * 2"
      ],
      "metadata": {
        "colab": {
          "base_uri": "https://localhost:8080/",
          "height": 144
        },
        "id": "wcYqX1qQFzUl",
        "outputId": "c9643005-803e-40ac-d144-4555612a3c39"
      },
      "execution_count": null,
      "outputs": [
        {
          "output_type": "error",
          "ename": "NameError",
          "evalue": "name 'l' is not defined",
          "traceback": [
            "\u001b[0;31m---------------------------------------------------------------------------\u001b[0m",
            "\u001b[0;31mNameError\u001b[0m                                 Traceback (most recent call last)",
            "\u001b[0;32m<ipython-input-33-38f7aa8158b5>\u001b[0m in \u001b[0;36m<cell line: 1>\u001b[0;34m()\u001b[0m\n\u001b[0;32m----> 1\u001b[0;31m \u001b[0mnp\u001b[0m\u001b[0;34m.\u001b[0m\u001b[0marray\u001b[0m\u001b[0;34m(\u001b[0m\u001b[0ml\u001b[0m\u001b[0;34m)\u001b[0m \u001b[0;34m*\u001b[0m \u001b[0;36m2\u001b[0m\u001b[0;34m\u001b[0m\u001b[0;34m\u001b[0m\u001b[0m\n\u001b[0m",
            "\u001b[0;31mNameError\u001b[0m: name 'l' is not defined"
          ]
        }
      ]
    },
    {
      "cell_type": "code",
      "source": [],
      "metadata": {
        "id": "GKrYKufEF2oA"
      },
      "execution_count": null,
      "outputs": []
    }
  ]
}